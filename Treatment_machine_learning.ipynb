{
 "cells": [
  {
   "cell_type": "markdown",
   "metadata": {
    "id": "86A2EF877FC2410486ECC5F9E1F8C1F6",
    "jupyter": {},
    "notebookId": "640c6d31b4f61ef39a8edfe3",
    "runtime": {
     "execution_status": null,
     "status": "default"
    },
    "scrolled": false,
    "slideshow": {
     "slide_type": "slide"
    },
    "tags": []
   },
   "source": [
    "# machine learning for treatment inference scores"
   ]
  },
  {
   "cell_type": "code",
   "execution_count": 1,
   "metadata": {
    "id": "9FEB2FAC1BA5458F8ED8A6F16596ED78",
    "jupyter": {},
    "notebookId": "640c6d31b4f61ef39a8edfe3",
    "scrolled": false,
    "slideshow": {
     "slide_type": "slide"
    },
    "tags": []
   },
   "outputs": [],
   "source": [
    "import numpy as np\n",
    "import pandas as pd\n",
    "from tqdm import tqdm\n",
    "import json\n",
    "import multiprocessing as mp\n",
    "\n",
    "import seaborn as sns\n",
    "import matplotlib.pyplot as plt\n",
    "from sklearn import preprocessing\n",
    "from sklearn.model_selection import train_test_split\n",
    "\n",
    "import re\n",
    "import operator"
   ]
  },
  {
   "cell_type": "code",
   "execution_count": 2,
   "metadata": {
    "id": "908325CB8F7444DD92F9A2C34232C5C3",
    "jupyter": {},
    "notebookId": "640c6d31b4f61ef39a8edfe3",
    "scrolled": false,
    "slideshow": {
     "slide_type": "slide"
    },
    "tags": []
   },
   "outputs": [],
   "source": [
    "def trans_float32(data, index_col):\n",
    "    df = data.set_index(index_col)\n",
    "    df = df.astype('float32').reset_index()\n",
    "    return df"
   ]
  },
  {
   "cell_type": "markdown",
   "metadata": {
    "id": "46119C9E9AD34AE39CE84094AD3A1103",
    "jupyter": {},
    "notebookId": "640c6d31b4f61ef39a8edfe3",
    "runtime": {
     "execution_status": null,
     "status": "default"
    },
    "scrolled": false,
    "slideshow": {
     "slide_type": "slide"
    },
    "tags": []
   },
   "source": [
    "# Read all intermediate tables"
   ]
  },
  {
   "cell_type": "code",
   "execution_count": 3,
   "metadata": {
    "id": "AAFD11C7E4CD445FAB0E6E62ADF42C97",
    "jupyter": {},
    "notebookId": "640c6d31b4f61ef39a8edfe3",
    "scrolled": false,
    "slideshow": {
     "slide_type": "slide"
    },
    "tags": []
   },
   "outputs": [],
   "source": [
    "# Food related\n",
    "food_feature_matched = pd.read_csv('../data/food_feature_matched.csv')\n",
    "# food_disease_matched = pd.read_csv('/home/mw/project/特征中间表/food_disease_matched.csv', index_col=0)\n",
    "match_relation = pd.read_csv('../data/foodname_match_relation.csv')\n",
    "\n",
    "# Disease related\n",
    "disease_mirna_total = pd.read_csv('../data/disease_mirna_sim.csv')\n",
    "disease_gene_total = pd.read_csv('../data/disease_simiparity_gene_direct.csv')\n",
    "disease_name_total = pd.read_csv('../data/disease_go_sim.csv')\n",
    "# Label Related\n",
    "disease_food_infer = pd.read_csv('../data/disease_food_infer_direevi.csv')"
   ]
  },
  {
   "cell_type": "code",
   "execution_count": 4,
   "metadata": {
    "id": "202B4148CAB04EFD818E84DB0971ECC7",
    "jupyter": {},
    "notebookId": "640c6d31b4f61ef39a8edfe3",
    "scrolled": false,
    "slideshow": {
     "slide_type": "slide"
    },
    "tags": []
   },
   "outputs": [],
   "source": [
    "# disease_mirna_total\n",
    "# disease_gene_total\n",
    "# disease_name_total\n",
    "# disease_food_infer"
   ]
  },
  {
   "cell_type": "code",
   "execution_count": 5,
   "metadata": {
    "id": "02D039219932490187B5ACC7E7EE04A0",
    "jupyter": {},
    "notebookId": "640c6d31b4f61ef39a8edfe3",
    "scrolled": false,
    "slideshow": {
     "slide_type": "slide"
    },
    "tags": []
   },
   "outputs": [],
   "source": [
    "# disease_food_infer = pd.read_csv('/home/mw/input/combine_disease9321/disease_food_infer_direevi.csv')\n",
    "disease_food_infer = disease_food_infer[disease_food_infer['food_lower'].isin(list(match_relation['food_disease']))]\n",
    "disease_food_infer.index = disease_food_infer['food_lower']\n",
    "# disease_food_infer.T[list(food_feature_matched.columns)]"
   ]
  },
  {
   "cell_type": "code",
   "execution_count": 6,
   "metadata": {
    "id": "80A62B45A7E84351849D09A73EF2B975",
    "jupyter": {},
    "notebookId": "640c6d31b4f61ef39a8edfe3",
    "scrolled": false,
    "slideshow": {
     "slide_type": "slide"
    },
    "tags": []
   },
   "outputs": [],
   "source": [
    "q1 = pd.DataFrame(list(disease_food_infer['food_lower'].values),columns=['food_disease'])\n",
    "match_relation = pd.merge(q1,match_relation,on='food_disease',how='inner')"
   ]
  },
  {
   "cell_type": "code",
   "execution_count": 7,
   "metadata": {
    "id": "8ECC0C8496A24EFC9ABCCDA3FD6CA759",
    "jupyter": {},
    "notebookId": "640c6d31b4f61ef39a8edfe3",
    "scrolled": false,
    "slideshow": {
     "slide_type": "slide"
    },
    "tags": []
   },
   "outputs": [
    {
     "name": "stdout",
     "output_type": "stream",
     "text": [
      "(578, 215)\n",
      "(578, 198)\n"
     ]
    }
   ],
   "source": [
    "food_feature_matched = pd.merge(match_relation,food_feature_matched,on='food_id',how='inner')\n",
    "# food_feature_matched = pd.merge(match_relation,food_feature_matched,on='food_id',how='inner').drop(['food_disease','food_id'],axis=1)\n",
    "print(food_feature_matched.shape)\n",
    "food_feature_matched = food_feature_matched.drop(list(food_feature_matched.sum()[food_feature_matched.sum() == 0].index),axis=1)\n",
    "print(food_feature_matched.shape)\n",
    "food_feature_matched = food_feature_matched.fillna(0)"
   ]
  },
  {
   "cell_type": "markdown",
   "metadata": {
    "id": "4F4355B1622E460087700577733FFA9E",
    "jupyter": {},
    "notebookId": "640c6d31b4f61ef39a8edfe3",
    "runtime": {
     "execution_status": null,
     "status": "default"
    },
    "scrolled": false,
    "slideshow": {
     "slide_type": "slide"
    },
    "tags": []
   },
   "source": [
    "## Processing food name"
   ]
  },
  {
   "cell_type": "code",
   "execution_count": 8,
   "metadata": {
    "id": "8292E2A695114F0D8CA10484722EAB1F",
    "jupyter": {},
    "notebookId": "640c6d31b4f61ef39a8edfe3",
    "scrolled": false,
    "slideshow": {
     "slide_type": "slide"
    },
    "tags": []
   },
   "outputs": [],
   "source": [
    "disease_food_infer = disease_food_infer.T[list(food_feature_matched['food_disease'].values)].T\n",
    "food_feature_matched = food_feature_matched.drop(['long','food_id'],axis=1)\n",
    "disease_food_infer = disease_food_infer.drop(['food_lower'],axis=1)\n",
    "food_feature_matched.index = food_feature_matched['food_disease']\n",
    "food_feature_matched = food_feature_matched.drop(['food_disease'],axis=1)"
   ]
  },
  {
   "cell_type": "markdown",
   "metadata": {
    "id": "A183C2B3726A499A98A1926AB151938A",
    "jupyter": {},
    "notebookId": "640c6d31b4f61ef39a8edfe3",
    "runtime": {
     "execution_status": null,
     "status": "default"
    },
    "scrolled": false,
    "slideshow": {
     "slide_type": "slide"
    },
    "tags": []
   },
   "source": [
    "## Processing disease name"
   ]
  },
  {
   "cell_type": "code",
   "execution_count": 9,
   "metadata": {
    "id": "F2FF6BD7A5DF49F1A2F91CAC5C988ED7",
    "jupyter": {},
    "notebookId": "640c6d31b4f61ef39a8edfe3",
    "scrolled": false,
    "slideshow": {
     "slide_type": "slide"
    },
    "tags": []
   },
   "outputs": [],
   "source": [
    "\n",
    "def disease_matched(disease_mirna,disease_food):\n",
    "    disease_mirna.index = disease_mirna.columns[1:]\n",
    "    item1 = disease_mirna.columns[1:]\n",
    "    item2 = disease_food.columns\n",
    "    item3 = list(set(item1)&set(item2))\n",
    "    item4 = disease_mirna[item3]\n",
    "    print(item4.shape)\n",
    "    item5 = item4.T[item3]\n",
    "\n",
    "    disease_food[item3]\n",
    "\n",
    "\n",
    "\n",
    "    return item5,disease_food[item3]\n",
    "            "
   ]
  },
  {
   "cell_type": "code",
   "execution_count": 10,
   "metadata": {
    "id": "AAA2473EE182403BA74CB32165C9F7BB",
    "jupyter": {},
    "notebookId": "640c6d31b4f61ef39a8edfe3",
    "scrolled": false,
    "slideshow": {
     "slide_type": "slide"
    },
    "tags": []
   },
   "outputs": [
    {
     "name": "stdout",
     "output_type": "stream",
     "text": [
      "(997, 178)\n",
      "(3404, 208)\n",
      "(2109, 663)\n"
     ]
    }
   ],
   "source": [
    "disease_food = disease_food_infer \n",
    "disease_mirna, disease_food_mirna = disease_matched(disease_mirna_total,disease_food)\n",
    "disease_gene, disease_food_gene = disease_matched(disease_gene_total,disease_food)\n",
    "disease_name, disease_food_name = disease_matched(disease_name_total,disease_food)"
   ]
  },
  {
   "cell_type": "code",
   "execution_count": 11,
   "metadata": {
    "id": "FE37DA6A393C4C0688022207723334F6",
    "jupyter": {},
    "notebookId": "640c6d31b4f61ef39a8edfe3",
    "scrolled": false,
    "slideshow": {
     "slide_type": "slide"
    },
    "tags": []
   },
   "outputs": [
    {
     "data": {
      "text/plain": [
       "(663, 663)"
      ]
     },
     "execution_count": 11,
     "metadata": {},
     "output_type": "execute_result"
    }
   ],
   "source": [
    "disease_name.shape"
   ]
  },
  {
   "cell_type": "code",
   "execution_count": 12,
   "metadata": {
    "id": "2BD29F3C481B4AFE855335C44184C02D",
    "jupyter": {},
    "notebookId": "640c6d31b4f61ef39a8edfe3",
    "scrolled": false,
    "slideshow": {
     "slide_type": "slide"
    },
    "tags": []
   },
   "outputs": [],
   "source": [
    "# trea_disease_food.head()"
   ]
  },
  {
   "cell_type": "code",
   "execution_count": 13,
   "metadata": {
    "id": "50A3D603DC8646948937C8BB1065A702",
    "jupyter": {},
    "notebookId": "640c6d31b4f61ef39a8edfe3",
    "scrolled": false,
    "slideshow": {
     "slide_type": "slide"
    },
    "tags": []
   },
   "outputs": [],
   "source": [
    "# disease_food \n",
    "# disease_food_mirna\n",
    "# disease_food_gene\n",
    "# disease_food_name\n",
    "# disease_mirna_total \n",
    "# disease_gene_total\n",
    "# disease_name_total"
   ]
  },
  {
   "cell_type": "markdown",
   "metadata": {
    "id": "F8DD946EBED04E57A1C175487A3CA6AE",
    "jupyter": {},
    "notebookId": "640c6d31b4f61ef39a8edfe3",
    "runtime": {
     "execution_status": null,
     "status": "default"
    },
    "scrolled": false,
    "slideshow": {
     "slide_type": "slide"
    },
    "tags": []
   },
   "source": [
    "disease_mirna_total                  \n",
    "disease_gene_total                  \n",
    "disease_name_total                  \n",
    "disease_food_infer"
   ]
  },
  {
   "cell_type": "markdown",
   "metadata": {
    "id": "B004987BF1E84FF7AD970B0D868B53DA",
    "jupyter": {},
    "notebookId": "640c6d31b4f61ef39a8edfe3",
    "runtime": {
     "execution_status": null,
     "status": "default"
    },
    "scrolled": false,
    "slideshow": {
     "slide_type": "slide"
    },
    "tags": []
   },
   "source": [
    "## Create X Y"
   ]
  },
  {
   "cell_type": "code",
   "execution_count": 15,
   "metadata": {
    "id": "37211FAFC6E648BB80BD9D9466DE11EF",
    "jupyter": {},
    "notebookId": "640c6d31b4f61ef39a8edfe3",
    "scrolled": false,
    "slideshow": {
     "slide_type": "slide"
    },
    "tags": []
   },
   "outputs": [],
   "source": [
    "\n",
    "\n",
    "def generate_X_Y(disease_gene,food_feature_matched,disease_food_gene):\n",
    "    try:\n",
    "        columns = list(food_feature_matched.drop(['food_lower'],axis=1).columns)\n",
    "    except:\n",
    "        columns = list(food_feature_matched.columns)\n",
    "    try:\n",
    "        columns.extend(list(disease_gene.drop(['disease'],axis=1).columns))\n",
    "    except:\n",
    "        columns.extend(list(disease_gene.columns))\n",
    "\n",
    "\n",
    "    print(len(columns),len(disease_gene.columns),len(food_feature_matched.columns))\n",
    "    disease_food_gene['food_lower'] = disease_food_gene.index\n",
    "    Y_before = disease_food_gene.melt(id_vars=['food_lower'], var_name='disease', value_name='inference score')\n",
    "    X = Y_before\n",
    "    \n",
    "    \n",
    "    food_feature_matched['food_lower'] = food_feature_matched.index\n",
    "    print(X['food_lower'].head())\n",
    "    print(\"-----\")\n",
    "    print(food_feature_matched['food_lower'].head())\n",
    "    X = pd.merge(X,food_feature_matched,on='food_lower',how='inner')\n",
    "    disease_gene['disease'] = disease_gene.index\n",
    "    X = pd.merge(X,disease_gene,on='disease',how='inner')\n",
    "    x = X[columns]\n",
    "    x = x.reset_index(drop=True)\n",
    "    y = X[['inference score']]\n",
    "    y = y.reset_index(drop=True)\n",
    "    return x,y\n"
   ]
  },
  {
   "cell_type": "code",
   "execution_count": 16,
   "metadata": {
    "id": "C3BBA9641326421C8240C2D5235467A2",
    "jupyter": {},
    "notebookId": "640c6d31b4f61ef39a8edfe3",
    "scrolled": false,
    "slideshow": {
     "slide_type": "slide"
    },
    "tags": []
   },
   "outputs": [],
   "source": [
    "# x,y = generate_X_Y(disease_gene,food_feature_matched,disease_food_gene)"
   ]
  },
  {
   "cell_type": "markdown",
   "metadata": {
    "id": "99BD006C1BE04E49B63A841FB110EEB2",
    "jupyter": {},
    "notebookId": "640c6d31b4f61ef39a8edfe3",
    "runtime": {
     "execution_status": null,
     "status": "default"
    },
    "scrolled": false,
    "slideshow": {
     "slide_type": "slide"
    },
    "tags": []
   },
   "source": [
    "## function"
   ]
  },
  {
   "cell_type": "code",
   "execution_count": 17,
   "metadata": {
    "id": "551BE8A1207D40A18DF1244F247F9C23",
    "jupyter": {},
    "notebookId": "640c6d31b4f61ef39a8edfe3",
    "scrolled": false,
    "slideshow": {
     "slide_type": "slide"
    },
    "tags": []
   },
   "outputs": [],
   "source": [
    "from sklearn import model_selection\n",
    "from sklearn.tree import DecisionTreeClassifier, export_graphviz\n",
    "from sklearn.model_selection import KFold\n",
    "from sklearn import metrics\n",
    "from sklearn.preprocessing import label_binarize\n",
    "from sklearn.ensemble import RandomForestClassifier\n",
    "from sklearn.pipeline import Pipeline\n",
    "from sklearn.model_selection import GridSearchCV\n",
    "from sklearn.preprocessing import StandardScaler\n",
    "from sklearn.calibration import CalibratedClassifierCV\n"
   ]
  },
  {
   "cell_type": "code",
   "execution_count": 18,
   "metadata": {
    "id": "E84E48B3207946BC81262CFAEF9CD647",
    "jupyter": {},
    "notebookId": "640c6d31b4f61ef39a8edfe3",
    "scrolled": false,
    "slideshow": {
     "slide_type": "slide"
    },
    "tags": []
   },
   "outputs": [],
   "source": [
    "def machine_learning_model(model,disease_gene,food_feature_matched,disease_food_gene,multi_label):\n",
    "    x,y = generate_X_Y(disease_gene,food_feature_matched,disease_food_gene)\n",
    "    ## Splitting boxes\n",
    "    k=multi_label\n",
    "    Y_multiple = y[y['inference score']>0][['inference score']]\n",
    "    equal_frequency_cut = pd.qcut(Y_multiple['inference score'], q=k-1, duplicates=\"drop\", labels = range(1, k))\n",
    "    Y_multiple['inference score2'] = equal_frequency_cut.values\n",
    "    Y_multiple = pd.concat([Y_multiple,y],axis=1)\n",
    "    Y_multiple['inference score'] = Y_multiple['inference score2'].cat.add_categories(0).fillna(0)\n",
    "    Y_multiple = Y_multiple.iloc[:,:1]\n",
    "    kf = KFold(n_splits=5,shuffle=False)\n",
    "    del y\n",
    "\n",
    "    gene_auc_total = []\n",
    "    gene_f1_total = []\n",
    "    for train_index , test_index in kf.split(x):\n",
    "        X_train, y_train = x.iloc[train_index], Y_multiple.iloc[train_index][['inference score']]\n",
    "        X_test, y_test = x.iloc[test_index], Y_multiple.iloc[test_index][['inference score']]\n",
    "    # X_train, X_test, y_train, y_test = model_selection.train_test_split(x_,Y_multiple_[['inference score']], test_size = 0.2, random_state = 1234)\n",
    "        tree = model\n",
    "        tree = tree.fit(X_train, y_train)\n",
    "        tree_pred = tree.predict(X_test) \n",
    "        f1 = metrics.f1_score(y_test, tree_pred,average='micro')\n",
    "        class_names = np.unique(y_train)\n",
    "        y_binarize = label_binarize(y_test, classes=class_names)\n",
    "        y_fit=label_binarize(tree_pred, classes = class_names)\n",
    "        fpr, tpr, _= metrics.roc_curve(y_binarize.ravel(),y_fit.ravel())\n",
    "        auc = metrics.auc(fpr, tpr)\n",
    "        gene_auc_total.append(auc)\n",
    "        gene_f1_total.append(f1)\n",
    "    return np.mean(gene_auc_total),np.mean(gene_f1_total)\n"
   ]
  },
  {
   "cell_type": "code",
   "execution_count": 19,
   "metadata": {
    "id": "376AECFD4E7747D783DD71CEF2D80D22",
    "jupyter": {},
    "notebookId": "640c6d31b4f61ef39a8edfe3",
    "scrolled": false,
    "slideshow": {
     "slide_type": "slide"
    },
    "tags": []
   },
   "outputs": [],
   "source": [
    "def machine_learning_model_parameter(disease_gene,food_feature_matched,disease_food_gene,multi_label):\n",
    "    x,y = generate_X_Y(disease_gene,food_feature_matched,disease_food_gene)\n",
    "    ## Splitting boxes\n",
    "    k=multi_label\n",
    "    Y_multiple = y[y['inference score']>0][['inference score']]\n",
    "    equal_frequency_cut = pd.qcut(Y_multiple['inference score'], q=k-1, duplicates=\"drop\", labels = range(1, k))\n",
    "    Y_multiple['inference score2'] = equal_frequency_cut.values\n",
    "    Y_multiple = pd.concat([Y_multiple,y],axis=1)\n",
    "    Y_multiple['inference score'] = Y_multiple['inference score2'].cat.add_categories(0).fillna(0)\n",
    "    Y_multiple = Y_multiple.iloc[:,:1]\n",
    "    dec_tree = RandomForestClassifier()\n",
    "    # kf = KFold(n_splits=5,shuffle=False)\n",
    "    pipe = Pipeline(steps=[('dec_tree', dec_tree)])\n",
    "    criterion = ['gini', 'entropy']\n",
    "    max_depth = [2,4,6,8,10,12]\n",
    "    parameters = dict(dec_tree__criterion=criterion,\n",
    "                      dec_tree__max_depth=max_depth)\n",
    "    clf_GS = GridSearchCV(pipe, parameters)\n",
    "    clf_GS.fit(x, Y_multiple[['inference score']])\n",
    "    # calibrated_forest = CalibratedClassifierCV(estimator=RandomForestClassifier(n_estimators=10))\n",
    "    # param_grid = {'estimator__max_depth': [2, 4, 6, 8]}\n",
    "    # search = GridSearchCV(calibrated_forest, param_grid, cv=5)\n",
    "    # search.fit(x, Y_multiple[['inference score']])\n",
    "    print('Best Criterion:', clf_GS.best_estimator_.get_params()['dec_tree__criterion'])\n",
    "    print('Best max_depth:', clf_GS.best_estimator_.get_params()['dec_tree__max_depth'])\n"
   ]
  },
  {
   "cell_type": "code",
   "execution_count": 24,
   "metadata": {
    "id": "BC828D28606F4FAAACAD93568A328C5E",
    "jupyter": {},
    "notebookId": "640c6d31b4f61ef39a8edfe3",
    "scrolled": false,
    "slideshow": {
     "slide_type": "slide"
    },
    "tags": []
   },
   "outputs": [],
   "source": [
    "def machine_learning_model_parameter(disease_gene,food_feature_matched,disease_food_gene,multi_label):\n",
    "    x,y = generate_X_Y(disease_gene,food_feature_matched,disease_food_gene)\n",
    "    ## Splitting boxes\n",
    "    k=multi_label\n",
    "    Y_multiple = y[y['inference score']>0][['inference score']]\n",
    "    equal_frequency_cut = pd.qcut(Y_multiple['inference score'], q=k-1, duplicates=\"drop\", labels = range(1, k))\n",
    "    Y_multiple['inference score2'] = equal_frequency_cut.values\n",
    "    Y_multiple = pd.concat([Y_multiple,y],axis=1)\n",
    "    Y_multiple['inference score'] = Y_multiple['inference score2'].cat.add_categories(0).fillna(0)\n",
    "    Y_multiple = Y_multiple.iloc[:,:1]\n",
    "    dec_tree = DecisionTreeClassifier()\n",
    "    # kf = KFold(n_splits=5,shuffle=False)\n",
    "    pipe = Pipeline(steps=[('dec_tree', dec_tree)])\n",
    "    criterion = ['gini', 'entropy']\n",
    "    max_depth = [2,4,6,8,10,12]\n",
    "    parameters = dict(dec_tree__criterion=criterion,\n",
    "                      dec_tree__max_depth=max_depth)\n",
    "    clf_GS = GridSearchCV(pipe, parameters)\n",
    "    clf_GS.fit(x, Y_multiple[['inference score']])\n",
    "    # calibrated_forest = CalibratedClassifierCV(estimator=RandomForestClassifier(n_estimators=10))\n",
    "    # param_grid = {'estimator__max_depth': [2, 4, 6, 8]}\n",
    "    # search = GridSearchCV(calibrated_forest, param_grid, cv=5)\n",
    "    # search.fit(x, Y_multiple[['inference score']])\n",
    "    print('Best Criterion:', clf_GS.best_estimator_.get_params()['dec_tree__criterion'])\n",
    "    print('Best max_depth:', clf_GS.best_estimator_.get_params()['dec_tree__max_depth'])\n"
   ]
  },
  {
   "cell_type": "markdown",
   "metadata": {
    "id": "9B417FBF8CF94C2586226AE2B2F87F54",
    "jupyter": {},
    "notebookId": "640c6d31b4f61ef39a8edfe3",
    "runtime": {
     "execution_status": null,
     "status": "default"
    },
    "scrolled": false,
    "slideshow": {
     "slide_type": "slide"
    },
    "tags": []
   },
   "source": [
    "## Gene"
   ]
  },
  {
   "cell_type": "code",
   "execution_count": 25,
   "metadata": {
    "id": "1F75BB954AC846039E7E26A2B5669893",
    "jupyter": {},
    "notebookId": "640c6d31b4f61ef39a8edfe3",
    "scrolled": false,
    "slideshow": {
     "slide_type": "slide"
    },
    "tags": []
   },
   "outputs": [
    {
     "name": "stdout",
     "output_type": "stream",
     "text": [
      "403 208 196\n",
      "0        abiyuch\n",
      "1        acerola\n",
      "2          acorn\n",
      "3    adzuki bean\n",
      "4           agar\n",
      "Name: food_lower, dtype: object\n",
      "-----\n",
      "food_disease\n",
      "abiyuch            abiyuch\n",
      "acerola            acerola\n",
      "acorn                acorn\n",
      "adzuki bean    adzuki bean\n",
      "agar                  agar\n",
      "Name: food_lower, dtype: object\n"
     ]
    },
    {
     "name": "stderr",
     "output_type": "stream",
     "text": [
      "/opt/conda/lib/python3.6/site-packages/ipykernel_launcher.py:13: SettingWithCopyWarning: \n",
      "A value is trying to be set on a copy of a slice from a DataFrame.\n",
      "Try using .loc[row_indexer,col_indexer] = value instead\n",
      "\n",
      "See the caveats in the documentation: http://pandas.pydata.org/pandas-docs/stable/indexing.html#indexing-view-versus-copy\n",
      "  del sys.path[0]\n",
      "/opt/conda/lib/python3.6/site-packages/sklearn/model_selection/_split.py:1978: FutureWarning: The default value of cv will change from 3 to 5 in version 0.22. Specify it explicitly to silence this warning.\n",
      "  warnings.warn(CV_WARNING, FutureWarning)\n"
     ]
    },
    {
     "name": "stdout",
     "output_type": "stream",
     "text": [
      "Best Criterion: entropy\n",
      "Best max_depth: 2\n"
     ]
    }
   ],
   "source": [
    "machine_learning_model_parameter(disease_gene,food_feature_matched,disease_food_gene,12)"
   ]
  },
  {
   "cell_type": "code",
   "execution_count": 51,
   "metadata": {
    "id": "9F5BE78E13B143368E07EA08E2F53EFF",
    "jupyter": {},
    "notebookId": "640c6d31b4f61ef39a8edfe3",
    "scrolled": false,
    "slideshow": {
     "slide_type": "slide"
    },
    "tags": []
   },
   "outputs": [],
   "source": [
    "# machine_learning_model(forest_model,disease_gene,food_feature_matched,disease_food_gene,12)"
   ]
  },
  {
   "cell_type": "code",
   "execution_count": 26,
   "metadata": {
    "id": "B6C8B37D4FAD438386D8723424CA3643",
    "jupyter": {},
    "notebookId": "640c6d31b4f61ef39a8edfe3",
    "scrolled": false,
    "slideshow": {
     "slide_type": "slide"
    },
    "tags": []
   },
   "outputs": [
    {
     "name": "stdout",
     "output_type": "stream",
     "text": [
      "403 209 196\n",
      "0        abiyuch\n",
      "1        acerola\n",
      "2          acorn\n",
      "3    adzuki bean\n",
      "4           agar\n",
      "Name: food_lower, dtype: object\n",
      "-----\n",
      "food_disease\n",
      "abiyuch            abiyuch\n",
      "acerola            acerola\n",
      "acorn                acorn\n",
      "adzuki bean    adzuki bean\n",
      "agar                  agar\n",
      "Name: food_lower, dtype: object\n"
     ]
    },
    {
     "name": "stderr",
     "output_type": "stream",
     "text": [
      "/opt/conda/lib/python3.6/site-packages/ipykernel_launcher.py:13: SettingWithCopyWarning: \n",
      "A value is trying to be set on a copy of a slice from a DataFrame.\n",
      "Try using .loc[row_indexer,col_indexer] = value instead\n",
      "\n",
      "See the caveats in the documentation: http://pandas.pydata.org/pandas-docs/stable/indexing.html#indexing-view-versus-copy\n",
      "  del sys.path[0]\n"
     ]
    },
    {
     "data": {
      "text/plain": [
       "(0.7771706635878182, 0.591479549911)"
      ]
     },
     "execution_count": 26,
     "metadata": {},
     "output_type": "execute_result"
    }
   ],
   "source": [
    "# dec_tree = RandomForestClassifier(max_depth=2,criterion='gini')\n",
    "tree_model = DecisionTreeClassifier(random_state=1, criterion=\"entropy\", max_depth=2)\n",
    "machine_learning_model(tree_model,disease_gene,food_feature_matched,disease_food_gene,12)\n",
    "# machine_learning_model(dec_tree,disease_gene,food_feature_matched,disease_food_gene,12)"
   ]
  },
  {
   "cell_type": "code",
   "execution_count": null,
   "metadata": {
    "id": "87A492119F4049058AFA9D67439F67F0",
    "jupyter": {},
    "notebookId": "640c6d31b4f61ef39a8edfe3",
    "scrolled": false,
    "slideshow": {
     "slide_type": "slide"
    },
    "tags": []
   },
   "outputs": [],
   "source": []
  },
  {
   "cell_type": "markdown",
   "metadata": {
    "id": "3882E747040B4374B645F97CCED5B152",
    "jupyter": {},
    "notebookId": "640c6d31b4f61ef39a8edfe3",
    "runtime": {
     "execution_status": null,
     "status": "default"
    },
    "scrolled": false,
    "slideshow": {
     "slide_type": "slide"
    },
    "tags": []
   },
   "source": [
    "## mirna"
   ]
  },
  {
   "cell_type": "code",
   "execution_count": 28,
   "metadata": {
    "id": "F823EB397D654CAA840D5E340BF981DC",
    "jupyter": {},
    "notebookId": "640c6d31b4f61ef39a8edfe3",
    "scrolled": false,
    "slideshow": {
     "slide_type": "slide"
    },
    "tags": []
   },
   "outputs": [
    {
     "name": "stdout",
     "output_type": "stream",
     "text": [
      "403 209 196\n",
      "0        abiyuch\n",
      "1        acerola\n",
      "2          acorn\n",
      "3    adzuki bean\n",
      "4           agar\n",
      "Name: food_lower, dtype: object\n",
      "-----\n",
      "food_disease\n",
      "abiyuch            abiyuch\n",
      "acerola            acerola\n",
      "acorn                acorn\n",
      "adzuki bean    adzuki bean\n",
      "agar                  agar\n",
      "Name: food_lower, dtype: object\n"
     ]
    },
    {
     "name": "stderr",
     "output_type": "stream",
     "text": [
      "/opt/conda/lib/python3.6/site-packages/ipykernel_launcher.py:13: SettingWithCopyWarning: \n",
      "A value is trying to be set on a copy of a slice from a DataFrame.\n",
      "Try using .loc[row_indexer,col_indexer] = value instead\n",
      "\n",
      "See the caveats in the documentation: http://pandas.pydata.org/pandas-docs/stable/indexing.html#indexing-view-versus-copy\n",
      "  del sys.path[0]\n"
     ]
    },
    {
     "data": {
      "text/plain": [
       "(0.7790724716046087, 0.5949661979417826)"
      ]
     },
     "execution_count": 28,
     "metadata": {},
     "output_type": "execute_result"
    }
   ],
   "source": [
    "tree_model = DecisionTreeClassifier(random_state=1, criterion=\"gini\", max_depth=2)\n",
    "machine_learning_model(tree_model,disease_gene,food_feature_matched,disease_food_gene,12)"
   ]
  },
  {
   "cell_type": "code",
   "execution_count": 23,
   "metadata": {
    "id": "149632ABBCBE4CD78B4F9821C0C1EA84",
    "jupyter": {},
    "notebookId": "640c6d31b4f61ef39a8edfe3",
    "scrolled": false,
    "slideshow": {
     "slide_type": "slide"
    },
    "tags": []
   },
   "outputs": [
    {
     "name": "stdout",
     "output_type": "stream",
     "text": [
      "373 178 196\n",
      "0        abiyuch\n",
      "1        acerola\n",
      "2          acorn\n",
      "3    adzuki bean\n",
      "4           agar\n",
      "Name: food_lower, dtype: object\n",
      "-----\n",
      "food_disease\n",
      "abiyuch            abiyuch\n",
      "acerola            acerola\n",
      "acorn                acorn\n",
      "adzuki bean    adzuki bean\n",
      "agar                  agar\n",
      "Name: food_lower, dtype: object\n"
     ]
    },
    {
     "name": "stderr",
     "output_type": "stream",
     "text": [
      "/opt/conda/lib/python3.6/site-packages/ipykernel_launcher.py:13: SettingWithCopyWarning: \n",
      "A value is trying to be set on a copy of a slice from a DataFrame.\n",
      "Try using .loc[row_indexer,col_indexer] = value instead\n",
      "\n",
      "See the caveats in the documentation: http://pandas.pydata.org/pandas-docs/stable/indexing.html#indexing-view-versus-copy\n",
      "  del sys.path[0]\n",
      "/opt/conda/lib/python3.6/site-packages/sklearn/ensemble/forest.py:245: FutureWarning: The default value of n_estimators will change from 10 in version 0.20 to 100 in 0.22.\n",
      "  \"10 in version 0.20 to 100 in 0.22.\", FutureWarning)\n",
      "/opt/conda/lib/python3.6/site-packages/ipykernel_launcher.py:21: DataConversionWarning: A column-vector y was passed when a 1d array was expected. Please change the shape of y to (n_samples,), for example using ravel().\n",
      "/opt/conda/lib/python3.6/site-packages/ipykernel_launcher.py:21: DataConversionWarning: A column-vector y was passed when a 1d array was expected. Please change the shape of y to (n_samples,), for example using ravel().\n",
      "/opt/conda/lib/python3.6/site-packages/ipykernel_launcher.py:21: DataConversionWarning: A column-vector y was passed when a 1d array was expected. Please change the shape of y to (n_samples,), for example using ravel().\n",
      "/opt/conda/lib/python3.6/site-packages/ipykernel_launcher.py:21: DataConversionWarning: A column-vector y was passed when a 1d array was expected. Please change the shape of y to (n_samples,), for example using ravel().\n",
      "/opt/conda/lib/python3.6/site-packages/ipykernel_launcher.py:21: DataConversionWarning: A column-vector y was passed when a 1d array was expected. Please change the shape of y to (n_samples,), for example using ravel().\n"
     ]
    },
    {
     "data": {
      "text/plain": [
       "(0.778942199599323, 0.5947273659320921)"
      ]
     },
     "execution_count": 23,
     "metadata": {},
     "output_type": "execute_result"
    }
   ],
   "source": [
    "dec_tree = RandomForestClassifier(max_depth=2,criterion='gini')\n",
    "machine_learning_model(dec_tree,disease_mirna,food_feature_matched,disease_food_mirna,12)"
   ]
  },
  {
   "cell_type": "code",
   "execution_count": 27,
   "metadata": {
    "id": "FBE5060750C7408DB087D850FAAA25B8",
    "jupyter": {},
    "notebookId": "640c6d31b4f61ef39a8edfe3",
    "scrolled": false,
    "slideshow": {
     "slide_type": "slide"
    },
    "tags": []
   },
   "outputs": [
    {
     "name": "stdout",
     "output_type": "stream",
     "text": [
      "373 179 196\n",
      "0        abiyuch\n",
      "1        acerola\n",
      "2          acorn\n",
      "3    adzuki bean\n",
      "4           agar\n",
      "Name: food_lower, dtype: object\n",
      "-----\n",
      "food_disease\n",
      "abiyuch            abiyuch\n",
      "acerola            acerola\n",
      "acorn                acorn\n",
      "adzuki bean    adzuki bean\n",
      "agar                  agar\n",
      "Name: food_lower, dtype: object\n"
     ]
    },
    {
     "name": "stderr",
     "output_type": "stream",
     "text": [
      "/opt/conda/lib/python3.6/site-packages/ipykernel_launcher.py:13: SettingWithCopyWarning: \n",
      "A value is trying to be set on a copy of a slice from a DataFrame.\n",
      "Try using .loc[row_indexer,col_indexer] = value instead\n",
      "\n",
      "See the caveats in the documentation: http://pandas.pydata.org/pandas-docs/stable/indexing.html#indexing-view-versus-copy\n",
      "  del sys.path[0]\n",
      "/opt/conda/lib/python3.6/site-packages/sklearn/model_selection/_split.py:1978: FutureWarning: The default value of cv will change from 3 to 5 in version 0.22. Specify it explicitly to silence this warning.\n",
      "  warnings.warn(CV_WARNING, FutureWarning)\n"
     ]
    },
    {
     "name": "stdout",
     "output_type": "stream",
     "text": [
      "Best Criterion: gini\n",
      "Best max_depth: 2\n"
     ]
    }
   ],
   "source": [
    "machine_learning_model_parameter(disease_mirna,food_feature_matched,disease_food_mirna,12)"
   ]
  },
  {
   "cell_type": "markdown",
   "metadata": {
    "id": "17E2A47A9D85400489A1226A704A6DD1",
    "jupyter": {},
    "notebookId": "640c6d31b4f61ef39a8edfe3",
    "runtime": {
     "execution_status": null,
     "status": "default"
    },
    "scrolled": false,
    "slideshow": {
     "slide_type": "slide"
    },
    "tags": []
   },
   "source": [
    "## name"
   ]
  },
  {
   "cell_type": "code",
   "execution_count": 30,
   "metadata": {
    "id": "6B5A8AB273A24E709094C3AEF3A51A2B",
    "jupyter": {},
    "notebookId": "640c6d31b4f61ef39a8edfe3",
    "scrolled": false,
    "slideshow": {
     "slide_type": "slide"
    },
    "tags": []
   },
   "outputs": [
    {
     "name": "stdout",
     "output_type": "stream",
     "text": [
      "858 664 196\n",
      "0        abiyuch\n",
      "1        acerola\n",
      "2          acorn\n",
      "3    adzuki bean\n",
      "4           agar\n",
      "Name: food_lower, dtype: object\n",
      "-----\n",
      "food_disease\n",
      "abiyuch            abiyuch\n",
      "acerola            acerola\n",
      "acorn                acorn\n",
      "adzuki bean    adzuki bean\n",
      "agar                  agar\n",
      "Name: food_lower, dtype: object\n"
     ]
    },
    {
     "name": "stderr",
     "output_type": "stream",
     "text": [
      "/opt/conda/lib/python3.6/site-packages/ipykernel_launcher.py:13: SettingWithCopyWarning: \n",
      "A value is trying to be set on a copy of a slice from a DataFrame.\n",
      "Try using .loc[row_indexer,col_indexer] = value instead\n",
      "\n",
      "See the caveats in the documentation: http://pandas.pydata.org/pandas-docs/stable/indexing.html#indexing-view-versus-copy\n",
      "  del sys.path[0]\n",
      "/opt/conda/lib/python3.6/site-packages/ipykernel_launcher.py:21: DataConversionWarning: A column-vector y was passed when a 1d array was expected. Please change the shape of y to (n_samples,), for example using ravel().\n",
      "/opt/conda/lib/python3.6/site-packages/ipykernel_launcher.py:21: DataConversionWarning: A column-vector y was passed when a 1d array was expected. Please change the shape of y to (n_samples,), for example using ravel().\n",
      "/opt/conda/lib/python3.6/site-packages/ipykernel_launcher.py:21: DataConversionWarning: A column-vector y was passed when a 1d array was expected. Please change the shape of y to (n_samples,), for example using ravel().\n",
      "/opt/conda/lib/python3.6/site-packages/ipykernel_launcher.py:21: DataConversionWarning: A column-vector y was passed when a 1d array was expected. Please change the shape of y to (n_samples,), for example using ravel().\n",
      "/opt/conda/lib/python3.6/site-packages/ipykernel_launcher.py:21: DataConversionWarning: A column-vector y was passed when a 1d array was expected. Please change the shape of y to (n_samples,), for example using ravel().\n"
     ]
    },
    {
     "data": {
      "text/plain": [
       "(0.7860230902646634, 0.6077089988185496)"
      ]
     },
     "execution_count": 30,
     "metadata": {},
     "output_type": "execute_result"
    }
   ],
   "source": [
    "tree_model = DecisionTreeClassifier(random_state=1, criterion=\"gini\", max_depth=2)\n",
    "machine_learning_model(dec_tree,disease_name,food_feature_matched,disease_food_name,12)"
   ]
  },
  {
   "cell_type": "code",
   "execution_count": 22,
   "metadata": {
    "id": "E32DF35A27654271872AA014FF040757",
    "jupyter": {},
    "notebookId": "640c6d31b4f61ef39a8edfe3",
    "scrolled": false,
    "slideshow": {
     "slide_type": "slide"
    },
    "tags": []
   },
   "outputs": [
    {
     "name": "stdout",
     "output_type": "stream",
     "text": [
      "858 664 196\n",
      "0        abiyuch\n",
      "1        acerola\n",
      "2          acorn\n",
      "3    adzuki bean\n",
      "4           agar\n",
      "Name: food_lower, dtype: object\n",
      "-----\n",
      "food_disease\n",
      "abiyuch            abiyuch\n",
      "acerola            acerola\n",
      "acorn                acorn\n",
      "adzuki bean    adzuki bean\n",
      "agar                  agar\n",
      "Name: food_lower, dtype: object\n"
     ]
    },
    {
     "name": "stderr",
     "output_type": "stream",
     "text": [
      "/opt/conda/lib/python3.6/site-packages/ipykernel_launcher.py:13: SettingWithCopyWarning: \n",
      "A value is trying to be set on a copy of a slice from a DataFrame.\n",
      "Try using .loc[row_indexer,col_indexer] = value instead\n",
      "\n",
      "See the caveats in the documentation: http://pandas.pydata.org/pandas-docs/stable/indexing.html#indexing-view-versus-copy\n",
      "  del sys.path[0]\n",
      "/opt/conda/lib/python3.6/site-packages/sklearn/ensemble/forest.py:245: FutureWarning: The default value of n_estimators will change from 10 in version 0.20 to 100 in 0.22.\n",
      "  \"10 in version 0.20 to 100 in 0.22.\", FutureWarning)\n",
      "/opt/conda/lib/python3.6/site-packages/ipykernel_launcher.py:21: DataConversionWarning: A column-vector y was passed when a 1d array was expected. Please change the shape of y to (n_samples,), for example using ravel().\n",
      "/opt/conda/lib/python3.6/site-packages/ipykernel_launcher.py:21: DataConversionWarning: A column-vector y was passed when a 1d array was expected. Please change the shape of y to (n_samples,), for example using ravel().\n",
      "/opt/conda/lib/python3.6/site-packages/ipykernel_launcher.py:21: DataConversionWarning: A column-vector y was passed when a 1d array was expected. Please change the shape of y to (n_samples,), for example using ravel().\n",
      "/opt/conda/lib/python3.6/site-packages/ipykernel_launcher.py:21: DataConversionWarning: A column-vector y was passed when a 1d array was expected. Please change the shape of y to (n_samples,), for example using ravel().\n",
      "/opt/conda/lib/python3.6/site-packages/ipykernel_launcher.py:21: DataConversionWarning: A column-vector y was passed when a 1d array was expected. Please change the shape of y to (n_samples,), for example using ravel().\n"
     ]
    },
    {
     "data": {
      "text/plain": [
       "(0.7860230902646634, 0.6077089988185496)"
      ]
     },
     "execution_count": 22,
     "metadata": {},
     "output_type": "execute_result"
    }
   ],
   "source": [
    "dec_tree = RandomForestClassifier(max_depth=2,criterion='gini')\n",
    "# dec_tree = DecisionTreeClassifier(random_state=1, criterion=\"gini\", max_depth=20,splitter='random',min_samples_split=20)\n",
    "machine_learning_model(dec_tree,disease_name,food_feature_matched,disease_food_name,12)"
   ]
  },
  {
   "cell_type": "code",
   "execution_count": 29,
   "metadata": {
    "id": "2A3422126FDF47BB83016EE2F52F8275",
    "jupyter": {},
    "notebookId": "640c6d31b4f61ef39a8edfe3",
    "scrolled": false,
    "slideshow": {
     "slide_type": "slide"
    },
    "tags": []
   },
   "outputs": [
    {
     "name": "stdout",
     "output_type": "stream",
     "text": [
      "373 179 196\n",
      "0        abiyuch\n",
      "1        acerola\n",
      "2          acorn\n",
      "3    adzuki bean\n",
      "4           agar\n",
      "Name: food_lower, dtype: object\n",
      "-----\n",
      "food_disease\n",
      "abiyuch            abiyuch\n",
      "acerola            acerola\n",
      "acorn                acorn\n",
      "adzuki bean    adzuki bean\n",
      "agar                  agar\n",
      "Name: food_lower, dtype: object\n"
     ]
    },
    {
     "name": "stderr",
     "output_type": "stream",
     "text": [
      "/opt/conda/lib/python3.6/site-packages/ipykernel_launcher.py:13: SettingWithCopyWarning: \n",
      "A value is trying to be set on a copy of a slice from a DataFrame.\n",
      "Try using .loc[row_indexer,col_indexer] = value instead\n",
      "\n",
      "See the caveats in the documentation: http://pandas.pydata.org/pandas-docs/stable/indexing.html#indexing-view-versus-copy\n",
      "  del sys.path[0]\n",
      "/opt/conda/lib/python3.6/site-packages/sklearn/model_selection/_split.py:1978: FutureWarning: The default value of cv will change from 3 to 5 in version 0.22. Specify it explicitly to silence this warning.\n",
      "  warnings.warn(CV_WARNING, FutureWarning)\n"
     ]
    },
    {
     "name": "stdout",
     "output_type": "stream",
     "text": [
      "Best Criterion: gini\n",
      "Best max_depth: 2\n"
     ]
    }
   ],
   "source": [
    "# disease_name,food_feature_matched,disease_food_name\n",
    "machine_learning_model_parameter(disease_mirna,food_feature_matched,disease_food_mirna,12)"
   ]
  },
  {
   "cell_type": "code",
   "execution_count": null,
   "metadata": {
    "id": "F736F2B5E60C4E87BBE0C3E91B3F700B",
    "jupyter": {},
    "notebookId": "640c6d31b4f61ef39a8edfe3",
    "scrolled": false,
    "slideshow": {
     "slide_type": "slide"
    },
    "tags": []
   },
   "outputs": [],
   "source": []
  }
 ],
 "metadata": {
  "kernelspec": {
   "display_name": "Python 3 (ipykernel)",
   "language": "python",
   "name": "python3"
  },
  "language_info": {
   "codemirror_mode": {
    "name": "ipython",
    "version": 3
   },
   "file_extension": ".py",
   "mimetype": "text/x-python",
   "name": "python",
   "nbconvert_exporter": "python",
   "pygments_lexer": "ipython3",
   "version": "3.9.16"
  }
 },
 "nbformat": 4,
 "nbformat_minor": 1
}
