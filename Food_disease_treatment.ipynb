{
 "cells": [
  {
   "cell_type": "markdown",
   "metadata": {
    "id": "CD11F8F164E047AD8A662882E2F9464C",
    "jupyter": {},
    "notebookId": "64031eaf2bed561a3ac511bb",
    "runtime": {
     "execution_status": null,
     "status": "default"
    },
    "scrolled": false,
    "slideshow": {
     "slide_type": "slide"
    },
    "tags": []
   },
   "source": [
    "## I. Pre-treatment of compounds"
   ]
  },
  {
   "cell_type": "code",
   "execution_count": 1,
   "metadata": {
    "id": "4CB2495EFE3B4C89B5487D357B375902",
    "jupyter": {},
    "notebookId": "64031eaf2bed561a3ac511bb",
    "scrolled": true,
    "slideshow": {
     "slide_type": "slide"
    },
    "tags": []
   },
   "outputs": [],
   "source": [
    "# !pip install pubchempy\n",
    "# !pip install chemspipy\n",
    "# from chemspipy import ChemSpider\n",
    "# import pubchempy"
   ]
  },
  {
   "cell_type": "code",
   "execution_count": 2,
   "metadata": {
    "id": "5D068352ED4F4F77A68DE37798899569",
    "jupyter": {},
    "notebookId": "64031eaf2bed561a3ac511bb",
    "scrolled": false,
    "slideshow": {
     "slide_type": "slide"
    },
    "tags": []
   },
   "outputs": [],
   "source": [
    "valid = 0\n",
    "infer_valid = 0"
   ]
  },
  {
   "cell_type": "code",
   "execution_count": 3,
   "metadata": {
    "hide_input": false,
    "id": "1456BCB6DFD044D299CBF9B8CE3C631C",
    "jupyter": {},
    "notebookId": "64031eaf2bed561a3ac511bb",
    "scrolled": false,
    "slideshow": {
     "slide_type": "slide"
    },
    "tags": []
   },
   "outputs": [],
   "source": [
    "import urllib\n",
    "import pandas as pd \n",
    "import numpy as np\n",
    "from tqdm import tqdm\n",
    "from sklearn import preprocessing\n",
    "import seaborn as sns\n",
    "import pickle\n",
    "import re "
   ]
  },
  {
   "cell_type": "code",
   "execution_count": 4,
   "metadata": {
    "id": "2DB126D782E246538347A95EAC3D94DE",
    "jupyter": {},
    "notebookId": "64031eaf2bed561a3ac511bb",
    "scrolled": false,
    "slideshow": {
     "slide_type": "slide"
    },
    "tags": []
   },
   "outputs": [],
   "source": [
    "web_food = pd.read_excel('../data/FoodDB爬取数据.xlsx')"
   ]
  },
  {
   "cell_type": "code",
   "execution_count": 5,
   "metadata": {
    "id": "DD2AEEEA60524C1896A3ADFDA8E51F23",
    "jupyter": {},
    "notebookId": "64031eaf2bed561a3ac511bb",
    "scrolled": false,
    "slideshow": {
     "slide_type": "slide"
    },
    "tags": []
   },
   "outputs": [
    {
     "data": {
      "text/html": [
       "<div>\n",
       "<style scoped>\n",
       "    .dataframe tbody tr th:only-of-type {\n",
       "        vertical-align: middle;\n",
       "    }\n",
       "\n",
       "    .dataframe tbody tr th {\n",
       "        vertical-align: top;\n",
       "    }\n",
       "\n",
       "    .dataframe thead th {\n",
       "        text-align: right;\n",
       "    }\n",
       "</style>\n",
       "<table border=\"1\" class=\"dataframe\">\n",
       "  <thead>\n",
       "    <tr style=\"text-align: right;\">\n",
       "      <th></th>\n",
       "      <th>id</th>\n",
       "      <th>食物名称</th>\n",
       "      <th>化合物名称</th>\n",
       "      <th>最小值</th>\n",
       "      <th>最大值</th>\n",
       "      <th>平均值</th>\n",
       "      <th>计量单位</th>\n",
       "    </tr>\n",
       "  </thead>\n",
       "  <tbody>\n",
       "    <tr>\n",
       "      <th>0</th>\n",
       "      <td>53957f21209da71a9fa82c25784c8317</td>\n",
       "      <td>Alfalfa</td>\n",
       "      <td>Ash</td>\n",
       "      <td>0.4</td>\n",
       "      <td>3100</td>\n",
       "      <td>1166.8</td>\n",
       "      <td>mg/100g</td>\n",
       "    </tr>\n",
       "    <tr>\n",
       "      <th>1</th>\n",
       "      <td>53957f21209da71a9fa82c25784c8317</td>\n",
       "      <td>Alfalfa</td>\n",
       "      <td>Carbohydrate</td>\n",
       "      <td>200</td>\n",
       "      <td>41800</td>\n",
       "      <td>19500</td>\n",
       "      <td>mg/100g</td>\n",
       "    </tr>\n",
       "    <tr>\n",
       "      <th>2</th>\n",
       "      <td>53957f21209da71a9fa82c25784c8317</td>\n",
       "      <td>Alfalfa</td>\n",
       "      <td>Fat</td>\n",
       "      <td>700</td>\n",
       "      <td>12600</td>\n",
       "      <td>6650</td>\n",
       "      <td>mg/100g</td>\n",
       "    </tr>\n",
       "    <tr>\n",
       "      <th>3</th>\n",
       "      <td>53957f21209da71a9fa82c25784c8317</td>\n",
       "      <td>Alfalfa</td>\n",
       "      <td>Fatty acids</td>\n",
       "      <td>0</td>\n",
       "      <td>400</td>\n",
       "      <td>100</td>\n",
       "      <td>mg/100g</td>\n",
       "    </tr>\n",
       "    <tr>\n",
       "      <th>4</th>\n",
       "      <td>53957f21209da71a9fa82c25784c8317</td>\n",
       "      <td>Alfalfa</td>\n",
       "      <td>Fiber (dietary)</td>\n",
       "      <td>0</td>\n",
       "      <td>7900</td>\n",
       "      <td>2450</td>\n",
       "      <td>mg/100g</td>\n",
       "    </tr>\n",
       "  </tbody>\n",
       "</table>\n",
       "</div>"
      ],
      "text/plain": [
       "                                 id     食物名称            化合物名称  最小值    最大值  \\\n",
       "0  53957f21209da71a9fa82c25784c8317  Alfalfa              Ash  0.4   3100   \n",
       "1  53957f21209da71a9fa82c25784c8317  Alfalfa     Carbohydrate  200  41800   \n",
       "2  53957f21209da71a9fa82c25784c8317  Alfalfa              Fat  700  12600   \n",
       "3  53957f21209da71a9fa82c25784c8317  Alfalfa      Fatty acids    0    400   \n",
       "4  53957f21209da71a9fa82c25784c8317  Alfalfa  Fiber (dietary)    0   7900   \n",
       "\n",
       "      平均值     计量单位  \n",
       "0  1166.8  mg/100g  \n",
       "1   19500  mg/100g  \n",
       "2    6650  mg/100g  \n",
       "3     100  mg/100g  \n",
       "4    2450  mg/100g  "
      ]
     },
     "execution_count": 5,
     "metadata": {},
     "output_type": "execute_result"
    }
   ],
   "source": [
    "web_food.head()"
   ]
  },
  {
   "cell_type": "code",
   "execution_count": 7,
   "metadata": {
    "id": "4EB76DC4288A40F9896128D028297B9A",
    "jupyter": {},
    "notebookId": "64031eaf2bed561a3ac511bb",
    "scrolled": false,
    "slideshow": {
     "slide_type": "slide"
    },
    "tags": []
   },
   "outputs": [],
   "source": [
    "food_name = ['Acorn', 'Black chokeberry', 'Bog bilberry', 'Breakfast cereal', 'Burbot', 'Fennel', 'Fish oil', 'Hot chocolate', 'Leather chiton', 'Lichee', 'Yogurt']\n",
    "# disease_food_treatment = disease_food_treatment.T[food_name].T\n",
    "demo_food = web_food[web_food['食物名称'].isin(food_name)]\n"
   ]
  },
  {
   "cell_type": "code",
   "execution_count": 17,
   "metadata": {
    "id": "2E73C9B0562F481C8121CE39D85AE8B7",
    "jupyter": {},
    "notebookId": "64031eaf2bed561a3ac511bb",
    "scrolled": false,
    "slideshow": {
     "slide_type": "slide"
    },
    "tags": []
   },
   "outputs": [],
   "source": [
    "import random\n",
    "low = 1  # Lower bound of the interval\n",
    "high = 936  # Upper bound of the interval\n",
    "\n",
    "random_numbers = random.sample(range(low, high + 1), 80)"
   ]
  },
  {
   "cell_type": "code",
   "execution_count": 32,
   "metadata": {
    "id": "EBE3210726AE4095B88E70515CBF742A",
    "jupyter": {},
    "notebookId": "64031eaf2bed561a3ac511bb",
    "scrolled": false,
    "slideshow": {
     "slide_type": "slide"
    },
    "tags": []
   },
   "outputs": [],
   "source": [
    "# food_name2 = np.array(list(set(list(np.append(np.array(web_food['食物名称'].drop_duplicates())[random_numbers],(food_name))))))\n",
    "demo_food = web_food[web_food['食物名称'].isin(food_name2)]"
   ]
  },
  {
   "cell_type": "code",
   "execution_count": 31,
   "metadata": {
    "id": "1CE20168148E415E836C8EFC9C060571",
    "jupyter": {},
    "notebookId": "64031eaf2bed561a3ac511bb",
    "scrolled": false,
    "slideshow": {
     "slide_type": "slide"
    },
    "tags": []
   },
   "outputs": [
    {
     "data": {
      "text/plain": [
       "array(['Olive', 'Hot chocolate', 'Orange roughy', 'Mexican oregano',\n",
       "       'Leavening agent', 'Butter substitute', 'Mixed nuts', 'Caraway',\n",
       "       'Greater sturgeon', 'Oxheart cabbage', 'Bagel', 'Soy cream',\n",
       "       'Sparkleberry', 'Macaroni and cheese', 'Atlantic herring',\n",
       "       'Monk fruit', 'Bog bilberry', 'Elk', 'Other sandwich',\n",
       "       'Red bell pepper', 'Robusta coffee', 'Pacific rockfish',\n",
       "       'Greenthread tea', 'Brussel sprouts', 'Norway lobster',\n",
       "       'Candy bar', 'Pepper', 'Common dab', 'Orange bell pepper', 'Eddoe',\n",
       "       'Toffee', 'Milk (Other mammals)', 'Phyllo dough', 'Shiitake',\n",
       "       'Pancake', 'Arabica coffee', 'Yogurt', 'Other pasta dish',\n",
       "       'Lantern fruit', 'Leather chiton', 'Rye', 'Tamale',\n",
       "       'Black chokeberry', 'Cloudberry', 'Burbot', 'Curry powder',\n",
       "       'Skipjack tuna', 'Cardoon', 'Poppy', 'Cucumber', 'Dried milk',\n",
       "       'Greenland halibut/turbot', 'Dulce de leche', 'Italian oregano',\n",
       "       'Gelatin', 'Wild boar', 'Chinese mustard', 'Guinea hen', 'Lichee',\n",
       "       'American pokeweed', 'Pak choy', 'Climbing bean', 'Peach (var.)',\n",
       "       'Macadamia nut (M. tetraphylla)', 'Cattle (Beef, Veal)',\n",
       "       'Fish oil', 'Cauliflower', 'Cocoa butter', 'Common grape',\n",
       "       'Dumpling', 'Atlantic pollock', 'Mung bean', 'Star anise',\n",
       "       'Breakfast cereal', 'Cichlidae (Tilapia)', 'Kombu',\n",
       "       'Alaska wild rhubarb', 'Bulgur', 'Allspice', 'Cold cut',\n",
       "       'Red raspberry', 'Tortilla chip', 'Common carp', 'Breadfruit',\n",
       "       'Zwieback', 'Savoy cabbage', 'Pepper (Capsicum)', 'Acorn',\n",
       "       'Fennel', 'Mentha', 'Chanterelle'], dtype='<U30')"
      ]
     },
     "execution_count": 31,
     "metadata": {},
     "output_type": "execute_result"
    }
   ],
   "source": [
    "food_name2"
   ]
  },
  {
   "cell_type": "code",
   "execution_count": 35,
   "metadata": {
    "id": "07F0273052794C1C9E5F752AD4C4052C",
    "jupyter": {},
    "notebookId": "64031eaf2bed561a3ac511bb",
    "scrolled": false,
    "slideshow": {
     "slide_type": "slide"
    },
    "tags": []
   },
   "outputs": [
    {
     "name": "stderr",
     "output_type": "stream",
     "text": [
      "/opt/conda/lib/python3.6/site-packages/ipykernel_launcher.py:1: SettingWithCopyWarning: \n",
      "A value is trying to be set on a copy of a slice from a DataFrame.\n",
      "Try using .loc[row_indexer,col_indexer] = value instead\n",
      "\n",
      "See the caveats in the documentation: http://pandas.pydata.org/pandas-docs/stable/indexing.html#indexing-view-versus-copy\n",
      "  \"\"\"Entry point for launching an IPython kernel.\n"
     ]
    }
   ],
   "source": [
    "demo_food['化合物名称'] = demo_food['化合物名称'].astype(str).apply(lambda x: x.lower())"
   ]
  },
  {
   "cell_type": "code",
   "execution_count": 37,
   "metadata": {
    "id": "BF10FCF722294E74A3254EAC9EBAB920",
    "jupyter": {},
    "notebookId": "64031eaf2bed561a3ac511bb",
    "scrolled": false,
    "slideshow": {
     "slide_type": "slide"
    },
    "tags": []
   },
   "outputs": [],
   "source": [
    "demo_food2 = demo_food[['食物名称','化合物名称']]"
   ]
  },
  {
   "cell_type": "code",
   "execution_count": 28,
   "metadata": {
    "id": "FA54339CD7C64E4EB976C7B1E2ADEF2B",
    "jupyter": {},
    "notebookId": "64031eaf2bed561a3ac511bb",
    "scrolled": false,
    "slideshow": {
     "slide_type": "slide"
    },
    "tags": []
   },
   "outputs": [],
   "source": [
    "import random\n",
    "low = 1  # 区间下界\n",
    "high = 5852  # 区间上界\n",
    "\n",
    "random_numbers = random.sample(range(low, high + 1), 150)"
   ]
  },
  {
   "cell_type": "code",
   "execution_count": 39,
   "metadata": {
    "id": "607C62BB57294F3D8B4FEF7BF5B14D4E",
    "jupyter": {},
    "notebookId": "64031eaf2bed561a3ac511bb",
    "scrolled": false,
    "slideshow": {
     "slide_type": "slide"
    },
    "tags": []
   },
   "outputs": [],
   "source": [
    "disease_name2 = np.array(list(set(list(np.array(disease_compound['DiseaseName'].drop_duplicates())[random_numbers]))))\n",
    "demo_disease = disease_compound[disease_compound['DiseaseName'].isin(disease_name2)]\n"
   ]
  },
  {
   "cell_type": "code",
   "execution_count": 43,
   "metadata": {
    "id": "5ED1CCFDAC754276804E25ED8156788B",
    "jupyter": {},
    "notebookId": "64031eaf2bed561a3ac511bb",
    "scrolled": false,
    "slideshow": {
     "slide_type": "slide"
    },
    "tags": []
   },
   "outputs": [],
   "source": [
    "demo_disease2 = demo_disease[['DiseaseName','cmp_lower']]"
   ]
  },
  {
   "cell_type": "code",
   "execution_count": 49,
   "metadata": {
    "id": "2D3BE608C9DC40A4B356A7A644224BC3",
    "jupyter": {},
    "notebookId": "64031eaf2bed561a3ac511bb",
    "scrolled": false,
    "slideshow": {
     "slide_type": "slide"
    },
    "tags": []
   },
   "outputs": [],
   "source": [
    "food_com_dis = pd.merge(demo_food2,demo_disease2,left_on='化合物名称',right_on='cmp_lower',how='inner')[['食物名称','化合物名称','DiseaseName']]"
   ]
  },
  {
   "cell_type": "code",
   "execution_count": 50,
   "metadata": {
    "id": "0A22D858A32044BF8B8D9EAD7F39EE34",
    "jupyter": {},
    "notebookId": "64031eaf2bed561a3ac511bb",
    "scrolled": false,
    "slideshow": {
     "slide_type": "slide"
    },
    "tags": []
   },
   "outputs": [],
   "source": [
    "food_com_dis.to_csv(\"../data/food_com_dis.csv\")"
   ]
  },
  {
   "cell_type": "markdown",
   "metadata": {
    "id": "C5BC65D2C7334EFFAB977D886EA20283",
    "jupyter": {},
    "notebookId": "64031eaf2bed561a3ac511bb",
    "runtime": {
     "execution_status": null,
     "status": "default"
    },
    "scrolled": false,
    "slideshow": {
     "slide_type": "slide"
    },
    "tags": []
   },
   "source": [
    "### 1. Create a collection of all compounds                \n",
    "                \n",
    "#### 1.1 Getting the compounds needed for food                \n",
    "- sr_food_nur5672/FoodDB crawl data.xlsx: foodDB crawl results http://foodb.ca/foods"
   ]
  },
  {
   "cell_type": "code",
   "execution_count": 3,
   "metadata": {
    "id": "9D116DE2E009460F8F5652196CE344FE",
    "jupyter": {},
    "notebookId": "64031eaf2bed561a3ac511bb",
    "scrolled": false,
    "slideshow": {
     "slide_type": "slide"
    },
    "tags": []
   },
   "outputs": [
    {
     "data": {
      "text/html": [
       "<div>\n",
       "<style scoped>\n",
       "    .dataframe tbody tr th:only-of-type {\n",
       "        vertical-align: middle;\n",
       "    }\n",
       "\n",
       "    .dataframe tbody tr th {\n",
       "        vertical-align: top;\n",
       "    }\n",
       "\n",
       "    .dataframe thead th {\n",
       "        text-align: right;\n",
       "    }\n",
       "</style>\n",
       "<table border=\"1\" class=\"dataframe\">\n",
       "  <thead>\n",
       "    <tr style=\"text-align: right;\">\n",
       "      <th></th>\n",
       "      <th>id</th>\n",
       "      <th>食物名称</th>\n",
       "      <th>化合物名称</th>\n",
       "      <th>最小值</th>\n",
       "      <th>最大值</th>\n",
       "      <th>平均值</th>\n",
       "      <th>计量单位</th>\n",
       "    </tr>\n",
       "  </thead>\n",
       "  <tbody>\n",
       "    <tr>\n",
       "      <th>0</th>\n",
       "      <td>53957f21209da71a9fa82c25784c8317</td>\n",
       "      <td>Alfalfa</td>\n",
       "      <td>Ash</td>\n",
       "      <td>0.4</td>\n",
       "      <td>3100</td>\n",
       "      <td>1166.8</td>\n",
       "      <td>mg/100g</td>\n",
       "    </tr>\n",
       "    <tr>\n",
       "      <th>1</th>\n",
       "      <td>53957f21209da71a9fa82c25784c8317</td>\n",
       "      <td>Alfalfa</td>\n",
       "      <td>Carbohydrate</td>\n",
       "      <td>200</td>\n",
       "      <td>41800</td>\n",
       "      <td>19500</td>\n",
       "      <td>mg/100g</td>\n",
       "    </tr>\n",
       "    <tr>\n",
       "      <th>2</th>\n",
       "      <td>53957f21209da71a9fa82c25784c8317</td>\n",
       "      <td>Alfalfa</td>\n",
       "      <td>Fat</td>\n",
       "      <td>700</td>\n",
       "      <td>12600</td>\n",
       "      <td>6650</td>\n",
       "      <td>mg/100g</td>\n",
       "    </tr>\n",
       "    <tr>\n",
       "      <th>3</th>\n",
       "      <td>53957f21209da71a9fa82c25784c8317</td>\n",
       "      <td>Alfalfa</td>\n",
       "      <td>Fatty acids</td>\n",
       "      <td>0</td>\n",
       "      <td>400</td>\n",
       "      <td>100</td>\n",
       "      <td>mg/100g</td>\n",
       "    </tr>\n",
       "    <tr>\n",
       "      <th>4</th>\n",
       "      <td>53957f21209da71a9fa82c25784c8317</td>\n",
       "      <td>Alfalfa</td>\n",
       "      <td>Fiber (dietary)</td>\n",
       "      <td>0</td>\n",
       "      <td>7900</td>\n",
       "      <td>2450</td>\n",
       "      <td>mg/100g</td>\n",
       "    </tr>\n",
       "  </tbody>\n",
       "</table>\n",
       "</div>"
      ],
      "text/plain": [
       "                                 id     食物名称            化合物名称  最小值    最大值  \\\n",
       "0  53957f21209da71a9fa82c25784c8317  Alfalfa              Ash  0.4   3100   \n",
       "1  53957f21209da71a9fa82c25784c8317  Alfalfa     Carbohydrate  200  41800   \n",
       "2  53957f21209da71a9fa82c25784c8317  Alfalfa              Fat  700  12600   \n",
       "3  53957f21209da71a9fa82c25784c8317  Alfalfa      Fatty acids    0    400   \n",
       "4  53957f21209da71a9fa82c25784c8317  Alfalfa  Fiber (dietary)    0   7900   \n",
       "\n",
       "      平均值     计量单位  \n",
       "0  1166.8  mg/100g  \n",
       "1   19500  mg/100g  \n",
       "2    6650  mg/100g  \n",
       "3     100  mg/100g  \n",
       "4    2450  mg/100g  "
      ]
     },
     "metadata": {},
     "output_type": "display_data"
    }
   ],
   "source": [
    "web_food = pd.read_excel('../data/FoodDB爬取数据.xlsx')#('/home/mw/input/web_food3967/初始完整版.xlsx')\n",
    "display(web_food.head())\n",
    "web_food = web_food.drop('id', axis=1)\n",
    "pattern = r\"[a-z A-Z]\"\n",
    "cond_a = web_food['平均值'].astype(str).str.contains(pattern, regex=True)\n",
    "cond_b = web_food['最小值'].astype(str).str.contains(pattern, regex=True)\n",
    "cond_c = web_food['最大值'].astype(str).str.contains(pattern, regex=True)\n",
    "cond = zip(cond_a.to_list(), cond_b.to_list(), cond_c.to_list())\n",
    "cond = map(lambda x: x[0] or x[1] or x[2], cond)\n",
    "cond = pd.Series(list(cond))\n",
    "web_food = web_food[~cond]\n",
    "# Find a list of unique compounds\n",
    "comlist_web = web_food['化合物名称'].tolist()\n",
    "comlist_web = set(comlist_web)"
   ]
  },
  {
   "cell_type": "markdown",
   "metadata": {
    "id": "ECB1D3F62D6C4DF884D2BFAC852A3D99",
    "jupyter": {},
    "notebookId": "64031eaf2bed561a3ac511bb",
    "runtime": {
     "execution_status": null,
     "status": "default"
    },
    "scrolled": false,
    "slideshow": {
     "slide_type": "slide"
    },
    "tags": []
   },
   "source": []
  },
  {
   "cell_type": "code",
   "execution_count": 4,
   "metadata": {
    "id": "02F01328F48245EBBD505E0BF72123D3",
    "jupyter": {},
    "notebookId": "64031eaf2bed561a3ac511bb",
    "scrolled": false,
    "slideshow": {
     "slide_type": "slide"
    },
    "tags": []
   },
   "outputs": [
    {
     "data": {
      "text/html": [
       "<div>\n",
       "<style scoped>\n",
       "    .dataframe tbody tr th:only-of-type {\n",
       "        vertical-align: middle;\n",
       "    }\n",
       "\n",
       "    .dataframe tbody tr th {\n",
       "        vertical-align: top;\n",
       "    }\n",
       "\n",
       "    .dataframe thead th {\n",
       "        text-align: right;\n",
       "    }\n",
       "</style>\n",
       "<table border=\"1\" class=\"dataframe\">\n",
       "  <thead>\n",
       "    <tr style=\"text-align: right;\">\n",
       "      <th></th>\n",
       "      <th>index</th>\n",
       "      <th>food_name</th>\n",
       "      <th>compound_name</th>\n",
       "      <th>standard_content</th>\n",
       "      <th>orig_unit</th>\n",
       "      <th>food_lower</th>\n",
       "      <th>cmp_lower</th>\n",
       "      <th>scaler</th>\n",
       "    </tr>\n",
       "  </thead>\n",
       "  <tbody>\n",
       "    <tr>\n",
       "      <th>0</th>\n",
       "      <td>0</td>\n",
       "      <td>Alfalfa</td>\n",
       "      <td>Ash</td>\n",
       "      <td>1166.8</td>\n",
       "      <td>mg/100g</td>\n",
       "      <td>alfalfa</td>\n",
       "      <td>ash</td>\n",
       "      <td>0.025652</td>\n",
       "    </tr>\n",
       "    <tr>\n",
       "      <th>1</th>\n",
       "      <td>1</td>\n",
       "      <td>Alfalfa</td>\n",
       "      <td>Carbohydrate</td>\n",
       "      <td>19500</td>\n",
       "      <td>mg/100g</td>\n",
       "      <td>alfalfa</td>\n",
       "      <td>carbohydrate</td>\n",
       "      <td>0.202252</td>\n",
       "    </tr>\n",
       "    <tr>\n",
       "      <th>2</th>\n",
       "      <td>2</td>\n",
       "      <td>Alfalfa</td>\n",
       "      <td>Fat</td>\n",
       "      <td>6650</td>\n",
       "      <td>mg/100g</td>\n",
       "      <td>alfalfa</td>\n",
       "      <td>fat</td>\n",
       "      <td>0.075373</td>\n",
       "    </tr>\n",
       "    <tr>\n",
       "      <th>3</th>\n",
       "      <td>3</td>\n",
       "      <td>Alfalfa</td>\n",
       "      <td>Fatty acids</td>\n",
       "      <td>100</td>\n",
       "      <td>mg/100g</td>\n",
       "      <td>alfalfa</td>\n",
       "      <td>fatty acids</td>\n",
       "      <td>0.010825</td>\n",
       "    </tr>\n",
       "    <tr>\n",
       "      <th>4</th>\n",
       "      <td>4</td>\n",
       "      <td>Alfalfa</td>\n",
       "      <td>Fiber (dietary)</td>\n",
       "      <td>2450</td>\n",
       "      <td>mg/100g</td>\n",
       "      <td>alfalfa</td>\n",
       "      <td>fiber (dietary)</td>\n",
       "      <td>0.101210</td>\n",
       "    </tr>\n",
       "  </tbody>\n",
       "</table>\n",
       "</div>"
      ],
      "text/plain": [
       "   index food_name    compound_name standard_content orig_unit food_lower  \\\n",
       "0      0   Alfalfa              Ash           1166.8   mg/100g    alfalfa   \n",
       "1      1   Alfalfa     Carbohydrate            19500   mg/100g    alfalfa   \n",
       "2      2   Alfalfa              Fat             6650   mg/100g    alfalfa   \n",
       "3      3   Alfalfa      Fatty acids              100   mg/100g    alfalfa   \n",
       "4      4   Alfalfa  Fiber (dietary)             2450   mg/100g    alfalfa   \n",
       "\n",
       "         cmp_lower    scaler  \n",
       "0              ash  0.025652  \n",
       "1     carbohydrate  0.202252  \n",
       "2              fat  0.075373  \n",
       "3      fatty acids  0.010825  \n",
       "4  fiber (dietary)  0.101210  "
      ]
     },
     "metadata": {},
     "output_type": "display_data"
    },
    {
     "name": "stdout",
     "output_type": "stream",
     "text": [
      "食物707：共涉及化合物3608种\n"
     ]
    }
   ],
   "source": [
    "# Formatting & converting names to lower case\n",
    "food_compound = web_food[[\"食物名称\",\"化合物名称\", \"平均值\", \"计量单位\"]]\n",
    "food_compound.columns = [\"food_name\", \"compound_name\", \"standard_content\", \"orig_unit\"]\n",
    "food_compound = food_compound.reset_index()\n",
    "\n",
    "food_compound['food_lower'] = food_compound['food_name'].apply(lambda x: x.lower())\n",
    "food_compound['cmp_lower'] = food_compound['compound_name'].apply(lambda x: x.lower())\n",
    "\n",
    "# Data scaling\n",
    "scaler1=preprocessing.MinMaxScaler()\n",
    "food_compound = food_compound.join(food_compound.groupby(['cmp_lower'])[['standard_content']].apply(lambda x: pd.DataFrame(scaler1.fit_transform(x), index=x.index, columns=['scaler'])))\n",
    "food_compound['scaler'] = 0.01 + food_compound['scaler']*0.99\n",
    "\n",
    "unique_food_compound = list(set(food_compound['cmp_lower']))\n",
    "unique_food = list(set(food_compound['food_lower']))\n",
    "\n",
    "display(food_compound.head())\n",
    "print(f'食物{len(unique_food)}：共涉及化合物{len(unique_food_compound)}种')\n",
    "# food_compound.to_csv('final_food_compound.csv', index = False)"
   ]
  },
  {
   "cell_type": "code",
   "execution_count": 5,
   "metadata": {
    "id": "A603C7281732466592364BEACE1F9FBD",
    "jupyter": {},
    "notebookId": "64031eaf2bed561a3ac511bb",
    "scrolled": false,
    "slideshow": {
     "slide_type": "slide"
    },
    "tags": []
   },
   "outputs": [
    {
     "data": {
      "text/plain": [
       "<matplotlib.axes._subplots.AxesSubplot at 0x7f54fdf6e780>"
      ]
     },
     "execution_count": 5,
     "metadata": {},
     "output_type": "execute_result"
    },
    {
     "data": {
      "text/html": [
       "<img src=\"https://cdn.kesci.com/upload/rt/A603C7281732466592364BEACE1F9FBD/rqzs3qcvwg.png\">"
      ],
      "text/plain": [
       "<Figure size 432x288 with 1 Axes>"
      ]
     },
     "metadata": {
      "needs_background": "light"
     },
     "output_type": "display_data"
    }
   ],
   "source": [
    "sns.regplot(\n",
    "    x= food_compound['standard_content'].astype(float),\n",
    "    y= food_compound['scaler'],\n",
    "    fit_reg=False\n",
    "    )"
   ]
  },
  {
   "cell_type": "markdown",
   "metadata": {
    "id": "7748361CCC304CB4AB3E7239514CC90F",
    "jupyter": {},
    "notebookId": "64031eaf2bed561a3ac511bb",
    "runtime": {
     "execution_status": null,
     "status": "default"
    },
    "scrolled": false,
    "slideshow": {
     "slide_type": "slide"
    },
    "tags": []
   },
   "source": [
    "#### 1.2 Access to Disease-Compounds                \n",
    "                \n",
    "Diseases and compounds:http://ctdbase.org/downloads/#cd                \n",
    "                \n",
    "![Image Name](https://cdn.kesci.com/upload/image/riwf4p2by1.jpeg?imageView2/0/w/960/h/960)"
   ]
  },
  {
   "cell_type": "code",
   "execution_count": 8,
   "metadata": {
    "id": "F804E6801C274BDDB079674378CB45CF",
    "jupyter": {},
    "notebookId": "64031eaf2bed561a3ac511bb",
    "scrolled": false,
    "slideshow": {
     "slide_type": "slide"
    },
    "tags": []
   },
   "outputs": [],
   "source": [
    "disease_compound = pd.read_csv('../data/ctd_com_disease.csv')\n",
    "disease_compound = disease_compound[~disease_compound['InferenceScore'].isna()]\n",
    "\n",
    "# Disease and compound relationships based on inference score\n",
    "disease_compound['cmp_lower'] = disease_compound['# ChemicalName'].apply(lambda x: str(x).lower())\n",
    "disease_compound['disease_lower'] = disease_compound['DiseaseName'].apply(lambda x: str(x).lower())\n",
    "\n",
    "## Log transform the inference score feature and scale it to between 0 and 1\n",
    "# min_max_scaler = preprocessing.MinMaxScaler()\n",
    "# map_values = np.log(np.array(disease_compound['InferenceScore'].values))\n",
    "# inference_score = np.array(min_max_scaler.fit_transform(map_values.reshape([len(map_values),1]))).reshape([1,len(map_values)])\n",
    "\n",
    "#disease_compound['scaler_infer'] = 0.01 + np.array(list(inference_score[0]))*0.99 \n",
    "disease_compound['scaler_infer'] = disease_compound['InferenceScore']"
   ]
  },
  {
   "cell_type": "code",
   "execution_count": 44,
   "metadata": {
    "id": "4EA6839BAABA447988E88601887D2012",
    "jupyter": {},
    "notebookId": "64031eaf2bed561a3ac511bb",
    "scrolled": false,
    "slideshow": {
     "slide_type": "slide"
    },
    "tags": []
   },
   "outputs": [],
   "source": [
    "disease_compound = pd.read_csv('/home/mw/input/disease_source9023/ctd_com_disease.csv')"
   ]
  },
  {
   "cell_type": "code",
   "execution_count": 47,
   "metadata": {
    "id": "2CE7AE61DCA440D1BBB02EE8213710A1",
    "jupyter": {},
    "notebookId": "64031eaf2bed561a3ac511bb",
    "scrolled": false,
    "slideshow": {
     "slide_type": "slide"
    },
    "tags": []
   },
   "outputs": [
    {
     "data": {
      "text/plain": [
       "0   NaN\n",
       "Name: InferenceScore, dtype: float64"
      ]
     },
     "execution_count": 47,
     "metadata": {},
     "output_type": "execute_result"
    }
   ],
   "source": [
    "disease_compound[disease_compound['DirectEvidence'] == \"therapeutic\"]['InferenceScore'].drop_duplicates()"
   ]
  },
  {
   "cell_type": "code",
   "execution_count": 38,
   "metadata": {
    "id": "5AB6BA34BF4149B08BC082457D59EAAA",
    "jupyter": {},
    "notebookId": "64031eaf2bed561a3ac511bb",
    "scrolled": false,
    "slideshow": {
     "slide_type": "slide"
    },
    "tags": []
   },
   "outputs": [
    {
     "data": {
      "text/plain": [
       "(3069035, 2)"
      ]
     },
     "execution_count": 38,
     "metadata": {},
     "output_type": "execute_result"
    }
   ],
   "source": [
    "disease_compound[['# ChemicalName','DiseaseName']].drop_duplicates().shape"
   ]
  },
  {
   "cell_type": "code",
   "execution_count": 39,
   "metadata": {
    "id": "D110A77F8D50446E865C64659D1CB1A2",
    "jupyter": {},
    "notebookId": "64031eaf2bed561a3ac511bb",
    "scrolled": false,
    "slideshow": {
     "slide_type": "slide"
    },
    "tags": []
   },
   "outputs": [
    {
     "data": {
      "text/plain": [
       "(3126924, 6)"
      ]
     },
     "execution_count": 39,
     "metadata": {},
     "output_type": "execute_result"
    }
   ],
   "source": [
    "disease_compound.shape"
   ]
  },
  {
   "cell_type": "code",
   "execution_count": 41,
   "metadata": {
    "id": "638704DE440F4E3D9A4EBA28355FF117",
    "jupyter": {},
    "notebookId": "64031eaf2bed561a3ac511bb",
    "scrolled": false,
    "slideshow": {
     "slide_type": "slide"
    },
    "tags": []
   },
   "outputs": [],
   "source": [
    "k1 = disease_compound[disease_compound['# ChemicalName'] == \"carnosine\"]\n",
    "k2 = k1[k1['DiseaseName'] == 'atherosclerosis']"
   ]
  },
  {
   "cell_type": "code",
   "execution_count": 43,
   "metadata": {
    "id": "B6F6D88E3D3445078EED662147D76872",
    "jupyter": {},
    "notebookId": "64031eaf2bed561a3ac511bb",
    "scrolled": false,
    "slideshow": {
     "slide_type": "slide"
    },
    "tags": []
   },
   "outputs": [
    {
     "data": {
      "text/html": [
       "<div>\n",
       "<style scoped>\n",
       "    .dataframe tbody tr th:only-of-type {\n",
       "        vertical-align: middle;\n",
       "    }\n",
       "\n",
       "    .dataframe tbody tr th {\n",
       "        vertical-align: top;\n",
       "    }\n",
       "\n",
       "    .dataframe thead th {\n",
       "        text-align: right;\n",
       "    }\n",
       "</style>\n",
       "<table border=\"1\" class=\"dataframe\">\n",
       "  <thead>\n",
       "    <tr style=\"text-align: right;\">\n",
       "      <th></th>\n",
       "      <th>Unnamed: 0</th>\n",
       "      <th># ChemicalName</th>\n",
       "      <th>CasRN</th>\n",
       "      <th>DiseaseName</th>\n",
       "      <th>DirectEvidence</th>\n",
       "      <th>InferenceScore</th>\n",
       "    </tr>\n",
       "  </thead>\n",
       "  <tbody>\n",
       "  </tbody>\n",
       "</table>\n",
       "</div>"
      ],
      "text/plain": [
       "Empty DataFrame\n",
       "Columns: [Unnamed: 0, # ChemicalName, CasRN, DiseaseName, DirectEvidence, InferenceScore]\n",
       "Index: []"
      ]
     },
     "execution_count": 43,
     "metadata": {},
     "output_type": "execute_result"
    }
   ],
   "source": [
    "k1"
   ]
  },
  {
   "cell_type": "code",
   "execution_count": 34,
   "metadata": {
    "id": "2876CDF25255437380C69A9846A35365",
    "jupyter": {},
    "notebookId": "64031eaf2bed561a3ac511bb",
    "scrolled": false,
    "slideshow": {
     "slide_type": "slide"
    },
    "tags": []
   },
   "outputs": [
    {
     "name": "stderr",
     "output_type": "stream",
     "text": [
      "100%|██████████| 28/28 [01:07<00:00,  2.41s/it]\n"
     ]
    }
   ],
   "source": [
    "# DirectEvidence and InferenceScore do not appear in the same record in the downloaded data, the following will be processed first and mergeddc = disease_compound\n",
    "target_list = dc.groupby(['# ChemicalName', 'DiseaseName'], as_index=False)['Unnamed: 0'].count()\n",
    "target_list = target_list[target_list['Unnamed: 0']>1]\n",
    "disease_compound = pd.DataFrame({})\n",
    "gap = 2000\n",
    "\n",
    "for i in tqdm(range(int(target_list.shape[0]/gap)+1)):\n",
    "    sub = target_list[i*gap:(i+1)*gap]\n",
    "    target = sub[['# ChemicalName', 'DiseaseName']].merge(dc, left_on = ['# ChemicalName', 'DiseaseName'], right_on = ['# ChemicalName', 'DiseaseName'])\n",
    "    sub_evidence = target.groupby(['# ChemicalName', 'DiseaseName'], as_index=False).agg({'DirectEvidence':'unique', 'InferenceScore':'unique', 'CasRN':'unique'})\n",
    "    sub_evidence['score_len'] = sub_evidence['InferenceScore'].apply(lambda x: len(x))\n",
    "    sub_evidence = sub_evidence[sub_evidence['score_len']>1]\n",
    "    sub_evidence['DirectEvidence'] = sub_evidence['DirectEvidence'].apply(lambda x: ', '.join(x[~pd.isna(x)]))\n",
    "    sub_evidence['InferenceScore'] = sub_evidence['InferenceScore'].apply(lambda x: x[~pd.isna(x)][0])\n",
    "    sub_evidence['CasRN'] = sub_evidence['CasRN'].apply(lambda x: x[0])\n",
    "    disease_compound = pd.concat([disease_compound, sub_evidence])"
   ]
  },
  {
   "cell_type": "code",
   "execution_count": 8,
   "metadata": {
    "id": "6D4648D957064124BC97EA6EEFC369D8",
    "jupyter": {},
    "notebookId": "64031eaf2bed561a3ac511bb",
    "scrolled": false,
    "slideshow": {
     "slide_type": "slide"
    },
    "tags": []
   },
   "outputs": [
    {
     "data": {
      "text/plain": [
       "<matplotlib.axes._subplots.AxesSubplot at 0x7f36f52e8710>"
      ]
     },
     "execution_count": 8,
     "metadata": {},
     "output_type": "execute_result"
    }
   ],
   "source": [
    "sns.regplot(\n",
    "    x= disease_compound['InferenceScore'],\n",
    "    y= disease_compound['scaler_infer'],\n",
    "    fit_reg=False,\n",
    "    scatter_kws={'alpha':0.15}\n",
    "    )"
   ]
  },
  {
   "cell_type": "code",
   "execution_count": 6,
   "metadata": {
    "id": "604E35C7904649FB9D1CA25FDDAF1102",
    "jupyter": {},
    "notebookId": "64031eaf2bed561a3ac511bb",
    "scrolled": false,
    "slideshow": {
     "slide_type": "slide"
    },
    "tags": []
   },
   "outputs": [
    {
     "name": "stdout",
     "output_type": "stream",
     "text": [
      "疾病5851：共涉及化合物14133种\n"
     ]
    },
    {
     "data": {
      "text/html": [
       "<div>\n",
       "<style scoped>\n",
       "    .dataframe tbody tr th:only-of-type {\n",
       "        vertical-align: middle;\n",
       "    }\n",
       "\n",
       "    .dataframe tbody tr th {\n",
       "        vertical-align: top;\n",
       "    }\n",
       "\n",
       "    .dataframe thead th {\n",
       "        text-align: right;\n",
       "    }\n",
       "</style>\n",
       "<table border=\"1\" class=\"dataframe\">\n",
       "  <thead>\n",
       "    <tr style=\"text-align: right;\">\n",
       "      <th></th>\n",
       "      <th>Unnamed: 0</th>\n",
       "      <th># ChemicalName</th>\n",
       "      <th>CasRN</th>\n",
       "      <th>DiseaseName</th>\n",
       "      <th>DirectEvidence</th>\n",
       "      <th>InferenceScore</th>\n",
       "      <th>cmp_lower</th>\n",
       "      <th>disease_lower</th>\n",
       "      <th>scaler_infer</th>\n",
       "    </tr>\n",
       "  </thead>\n",
       "  <tbody>\n",
       "    <tr>\n",
       "      <th>1</th>\n",
       "      <td>1</td>\n",
       "      <td>10074-G5</td>\n",
       "      <td>NaN</td>\n",
       "      <td>Adenocarcinoma</td>\n",
       "      <td>NaN</td>\n",
       "      <td>4.08</td>\n",
       "      <td>10074-g5</td>\n",
       "      <td>adenocarcinoma</td>\n",
       "      <td>4.08</td>\n",
       "    </tr>\n",
       "    <tr>\n",
       "      <th>2</th>\n",
       "      <td>2</td>\n",
       "      <td>10074-G5</td>\n",
       "      <td>NaN</td>\n",
       "      <td>Adenocarcinoma of Lung</td>\n",
       "      <td>NaN</td>\n",
       "      <td>4.30</td>\n",
       "      <td>10074-g5</td>\n",
       "      <td>adenocarcinoma of lung</td>\n",
       "      <td>4.30</td>\n",
       "    </tr>\n",
       "    <tr>\n",
       "      <th>3</th>\n",
       "      <td>3</td>\n",
       "      <td>10074-G5</td>\n",
       "      <td>NaN</td>\n",
       "      <td>Alopecia</td>\n",
       "      <td>NaN</td>\n",
       "      <td>4.50</td>\n",
       "      <td>10074-g5</td>\n",
       "      <td>alopecia</td>\n",
       "      <td>4.50</td>\n",
       "    </tr>\n",
       "    <tr>\n",
       "      <th>4</th>\n",
       "      <td>4</td>\n",
       "      <td>10074-G5</td>\n",
       "      <td>NaN</td>\n",
       "      <td>Androgen-Insensitivity Syndrome</td>\n",
       "      <td>NaN</td>\n",
       "      <td>6.86</td>\n",
       "      <td>10074-g5</td>\n",
       "      <td>androgen-insensitivity syndrome</td>\n",
       "      <td>6.86</td>\n",
       "    </tr>\n",
       "    <tr>\n",
       "      <th>5</th>\n",
       "      <td>5</td>\n",
       "      <td>10074-G5</td>\n",
       "      <td>NaN</td>\n",
       "      <td>Astrocytoma</td>\n",
       "      <td>NaN</td>\n",
       "      <td>4.93</td>\n",
       "      <td>10074-g5</td>\n",
       "      <td>astrocytoma</td>\n",
       "      <td>4.93</td>\n",
       "    </tr>\n",
       "  </tbody>\n",
       "</table>\n",
       "</div>"
      ],
      "text/plain": [
       "   Unnamed: 0 # ChemicalName CasRN                      DiseaseName  \\\n",
       "1           1       10074-G5   NaN                   Adenocarcinoma   \n",
       "2           2       10074-G5   NaN           Adenocarcinoma of Lung   \n",
       "3           3       10074-G5   NaN                         Alopecia   \n",
       "4           4       10074-G5   NaN  Androgen-Insensitivity Syndrome   \n",
       "5           5       10074-G5   NaN                      Astrocytoma   \n",
       "\n",
       "  DirectEvidence  InferenceScore cmp_lower                    disease_lower  \\\n",
       "1            NaN            4.08  10074-g5                   adenocarcinoma   \n",
       "2            NaN            4.30  10074-g5           adenocarcinoma of lung   \n",
       "3            NaN            4.50  10074-g5                         alopecia   \n",
       "4            NaN            6.86  10074-g5  androgen-insensitivity syndrome   \n",
       "5            NaN            4.93  10074-g5                      astrocytoma   \n",
       "\n",
       "   scaler_infer  \n",
       "1          4.08  \n",
       "2          4.30  \n",
       "3          4.50  \n",
       "4          6.86  \n",
       "5          4.93  "
      ]
     },
     "metadata": {},
     "output_type": "display_data"
    }
   ],
   "source": [
    "disease_compound = disease_compound[disease_compound['scaler_infer']>infer_valid]\n",
    "unique_disease_compound_ctd = set(disease_compound['cmp_lower'])\n",
    "print(f\"疾病{len(set(disease_compound['disease_lower']))}：共涉及化合物{len(unique_disease_compound_ctd)}种\")\n",
    "display(disease_compound.head())\n",
    "# disease_compound.to_csv('final_disease_compound.csv', index = False)"
   ]
  },
  {
   "cell_type": "markdown",
   "metadata": {
    "id": "27E93CE8FD8A4A2DA0B7864BE637A65E",
    "jupyter": {},
    "notebookId": "64031eaf2bed561a3ac511bb",
    "runtime": {
     "execution_status": null,
     "status": "default"
    },
    "scrolled": false,
    "slideshow": {
     "slide_type": "slide"
    },
    "tags": []
   },
   "source": [
    "#### 1.4 Compound integration"
   ]
  },
  {
   "cell_type": "code",
   "execution_count": 7,
   "metadata": {
    "hide_input": false,
    "id": "1E14C0AAA0D942F48D31B6EA97528527",
    "jupyter": {},
    "notebookId": "64031eaf2bed561a3ac511bb",
    "scrolled": false,
    "slideshow": {
     "slide_type": "slide"
    },
    "tags": []
   },
   "outputs": [
    {
     "name": "stdout",
     "output_type": "stream",
     "text": [
      "共有17273种化合物需要匹配\n"
     ]
    },
    {
     "data": {
      "text/html": [
       "<div>\n",
       "<style scoped>\n",
       "    .dataframe tbody tr th:only-of-type {\n",
       "        vertical-align: middle;\n",
       "    }\n",
       "\n",
       "    .dataframe tbody tr th {\n",
       "        vertical-align: top;\n",
       "    }\n",
       "\n",
       "    .dataframe thead th {\n",
       "        text-align: right;\n",
       "    }\n",
       "</style>\n",
       "<table border=\"1\" class=\"dataframe\">\n",
       "  <thead>\n",
       "    <tr style=\"text-align: right;\">\n",
       "      <th></th>\n",
       "      <th>compound</th>\n",
       "      <th>inchikey</th>\n",
       "      <th>source</th>\n",
       "      <th>lower</th>\n",
       "    </tr>\n",
       "  </thead>\n",
       "  <tbody>\n",
       "    <tr>\n",
       "      <th>0</th>\n",
       "      <td>zeanoside c</td>\n",
       "      <td>NaN</td>\n",
       "      <td>NaN</td>\n",
       "      <td>zeanoside c</td>\n",
       "    </tr>\n",
       "    <tr>\n",
       "      <th>1</th>\n",
       "      <td>gamma-butyrolactone</td>\n",
       "      <td>NaN</td>\n",
       "      <td>NaN</td>\n",
       "      <td>gamma-butyrolactone</td>\n",
       "    </tr>\n",
       "    <tr>\n",
       "      <th>2</th>\n",
       "      <td>(s)-(+)-ethyl-2-methylbutanoate</td>\n",
       "      <td>NaN</td>\n",
       "      <td>NaN</td>\n",
       "      <td>(s)-(+)-ethyl-2-methylbutanoate</td>\n",
       "    </tr>\n",
       "    <tr>\n",
       "      <th>3</th>\n",
       "      <td>dg(16:0/20:2(11z,14z)/0:0)</td>\n",
       "      <td>NaN</td>\n",
       "      <td>NaN</td>\n",
       "      <td>dg(16:0/20:2(11z,14z)/0:0)</td>\n",
       "    </tr>\n",
       "    <tr>\n",
       "      <th>4</th>\n",
       "      <td>tg(15:0/16:0/20:3(8z,11z,14z))[iso6]</td>\n",
       "      <td>NaN</td>\n",
       "      <td>NaN</td>\n",
       "      <td>tg(15:0/16:0/20:3(8z,11z,14z))[iso6]</td>\n",
       "    </tr>\n",
       "  </tbody>\n",
       "</table>\n",
       "</div>"
      ],
      "text/plain": [
       "                               compound  inchikey  source  \\\n",
       "0                           zeanoside c       NaN     NaN   \n",
       "1                   gamma-butyrolactone       NaN     NaN   \n",
       "2       (s)-(+)-ethyl-2-methylbutanoate       NaN     NaN   \n",
       "3            dg(16:0/20:2(11z,14z)/0:0)       NaN     NaN   \n",
       "4  tg(15:0/16:0/20:3(8z,11z,14z))[iso6]       NaN     NaN   \n",
       "\n",
       "                                  lower  \n",
       "0                           zeanoside c  \n",
       "1                   gamma-butyrolactone  \n",
       "2       (s)-(+)-ethyl-2-methylbutanoate  \n",
       "3            dg(16:0/20:2(11z,14z)/0:0)  \n",
       "4  tg(15:0/16:0/20:3(8z,11z,14z))[iso6]  "
      ]
     },
     "metadata": {},
     "output_type": "display_data"
    },
    {
     "data": {
      "text/html": [
       "<div>\n",
       "<style scoped>\n",
       "    .dataframe tbody tr th:only-of-type {\n",
       "        vertical-align: middle;\n",
       "    }\n",
       "\n",
       "    .dataframe tbody tr th {\n",
       "        vertical-align: top;\n",
       "    }\n",
       "\n",
       "    .dataframe thead th {\n",
       "        text-align: right;\n",
       "    }\n",
       "</style>\n",
       "<table border=\"1\" class=\"dataframe\">\n",
       "  <thead>\n",
       "    <tr style=\"text-align: right;\">\n",
       "      <th></th>\n",
       "      <th>compound</th>\n",
       "      <th>casrn</th>\n",
       "      <th>source</th>\n",
       "      <th>lower</th>\n",
       "    </tr>\n",
       "  </thead>\n",
       "  <tbody>\n",
       "    <tr>\n",
       "      <th>0</th>\n",
       "      <td>zeanoside c</td>\n",
       "      <td>NaN</td>\n",
       "      <td>NaN</td>\n",
       "      <td>zeanoside c</td>\n",
       "    </tr>\n",
       "    <tr>\n",
       "      <th>1</th>\n",
       "      <td>gamma-butyrolactone</td>\n",
       "      <td>NaN</td>\n",
       "      <td>NaN</td>\n",
       "      <td>gamma-butyrolactone</td>\n",
       "    </tr>\n",
       "    <tr>\n",
       "      <th>2</th>\n",
       "      <td>(s)-(+)-ethyl-2-methylbutanoate</td>\n",
       "      <td>NaN</td>\n",
       "      <td>NaN</td>\n",
       "      <td>(s)-(+)-ethyl-2-methylbutanoate</td>\n",
       "    </tr>\n",
       "    <tr>\n",
       "      <th>3</th>\n",
       "      <td>dg(16:0/20:2(11z,14z)/0:0)</td>\n",
       "      <td>NaN</td>\n",
       "      <td>NaN</td>\n",
       "      <td>dg(16:0/20:2(11z,14z)/0:0)</td>\n",
       "    </tr>\n",
       "    <tr>\n",
       "      <th>4</th>\n",
       "      <td>tg(15:0/16:0/20:3(8z,11z,14z))[iso6]</td>\n",
       "      <td>NaN</td>\n",
       "      <td>NaN</td>\n",
       "      <td>tg(15:0/16:0/20:3(8z,11z,14z))[iso6]</td>\n",
       "    </tr>\n",
       "  </tbody>\n",
       "</table>\n",
       "</div>"
      ],
      "text/plain": [
       "                               compound  casrn  source  \\\n",
       "0                           zeanoside c    NaN     NaN   \n",
       "1                   gamma-butyrolactone    NaN     NaN   \n",
       "2       (s)-(+)-ethyl-2-methylbutanoate    NaN     NaN   \n",
       "3            dg(16:0/20:2(11z,14z)/0:0)    NaN     NaN   \n",
       "4  tg(15:0/16:0/20:3(8z,11z,14z))[iso6]    NaN     NaN   \n",
       "\n",
       "                                  lower  \n",
       "0                           zeanoside c  \n",
       "1                   gamma-butyrolactone  \n",
       "2       (s)-(+)-ethyl-2-methylbutanoate  \n",
       "3            dg(16:0/20:2(11z,14z)/0:0)  \n",
       "4  tg(15:0/16:0/20:3(8z,11z,14z))[iso6]  "
      ]
     },
     "metadata": {},
     "output_type": "display_data"
    }
   ],
   "source": [
    "all_compound = unique_food_compound.copy()\n",
    "all_compound.extend(unique_disease_compound_ctd)\n",
    "\n",
    "all_inchikey = pd.DataFrame({\n",
    "    'compound': all_compound,\n",
    "    'inchikey': np.nan,\n",
    "    'source': np.nan\n",
    "}).drop_duplicates()\n",
    "all_inchikey['lower'] = all_inchikey['compound'].apply(lambda x: x.lower())\n",
    "all_casrn = all_inchikey.copy()\n",
    "all_casrn.columns=[\"compound\", \"casrn\", \"source\", \"lower\"]\n",
    "print(f'共有{len(all_inchikey)}种化合物需要匹配')\n",
    "display(all_inchikey.head())\n",
    "display(all_casrn.head())"
   ]
  },
  {
   "cell_type": "markdown",
   "metadata": {
    "id": "E47DAD8D45BF4DE49A35978BCCA6AAED",
    "jupyter": {},
    "notebookId": "64031eaf2bed561a3ac511bb",
    "runtime": {
     "execution_status": null,
     "status": "default"
    },
    "scrolled": false,
    "slideshow": {
     "slide_type": "slide"
    },
    "tags": []
   },
   "source": [
    "### 2. Get inchikey with casrn                \n",
    "                \n",
    "All compound sources that need to be matched: food compound & disease compound(ctd)                \n",
    "                \n",
    "Get sources:                \n",
    "1. after processing garbled compound, download compound.csv from foodDB to match inchikey with casrn                \n",
    "2. download data from CTD to match casrn                \n",
    "3. call pubchem's official API to query inchikey                \n",
    "3. history retrieved food_inchikey (foodCompDisease4478/compounds_pubchem.csv) + disease_inchikey (foodCompDisease4478/pubchem_com.csv)                \n",
    "4. call chemspider API query                \n",
    "5. manually supplemented to achieve a final match rate of around 90%                \n"
   ]
  },
  {
   "cell_type": "code",
   "execution_count": 8,
   "metadata": {
    "hide_input": false,
    "id": "CD231FEE25BD4CD8A9A1E845B3CE0951",
    "jupyter": {},
    "notebookId": "64031eaf2bed561a3ac511bb",
    "scrolled": false,
    "slideshow": {
     "slide_type": "slide"
    },
    "tags": []
   },
   "outputs": [],
   "source": [
    "def merge_info(all_cmp, inchikey, source, target='inchikey'):\n",
    "    inchikey.columns = ['lower', source]\n",
    "    result = all_cmp.merge(inchikey, on='lower', how='left')\n",
    "    to_update = (~result[source].isnull())&(result[target].isnull())\n",
    "    to_add = (~result[source].isnull())&(~result[target].isnull())\n",
    "    # Direct updates without target values\n",
    "    result.loc[to_update, target] = result.loc[to_update, source]\n",
    "    result.loc[to_update, 'source'] = source\n",
    "    # Append backwards if the target value already exists\n",
    "    add_df = result[to_add].reset_index(drop=True)\n",
    "    add_df[target] = add_df[source]\n",
    "    add_df['source'] = source\n",
    "  # Data merging\n",
    "    result = pd.concat([result, add_df], axis=0)\n",
    "    result = result.drop_duplicates()\n",
    "    complete = len(set(result[result[target].isnull()==False]['compound']))\n",
    "    total = len(set(all_cmp['compound']))\n",
    "    print(f\"已匹配{target}{complete}个（共{result.shape[0]}行），剩余{total-complete}个, 完整度：{round(complete/total*100, 2)}%\")\n",
    "    incomplete_df = result[result[target].isnull()]['lower']\n",
    "    return result[['compound', 'lower', target, 'source']], incomplete_df"
   ]
  },
  {
   "cell_type": "markdown",
   "metadata": {
    "id": "F8B7474E533F4F5D9BED8BABB1B1C433",
    "jupyter": {},
    "notebookId": "64031eaf2bed561a3ac511bb",
    "runtime": {
     "execution_status": null,
     "status": "default"
    },
    "scrolled": false,
    "slideshow": {
     "slide_type": "slide"
    },
    "tags": []
   },
   "source": []
  },
  {
   "cell_type": "markdown",
   "metadata": {
    "id": "DFCB09545349433EB36BACE44A538A68",
    "jupyter": {},
    "notebookId": "64031eaf2bed561a3ac511bb",
    "runtime": {
     "execution_status": null,
     "status": "default"
    },
    "scrolled": false,
    "slideshow": {
     "slide_type": "slide"
    },
    "tags": []
   },
   "source": [
    "#### 2.1 foodDB official website download data matching                \n",
    "                \n",
    "FooDB CSV file from https://foodb.ca/downloads"
   ]
  },
  {
   "cell_type": "code",
   "execution_count": 10,
   "metadata": {
    "id": "58D3D25D818F43A1B16C497D959AEDA5",
    "jupyter": {},
    "notebookId": "64031eaf2bed561a3ac511bb",
    "scrolled": true,
    "slideshow": {
     "slide_type": "slide"
    },
    "tags": []
   },
   "outputs": [
    {
     "name": "stderr",
     "output_type": "stream",
     "text": [
      "/opt/conda/lib/python3.6/site-packages/IPython/core/interactiveshell.py:3020: DtypeWarning: Columns (3,4,5,6,12,13,14,15) have mixed types. Specify dtype option on import or set low_memory=False.\n",
      "  interactivity=interactivity, compiler=compiler, result=result)\n"
     ]
    }
   ],
   "source": [
    "food_unmatch = all_inchikey[['compound']].drop_duplicates()\n",
    "# Solving the messy code problem\n",
    "food_unmatch['connect_name'] = food_unmatch['compound'].apply(lambda x: x.replace(\"&#39;\", \"'\"))\n",
    "food_unmatch['connect_name'] = food_unmatch['connect_name'].apply(lambda x: x.replace(\"&gt;\", \">\"))\n",
    "food_unmatch['connect_name'] = food_unmatch['connect_name'].apply(lambda x: x.replace(\"&quot;\", '\"'))\n",
    "\n",
    "# Rewrite the garbled parts and associate them in lower case\n",
    "db_cmp = pd.read_csv('/home/mw/input/foodCompDisease4478/db_Compound.csv')\n",
    "db_cmp['lower'] = db_cmp['name'].apply(lambda x: x.lower())\n",
    "food_unmatch['lower'] = food_unmatch['connect_name'].apply(lambda x: x.lower()) \n",
    "fdb = food_unmatch.merge(db_cmp[['lower', 'moldb_smiles', 'description']], on='lower', how='inner')"
   ]
  },
  {
   "cell_type": "code",
   "execution_count": 11,
   "metadata": {
    "id": "472686C2666F4517939E78C552AE6DDF",
    "jupyter": {},
    "notebookId": "64031eaf2bed561a3ac511bb",
    "scrolled": false,
    "slideshow": {
     "slide_type": "slide"
    },
    "tags": []
   },
   "outputs": [
    {
     "name": "stdout",
     "output_type": "stream",
     "text": [
      "已匹配inchikey4349个（共17273行），剩余12924个, 完整度：25.18%\n",
      "已匹配casrn2491个（共17273行），剩余14782个, 完整度：14.42%\n"
     ]
    }
   ],
   "source": [
    "# When associating with full volume data, garbled lower case names are still used\n",
    "inchikey_after_fdb, incomplete_after_fdb = merge_info(all_inchikey, fdb[~fdb['moldb_smiles'].isnull()][['compound', 'moldb_smiles']], 'fdb')\n",
    "casrn_after_fdb, incomplete_after_fdb_casrn = merge_info(all_casrn, fdb[~fdb['description'].isnull()][['compound', 'description']], 'fdb', 'casrn')"
   ]
  },
  {
   "cell_type": "markdown",
   "metadata": {
    "id": "0256F04451064F0690DC60082A880761",
    "jupyter": {},
    "notebookId": "64031eaf2bed561a3ac511bb",
    "runtime": {
     "execution_status": null,
     "status": "default"
    },
    "scrolled": false,
    "slideshow": {
     "slide_type": "slide"
    },
    "tags": []
   },
   "source": [
    "#### 2.2 from CTD Associated Diseases casrn"
   ]
  },
  {
   "cell_type": "markdown",
   "metadata": {
    "id": "58CA47DF117B4AA487F55B41646FDF4E",
    "jupyter": {},
    "notebookId": "64031eaf2bed561a3ac511bb",
    "runtime": {
     "execution_status": null,
     "status": "default"
    },
    "scrolled": false,
    "slideshow": {
     "slide_type": "slide"
    },
    "tags": []
   },
   "source": []
  },
  {
   "cell_type": "code",
   "execution_count": 12,
   "metadata": {
    "id": "F187FE7095634845836D831A0EC4E12C",
    "jupyter": {},
    "notebookId": "64031eaf2bed561a3ac511bb",
    "scrolled": false,
    "slideshow": {
     "slide_type": "slide"
    },
    "tags": []
   },
   "outputs": [
    {
     "name": "stdout",
     "output_type": "stream",
     "text": [
      "已匹配casrn8793个（共18253行），剩余8480个, 完整度：50.91%\n"
     ]
    }
   ],
   "source": [
    "ctd_disease = disease_compound[~disease_compound['CasRN'].isnull()][['cmp_lower', 'CasRN']].reset_index(drop=True)\n",
    "casrn_after_ctd, incomplete_after_ctd_casrn = merge_info(casrn_after_fdb, ctd_disease, 'ctd', 'casrn')"
   ]
  },
  {
   "cell_type": "markdown",
   "metadata": {
    "id": "F0E7D8B662714CC69DDC780FF8541109",
    "jupyter": {},
    "notebookId": "64031eaf2bed561a3ac511bb",
    "runtime": {
     "execution_status": null,
     "status": "default"
    },
    "scrolled": false,
    "slideshow": {
     "slide_type": "slide"
    },
    "tags": []
   },
   "source": [
    "#### 2.3 From the pubchem API"
   ]
  },
  {
   "cell_type": "code",
   "execution_count": 13,
   "metadata": {
    "hide_input": true,
    "id": "1B709CCF94FF469298A2676FBE0D25EA",
    "jupyter": {},
    "notebookId": "64031eaf2bed561a3ac511bb",
    "scrolled": true,
    "slideshow": {
     "slide_type": "slide"
    },
    "tags": []
   },
   "outputs": [],
   "source": [
    "def get_pubchem_info(compound_list):\n",
    "    def get_casrn(x):\n",
    "        matched = re.match('(\\d{2,7}-\\d\\d-\\d)', x)\n",
    "        result = matched.group(1) if matched else '--'\n",
    "        return(result)\n",
    "    compound_name = []\n",
    "    cid = []\n",
    "    inchikey = []\n",
    "    casrn = []\n",
    "    fail = 0\n",
    "    for idx, i in tqdm(enumerate(compound_list)):\n",
    "        target = pubchempy.get_compounds(i, 'name')\n",
    "        if target==[]:\n",
    "            fail+=1\n",
    "        else:\n",
    "            compound_name.append(i)\n",
    "            target_cid = target[0]\n",
    "            cid.append(target_cid.cid)\n",
    "            inchikey.append(target_cid.inchikey)\n",
    "            cas_list = list(set(map(get_casrn, target_cid.synonyms)) - set(['--']))\n",
    "            if len(cas_list)>0:\n",
    "                casrn.append(cas_list[0])\n",
    "            else:\n",
    "                casrn.append(np.nan)\n",
    "        if (idx//50==idx/50) or (idx==len(compound_list)-1):\n",
    "            result = pd.DataFrame({\"cid\": cid, \"lower\":compound_name, \"inchikey\": inchikey, \"casrn\": casrn})\n",
    "            result.to_csv('success_inchikey_temp.csv')\n",
    "\n",
    "    print(f'累计查找失败{fail}次')\n",
    "    return result, fail"
   ]
  },
  {
   "cell_type": "code",
   "execution_count": 14,
   "metadata": {
    "id": "6718848960FE4640B2BA853328F988FC",
    "jupyter": {},
    "notebookId": "64031eaf2bed561a3ac511bb",
    "scrolled": false,
    "slideshow": {
     "slide_type": "slide"
    },
    "tags": []
   },
   "outputs": [],
   "source": [
    "# incomplete = list(incomplete_after_ctd_casrn)\n",
    "# incomplete.extend(incomplete_after_fdb)\n",
    "# incomplete = list(set(incomplete))\n",
    "# pickle.dump(incomplete, open('incomplete.pkl', 'wb'))\n",
    "# # The call record is saved in success_inchikey_casrn.csv, type new. API calls can be made by uncommenting the following code (which takes longer)\n",
    "#pubchemAPI, pubchemAPI_null = get_pubchem_info(incomplete)"
   ]
  },
  {
   "cell_type": "code",
   "execution_count": 16,
   "metadata": {
    "id": "685874C4B2AB49ABA231A1908C022187",
    "jupyter": {},
    "notebookId": "64031eaf2bed561a3ac511bb",
    "scrolled": true,
    "slideshow": {
     "slide_type": "slide"
    },
    "tags": []
   },
   "outputs": [
    {
     "name": "stdout",
     "output_type": "stream",
     "text": [
      "已匹配inchikey14089个（共19656行），剩余3184个, 完整度：81.57%\n",
      "已匹配casrn12333个（共26546行），剩余4940个, 完整度：71.4%\n"
     ]
    }
   ],
   "source": [
    "for_casrn = pd.read_csv('../data/success_inchikey_casrn.csv')\n",
    "for_gen = pd.read_csv('../data/success_inchikey_gen.csv').drop(columns=['Unnamed: 0'])\n",
    "pubchemAPI = pd.concat([for_casrn, for_gen], axis=0)\n",
    "pubchemAPI_casrn = pubchemAPI[~pubchemAPI['casrn'].isnull()]\n",
    "inchikey_after_pubchem, incomplete_after_pubchem = merge_info(inchikey_after_fdb, pubchemAPI[['lower', 'inchikey']], 'pubchemAPI')\n",
    "casrn_after_pubchem, incomplete_after_pubchem_casrn = merge_info(casrn_after_ctd, pubchemAPI_casrn[['lower', 'casrn']], 'pubchemAPI', 'casrn')"
   ]
  },
  {
   "cell_type": "markdown",
   "metadata": {
    "id": "288DFD74E5914428AC9BCCBA8BE11392",
    "jupyter": {},
    "notebookId": "64031eaf2bed561a3ac511bb",
    "runtime": {
     "execution_status": null,
     "status": "default"
    },
    "scrolled": false,
    "slideshow": {
     "slide_type": "slide"
    },
    "tags": []
   },
   "source": [
    "#### 2.4 Matching from historical results                \n",
    "                \n",
    "- Associated with inchikey"
   ]
  },
  {
   "cell_type": "code",
   "execution_count": 17,
   "metadata": {
    "hide_input": false,
    "id": "00899A72E824412E844451FACAAC5588",
    "jupyter": {},
    "notebookId": "64031eaf2bed561a3ac511bb",
    "scrolled": true,
    "slideshow": {
     "slide_type": "slide"
    },
    "tags": []
   },
   "outputs": [
    {
     "name": "stdout",
     "output_type": "stream",
     "text": [
      "已匹配inchikey14097个（共19656行），剩余3176个, 完整度：81.61%\n"
     ]
    }
   ],
   "source": [
    "pre_food_inchikey = pd.read_csv('../data/compounds_pubchem.csv')\n",
    "pre_food_inchikey['lower'] = pre_food_inchikey['name'].apply(lambda x: x.lower())\n",
    "\n",
    "pre_disease_inchikey = pd.read_csv('../data/pubchem_com.csv')\n",
    "pre_disease_inchikey = pre_disease_inchikey[pre_disease_inchikey['cmpdname'].isnull()==False]\n",
    "pre_disease_inchikey['lower'] = pre_disease_inchikey['cmpdname'].apply(lambda x: x.lower())\n",
    "\n",
    "history = pd.concat([pre_food_inchikey[['lower', 'inchikey']], pre_disease_inchikey[['lower', 'inchikey']]], axis = 0)\n",
    "history.columns = ['lower', 'history']\n",
    "history_ready = history[history['lower'].isin(incomplete_after_pubchem)]\n",
    "inchikey_after_history, incomplete = merge_info(inchikey_after_pubchem, history_ready, 'history')"
   ]
  },
  {
   "cell_type": "markdown",
   "metadata": {
    "id": "1D4C3E5377F641D8B498775E2552E711",
    "jupyter": {},
    "notebookId": "64031eaf2bed561a3ac511bb",
    "runtime": {
     "execution_status": null,
     "status": "default"
    },
    "scrolled": false,
    "slideshow": {
     "slide_type": "slide"
    },
    "tags": []
   },
   "source": [
    "#### 2.5 Calling the official chemspider API"
   ]
  },
  {
   "cell_type": "code",
   "execution_count": 19,
   "metadata": {
    "hide_input": true,
    "id": "59038A5CB6A04F999E4640F6F2F5D58D",
    "jupyter": {},
    "notebookId": "64031eaf2bed561a3ac511bb",
    "scrolled": false,
    "slideshow": {
     "slide_type": "slide"
    },
    "tags": []
   },
   "outputs": [],
   "source": [
    "# 调用记录保存在chemspider.csv中，API调用可取消下列注释代码（用时较久）\n",
    "# my_key = '9ADUvpFHGPrWmp46bOxNvracW2Vz1Pml'\n",
    "# cs = ChemSpider(my_key)\n",
    "\n",
    "# spider = []\n",
    "# spider_lower = []\n",
    "# for cmp in incomplete_after_fdb:\n",
    "#     spider_lower.append(cmp)\n",
    "#     searched = cs.search(cmp)\n",
    "#     if len(searched)>0:\n",
    "#         spider.append(searched[0].inchikey)\n",
    "#     else:\n",
    "#         spider.append(np.nan)\n",
    "\n",
    "# chemspider = pd.DataFrame({\"lower\": spider_lower, \"spider\": spider})\n",
    "# chemspider = chemspider[chemspider['spider'].isnull()==False]\n",
    "# chemspider.to_csv('/home/mw/project/inchikey中间表/chemspider.csv', index = False)"
   ]
  },
  {
   "cell_type": "code",
   "execution_count": 21,
   "metadata": {
    "id": "5CCBC36648DE4E7F9FAAE3241920E821",
    "jupyter": {},
    "notebookId": "64031eaf2bed561a3ac511bb",
    "scrolled": false,
    "slideshow": {
     "slide_type": "slide"
    },
    "tags": []
   },
   "outputs": [
    {
     "name": "stdout",
     "output_type": "stream",
     "text": [
      "已匹配inchikey14176个（共19659行），剩余3097个, 完整度：82.07%\n"
     ]
    }
   ],
   "source": [
    "chemspider = pd.read_csv('../data/chemspider.csv')\n",
    "inchikey_after_spider, incomplete_after_spider = merge_info(inchikey_after_history, chemspider[['lower', 'spider']], 'spider')"
   ]
  },
  {
   "cell_type": "markdown",
   "metadata": {
    "id": "0A11DE71818B4759A63F863410DCFF10",
    "jupyter": {},
    "notebookId": "64031eaf2bed561a3ac511bb",
    "runtime": {
     "execution_status": null,
     "status": "default"
    },
    "scrolled": false,
    "slideshow": {
     "slide_type": "slide"
    },
    "tags": []
   },
   "source": [
    "#### 2.3 Manual check matching"
   ]
  },
  {
   "cell_type": "code",
   "execution_count": 23,
   "metadata": {
    "hide_input": false,
    "id": "32BA4F7E842A4CABBED382A99A288092",
    "jupyter": {},
    "notebookId": "64031eaf2bed561a3ac511bb",
    "scrolled": true,
    "slideshow": {
     "slide_type": "slide"
    },
    "tags": []
   },
   "outputs": [
    {
     "name": "stdout",
     "output_type": "stream",
     "text": [
      "已匹配inchikey14704个（共19674行），剩余2569个, 完整度：85.13%\n",
      "已匹配casrn12532个（共25841行），剩余4741个, 完整度：72.55%\n"
     ]
    }
   ],
   "source": [
    "manul = pd.read_csv('../data/manul_inchikey.csv', usecols=['compound_name', 'inchikey', 'info', 'casrn'])\n",
    "manul_exact = manul[(manul['info'].isnull())] # 删除近似匹配的部分\n",
    "inchikey_after_manul, incomplete_after_manul = merge_info(inchikey_after_spider, manul_exact[['compound_name', 'inchikey']][(~manul_exact['inchikey'].isnull())], 'manul')\n",
    "casrn_after_manul, incomplete_after_manul_casrn = merge_info(casrn_after_pubchem, manul_exact[['compound_name', 'casrn']][(~manul_exact['casrn'].isnull())], 'manul', 'casrn')"
   ]
  },
  {
   "cell_type": "markdown",
   "metadata": {
    "id": "095F805468BC41569008A04CD47EB3CC",
    "jupyter": {},
    "notebookId": "64031eaf2bed561a3ac511bb",
    "runtime": {
     "execution_status": null,
     "status": "default"
    },
    "scrolled": false,
    "slideshow": {
     "slide_type": "slide"
    },
    "tags": []
   },
   "source": [
    "#### Integration of results"
   ]
  },
  {
   "cell_type": "code",
   "execution_count": 24,
   "metadata": {
    "id": "EA150C6F8F9A42029CF739DE17A5F7FF",
    "jupyter": {},
    "notebookId": "64031eaf2bed561a3ac511bb",
    "scrolled": false,
    "slideshow": {
     "slide_type": "slide"
    },
    "tags": []
   },
   "outputs": [],
   "source": [
    "whole_inchikey = inchikey_after_manul[inchikey_after_manul['inchikey'].isnull()==False]\n",
    "whole_inchikey = whole_inchikey.groupby(['compound','lower', 'inchikey'])['source'].apply(\", \".join).reset_index()\n",
    "\n",
    "whole_casrn = casrn_after_manul[casrn_after_manul['casrn'].isnull()==False]\n",
    "whole_casrn = whole_casrn.groupby(['compound','lower', 'casrn'])['source'].apply(\", \".join).reset_index()"
   ]
  },
  {
   "cell_type": "code",
   "execution_count": 25,
   "metadata": {
    "id": "DAB370A6AF4A49B083D4BD6061325B77",
    "jupyter": {},
    "notebookId": "64031eaf2bed561a3ac511bb",
    "scrolled": false,
    "slideshow": {
     "slide_type": "slide"
    },
    "tags": []
   },
   "outputs": [
    {
     "data": {
      "text/html": [
       "<div>\n",
       "<style scoped>\n",
       "    .dataframe tbody tr th:only-of-type {\n",
       "        vertical-align: middle;\n",
       "    }\n",
       "\n",
       "    .dataframe tbody tr th {\n",
       "        vertical-align: top;\n",
       "    }\n",
       "\n",
       "    .dataframe thead th {\n",
       "        text-align: right;\n",
       "    }\n",
       "</style>\n",
       "<table border=\"1\" class=\"dataframe\">\n",
       "  <thead>\n",
       "    <tr style=\"text-align: right;\">\n",
       "      <th></th>\n",
       "      <th>compound</th>\n",
       "      <th>lower</th>\n",
       "      <th>inchikey</th>\n",
       "      <th>source</th>\n",
       "    </tr>\n",
       "  </thead>\n",
       "  <tbody>\n",
       "    <tr>\n",
       "      <th>297</th>\n",
       "      <td>1,2-disinapoylgentiobiose</td>\n",
       "      <td>1,2-disinapoylgentiobiose</td>\n",
       "      <td>MBGNTECDWBKCKH-HXDPBKTRSA-N</td>\n",
       "      <td>pubchemAPI</td>\n",
       "    </tr>\n",
       "    <tr>\n",
       "      <th>298</th>\n",
       "      <td>1,2-disinapoylgentiobiose</td>\n",
       "      <td>1,2-disinapoylgentiobiose</td>\n",
       "      <td>MBGNTECDWBKCKH-KQQUZDAGSA-N</td>\n",
       "      <td>fdb</td>\n",
       "    </tr>\n",
       "  </tbody>\n",
       "</table>\n",
       "</div>"
      ],
      "text/plain": [
       "                      compound                      lower  \\\n",
       "297  1,2-disinapoylgentiobiose  1,2-disinapoylgentiobiose   \n",
       "298  1,2-disinapoylgentiobiose  1,2-disinapoylgentiobiose   \n",
       "\n",
       "                        inchikey      source  \n",
       "297  MBGNTECDWBKCKH-HXDPBKTRSA-N  pubchemAPI  \n",
       "298  MBGNTECDWBKCKH-KQQUZDAGSA-N         fdb  "
      ]
     },
     "execution_count": 25,
     "metadata": {},
     "output_type": "execute_result"
    }
   ],
   "source": [
    "count_inchi_match_cmp = whole_inchikey.groupby('lower').count()\n",
    "count_inchi_match_cmp[count_inchi_match_cmp['compound']>1]\n",
    "whole_inchikey[whole_inchikey['lower']=='1,2-disinapoylgentiobiose']"
   ]
  },
  {
   "cell_type": "code",
   "execution_count": 26,
   "metadata": {
    "id": "6C1B165093C641FE86EFE7F089D95C4A",
    "jupyter": {},
    "notebookId": "64031eaf2bed561a3ac511bb",
    "scrolled": false,
    "slideshow": {
     "slide_type": "slide"
    },
    "tags": []
   },
   "outputs": [],
   "source": [
    "# inchikey_after_manul.to_csv('/home/mw/project/inchikey中间表/inchikey_info_withNA.csv', index=False)\n",
    "# whole_inchikey.to_csv('/home/mw/project/inchikey中间表/inchikey_info.csv', index = False)\n",
    "# whole_casrn.to_csv('/home/mw/project/inchikey中间表/casrn_info.csv', index = False)\n",
    "\n",
    "# whole_inchikey = pd.read_csv('/home/mw/project/inchikey中间表/inchikey_info.csv'\n",
    "# whole_casrn = pd.read_csv('/home/mw/project/inchikey中间表/casrn_info.csv'\n"
   ]
  },
  {
   "cell_type": "markdown",
   "metadata": {
    "id": "D62746B10BCD49BD8C9D86C679562476",
    "jupyter": {},
    "notebookId": "64031eaf2bed561a3ac511bb",
    "runtime": {
     "execution_status": null,
     "status": "default"
    },
    "scrolled": false,
    "slideshow": {
     "slide_type": "slide"
    },
    "tags": []
   },
   "source": [
    "### 3. matchinchikey                \n",
    "                \n",
    "#### 3.1 food_inchikey"
   ]
  },
  {
   "cell_type": "code",
   "execution_count": 27,
   "metadata": {
    "id": "9E28CE9FCB3B401CB467A4372106A018",
    "jupyter": {},
    "notebookId": "64031eaf2bed561a3ac511bb",
    "scrolled": false,
    "slideshow": {
     "slide_type": "slide"
    },
    "tags": []
   },
   "outputs": [
    {
     "name": "stdout",
     "output_type": "stream",
     "text": [
      "Food Inchikey New (42906, 7)\n",
      "基于 whole inchikey 3604 684\n"
     ]
    },
    {
     "data": {
      "text/html": [
       "<div>\n",
       "<style scoped>\n",
       "    .dataframe tbody tr th:only-of-type {\n",
       "        vertical-align: middle;\n",
       "    }\n",
       "\n",
       "    .dataframe tbody tr th {\n",
       "        vertical-align: top;\n",
       "    }\n",
       "\n",
       "    .dataframe thead th {\n",
       "        text-align: right;\n",
       "    }\n",
       "</style>\n",
       "<table border=\"1\" class=\"dataframe\">\n",
       "  <thead>\n",
       "    <tr style=\"text-align: right;\">\n",
       "      <th></th>\n",
       "      <th>food_lower</th>\n",
       "      <th>cmp_lower</th>\n",
       "      <th>scaler</th>\n",
       "      <th>inchikey</th>\n",
       "      <th>source</th>\n",
       "      <th>lower</th>\n",
       "      <th>casrn</th>\n",
       "    </tr>\n",
       "  </thead>\n",
       "  <tbody>\n",
       "    <tr>\n",
       "      <th>2</th>\n",
       "      <td>alfalfa</td>\n",
       "      <td>fat</td>\n",
       "      <td>0.075373</td>\n",
       "      <td>IPCSVZSSVZVIGE-UHFFFAOYSA-N</td>\n",
       "      <td>pubchemAPI</td>\n",
       "      <td>fat</td>\n",
       "      <td>57-10-3</td>\n",
       "    </tr>\n",
       "    <tr>\n",
       "      <th>3</th>\n",
       "      <td>alfalfa</td>\n",
       "      <td>fatty acids</td>\n",
       "      <td>0.010825</td>\n",
       "      <td>FERIUCNNQQJTOY-UHFFFAOYSA-N</td>\n",
       "      <td>pubchemAPI</td>\n",
       "      <td>fatty acids</td>\n",
       "      <td>67254-79-9</td>\n",
       "    </tr>\n",
       "    <tr>\n",
       "      <th>6</th>\n",
       "      <td>alfalfa</td>\n",
       "      <td>water</td>\n",
       "      <td>0.342161</td>\n",
       "      <td>XLYOFNOQVPJJNP-UHFFFAOYSA-N</td>\n",
       "      <td>pubchemAPI</td>\n",
       "      <td>water</td>\n",
       "      <td>7732-18-5</td>\n",
       "    </tr>\n",
       "    <tr>\n",
       "      <th>7</th>\n",
       "      <td>alfalfa</td>\n",
       "      <td>nitrogen</td>\n",
       "      <td>0.623799</td>\n",
       "      <td>IJGRMHOSHXDMSA-UHFFFAOYSA-N</td>\n",
       "      <td>fdb</td>\n",
       "      <td>nitrogen</td>\n",
       "      <td>7727-37-9</td>\n",
       "    </tr>\n",
       "    <tr>\n",
       "      <th>8</th>\n",
       "      <td>alfalfa</td>\n",
       "      <td>l-leucine</td>\n",
       "      <td>0.019383</td>\n",
       "      <td>ROHFNLRQFUQHCH-UHFFFAOYSA-N</td>\n",
       "      <td>fdb</td>\n",
       "      <td>l-leucine</td>\n",
       "      <td>61-90-5</td>\n",
       "    </tr>\n",
       "  </tbody>\n",
       "</table>\n",
       "</div>"
      ],
      "text/plain": [
       "  food_lower    cmp_lower    scaler                     inchikey      source  \\\n",
       "2    alfalfa          fat  0.075373  IPCSVZSSVZVIGE-UHFFFAOYSA-N  pubchemAPI   \n",
       "3    alfalfa  fatty acids  0.010825  FERIUCNNQQJTOY-UHFFFAOYSA-N  pubchemAPI   \n",
       "6    alfalfa        water  0.342161  XLYOFNOQVPJJNP-UHFFFAOYSA-N  pubchemAPI   \n",
       "7    alfalfa     nitrogen  0.623799  IJGRMHOSHXDMSA-UHFFFAOYSA-N         fdb   \n",
       "8    alfalfa    l-leucine  0.019383  ROHFNLRQFUQHCH-UHFFFAOYSA-N         fdb   \n",
       "\n",
       "         lower       casrn  \n",
       "2          fat     57-10-3  \n",
       "3  fatty acids  67254-79-9  \n",
       "6        water   7732-18-5  \n",
       "7     nitrogen   7727-37-9  \n",
       "8    l-leucine     61-90-5  "
      ]
     },
     "metadata": {},
     "output_type": "display_data"
    }
   ],
   "source": [
    "food_compound_inchikey_new = pd.merge(food_compound, whole_inchikey, left_on='cmp_lower', right_on='lower', how='left')\n",
    "food_compound_inchikey_new = food_compound_inchikey_new[['food_lower','cmp_lower', 'scaler', 'inchikey','source']].drop_duplicates()\n",
    "food_compound_inchikey_new = food_compound_inchikey_new.merge(whole_casrn[['lower', 'casrn']], left_on='cmp_lower', right_on='lower', how='left')\n",
    "food_compound_inchikey_new = food_compound_inchikey_new[~((food_compound_inchikey_new['inchikey'].isnull()) & (food_compound_inchikey_new['casrn'].isnull()))]\n",
    "print(f'Food Inchikey New {food_compound_inchikey_new.shape}')\n",
    "print('基于 whole inchikey', len(list(set(food_compound_inchikey_new['cmp_lower']))), len(list(set(food_compound_inchikey_new['food_lower']))))\n",
    "display(food_compound_inchikey_new.head())"
   ]
  },
  {
   "cell_type": "code",
   "execution_count": 89,
   "metadata": {
    "id": "7E363F1E5DD447A78A4973CA0856272E",
    "jupyter": {},
    "notebookId": "64031eaf2bed561a3ac511bb",
    "scrolled": false,
    "slideshow": {
     "slide_type": "slide"
    },
    "tags": []
   },
   "outputs": [],
   "source": []
  },
  {
   "cell_type": "markdown",
   "metadata": {
    "id": "5B8834A244B941C69D5DA62B5F85D567",
    "jupyter": {},
    "notebookId": "64031eaf2bed561a3ac511bb",
    "runtime": {
     "execution_status": null,
     "status": "default"
    },
    "scrolled": false,
    "slideshow": {
     "slide_type": "slide"
    },
    "tags": []
   },
   "source": [
    "#### 3.2 disease_inchikey"
   ]
  },
  {
   "cell_type": "code",
   "execution_count": 28,
   "metadata": {
    "id": "591F4FB4499B4FECB2FA9B08F1B46953",
    "jupyter": {},
    "notebookId": "64031eaf2bed561a3ac511bb",
    "scrolled": false,
    "slideshow": {
     "slide_type": "slide"
    },
    "tags": []
   },
   "outputs": [
    {
     "name": "stdout",
     "output_type": "stream",
     "text": [
      "Disease Compound Inchikey New (3381917, 6)\n",
      "compound: 11568\n",
      "disease: 5851\n"
     ]
    },
    {
     "data": {
      "text/html": [
       "<div>\n",
       "<style scoped>\n",
       "    .dataframe tbody tr th:only-of-type {\n",
       "        vertical-align: middle;\n",
       "    }\n",
       "\n",
       "    .dataframe tbody tr th {\n",
       "        vertical-align: top;\n",
       "    }\n",
       "\n",
       "    .dataframe thead th {\n",
       "        text-align: right;\n",
       "    }\n",
       "</style>\n",
       "<table border=\"1\" class=\"dataframe\">\n",
       "  <thead>\n",
       "    <tr style=\"text-align: right;\">\n",
       "      <th></th>\n",
       "      <th>cmp_lower</th>\n",
       "      <th>disease_lower</th>\n",
       "      <th>scaler_infer</th>\n",
       "      <th>inchikey</th>\n",
       "      <th>lower</th>\n",
       "      <th>casrn</th>\n",
       "    </tr>\n",
       "  </thead>\n",
       "  <tbody>\n",
       "    <tr>\n",
       "      <th>0</th>\n",
       "      <td>10074-g5</td>\n",
       "      <td>adenocarcinoma</td>\n",
       "      <td>4.08</td>\n",
       "      <td>KMJPYSQOCBYMCF-UHFFFAOYSA-N</td>\n",
       "      <td>10074-g5</td>\n",
       "      <td>413611-93-5</td>\n",
       "    </tr>\n",
       "    <tr>\n",
       "      <th>1</th>\n",
       "      <td>10074-g5</td>\n",
       "      <td>adenocarcinoma of lung</td>\n",
       "      <td>4.30</td>\n",
       "      <td>KMJPYSQOCBYMCF-UHFFFAOYSA-N</td>\n",
       "      <td>10074-g5</td>\n",
       "      <td>413611-93-5</td>\n",
       "    </tr>\n",
       "    <tr>\n",
       "      <th>2</th>\n",
       "      <td>10074-g5</td>\n",
       "      <td>alopecia</td>\n",
       "      <td>4.50</td>\n",
       "      <td>KMJPYSQOCBYMCF-UHFFFAOYSA-N</td>\n",
       "      <td>10074-g5</td>\n",
       "      <td>413611-93-5</td>\n",
       "    </tr>\n",
       "    <tr>\n",
       "      <th>3</th>\n",
       "      <td>10074-g5</td>\n",
       "      <td>androgen-insensitivity syndrome</td>\n",
       "      <td>6.86</td>\n",
       "      <td>KMJPYSQOCBYMCF-UHFFFAOYSA-N</td>\n",
       "      <td>10074-g5</td>\n",
       "      <td>413611-93-5</td>\n",
       "    </tr>\n",
       "    <tr>\n",
       "      <th>4</th>\n",
       "      <td>10074-g5</td>\n",
       "      <td>astrocytoma</td>\n",
       "      <td>4.93</td>\n",
       "      <td>KMJPYSQOCBYMCF-UHFFFAOYSA-N</td>\n",
       "      <td>10074-g5</td>\n",
       "      <td>413611-93-5</td>\n",
       "    </tr>\n",
       "  </tbody>\n",
       "</table>\n",
       "</div>"
      ],
      "text/plain": [
       "  cmp_lower                    disease_lower  scaler_infer  \\\n",
       "0  10074-g5                   adenocarcinoma          4.08   \n",
       "1  10074-g5           adenocarcinoma of lung          4.30   \n",
       "2  10074-g5                         alopecia          4.50   \n",
       "3  10074-g5  androgen-insensitivity syndrome          6.86   \n",
       "4  10074-g5                      astrocytoma          4.93   \n",
       "\n",
       "                      inchikey     lower        casrn  \n",
       "0  KMJPYSQOCBYMCF-UHFFFAOYSA-N  10074-g5  413611-93-5  \n",
       "1  KMJPYSQOCBYMCF-UHFFFAOYSA-N  10074-g5  413611-93-5  \n",
       "2  KMJPYSQOCBYMCF-UHFFFAOYSA-N  10074-g5  413611-93-5  \n",
       "3  KMJPYSQOCBYMCF-UHFFFAOYSA-N  10074-g5  413611-93-5  \n",
       "4  KMJPYSQOCBYMCF-UHFFFAOYSA-N  10074-g5  413611-93-5  "
      ]
     },
     "metadata": {},
     "output_type": "display_data"
    }
   ],
   "source": [
    "# 通过化合物名称关联到inchikey信息\n",
    "disease_compound_inchikey_new = pd.merge(disease_compound, whole_inchikey,left_on='cmp_lower',right_on='lower',how='inner')\n",
    "disease_compound_inchikey_new = disease_compound_inchikey_new[['cmp_lower', 'disease_lower', 'scaler_infer', 'inchikey']].drop_duplicates()\n",
    "disease_compound_inchikey_new = disease_compound_inchikey_new.merge(whole_casrn[['lower', 'casrn']], left_on='cmp_lower', right_on='lower', how='left')\n",
    "\n",
    "print(f'Disease Compound Inchikey New {disease_compound_inchikey_new.shape}')\n",
    "print('compound:', len(set(disease_compound_inchikey_new['cmp_lower'])))\n",
    "print('disease:', len(set(disease_compound_inchikey_new['disease_lower'])))\n",
    "display(disease_compound_inchikey_new.head())\n",
    "# disease_compound_inchikey_new.to_csv('/home/mw/project/inchikey中间表/disease_inchikey.csv', index = False)"
   ]
  },
  {
   "cell_type": "markdown",
   "metadata": {
    "id": "331FBE5A236C4B629A715F2390C1D57D",
    "jupyter": {},
    "notebookId": "64031eaf2bed561a3ac511bb",
    "runtime": {
     "execution_status": null,
     "status": "default"
    },
    "scrolled": false,
    "slideshow": {
     "slide_type": "slide"
    },
    "tags": []
   },
   "source": [
    "## II. Building a matrix of food, disease relationships           \n",
    "                \n",
    "![Image Name](https://cdn.kesci.com/upload/image/rjmhfvxydw.jpeg?imageView2/0/w/960/h/960)"
   ]
  },
  {
   "cell_type": "code",
   "execution_count": 29,
   "metadata": {
    "id": "5A0CA7CD65B3492F8868E1A5399F1079",
    "jupyter": {},
    "notebookId": "64031eaf2bed561a3ac511bb",
    "scrolled": false,
    "slideshow": {
     "slide_type": "slide"
    },
    "tags": []
   },
   "outputs": [
    {
     "name": "stdout",
     "output_type": "stream",
     "text": [
      "食物： 684 食物化合物： 3604\n",
      "疾病： 5851 疾病化合物： 11568\n",
      "inferenceScore 非空疾病： 5851 疾病化合物： 11568\n"
     ]
    }
   ],
   "source": [
    "# food_compound_inchikey_new = pd.read_csv('/home/mw/project/inchikey中间表/food_inchikey.csv')\n",
    "# disease_compound_inchikey_new = pd.read_csv('/home/mw/project/inchikey中间表/disease_inchikey.csv')\n",
    "print('食物：', len(set(food_compound_inchikey_new['food_lower'])), '食物化合物：', len(set(food_compound_inchikey_new['cmp_lower'])))\n",
    "print('疾病：', len(set(disease_compound_inchikey_new['disease_lower'])), '疾病化合物：', len(set(disease_compound_inchikey_new['cmp_lower'])))\n",
    "\n",
    "with_score = disease_compound_inchikey_new[disease_compound_inchikey_new['scaler_infer'].isnull()==False]\n",
    "print('inferenceScore 非空疾病：', len(set(with_score['disease_lower'])), '疾病化合物：', len(set(with_score['cmp_lower'])))"
   ]
  },
  {
   "cell_type": "code",
   "execution_count": 30,
   "metadata": {
    "id": "46305F10803A43C0A596CA8E28E59088",
    "jupyter": {},
    "notebookId": "64031eaf2bed561a3ac511bb",
    "scrolled": false,
    "slideshow": {
     "slide_type": "slide"
    },
    "tags": []
   },
   "outputs": [],
   "source": [
    "# Compound-based association table\n",
    "## Food compounds taken on the left, disease compounds on the right\n",
    "left = food_compound_inchikey_new[['cmp_lower','inchikey', 'casrn']].drop_duplicates()\n",
    "right = disease_compound_inchikey_new[['cmp_lower','inchikey', 'casrn']]"
   ]
  },
  {
   "cell_type": "code",
   "execution_count": 31,
   "metadata": {
    "id": "2F495405CEA64DFA814D69719BA84547",
    "jupyter": {},
    "notebookId": "64031eaf2bed561a3ac511bb",
    "scrolled": false,
    "slideshow": {
     "slide_type": "slide"
    },
    "tags": []
   },
   "outputs": [],
   "source": [
    "disease_food_linkbycomp = pd.merge(left, right[['cmp_lower', 'inchikey']].drop_duplicates(), on='inchikey',how='left')\n",
    "disease_food_linkbycomp.loc[disease_food_linkbycomp['casrn'].isnull(), 'casrn']=532\n",
    "disease_food_linkbycomp = pd.merge(disease_food_linkbycomp, right[['cmp_lower','casrn']].drop_duplicates(), on='casrn',how='left')\n",
    "\n",
    "# Merge the two associated cmps\n",
    "disease_food_linkbycomp['disease_cmp'] = disease_food_linkbycomp['cmp_lower_y'] \n",
    "disease_food_linkbycomp.loc[disease_food_linkbycomp['disease_cmp'].isnull(), 'disease_cmp'] = disease_food_linkbycomp['cmp_lower'] \n",
    "disease_food_linkbycomp = disease_food_linkbycomp[~disease_food_linkbycomp['disease_cmp'].isnull()][['cmp_lower_x', 'inchikey', 'casrn','disease_cmp']]"
   ]
  },
  {
   "cell_type": "code",
   "execution_count": 44,
   "metadata": {
    "id": "9E2CE5F58DDF44FA9A9F5115A9EB4395",
    "jupyter": {},
    "notebookId": "64031eaf2bed561a3ac511bb",
    "scrolled": false,
    "slideshow": {
     "slide_type": "slide"
    },
    "tags": []
   },
   "outputs": [
    {
     "data": {
      "text/html": [
       "<div>\n",
       "<style scoped>\n",
       "    .dataframe tbody tr th:only-of-type {\n",
       "        vertical-align: middle;\n",
       "    }\n",
       "\n",
       "    .dataframe tbody tr th {\n",
       "        vertical-align: top;\n",
       "    }\n",
       "\n",
       "    .dataframe thead th {\n",
       "        text-align: right;\n",
       "    }\n",
       "</style>\n",
       "<table border=\"1\" class=\"dataframe\">\n",
       "  <thead>\n",
       "    <tr style=\"text-align: right;\">\n",
       "      <th></th>\n",
       "      <th>cmp_lower</th>\n",
       "      <th>disease_lower</th>\n",
       "      <th>scaler_infer</th>\n",
       "      <th>inchikey</th>\n",
       "      <th>lower</th>\n",
       "      <th>casrn</th>\n",
       "    </tr>\n",
       "  </thead>\n",
       "  <tbody>\n",
       "    <tr>\n",
       "      <th>0</th>\n",
       "      <td>10074-g5</td>\n",
       "      <td>adenocarcinoma</td>\n",
       "      <td>4.08</td>\n",
       "      <td>KMJPYSQOCBYMCF-UHFFFAOYSA-N</td>\n",
       "      <td>10074-g5</td>\n",
       "      <td>413611-93-5</td>\n",
       "    </tr>\n",
       "    <tr>\n",
       "      <th>1</th>\n",
       "      <td>10074-g5</td>\n",
       "      <td>adenocarcinoma of lung</td>\n",
       "      <td>4.30</td>\n",
       "      <td>KMJPYSQOCBYMCF-UHFFFAOYSA-N</td>\n",
       "      <td>10074-g5</td>\n",
       "      <td>413611-93-5</td>\n",
       "    </tr>\n",
       "    <tr>\n",
       "      <th>2</th>\n",
       "      <td>10074-g5</td>\n",
       "      <td>alopecia</td>\n",
       "      <td>4.50</td>\n",
       "      <td>KMJPYSQOCBYMCF-UHFFFAOYSA-N</td>\n",
       "      <td>10074-g5</td>\n",
       "      <td>413611-93-5</td>\n",
       "    </tr>\n",
       "    <tr>\n",
       "      <th>3</th>\n",
       "      <td>10074-g5</td>\n",
       "      <td>androgen-insensitivity syndrome</td>\n",
       "      <td>6.86</td>\n",
       "      <td>KMJPYSQOCBYMCF-UHFFFAOYSA-N</td>\n",
       "      <td>10074-g5</td>\n",
       "      <td>413611-93-5</td>\n",
       "    </tr>\n",
       "    <tr>\n",
       "      <th>4</th>\n",
       "      <td>10074-g5</td>\n",
       "      <td>astrocytoma</td>\n",
       "      <td>4.93</td>\n",
       "      <td>KMJPYSQOCBYMCF-UHFFFAOYSA-N</td>\n",
       "      <td>10074-g5</td>\n",
       "      <td>413611-93-5</td>\n",
       "    </tr>\n",
       "  </tbody>\n",
       "</table>\n",
       "</div>"
      ],
      "text/plain": [
       "  cmp_lower                    disease_lower  scaler_infer  \\\n",
       "0  10074-g5                   adenocarcinoma          4.08   \n",
       "1  10074-g5           adenocarcinoma of lung          4.30   \n",
       "2  10074-g5                         alopecia          4.50   \n",
       "3  10074-g5  androgen-insensitivity syndrome          6.86   \n",
       "4  10074-g5                      astrocytoma          4.93   \n",
       "\n",
       "                      inchikey     lower        casrn  \n",
       "0  KMJPYSQOCBYMCF-UHFFFAOYSA-N  10074-g5  413611-93-5  \n",
       "1  KMJPYSQOCBYMCF-UHFFFAOYSA-N  10074-g5  413611-93-5  \n",
       "2  KMJPYSQOCBYMCF-UHFFFAOYSA-N  10074-g5  413611-93-5  \n",
       "3  KMJPYSQOCBYMCF-UHFFFAOYSA-N  10074-g5  413611-93-5  \n",
       "4  KMJPYSQOCBYMCF-UHFFFAOYSA-N  10074-g5  413611-93-5  "
      ]
     },
     "execution_count": 44,
     "metadata": {},
     "output_type": "execute_result"
    }
   ],
   "source": [
    "disease_compound_inchikey_new.head()"
   ]
  },
  {
   "cell_type": "code",
   "execution_count": 47,
   "metadata": {
    "id": "FA45998ED00F4556A64DF0F5C5D78009",
    "jupyter": {},
    "notebookId": "64031eaf2bed561a3ac511bb",
    "scrolled": false,
    "slideshow": {
     "slide_type": "slide"
    },
    "tags": []
   },
   "outputs": [
    {
     "name": "stdout",
     "output_type": "stream",
     "text": [
      "食物： 684 疾病： 5840\n",
      "化合物种类（食物命名）： 848 化合物种类（疾病命名）： 827\n"
     ]
    },
    {
     "data": {
      "text/html": [
       "<div>\n",
       "<style scoped>\n",
       "    .dataframe tbody tr th:only-of-type {\n",
       "        vertical-align: middle;\n",
       "    }\n",
       "\n",
       "    .dataframe tbody tr th {\n",
       "        vertical-align: top;\n",
       "    }\n",
       "\n",
       "    .dataframe thead th {\n",
       "        text-align: right;\n",
       "    }\n",
       "</style>\n",
       "<table border=\"1\" class=\"dataframe\">\n",
       "  <thead>\n",
       "    <tr style=\"text-align: right;\">\n",
       "      <th></th>\n",
       "      <th>cmp_lower_x</th>\n",
       "      <th>inchikey</th>\n",
       "      <th>casrn</th>\n",
       "      <th>disease_cmp</th>\n",
       "    </tr>\n",
       "  </thead>\n",
       "  <tbody>\n",
       "    <tr>\n",
       "      <th>0</th>\n",
       "      <td>fat</td>\n",
       "      <td>IPCSVZSSVZVIGE-UHFFFAOYSA-N</td>\n",
       "      <td>57-10-3</td>\n",
       "      <td>palmitic acid</td>\n",
       "    </tr>\n",
       "    <tr>\n",
       "      <th>1</th>\n",
       "      <td>fatty acids</td>\n",
       "      <td>FERIUCNNQQJTOY-UHFFFAOYSA-N</td>\n",
       "      <td>67254-79-9</td>\n",
       "      <td>butyric acid</td>\n",
       "    </tr>\n",
       "    <tr>\n",
       "      <th>2</th>\n",
       "      <td>fatty acids</td>\n",
       "      <td>FERIUCNNQQJTOY-UHFFFAOYSA-N</td>\n",
       "      <td>67254-79-9</td>\n",
       "      <td>fatty acids</td>\n",
       "    </tr>\n",
       "    <tr>\n",
       "      <th>3</th>\n",
       "      <td>water</td>\n",
       "      <td>XLYOFNOQVPJJNP-UHFFFAOYSA-N</td>\n",
       "      <td>7732-18-5</td>\n",
       "      <td>water</td>\n",
       "    </tr>\n",
       "    <tr>\n",
       "      <th>4</th>\n",
       "      <td>nitrogen</td>\n",
       "      <td>IJGRMHOSHXDMSA-UHFFFAOYSA-N</td>\n",
       "      <td>7727-37-9</td>\n",
       "      <td>nitrogen</td>\n",
       "    </tr>\n",
       "  </tbody>\n",
       "</table>\n",
       "</div>"
      ],
      "text/plain": [
       "   cmp_lower_x                     inchikey       casrn    disease_cmp\n",
       "0          fat  IPCSVZSSVZVIGE-UHFFFAOYSA-N     57-10-3  palmitic acid\n",
       "1  fatty acids  FERIUCNNQQJTOY-UHFFFAOYSA-N  67254-79-9   butyric acid\n",
       "2  fatty acids  FERIUCNNQQJTOY-UHFFFAOYSA-N  67254-79-9    fatty acids\n",
       "3        water  XLYOFNOQVPJJNP-UHFFFAOYSA-N   7732-18-5          water\n",
       "4     nitrogen  IJGRMHOSHXDMSA-UHFFFAOYSA-N   7727-37-9       nitrogen"
      ]
     },
     "metadata": {},
     "output_type": "display_data"
    }
   ],
   "source": [
    "# View data dimensions\n",
    "food_inner = food_compound_inchikey_new[food_compound_inchikey_new['cmp_lower'].isin(disease_food_linkbycomp['cmp_lower_x'])]\n",
    "disease_inner = disease_compound_inchikey_new[disease_compound_inchikey_new['cmp_lower'].isin(disease_food_linkbycomp['disease_cmp'])]\n",
    "unique_food = set(food_inner['food_lower'])\n",
    "unique_disease = set(disease_inner['disease_lower'])\n",
    "print('食物：', len(unique_food), '疾病：', len(unique_disease))\n",
    "print('化合物种类（食物命名）：', len(set(disease_food_linkbycomp['cmp_lower_x'])), '化合物种类（疾病命名）：', len(set(disease_food_linkbycomp['disease_cmp'])))\n",
    "display(disease_food_linkbycomp.head())"
   ]
  },
  {
   "cell_type": "markdown",
   "metadata": {
    "id": "833CD710C6AF4488ACADEB0C7C9072D4",
    "jupyter": {},
    "notebookId": "64031eaf2bed561a3ac511bb",
    "runtime": {
     "execution_status": null,
     "status": "default"
    },
    "scrolled": false,
    "slideshow": {
     "slide_type": "slide"
    },
    "tags": []
   },
   "source": [
    "                \n",
    "### 1. second classification"
   ]
  },
  {
   "cell_type": "code",
   "execution_count": 48,
   "metadata": {
    "id": "6102C71134EB4A1F97B74037EE044D9B",
    "jupyter": {},
    "notebookId": "64031eaf2bed561a3ac511bb",
    "scrolled": false,
    "slideshow": {
     "slide_type": "slide"
    },
    "tags": []
   },
   "outputs": [
    {
     "name": "stdout",
     "output_type": "stream",
     "text": [
      "食物： 684 疾病： 5840\n",
      "化合物种类（食物命名）： 848 化合物种类（疾病命名）： 827\n"
     ]
    },
    {
     "data": {
      "text/html": [
       "<div>\n",
       "<style scoped>\n",
       "    .dataframe tbody tr th:only-of-type {\n",
       "        vertical-align: middle;\n",
       "    }\n",
       "\n",
       "    .dataframe tbody tr th {\n",
       "        vertical-align: top;\n",
       "    }\n",
       "\n",
       "    .dataframe thead th {\n",
       "        text-align: right;\n",
       "    }\n",
       "</style>\n",
       "<table border=\"1\" class=\"dataframe\">\n",
       "  <thead>\n",
       "    <tr style=\"text-align: right;\">\n",
       "      <th></th>\n",
       "      <th>cmp_lower_x</th>\n",
       "      <th>inchikey</th>\n",
       "      <th>casrn</th>\n",
       "      <th>disease_cmp</th>\n",
       "    </tr>\n",
       "  </thead>\n",
       "  <tbody>\n",
       "    <tr>\n",
       "      <th>0</th>\n",
       "      <td>fat</td>\n",
       "      <td>IPCSVZSSVZVIGE-UHFFFAOYSA-N</td>\n",
       "      <td>57-10-3</td>\n",
       "      <td>palmitic acid</td>\n",
       "    </tr>\n",
       "    <tr>\n",
       "      <th>1</th>\n",
       "      <td>fatty acids</td>\n",
       "      <td>FERIUCNNQQJTOY-UHFFFAOYSA-N</td>\n",
       "      <td>67254-79-9</td>\n",
       "      <td>butyric acid</td>\n",
       "    </tr>\n",
       "    <tr>\n",
       "      <th>2</th>\n",
       "      <td>fatty acids</td>\n",
       "      <td>FERIUCNNQQJTOY-UHFFFAOYSA-N</td>\n",
       "      <td>67254-79-9</td>\n",
       "      <td>fatty acids</td>\n",
       "    </tr>\n",
       "    <tr>\n",
       "      <th>3</th>\n",
       "      <td>water</td>\n",
       "      <td>XLYOFNOQVPJJNP-UHFFFAOYSA-N</td>\n",
       "      <td>7732-18-5</td>\n",
       "      <td>water</td>\n",
       "    </tr>\n",
       "    <tr>\n",
       "      <th>4</th>\n",
       "      <td>nitrogen</td>\n",
       "      <td>IJGRMHOSHXDMSA-UHFFFAOYSA-N</td>\n",
       "      <td>7727-37-9</td>\n",
       "      <td>nitrogen</td>\n",
       "    </tr>\n",
       "  </tbody>\n",
       "</table>\n",
       "</div>"
      ],
      "text/plain": [
       "   cmp_lower_x                     inchikey       casrn    disease_cmp\n",
       "0          fat  IPCSVZSSVZVIGE-UHFFFAOYSA-N     57-10-3  palmitic acid\n",
       "1  fatty acids  FERIUCNNQQJTOY-UHFFFAOYSA-N  67254-79-9   butyric acid\n",
       "2  fatty acids  FERIUCNNQQJTOY-UHFFFAOYSA-N  67254-79-9    fatty acids\n",
       "3        water  XLYOFNOQVPJJNP-UHFFFAOYSA-N   7732-18-5          water\n",
       "4     nitrogen  IJGRMHOSHXDMSA-UHFFFAOYSA-N   7727-37-9       nitrogen"
      ]
     },
     "metadata": {},
     "output_type": "display_data"
    }
   ],
   "source": [
    "# View data dimensions\n",
    "food_inner = food_compound_inchikey_new[food_compound_inchikey_new['cmp_lower'].isin(disease_food_linkbycomp['cmp_lower_x'])]\n",
    "disease_inner = disease_compound_inchikey_new[disease_compound_inchikey_new['cmp_lower'].isin(disease_food_linkbycomp['disease_cmp'])]\n",
    "unique_food = set(food_inner['food_lower'])\n",
    "unique_disease = set(disease_inner['disease_lower'])\n",
    "print('食物：', len(unique_food), '疾病：', len(unique_disease))\n",
    "print('化合物种类（食物命名）：', len(set(disease_food_linkbycomp['cmp_lower_x'])), '化合物种类（疾病命名）：', len(set(disease_food_linkbycomp['disease_cmp'])))\n",
    "display(disease_food_linkbycomp.head())"
   ]
  },
  {
   "cell_type": "code",
   "execution_count": 51,
   "metadata": {
    "id": "A24DED66CCA24FD5B938B1A3C1CBBFE1",
    "jupyter": {},
    "notebookId": "64031eaf2bed561a3ac511bb",
    "scrolled": false,
    "slideshow": {
     "slide_type": "slide"
    },
    "tags": []
   },
   "outputs": [
    {
     "name": "stderr",
     "output_type": "stream",
     "text": [
      "100%|██████████| 684/684 [01:04<00:00, 10.68it/s]\n"
     ]
    },
    {
     "name": "stdout",
     "output_type": "stream",
     "text": [
      "valid=0：存在的匹配关系：3207298.0, 稀疏度=19.71%\n"
     ]
    },
    {
     "data": {
      "text/plain": [
       "<matplotlib.axes._subplots.AxesSubplot at 0x7ff1e49a8e10>"
      ]
     },
     "execution_count": 51,
     "metadata": {},
     "output_type": "execute_result"
    },
    {
     "data": {
      "text/html": [
       "<img src=\"https://cdn.kesci.com/upload/rt/A42F9DE36F82413D8A12F69D5E2F1F3E/rqzompfxcl.png\">"
      ],
      "text/plain": [
       "<Figure size 432x288 with 1 Axes>"
      ]
     },
     "metadata": {
      "needs_background": "light"
     },
     "output_type": "display_data"
    }
   ],
   "source": [
    "# Build relationship matrices, view sparsity\n",
    "disease_food_incom = pd.DataFrame(\n",
    "    np.zeros((len(unique_food), len(unique_disease))),\n",
    "    index = unique_food,\n",
    "    columns = unique_disease)\n",
    "    \n",
    "for food in tqdm(disease_food_incom.index):\n",
    "    food_cmp = food_inner[(food_inner['food_lower']==food) & (food_inner['scaler']>valid)]\n",
    "    disease_cmp = list(set(food_cmp.merge(disease_inner, on='inchikey')['disease_lower']))\n",
    "    disease_food_incom.loc[food,disease_cmp] = 1\n",
    "\n",
    "sizes = disease_food_incom.shape[0]*disease_food_incom.shape[1]\n",
    "rea_num = np.sum(np.sum(disease_food_incom))\n",
    "print(f'valid={valid}：存在的匹配关系：{rea_num}, 稀疏度={round((1-rea_num/sizes)*100, 2)}%')\n",
    "# Check the fetch\n",
    "sparse_check = disease_food_incom.copy()\n",
    "sparse_check.loc[\"sum\"] =sparse_check.apply(lambda x:x.sum()) \n",
    "df_summary = sparse_check.T[1:]\n",
    "df_summary['rate'] = (df_summary['sum']/len(unique_food)).apply(lambda x: round(x, 2))\n",
    "sns.distplot(a=df_summary['rate'], kde=True)"
   ]
  },
  {
   "cell_type": "code",
   "execution_count": 32,
   "metadata": {
    "id": "64845BABD47E4865A3B2F868223F9461",
    "jupyter": {},
    "notebookId": "64031eaf2bed561a3ac511bb",
    "scrolled": false,
    "slideshow": {
     "slide_type": "slide"
    },
    "tags": []
   },
   "outputs": [
    {
     "data": {
      "text/plain": [
       "<matplotlib.axes._subplots.AxesSubplot at 0x7f780aef3198>"
      ]
     },
     "execution_count": 32,
     "metadata": {},
     "output_type": "execute_result"
    },
    {
     "data": {
      "text/html": [
       "<img src=\"https://cdn.kesci.com/upload/rt/03778F9574EE48A7805C58E02792725A/ros2jsfan8.png\">"
      ],
      "text/plain": [
       "<Figure size 432x288 with 1 Axes>"
      ]
     },
     "metadata": {
      "needs_background": "light"
     },
     "output_type": "display_data"
    }
   ],
   "source": [
    "# Check the fetch\n",
    "sparse_check_T = disease_food_incom.copy().T\n",
    "sparse_check_T.loc[\"sum\"] =sparse_check_T.apply(lambda x:x.sum()) \n",
    "df_summary_T = sparse_check_T.T[1:]\n",
    "df_summary_T['rate'] = (df_summary_T['sum']/len(unique_food)).apply(lambda x: round(x, 2))\n",
    "sns.distplot(a=df_summary_T['rate'], kde=True)"
   ]
  },
  {
   "cell_type": "code",
   "execution_count": 33,
   "metadata": {
    "id": "4193F2A7748E42C5976D8BA092CC5258",
    "jupyter": {},
    "notebookId": "64031eaf2bed561a3ac511bb",
    "scrolled": false,
    "slideshow": {
     "slide_type": "slide"
    },
    "tags": []
   },
   "outputs": [
    {
     "name": "stdout",
     "output_type": "stream",
     "text": [
      "1 684\n"
     ]
    }
   ],
   "source": [
    "cc = sparse_check_T.T\n",
    "print(len(cc[cc['sum']==0]), len(cc))"
   ]
  },
  {
   "cell_type": "code",
   "execution_count": 34,
   "metadata": {
    "id": "048FF7B6D89249E1A18211398A82BF15",
    "jupyter": {},
    "notebookId": "64031eaf2bed561a3ac511bb",
    "scrolled": false,
    "slideshow": {
     "slide_type": "slide"
    },
    "tags": []
   },
   "outputs": [],
   "source": [
    "# disease_food_incom.to_csv('/home/mw/project/特征中间表/original_food_disease.csv')"
   ]
  },
  {
   "cell_type": "markdown",
   "metadata": {
    "id": "DB2EBB5183AB4B47BFDBEC27CE1B97A7",
    "jupyter": {},
    "notebookId": "64031eaf2bed561a3ac511bb",
    "runtime": {
     "execution_status": null,
     "status": "default"
    },
    "scrolled": false,
    "slideshow": {
     "slide_type": "slide"
    },
    "tags": []
   },
   "source": [
    "### 2. quantification"
   ]
  },
  {
   "cell_type": "code",
   "execution_count": 35,
   "metadata": {
    "id": "6997F9405AD14878A2DDF24F039DD281",
    "jupyter": {},
    "notebookId": "64031eaf2bed561a3ac511bb",
    "scrolled": false,
    "slideshow": {
     "slide_type": "slide"
    },
    "tags": []
   },
   "outputs": [],
   "source": [
    "disease_food_infer = pd.DataFrame(\n",
    "    np.zeros((len(unique_food), len(unique_disease))),\n",
    "    index = unique_food,\n",
    "    columns = unique_disease)"
   ]
  },
  {
   "cell_type": "code",
   "execution_count": 36,
   "metadata": {
    "id": "523345AFBB76431EBA44C7FEB7A7DC4E",
    "jupyter": {},
    "notebookId": "64031eaf2bed561a3ac511bb",
    "scrolled": false,
    "slideshow": {
     "slide_type": "slide"
    },
    "tags": []
   },
   "outputs": [
    {
     "name": "stdout",
     "output_type": "stream",
     "text": [
      "3994560 (684, 5840) 3994560\n"
     ]
    }
   ],
   "source": [
    "print(np.sum(np.sum(disease_food_infer==0)),disease_food_infer.shape, 684*5840)"
   ]
  },
  {
   "cell_type": "code",
   "execution_count": 37,
   "metadata": {
    "id": "C5A3585AAAC74CA89096D48B201CB986",
    "jupyter": {},
    "notebookId": "64031eaf2bed561a3ac511bb",
    "scrolled": true,
    "slideshow": {
     "slide_type": "slide"
    },
    "tags": []
   },
   "outputs": [
    {
     "name": "stderr",
     "output_type": "stream",
     "text": [
      "\r",
      "  0%|          | 0/684 [00:00<?, ?it/s]"
     ]
    },
    {
     "data": {
      "text/html": [
       "<div>\n",
       "<style scoped>\n",
       "    .dataframe tbody tr th:only-of-type {\n",
       "        vertical-align: middle;\n",
       "    }\n",
       "\n",
       "    .dataframe tbody tr th {\n",
       "        vertical-align: top;\n",
       "    }\n",
       "\n",
       "    .dataframe thead th {\n",
       "        text-align: right;\n",
       "    }\n",
       "</style>\n",
       "<table border=\"1\" class=\"dataframe\">\n",
       "  <thead>\n",
       "    <tr style=\"text-align: right;\">\n",
       "      <th></th>\n",
       "      <th>food_lower</th>\n",
       "      <th>cmp_lower</th>\n",
       "      <th>scaler</th>\n",
       "      <th>inchikey</th>\n",
       "      <th>source</th>\n",
       "      <th>lower</th>\n",
       "      <th>casrn</th>\n",
       "    </tr>\n",
       "  </thead>\n",
       "  <tbody>\n",
       "    <tr>\n",
       "      <th>7488</th>\n",
       "      <td>date</td>\n",
       "      <td>fat</td>\n",
       "      <td>0.014457</td>\n",
       "      <td>IPCSVZSSVZVIGE-UHFFFAOYSA-N</td>\n",
       "      <td>pubchemAPI</td>\n",
       "      <td>fat</td>\n",
       "      <td>57-10-3</td>\n",
       "    </tr>\n",
       "    <tr>\n",
       "      <th>7489</th>\n",
       "      <td>date</td>\n",
       "      <td>fatty acids</td>\n",
       "      <td>0.011155</td>\n",
       "      <td>FERIUCNNQQJTOY-UHFFFAOYSA-N</td>\n",
       "      <td>pubchemAPI</td>\n",
       "      <td>fatty acids</td>\n",
       "      <td>67254-79-9</td>\n",
       "    </tr>\n",
       "    <tr>\n",
       "      <th>7492</th>\n",
       "      <td>date</td>\n",
       "      <td>sugars</td>\n",
       "      <td>0.751173</td>\n",
       "      <td>CZMRCDWAGMRECN-UGDNZRGBSA-N</td>\n",
       "      <td>fdb</td>\n",
       "      <td>sugars</td>\n",
       "      <td>57-50-1</td>\n",
       "    </tr>\n",
       "    <tr>\n",
       "      <th>7493</th>\n",
       "      <td>date</td>\n",
       "      <td>starch</td>\n",
       "      <td>0.290137</td>\n",
       "      <td>WQZGKKKJIJFFOK-UHFFFAOYSA-N</td>\n",
       "      <td>fdb</td>\n",
       "      <td>starch</td>\n",
       "      <td>9005-25-8</td>\n",
       "    </tr>\n",
       "    <tr>\n",
       "      <th>7494</th>\n",
       "      <td>date</td>\n",
       "      <td>sucrose</td>\n",
       "      <td>0.413104</td>\n",
       "      <td>CZMRCDWAGMRECN-UHFFFAOYSA-N</td>\n",
       "      <td>fdb</td>\n",
       "      <td>sucrose</td>\n",
       "      <td>57-50-1</td>\n",
       "    </tr>\n",
       "  </tbody>\n",
       "</table>\n",
       "</div>"
      ],
      "text/plain": [
       "     food_lower    cmp_lower    scaler                     inchikey  \\\n",
       "7488       date          fat  0.014457  IPCSVZSSVZVIGE-UHFFFAOYSA-N   \n",
       "7489       date  fatty acids  0.011155  FERIUCNNQQJTOY-UHFFFAOYSA-N   \n",
       "7492       date       sugars  0.751173  CZMRCDWAGMRECN-UGDNZRGBSA-N   \n",
       "7493       date       starch  0.290137  WQZGKKKJIJFFOK-UHFFFAOYSA-N   \n",
       "7494       date      sucrose  0.413104  CZMRCDWAGMRECN-UHFFFAOYSA-N   \n",
       "\n",
       "          source        lower       casrn  \n",
       "7488  pubchemAPI          fat     57-10-3  \n",
       "7489  pubchemAPI  fatty acids  67254-79-9  \n",
       "7492         fdb       sugars     57-50-1  \n",
       "7493         fdb       starch   9005-25-8  \n",
       "7494         fdb      sucrose     57-50-1  "
      ]
     },
     "metadata": {},
     "output_type": "display_data"
    },
    {
     "name": "stderr",
     "output_type": "stream",
     "text": [
      "  0%|          | 0/684 [00:00<?, ?it/s]\n"
     ]
    }
   ],
   "source": [
    "for food in tqdm(disease_food_infer.index):\n",
    "    food_cmp = food_inner[food_inner['food_lower']==food]\n",
    "    display(food_cmp.head())\n",
    "    # disease_cmp = list(set(food_cmp.merge(disease_inner, on='inchikey')['disease_lower']))\n",
    "    # disease_food_infer.loc[food,disease_cmp] = 1\n",
    "    break"
   ]
  },
  {
   "cell_type": "code",
   "execution_count": 39,
   "metadata": {
    "id": "B8DF23186BD04879A3D0966F62EE0AC7",
    "jupyter": {},
    "notebookId": "64031eaf2bed561a3ac511bb",
    "scrolled": false,
    "slideshow": {
     "slide_type": "slide"
    },
    "tags": []
   },
   "outputs": [],
   "source": [
    "disease_food_linkbycomp = pd.merge(food_inner[['food_lower', 'cmp_lower','scaler']], disease_food_linkbycomp,left_on='cmp_lower',right_on='cmp_lower_x',how='inner')"
   ]
  },
  {
   "cell_type": "code",
   "execution_count": 40,
   "metadata": {
    "id": "7D8344B097444A21BE91E873596EC7A5",
    "jupyter": {},
    "notebookId": "64031eaf2bed561a3ac511bb",
    "scrolled": true,
    "slideshow": {
     "slide_type": "slide"
    },
    "tags": []
   },
   "outputs": [
    {
     "name": "stdout",
     "output_type": "stream",
     "text": [
      "(26115705, 7)\n",
      "食物： 684 疾病： 5840\n",
      "化合物种类（食物命名）： 848 化合物种类（疾病命名）： 827\n"
     ]
    }
   ],
   "source": [
    "disease_food_linkbyinfer = pd.merge(\n",
    "    disease_food_linkbycomp[['food_lower', 'cmp_lower_x', 'scaler','disease_cmp']].drop_duplicates(), \n",
    "    with_score[['cmp_lower', 'disease_lower', 'scaler_infer']].drop_duplicates(), left_on='disease_cmp', right_on='cmp_lower',how='inner')\n",
    "unique_food = set(disease_food_linkbyinfer['food_lower'])\n",
    "unique_disease = set(disease_food_linkbyinfer['disease_lower'])\n",
    "print(disease_food_linkbyinfer.shape)\n",
    "print('食物：', len(unique_food), '疾病：', len(unique_disease))\n",
    "print('化合物种类（食物命名）：', len(set(disease_food_linkbyinfer['cmp_lower_x'])), '化合物种类（疾病命名）：', len(set(disease_food_linkbyinfer['disease_cmp'])))"
   ]
  },
  {
   "cell_type": "code",
   "execution_count": 41,
   "metadata": {
    "id": "0D301500AFAD4A8FB263C261CECBAD6B",
    "jupyter": {},
    "notebookId": "64031eaf2bed561a3ac511bb",
    "scrolled": false,
    "slideshow": {
     "slide_type": "slide"
    },
    "tags": []
   },
   "outputs": [
    {
     "data": {
      "text/plain": [
       "(26115705, 7)"
      ]
     },
     "execution_count": 41,
     "metadata": {},
     "output_type": "execute_result"
    }
   ],
   "source": [
    "disease_food_linkbyinfer.shape"
   ]
  },
  {
   "cell_type": "code",
   "execution_count": 42,
   "metadata": {
    "id": "C0DE21DC965B46D991378A542A298CC2",
    "jupyter": {},
    "notebookId": "64031eaf2bed561a3ac511bb",
    "scrolled": false,
    "slideshow": {
     "slide_type": "slide"
    },
    "tags": []
   },
   "outputs": [
    {
     "name": "stdout",
     "output_type": "stream",
     "text": [
      "存在的匹配关系：3236956, 稀疏度=18.97%\n"
     ]
    }
   ],
   "source": [
    "# Calculate relationship matrix scores\n",
    "disease_food_linkbyinfer['values'] = disease_food_linkbyinfer['scaler']*disease_food_linkbyinfer['scaler_infer']\n",
    "disease_food_infermatrix = disease_food_linkbyinfer.groupby(['food_lower', 'disease_lower'])['values'].agg('sum').reset_index()\n",
    "disease_food_infer = disease_food_infermatrix.pivot(index = 'food_lower', columns = 'disease_lower', values = 'values')\n",
    "nullV = np.sum(np.sum(disease_food_infer.isnull()))\n",
    "disease_food_infer[disease_food_infer.isnull()]=0\n",
    "temp_relation_infer = disease_food_linkbyinfer[['food_lower', 'disease_lower']].drop_duplicates()\n",
    "\n",
    "sizes = disease_food_infer.shape[0]*disease_food_infer.shape[1]\n",
    "print(f'存在的匹配关系：{temp_relation_infer.shape[0]}, 稀疏度={round((nullV/sizes)*100, 2)}%')"
   ]
  },
  {
   "cell_type": "code",
   "execution_count": 43,
   "metadata": {
    "id": "EF8247FF22704D21AC9A1FAC7460D729",
    "jupyter": {},
    "notebookId": "64031eaf2bed561a3ac511bb",
    "scrolled": false,
    "slideshow": {
     "slide_type": "slide"
    },
    "tags": []
   },
   "outputs": [
    {
     "name": "stdout",
     "output_type": "stream",
     "text": [
      "矩阵1:0的比例 4.272622636628107\n"
     ]
    }
   ],
   "source": [
    "print(\"矩阵1:0的比例\",np.sum(np.sum((disease_food_infer != 0).astype(int)))/np.sum(np.sum((disease_food_infer == 0).astype(int))))"
   ]
  },
  {
   "cell_type": "code",
   "execution_count": 44,
   "metadata": {
    "id": "F0C5F99FC82C4E938E58816C1FF501C3",
    "jupyter": {},
    "notebookId": "64031eaf2bed561a3ac511bb",
    "scrolled": false,
    "slideshow": {
     "slide_type": "slide"
    },
    "tags": []
   },
   "outputs": [
    {
     "data": {
      "text/html": [
       "<img src=\"https://cdn.kesci.com/upload/rt/FE3D98A0928E4E43841C3A2F375117AD/ros2kw1mpr.png\">"
      ],
      "text/plain": [
       "<Figure size 432x288 with 1 Axes>"
      ]
     },
     "metadata": {
      "needs_background": "light"
     },
     "output_type": "display_data"
    }
   ],
   "source": [
    "# com for scaling, inference not processed\n",
    "import matplotlib.pyplot as plt\n",
    "plt.boxplot(np.array(disease_food_infer).reshape(-1,))\n",
    "np.median(list(np.array(disease_food_infer).reshape(-1,)))\n",
    "np.percentile(list(np.array(disease_food_infer).reshape(-1,)), (25, 50, 99), interpolation='midpoint')\n",
    "# Observe the matrix and find that the larger ones are very large and the smaller ones are more concentrated. Add 0.001 to the resulting matrix, then do the log process, then do the min_max scaling process, and finally change the value of 0.01 back to 0min_max_scaler = preprocessing.MinMaxScaler()\n",
    "map_values = np.log(np.array(list(np.array(disease_food_infer).reshape(-1,)))+0.001)\n",
    "inference_score = np.array(min_max_scaler.fit_transform(map_values.reshape([len(map_values),1]))).reshape([1,len(map_values)])\n",
    "scaler_infer_com = 0.01 + np.array(list(inference_score[0]))*0.99 "
   ]
  },
  {
   "cell_type": "code",
   "execution_count": 45,
   "metadata": {
    "id": "AA0646A68FEB48A5984A7DD1E8FACA4F",
    "jupyter": {},
    "notebookId": "64031eaf2bed561a3ac511bb",
    "scrolled": false,
    "slideshow": {
     "slide_type": "slide"
    },
    "tags": []
   },
   "outputs": [
    {
     "name": "stdout",
     "output_type": "stream",
     "text": [
      "原来四分位点和99分位点： [ 0.07489121  0.45278261  1.7069667  49.11030997]\n",
      "进行log处理后的四分位点： [-2.57845435 -0.79013703  0.5353036   3.89408935]\n",
      "进行缩放后对四分位点和99分位点 [0.30188784 0.42245883 0.51182199 0.73827627]\n",
      "最终的最小值 0.01\n"
     ]
    }
   ],
   "source": [
    "print(\"原来四分位点和99分位点：\",np.percentile(list(np.array(disease_food_infer).reshape(-1,)), (25, 50, 75,99), interpolation='midpoint'))\n",
    "print(\"进行log处理后的四分位点：\", np.percentile(map_values, (25, 50, 75,99), interpolation='midpoint'))\n",
    "print(\"进行缩放后对四分位点和99分位点\",np.percentile(scaler_infer_com, (25, 50, 75,99), interpolation='midpoint'))\n",
    "print(\"最终的最小值\",scaler_infer_com.min())"
   ]
  },
  {
   "cell_type": "code",
   "execution_count": 47,
   "metadata": {
    "id": "9AE8B1901907410CAD6A0FE880744CEC",
    "jupyter": {},
    "notebookId": "64031eaf2bed561a3ac511bb",
    "scrolled": false,
    "slideshow": {
     "slide_type": "slide"
    },
    "tags": []
   },
   "outputs": [
    {
     "data": {
      "text/plain": [
       "(684, 5840)"
      ]
     },
     "execution_count": 47,
     "metadata": {},
     "output_type": "execute_result"
    }
   ],
   "source": [
    "disease_food_infer.shape"
   ]
  },
  {
   "cell_type": "code",
   "execution_count": 49,
   "metadata": {
    "id": "DA96151F15C24C079D4C269EABCB052D",
    "jupyter": {},
    "notebookId": "64031eaf2bed561a3ac511bb",
    "scrolled": false,
    "slideshow": {
     "slide_type": "slide"
    },
    "tags": []
   },
   "outputs": [],
   "source": [
    "# disease_food_infer.to_csv('disease_food_infer_4.csv')"
   ]
  },
  {
   "cell_type": "code",
   "execution_count": null,
   "metadata": {
    "id": "F7A7945F849047238ED90953A111AC7E",
    "jupyter": {},
    "notebookId": "64031eaf2bed561a3ac511bb",
    "scrolled": false,
    "slideshow": {
     "slide_type": "slide"
    },
    "tags": []
   },
   "outputs": [],
   "source": []
  }
 ],
 "metadata": {
  "kernelspec": {
   "display_name": "Python 3 (ipykernel)",
   "language": "python",
   "name": "python3"
  },
  "language_info": {
   "codemirror_mode": {
    "name": "ipython",
    "version": 3
   },
   "file_extension": ".py",
   "mimetype": "text/x-python",
   "name": "python",
   "nbconvert_exporter": "python",
   "pygments_lexer": "ipython3",
   "version": "3.9.16"
  }
 },
 "nbformat": 4,
 "nbformat_minor": 1
}
