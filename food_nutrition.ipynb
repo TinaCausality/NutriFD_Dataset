{
 "cells": [
  {
   "cell_type": "markdown",
   "metadata": {
    "id": "D0CEAF1C95C44F1CBB69C17778B668F5",
    "jupyter": {},
    "mdEditEnable": false,
    "notebookId": "6402e649ef4a4bdccd89db2f",
    "runtime": {
     "execution_status": null,
     "status": "default"
    },
    "scrolled": false,
    "slideshow": {
     "slide_type": "slide"
    },
    "tags": []
   },
   "source": [
    "## Food - Nutrients            \n",
    "            \n",
    "Mounted knowledge base data sources: **source Food and nutrients**, see notebook **\"Data source validation \"** for details            \n",
    "            \n",
    "            \n",
    "- Merge food data from foundation, SR legacy and Survey sources            \n",
    "- Removing conflicting data"
   ]
  },
  {
   "cell_type": "code",
   "execution_count": 1,
   "metadata": {
    "id": "885D18389F8B4FACA99CAED1639DF4A2",
    "jupyter": {},
    "notebookId": "6402e649ef4a4bdccd89db2f",
    "scrolled": false,
    "slideshow": {
     "slide_type": "slide"
    },
    "tags": []
   },
   "outputs": [],
   "source": [
    "import numpy as np\n",
    "import pandas as pd\n",
    "import pickle as pkl\n",
    "import random\n",
    "import re\n",
    "import seaborn as sns\n",
    "import matplotlib.pyplot as plt\n",
    "from sklearn import preprocessing\n",
    "# from codes.utils import name_similar"
   ]
  },
  {
   "cell_type": "code",
   "execution_count": 2,
   "metadata": {},
   "outputs": [],
   "source": [
    "food_found = pd.read_csv('../data/Foundation_food.csv')"
   ]
  },
  {
   "cell_type": "markdown",
   "metadata": {
    "id": "722C7BA0532E444F9FBB025E7796652F",
    "jupyter": {},
    "notebookId": "6402e649ef4a4bdccd89db2f",
    "runtime": {
     "execution_status": null,
     "status": "default"
    },
    "scrolled": false,
    "slideshow": {
     "slide_type": "slide"
    },
    "tags": []
   },
   "source": [
    "### Read the data source"
   ]
  },
  {
   "cell_type": "code",
   "execution_count": 2,
   "metadata": {
    "id": "719691D5267546C9A54B12452E02791D",
    "jupyter": {},
    "notebookId": "6402e649ef4a4bdccd89db2f",
    "scrolled": false,
    "slideshow": {
     "slide_type": "slide"
    },
    "tags": []
   },
   "outputs": [
    {
     "name": "stdout",
     "output_type": "stream",
     "text": [
      "View data source: foundation foods ----------------------\n",
      "food(43446, 5), food_nurtrition(122720, 11)\n",
      "\n",
      "View data source: SR Legacy -----------------------------\n"
     ]
    },
    {
     "name": "stderr",
     "output_type": "stream",
     "text": [
      "/opt/conda/lib/python3.6/site-packages/IPython/core/interactiveshell.py:3020: DtypeWarning: Columns (9) have mixed types. Specify dtype option on import or set low_memory=False.\n",
      "  interactivity=interactivity, compiler=compiler, result=result)\n"
     ]
    },
    {
     "name": "stdout",
     "output_type": "stream",
     "text": [
      "food(7793, 5), food_nurtrition(644125, 11)\n",
      "\n",
      "View data source: survey --------------------------------\n",
      "food(7083, 5), food_nurtrition(460395, 11)\n",
      "View data source: supporting data -----------------------\n",
      "nurtrition (474, 5)\n"
     ]
    }
   ],
   "source": [
    "print('View data source: foundation foods ----------------------')\n",
    "food_found = pd.read_csv('../data/Foundation_food.csv') # 源文件 food.csv\n",
    "food_nutrition_found = pd.read_csv('../data/Foundation_food_nutrition.csv') # 源文件 food_nutrition.csv\n",
    "print(f\"food{food_found.shape}, food_nurtrition{food_nutrition_found.shape}\")\n",
    "\n",
    "print('\\nView data source: SR Legacy -----------------------------')\n",
    "food_sr = pd.read_csv('../data/SR_food.csv') # 源文件 food.csv\n",
    "food_nutrition_sr = pd.read_csv('../data/SR_food_nutrient.csv') # 源文件 food_nutrition.csv\n",
    "print(f\"food{food_sr.shape}, food_nurtrition{food_nutrition_sr.shape}\")\n",
    "\n",
    "\n",
    "print('\\nView data source: survey --------------------------------')\n",
    "food_survey = pd.read_csv('../data/Survey_food.csv')\n",
    "food_nutrition_survey = pd.read_csv('../data/Survey_food_nutrient.csv')\n",
    "print(f\"food{food_survey.shape}, food_nurtrition{food_nutrition_survey.shape}\")\n",
    "\n",
    "\n",
    "print('View data source: supporting data -----------------------')\n",
    "nutrition = pd.read_csv('../data/nutrient.csv') # nutrient.csv\n",
    "print(f\"nurtrition {nutrition.shape}\")"
   ]
  },
  {
   "cell_type": "code",
   "execution_count": 3,
   "metadata": {
    "id": "93D64066DE08476B916249609494B061",
    "jupyter": {},
    "notebookId": "6402e649ef4a4bdccd89db2f",
    "scrolled": false,
    "slideshow": {
     "slide_type": "slide"
    },
    "tags": []
   },
   "outputs": [],
   "source": [
    "\n",
    "# food_nutrition_found"
   ]
  },
  {
   "cell_type": "markdown",
   "metadata": {
    "id": "58AF4E177CAC42998215F6A49C1A0640",
    "jupyter": {},
    "notebookId": "6402e649ef4a4bdccd89db2f",
    "runtime": {
     "execution_status": null,
     "status": "default"
    },
    "scrolled": false,
    "slideshow": {
     "slide_type": "slide"
    },
    "tags": []
   },
   "source": [
    "### Food Matching Nutrients & Homologous De-duplication            \n",
    "            \n",
    "1. food matching nutrients: food association food_nurtrition association nurtrition            \n",
    "            \n",
    "2. same-source de-duplication: there is a lot of duplication of nutrients for each food, same data source (sr, foundation, survey) with data_type under:            \n",
    "- Only the most recent record is retained            \n",
    "- If there are still duplicates in the most recent record, keep the median"
   ]
  },
  {
   "cell_type": "code",
   "execution_count": 4,
   "metadata": {
    "hide_input": false,
    "id": "AD4370FF4E564FEA946F98536E41095A",
    "jupyter": {},
    "notebookId": "6402e649ef4a4bdccd89db2f",
    "scrolled": false,
    "slideshow": {
     "slide_type": "slide"
    },
    "tags": []
   },
   "outputs": [],
   "source": [
    "def merge_food_nurtrition_info(food, food_nur, nur, df_name, drop = True):\n",
    "    temp = pd.merge(food, food_nur, on='fdc_id',how='right')\n",
    "    final_df = pd.merge(temp, nur,left_on='nutrient_id',right_on='id',how='left')[['fdc_id', 'data_type', 'publication_date','description','name','amount']]\n",
    "    final_df['description'] = final_df['description'].apply(lambda x: str(x).lower())\n",
    "    final_df['name'] = final_df['name'].apply(lambda x: str(x).lower())\n",
    "    \n",
    "    if drop:\n",
    "        print(f'----------------Intermediate table based on {df_name}: \\n 1. After food and nutrient association shape = {final_df.shape}')\n",
    "        drop_duli = drop_duplicate_food(final_df)\n",
    "        drop_duli['source'] = df_name\n",
    "        print(f\"2. After de-duplication based on the same data source and data_type shape = {drop_duli.shape}\")\n",
    "        display(drop_duli.head())\n",
    "        return drop_duli\n",
    "    else:\n",
    "        return final_df\n",
    "\n",
    "def drop_duplicate_food(food_data):\n",
    "    # There is a lot of duplication of nutrients for each food and they correspond to different fdc_id (fdc_id is randomly assigned when a new version of the food appears)\n",
    "    # 1. Only the most up-to-date nutrient records at the time of retention\n",
    "    keys = food_data[['fdc_id', 'description', 'name', 'data_type', 'publication_date']]\n",
    "    latest = keys.groupby(['description', 'name', 'data_type'], as_index = False)['publication_date'].max()\n",
    "    latest_data = latest.merge(food_data, on = ['description', 'name', 'data_type', 'publication_date'], how='left')\n",
    "\n",
    "    # 2. If multiple records exist for the latest time, the median is retained\n",
    "    result = latest_data.groupby(['description', 'data_type', 'name']).agg({\n",
    "        'fdc_id':['count'], \n",
    "        'amount':['median', 'min', 'max', 'var']}).reset_index()\n",
    "    result.columns = ['description', 'data_type', 'name', 'fdc_id_count', 'median', 'min', 'max', 'var']\n",
    "    result = result.sort_values('fdc_id_count', ascending = False)\n",
    "    dupli = result[result['fdc_id_count']>1].reset_index().drop(columns=['index'])\n",
    "    print(f'Duplicate and conflicting records under the same data_source {len(dupli)}')\n",
    "    return result\n",
    "\n",
    "def show_sample(food, food_nur, nur, summarised, k=0):\n",
    "    found_dupli = summarised[summarised['fdc_id_count']>k].reset_index().drop(columns=['index'])\n",
    "    found_dupli_demo = found_dupli.groupby(['description', 'name'], as_index = False)['var'].agg(['count', 'max'])\n",
    "    found_dupli_demo = found_dupli_demo[found_dupli_demo['count']>1].sort_values(['description', 'max'], ascending = False).reset_index()[0:5] # 波动最大的前五\n",
    "\n",
    "    # Get the full amount of data before de-duplication\n",
    "    found_full = merge_food_nurtrition_info(food, food_nur, nur, '-', False) # base on foundation\n",
    "    found_demo = found_full.merge(found_dupli_demo[['description', 'name']], on = ['description', 'name'], how = 'right')\n",
    "    found_type = list(set(found_demo['data_type']))\n",
    "\n",
    "    fig = plt.figure(figsize=(16,5), dpi = 60)\n",
    "    for i in range(len(found_type)):\n",
    "        ax1 = plt.subplot(121+i)\n",
    "        sns.boxplot(x='name', y='amount', data=found_demo[found_demo['data_type']==found_type[i]])\n"
   ]
  },
  {
   "cell_type": "code",
   "execution_count": 10,
   "metadata": {
    "id": "D861A912465746F7B8395C44543D50BF",
    "jupyter": {},
    "notebookId": "6402e649ef4a4bdccd89db2f",
    "scrolled": false,
    "slideshow": {
     "slide_type": "slide"
    },
    "tags": []
   },
   "outputs": [
    {
     "data": {
      "text/html": [
       "<div>\n",
       "<style scoped>\n",
       "    .dataframe tbody tr th:only-of-type {\n",
       "        vertical-align: middle;\n",
       "    }\n",
       "\n",
       "    .dataframe tbody tr th {\n",
       "        vertical-align: top;\n",
       "    }\n",
       "\n",
       "    .dataframe thead th {\n",
       "        text-align: right;\n",
       "    }\n",
       "</style>\n",
       "<table border=\"1\" class=\"dataframe\">\n",
       "  <thead>\n",
       "    <tr style=\"text-align: right;\">\n",
       "      <th></th>\n",
       "      <th>fdc_id</th>\n",
       "      <th>data_type</th>\n",
       "      <th>description</th>\n",
       "      <th>food_category_id</th>\n",
       "      <th>publication_date</th>\n",
       "    </tr>\n",
       "  </thead>\n",
       "  <tbody>\n",
       "    <tr>\n",
       "      <th>0</th>\n",
       "      <td>1097510</td>\n",
       "      <td>survey_fndds_food</td>\n",
       "      <td>Milk, human</td>\n",
       "      <td>NaN</td>\n",
       "      <td>2020-10-30</td>\n",
       "    </tr>\n",
       "    <tr>\n",
       "      <th>1</th>\n",
       "      <td>1097511</td>\n",
       "      <td>survey_fndds_food</td>\n",
       "      <td>Milk, NFS</td>\n",
       "      <td>NaN</td>\n",
       "      <td>2020-10-30</td>\n",
       "    </tr>\n",
       "    <tr>\n",
       "      <th>2</th>\n",
       "      <td>1097512</td>\n",
       "      <td>survey_fndds_food</td>\n",
       "      <td>Milk, whole</td>\n",
       "      <td>NaN</td>\n",
       "      <td>2020-10-30</td>\n",
       "    </tr>\n",
       "    <tr>\n",
       "      <th>3</th>\n",
       "      <td>1097513</td>\n",
       "      <td>survey_fndds_food</td>\n",
       "      <td>Milk, low sodium, whole</td>\n",
       "      <td>NaN</td>\n",
       "      <td>2020-10-30</td>\n",
       "    </tr>\n",
       "    <tr>\n",
       "      <th>4</th>\n",
       "      <td>1097514</td>\n",
       "      <td>survey_fndds_food</td>\n",
       "      <td>Milk, calcium fortified, whole</td>\n",
       "      <td>NaN</td>\n",
       "      <td>2020-10-30</td>\n",
       "    </tr>\n",
       "  </tbody>\n",
       "</table>\n",
       "</div>"
      ],
      "text/plain": [
       "    fdc_id          data_type                     description  \\\n",
       "0  1097510  survey_fndds_food                     Milk, human   \n",
       "1  1097511  survey_fndds_food                       Milk, NFS   \n",
       "2  1097512  survey_fndds_food                     Milk, whole   \n",
       "3  1097513  survey_fndds_food         Milk, low sodium, whole   \n",
       "4  1097514  survey_fndds_food  Milk, calcium fortified, whole   \n",
       "\n",
       "   food_category_id publication_date  \n",
       "0               NaN       2020-10-30  \n",
       "1               NaN       2020-10-30  \n",
       "2               NaN       2020-10-30  \n",
       "3               NaN       2020-10-30  \n",
       "4               NaN       2020-10-30  "
      ]
     },
     "execution_count": 10,
     "metadata": {},
     "output_type": "execute_result"
    }
   ],
   "source": [
    "food_survey.head()"
   ]
  },
  {
   "cell_type": "code",
   "execution_count": 5,
   "metadata": {
    "id": "408343B008124806A25FA409FDE256F1",
    "jupyter": {},
    "notebookId": "6402e649ef4a4bdccd89db2f",
    "scrolled": false,
    "slideshow": {
     "slide_type": "slide"
    },
    "tags": []
   },
   "outputs": [
    {
     "name": "stdout",
     "output_type": "stream",
     "text": [
      "----------------Intermediate table based on survey: \n",
      " 1. After food and nutrient association shape = (460395, 6)\n",
      "Duplicate and conflicting records under the same data_source 0\n",
      "2. After de-duplication based on the same data source and data_type shape = (460395, 9)\n"
     ]
    },
    {
     "data": {
      "text/html": [
       "<div>\n",
       "<style scoped>\n",
       "    .dataframe tbody tr th:only-of-type {\n",
       "        vertical-align: middle;\n",
       "    }\n",
       "\n",
       "    .dataframe tbody tr th {\n",
       "        vertical-align: top;\n",
       "    }\n",
       "\n",
       "    .dataframe thead th {\n",
       "        text-align: right;\n",
       "    }\n",
       "</style>\n",
       "<table border=\"1\" class=\"dataframe\">\n",
       "  <thead>\n",
       "    <tr style=\"text-align: right;\">\n",
       "      <th></th>\n",
       "      <th>description</th>\n",
       "      <th>data_type</th>\n",
       "      <th>name</th>\n",
       "      <th>fdc_id_count</th>\n",
       "      <th>median</th>\n",
       "      <th>min</th>\n",
       "      <th>max</th>\n",
       "      <th>var</th>\n",
       "      <th>source</th>\n",
       "    </tr>\n",
       "  </thead>\n",
       "  <tbody>\n",
       "    <tr>\n",
       "      <th>0</th>\n",
       "      <td>100 grand bar</td>\n",
       "      <td>survey_fndds_food</td>\n",
       "      <td>alcohol, ethyl</td>\n",
       "      <td>1</td>\n",
       "      <td>0.0</td>\n",
       "      <td>0.0</td>\n",
       "      <td>0.0</td>\n",
       "      <td>NaN</td>\n",
       "      <td>survey</td>\n",
       "    </tr>\n",
       "    <tr>\n",
       "      <th>306855</th>\n",
       "      <td>pepper, raw, nfs</td>\n",
       "      <td>survey_fndds_food</td>\n",
       "      <td>vitamin b-12</td>\n",
       "      <td>1</td>\n",
       "      <td>0.0</td>\n",
       "      <td>0.0</td>\n",
       "      <td>0.0</td>\n",
       "      <td>NaN</td>\n",
       "      <td>survey</td>\n",
       "    </tr>\n",
       "    <tr>\n",
       "      <th>306937</th>\n",
       "      <td>pepper, sweet, green, raw</td>\n",
       "      <td>survey_fndds_food</td>\n",
       "      <td>choline, total</td>\n",
       "      <td>1</td>\n",
       "      <td>5.5</td>\n",
       "      <td>5.5</td>\n",
       "      <td>5.5</td>\n",
       "      <td>NaN</td>\n",
       "      <td>survey</td>\n",
       "    </tr>\n",
       "    <tr>\n",
       "      <th>306936</th>\n",
       "      <td>pepper, sweet, green, raw</td>\n",
       "      <td>survey_fndds_food</td>\n",
       "      <td>cholesterol</td>\n",
       "      <td>1</td>\n",
       "      <td>0.0</td>\n",
       "      <td>0.0</td>\n",
       "      <td>0.0</td>\n",
       "      <td>NaN</td>\n",
       "      <td>survey</td>\n",
       "    </tr>\n",
       "    <tr>\n",
       "      <th>306935</th>\n",
       "      <td>pepper, sweet, green, raw</td>\n",
       "      <td>survey_fndds_food</td>\n",
       "      <td>carotene, beta</td>\n",
       "      <td>1</td>\n",
       "      <td>208.0</td>\n",
       "      <td>208.0</td>\n",
       "      <td>208.0</td>\n",
       "      <td>NaN</td>\n",
       "      <td>survey</td>\n",
       "    </tr>\n",
       "  </tbody>\n",
       "</table>\n",
       "</div>"
      ],
      "text/plain": [
       "                      description          data_type            name  \\\n",
       "0                   100 grand bar  survey_fndds_food  alcohol, ethyl   \n",
       "306855           pepper, raw, nfs  survey_fndds_food    vitamin b-12   \n",
       "306937  pepper, sweet, green, raw  survey_fndds_food  choline, total   \n",
       "306936  pepper, sweet, green, raw  survey_fndds_food     cholesterol   \n",
       "306935  pepper, sweet, green, raw  survey_fndds_food  carotene, beta   \n",
       "\n",
       "        fdc_id_count  median    min    max  var  source  \n",
       "0                  1     0.0    0.0    0.0  NaN  survey  \n",
       "306855             1     0.0    0.0    0.0  NaN  survey  \n",
       "306937             1     5.5    5.5    5.5  NaN  survey  \n",
       "306936             1     0.0    0.0    0.0  NaN  survey  \n",
       "306935             1   208.0  208.0  208.0  NaN  survey  "
      ]
     },
     "metadata": {},
     "output_type": "display_data"
    }
   ],
   "source": [
    "food_nurtrition_survey_info = merge_food_nurtrition_info(food_survey, food_nutrition_survey, nutrition, 'survey') # base on survey"
   ]
  },
  {
   "cell_type": "code",
   "execution_count": 6,
   "metadata": {
    "id": "2AEB0477F023429F82A0AE4E8E2AC5BB",
    "jupyter": {},
    "notebookId": "6402e649ef4a4bdccd89db2f",
    "scrolled": false,
    "slideshow": {
     "slide_type": "slide"
    },
    "tags": []
   },
   "outputs": [
    {
     "name": "stdout",
     "output_type": "stream",
     "text": [
      "----------------Intermediate table based on foundation: \n",
      " 1. After food and nutrient association shape = (122720, 6)\n",
      "Duplicate and conflicting records under the same data_source 5956\n",
      "2. After de-duplication based on the same data source and data_type shape = (66296, 9)\n"
     ]
    },
    {
     "data": {
      "text/html": [
       "<div>\n",
       "<style scoped>\n",
       "    .dataframe tbody tr th:only-of-type {\n",
       "        vertical-align: middle;\n",
       "    }\n",
       "\n",
       "    .dataframe tbody tr th {\n",
       "        vertical-align: top;\n",
       "    }\n",
       "\n",
       "    .dataframe thead th {\n",
       "        text-align: right;\n",
       "    }\n",
       "</style>\n",
       "<table border=\"1\" class=\"dataframe\">\n",
       "  <thead>\n",
       "    <tr style=\"text-align: right;\">\n",
       "      <th></th>\n",
       "      <th>description</th>\n",
       "      <th>data_type</th>\n",
       "      <th>name</th>\n",
       "      <th>fdc_id_count</th>\n",
       "      <th>median</th>\n",
       "      <th>min</th>\n",
       "      <th>max</th>\n",
       "      <th>var</th>\n",
       "      <th>source</th>\n",
       "    </tr>\n",
       "  </thead>\n",
       "  <tbody>\n",
       "    <tr>\n",
       "      <th>977</th>\n",
       "      <td>american cheese</td>\n",
       "      <td>sub_sample_food</td>\n",
       "      <td>glucose</td>\n",
       "      <td>59</td>\n",
       "      <td>0.00</td>\n",
       "      <td>0.00</td>\n",
       "      <td>0.22</td>\n",
       "      <td>0.002603</td>\n",
       "      <td>foundation</td>\n",
       "    </tr>\n",
       "    <tr>\n",
       "      <th>980</th>\n",
       "      <td>american cheese</td>\n",
       "      <td>sub_sample_food</td>\n",
       "      <td>lactose</td>\n",
       "      <td>59</td>\n",
       "      <td>3.45</td>\n",
       "      <td>0.72</td>\n",
       "      <td>6.34</td>\n",
       "      <td>1.465061</td>\n",
       "      <td>foundation</td>\n",
       "    </tr>\n",
       "    <tr>\n",
       "      <th>1033</th>\n",
       "      <td>american cheese</td>\n",
       "      <td>sub_sample_food</td>\n",
       "      <td>sucrose</td>\n",
       "      <td>59</td>\n",
       "      <td>0.00</td>\n",
       "      <td>0.00</td>\n",
       "      <td>0.00</td>\n",
       "      <td>0.000000</td>\n",
       "      <td>foundation</td>\n",
       "    </tr>\n",
       "    <tr>\n",
       "      <th>982</th>\n",
       "      <td>american cheese</td>\n",
       "      <td>sub_sample_food</td>\n",
       "      <td>maltose</td>\n",
       "      <td>59</td>\n",
       "      <td>0.00</td>\n",
       "      <td>0.00</td>\n",
       "      <td>0.00</td>\n",
       "      <td>0.000000</td>\n",
       "      <td>foundation</td>\n",
       "    </tr>\n",
       "    <tr>\n",
       "      <th>975</th>\n",
       "      <td>american cheese</td>\n",
       "      <td>sub_sample_food</td>\n",
       "      <td>fructose</td>\n",
       "      <td>59</td>\n",
       "      <td>0.00</td>\n",
       "      <td>0.00</td>\n",
       "      <td>0.00</td>\n",
       "      <td>0.000000</td>\n",
       "      <td>foundation</td>\n",
       "    </tr>\n",
       "  </tbody>\n",
       "</table>\n",
       "</div>"
      ],
      "text/plain": [
       "          description        data_type      name  fdc_id_count  median   min  \\\n",
       "977   american cheese  sub_sample_food   glucose            59    0.00  0.00   \n",
       "980   american cheese  sub_sample_food   lactose            59    3.45  0.72   \n",
       "1033  american cheese  sub_sample_food   sucrose            59    0.00  0.00   \n",
       "982   american cheese  sub_sample_food   maltose            59    0.00  0.00   \n",
       "975   american cheese  sub_sample_food  fructose            59    0.00  0.00   \n",
       "\n",
       "       max       var      source  \n",
       "977   0.22  0.002603  foundation  \n",
       "980   6.34  1.465061  foundation  \n",
       "1033  0.00  0.000000  foundation  \n",
       "982   0.00  0.000000  foundation  \n",
       "975   0.00  0.000000  foundation  "
      ]
     },
     "metadata": {},
     "output_type": "display_data"
    }
   ],
   "source": [
    "food_nurtrition_found_info = merge_food_nurtrition_info(food_found, food_nutrition_found, nutrition, 'foundation') # base on foundation"
   ]
  },
  {
   "cell_type": "code",
   "execution_count": 13,
   "metadata": {
    "id": "B1F4D4AF18F54EE1AC6444A0EC982D39",
    "jupyter": {},
    "notebookId": "6402e649ef4a4bdccd89db2f",
    "scrolled": false,
    "slideshow": {
     "slide_type": "slide"
    },
    "tags": []
   },
   "outputs": [
    {
     "data": {
      "text/plain": [
       "<matplotlib.axes._subplots.AxesSubplot at 0x7f70f941c128>"
      ]
     },
     "execution_count": 13,
     "metadata": {},
     "output_type": "execute_result"
    },
    {
     "data": {
      "text/html": [
       "<img src=\"https://cdn.kesci.com/upload/rt/B1F4D4AF18F54EE1AC6444A0EC982D39/rqzr0h7wjv.png\">"
      ],
      "text/plain": [
       "<Figure size 1080x300 with 2 Axes>"
      ]
     },
     "metadata": {
      "needs_background": "light"
     },
     "output_type": "display_data"
    }
   ],
   "source": [
    "# Case Studies\n",
    "found_dupli = food_nurtrition_found_info[food_nurtrition_found_info['fdc_id_count']>1].reset_index().drop(columns=['index'])\n",
    "found_dupli_demo = found_dupli.groupby(['description', 'name'], as_index = False)['var'].agg(['count', 'max'])\n",
    "found_dupli_demo = found_dupli_demo[found_dupli_demo['count']>1].sort_values(['description', 'max'], ascending = False).reset_index()[0:5] # Top 5 most volatile\n",
    "\n",
    "# Get the full amount of data before de-duplication\n",
    "found_full = merge_food_nurtrition_info(food_found, food_nutrition_found, nutrition, 'foundation', False) # base on foundation\n",
    "found_demo = found_full.merge(found_dupli_demo[['description', 'name']], on = ['description', 'name'], how = 'right')\n",
    "found_type = list(set(found_demo['data_type']))\n",
    "\n",
    "fig = plt.figure(figsize=(18,5), dpi = 60)\n",
    "ax1 = plt.subplot(121)\n",
    "sns.boxplot(x='name', y='amount', data=found_demo[found_demo['data_type']==found_type[0]])\n",
    "ax1 = plt.subplot(122)\n",
    "sns.boxplot(x='name', y='amount', data=found_demo[found_demo['data_type']==found_type[1]])"
   ]
  },
  {
   "cell_type": "code",
   "execution_count": 7,
   "metadata": {
    "id": "D3A3EB6F22624DCC9056D21E625E8C62",
    "jupyter": {},
    "notebookId": "6402e649ef4a4bdccd89db2f",
    "scrolled": false,
    "slideshow": {
     "slide_type": "slide"
    },
    "tags": []
   },
   "outputs": [
    {
     "name": "stdout",
     "output_type": "stream",
     "text": [
      "----------------Intermediate table based on SR legacy: \n",
      " 1. After food and nutrient association shape = (644125, 6)\n",
      "Duplicate and conflicting records under the same data_source 7793\n",
      "2. After de-duplication based on the same data source and data_type shape = (636332, 9)\n"
     ]
    },
    {
     "data": {
      "text/html": [
       "<div>\n",
       "<style scoped>\n",
       "    .dataframe tbody tr th:only-of-type {\n",
       "        vertical-align: middle;\n",
       "    }\n",
       "\n",
       "    .dataframe tbody tr th {\n",
       "        vertical-align: top;\n",
       "    }\n",
       "\n",
       "    .dataframe thead th {\n",
       "        text-align: right;\n",
       "    }\n",
       "</style>\n",
       "<table border=\"1\" class=\"dataframe\">\n",
       "  <thead>\n",
       "    <tr style=\"text-align: right;\">\n",
       "      <th></th>\n",
       "      <th>description</th>\n",
       "      <th>data_type</th>\n",
       "      <th>name</th>\n",
       "      <th>fdc_id_count</th>\n",
       "      <th>median</th>\n",
       "      <th>min</th>\n",
       "      <th>max</th>\n",
       "      <th>var</th>\n",
       "      <th>source</th>\n",
       "    </tr>\n",
       "  </thead>\n",
       "  <tbody>\n",
       "    <tr>\n",
       "      <th>362071</th>\n",
       "      <td>lamb, new zealand, imported, square-cut should...</td>\n",
       "      <td>sr_legacy_food</td>\n",
       "      <td>energy</td>\n",
       "      <td>2</td>\n",
       "      <td>661.5</td>\n",
       "      <td>255.0</td>\n",
       "      <td>1068.0</td>\n",
       "      <td>330484.5</td>\n",
       "      <td>SR legacy</td>\n",
       "    </tr>\n",
       "    <tr>\n",
       "      <th>331649</th>\n",
       "      <td>ice creams, vanilla, fat free</td>\n",
       "      <td>sr_legacy_food</td>\n",
       "      <td>energy</td>\n",
       "      <td>2</td>\n",
       "      <td>358.0</td>\n",
       "      <td>138.0</td>\n",
       "      <td>578.0</td>\n",
       "      <td>96800.0</td>\n",
       "      <td>SR legacy</td>\n",
       "    </tr>\n",
       "    <tr>\n",
       "      <th>173055</th>\n",
       "      <td>cabbage, mustard, salted</td>\n",
       "      <td>sr_legacy_food</td>\n",
       "      <td>energy</td>\n",
       "      <td>2</td>\n",
       "      <td>72.0</td>\n",
       "      <td>28.0</td>\n",
       "      <td>116.0</td>\n",
       "      <td>3872.0</td>\n",
       "      <td>SR legacy</td>\n",
       "    </tr>\n",
       "    <tr>\n",
       "      <th>507781</th>\n",
       "      <td>restaurant, chinese, sweet and sour pork</td>\n",
       "      <td>sr_legacy_food</td>\n",
       "      <td>energy</td>\n",
       "      <td>2</td>\n",
       "      <td>699.5</td>\n",
       "      <td>270.0</td>\n",
       "      <td>1129.0</td>\n",
       "      <td>368940.5</td>\n",
       "      <td>SR legacy</td>\n",
       "    </tr>\n",
       "    <tr>\n",
       "      <th>410120</th>\n",
       "      <td>nuts, walnuts, glazed</td>\n",
       "      <td>sr_legacy_food</td>\n",
       "      <td>energy</td>\n",
       "      <td>2</td>\n",
       "      <td>1296.0</td>\n",
       "      <td>500.0</td>\n",
       "      <td>2092.0</td>\n",
       "      <td>1267232.0</td>\n",
       "      <td>SR legacy</td>\n",
       "    </tr>\n",
       "  </tbody>\n",
       "</table>\n",
       "</div>"
      ],
      "text/plain": [
       "                                              description       data_type  \\\n",
       "362071  lamb, new zealand, imported, square-cut should...  sr_legacy_food   \n",
       "331649                      ice creams, vanilla, fat free  sr_legacy_food   \n",
       "173055                           cabbage, mustard, salted  sr_legacy_food   \n",
       "507781           restaurant, chinese, sweet and sour pork  sr_legacy_food   \n",
       "410120                              nuts, walnuts, glazed  sr_legacy_food   \n",
       "\n",
       "          name  fdc_id_count  median    min     max        var     source  \n",
       "362071  energy             2   661.5  255.0  1068.0   330484.5  SR legacy  \n",
       "331649  energy             2   358.0  138.0   578.0    96800.0  SR legacy  \n",
       "173055  energy             2    72.0   28.0   116.0     3872.0  SR legacy  \n",
       "507781  energy             2   699.5  270.0  1129.0   368940.5  SR legacy  \n",
       "410120  energy             2  1296.0  500.0  2092.0  1267232.0  SR legacy  "
      ]
     },
     "metadata": {},
     "output_type": "display_data"
    }
   ],
   "source": [
    "food_nurtrition_SR_info = merge_food_nurtrition_info(food_sr, food_nutrition_sr, nutrition, 'SR legacy') # base on legacy"
   ]
  },
  {
   "cell_type": "code",
   "execution_count": 15,
   "metadata": {
    "id": "22E555BE00E1430192AC35E9612F944F",
    "jupyter": {},
    "notebookId": "6402e649ef4a4bdccd89db2f",
    "scrolled": false,
    "slideshow": {
     "slide_type": "slide"
    },
    "tags": []
   },
   "outputs": [
    {
     "data": {
      "text/plain": [
       "<matplotlib.axes._subplots.AxesSubplot at 0x7f70f47206d8>"
      ]
     },
     "execution_count": 15,
     "metadata": {},
     "output_type": "execute_result"
    },
    {
     "data": {
      "text/html": [
       "<img src=\"https://cdn.kesci.com/upload/rt/22E555BE00E1430192AC35E9612F944F/rqzr3la8fa.png\">"
      ],
      "text/plain": [
       "<Figure size 1080x300 with 1 Axes>"
      ]
     },
     "metadata": {
      "needs_background": "light"
     },
     "output_type": "display_data"
    }
   ],
   "source": [
    "# Case Studies\n",
    "sr_dupli = food_nurtrition_SR_info[food_nurtrition_SR_info['fdc_id_count']>1].reset_index().drop(columns=['index'])[0:1]\n",
    "\n",
    "# Get the full amount of data before de-duplication\n",
    "sr_full = merge_food_nurtrition_info(food_sr, food_nutrition_sr, nutrition, 'foundation', False) # base on foundation\n",
    "found_demo = sr_full.merge(sr_dupli[['description', 'name']], on = ['description', 'name'], how = 'right')\n",
    "found_type = list(set(found_demo['data_type']))\n",
    "\n",
    "fig = plt.figure(figsize=(18,5), dpi = 60)\n",
    "ax1 = plt.subplot(121)\n",
    "sns.boxplot(x='name', y='amount', data=found_demo[found_demo['data_type']==found_type[0]])"
   ]
  },
  {
   "cell_type": "markdown",
   "metadata": {
    "id": "311C4EA47CE24AC7980E865FA28F7731",
    "jupyter": {},
    "notebookId": "6402e649ef4a4bdccd89db2f",
    "runtime": {
     "execution_status": null,
     "status": "default"
    },
    "scrolled": false,
    "slideshow": {
     "slide_type": "slide"
    },
    "tags": []
   },
   "source": [
    "### Three source merger            \n"
   ]
  },
  {
   "cell_type": "code",
   "execution_count": 16,
   "metadata": {
    "id": "418163D16BCB444397FA805597C70243",
    "jupyter": {},
    "notebookId": "6402e649ef4a4bdccd89db2f",
    "scrolled": false,
    "slideshow": {
     "slide_type": "slide"
    },
    "tags": []
   },
   "outputs": [
    {
     "name": "stdout",
     "output_type": "stream",
     "text": [
      "原始的总表 shape: (1163023, 10)\n"
     ]
    },
    {
     "data": {
      "text/html": [
       "<div>\n",
       "<style scoped>\n",
       "    .dataframe tbody tr th:only-of-type {\n",
       "        vertical-align: middle;\n",
       "    }\n",
       "\n",
       "    .dataframe tbody tr th {\n",
       "        vertical-align: top;\n",
       "    }\n",
       "\n",
       "    .dataframe thead th {\n",
       "        text-align: right;\n",
       "    }\n",
       "</style>\n",
       "<table border=\"1\" class=\"dataframe\">\n",
       "  <thead>\n",
       "    <tr style=\"text-align: right;\">\n",
       "      <th></th>\n",
       "      <th>description</th>\n",
       "      <th>data_type</th>\n",
       "      <th>name</th>\n",
       "      <th>fdc_id_count</th>\n",
       "      <th>median</th>\n",
       "      <th>min</th>\n",
       "      <th>max</th>\n",
       "      <th>var</th>\n",
       "      <th>source</th>\n",
       "      <th>source_type</th>\n",
       "    </tr>\n",
       "  </thead>\n",
       "  <tbody>\n",
       "    <tr>\n",
       "      <th>977</th>\n",
       "      <td>american cheese</td>\n",
       "      <td>sub_sample_food</td>\n",
       "      <td>glucose</td>\n",
       "      <td>59</td>\n",
       "      <td>0.00</td>\n",
       "      <td>0.00</td>\n",
       "      <td>0.22</td>\n",
       "      <td>0.002603</td>\n",
       "      <td>foundation</td>\n",
       "      <td>foundation: sub_sample_food</td>\n",
       "    </tr>\n",
       "    <tr>\n",
       "      <th>980</th>\n",
       "      <td>american cheese</td>\n",
       "      <td>sub_sample_food</td>\n",
       "      <td>lactose</td>\n",
       "      <td>59</td>\n",
       "      <td>3.45</td>\n",
       "      <td>0.72</td>\n",
       "      <td>6.34</td>\n",
       "      <td>1.465061</td>\n",
       "      <td>foundation</td>\n",
       "      <td>foundation: sub_sample_food</td>\n",
       "    </tr>\n",
       "    <tr>\n",
       "      <th>1033</th>\n",
       "      <td>american cheese</td>\n",
       "      <td>sub_sample_food</td>\n",
       "      <td>sucrose</td>\n",
       "      <td>59</td>\n",
       "      <td>0.00</td>\n",
       "      <td>0.00</td>\n",
       "      <td>0.00</td>\n",
       "      <td>0.000000</td>\n",
       "      <td>foundation</td>\n",
       "      <td>foundation: sub_sample_food</td>\n",
       "    </tr>\n",
       "    <tr>\n",
       "      <th>982</th>\n",
       "      <td>american cheese</td>\n",
       "      <td>sub_sample_food</td>\n",
       "      <td>maltose</td>\n",
       "      <td>59</td>\n",
       "      <td>0.00</td>\n",
       "      <td>0.00</td>\n",
       "      <td>0.00</td>\n",
       "      <td>0.000000</td>\n",
       "      <td>foundation</td>\n",
       "      <td>foundation: sub_sample_food</td>\n",
       "    </tr>\n",
       "    <tr>\n",
       "      <th>975</th>\n",
       "      <td>american cheese</td>\n",
       "      <td>sub_sample_food</td>\n",
       "      <td>fructose</td>\n",
       "      <td>59</td>\n",
       "      <td>0.00</td>\n",
       "      <td>0.00</td>\n",
       "      <td>0.00</td>\n",
       "      <td>0.000000</td>\n",
       "      <td>foundation</td>\n",
       "      <td>foundation: sub_sample_food</td>\n",
       "    </tr>\n",
       "  </tbody>\n",
       "</table>\n",
       "</div>"
      ],
      "text/plain": [
       "          description        data_type      name  fdc_id_count  median   min  \\\n",
       "977   american cheese  sub_sample_food   glucose            59    0.00  0.00   \n",
       "980   american cheese  sub_sample_food   lactose            59    3.45  0.72   \n",
       "1033  american cheese  sub_sample_food   sucrose            59    0.00  0.00   \n",
       "982   american cheese  sub_sample_food   maltose            59    0.00  0.00   \n",
       "975   american cheese  sub_sample_food  fructose            59    0.00  0.00   \n",
       "\n",
       "       max       var      source                  source_type  \n",
       "977   0.22  0.002603  foundation  foundation: sub_sample_food  \n",
       "980   6.34  1.465061  foundation  foundation: sub_sample_food  \n",
       "1033  0.00  0.000000  foundation  foundation: sub_sample_food  \n",
       "982   0.00  0.000000  foundation  foundation: sub_sample_food  \n",
       "975   0.00  0.000000  foundation  foundation: sub_sample_food  "
      ]
     },
     "metadata": {},
     "output_type": "display_data"
    }
   ],
   "source": [
    "# Consolidated into a summary table\n",
    "food_nurtrition = pd.concat([food_nurtrition_found_info, food_nurtrition_survey_info, food_nurtrition_SR_info])\n",
    "food_nurtrition['source_type'] = food_nurtrition['source']+': '+food_nurtrition['data_type']\n",
    "food_nurtrition['source_type'] = food_nurtrition['source_type'].apply(lambda x: x.lower())\n",
    "print(f'原始的总表 shape: {food_nurtrition.shape}')\n",
    "display(food_nurtrition.head())"
   ]
  },
  {
   "cell_type": "markdown",
   "metadata": {
    "id": "5BDBF3EC887A4DD5A82670A8E274C0B9",
    "jupyter": {},
    "notebookId": "6402e649ef4a4bdccd89db2f",
    "runtime": {
     "execution_status": null,
     "status": "default"
    },
    "scrolled": false,
    "slideshow": {
     "slide_type": "slide"
    },
    "tags": []
   },
   "source": [
    "### Heterogeneous source de-duplication            \n",
    "            \n",
    "There are still a large number of duplicates (4172) of the same food under different data sources and different datatypes, further de-duplication:            \n",
    "            \n",
    "- Retained according to priority in \"source_credibility_score.csv\", priority=1 highest priority"
   ]
  },
  {
   "cell_type": "code",
   "execution_count": 17,
   "metadata": {
    "id": "903B3D69FB5349658ED00089AE72E5A4",
    "jupyter": {},
    "notebookId": "6402e649ef4a4bdccd89db2f",
    "scrolled": false,
    "slideshow": {
     "slide_type": "slide"
    },
    "tags": []
   },
   "outputs": [
    {
     "name": "stdout",
     "output_type": "stream",
     "text": [
      "直接拼接上述去重数据源，会导致相同食物相同营养物质存在多个营养物质含量，重复项4172个\n"
     ]
    },
    {
     "data": {
      "text/html": [
       "<div>\n",
       "<style scoped>\n",
       "    .dataframe tbody tr th:only-of-type {\n",
       "        vertical-align: middle;\n",
       "    }\n",
       "\n",
       "    .dataframe tbody tr th {\n",
       "        vertical-align: top;\n",
       "    }\n",
       "\n",
       "    .dataframe thead th {\n",
       "        text-align: right;\n",
       "    }\n",
       "</style>\n",
       "<table border=\"1\" class=\"dataframe\">\n",
       "  <thead>\n",
       "    <tr style=\"text-align: right;\">\n",
       "      <th></th>\n",
       "      <th>description</th>\n",
       "      <th>name</th>\n",
       "      <th>source_type</th>\n",
       "    </tr>\n",
       "    <tr>\n",
       "      <th>dupli_s</th>\n",
       "      <th></th>\n",
       "      <th></th>\n",
       "      <th></th>\n",
       "    </tr>\n",
       "  </thead>\n",
       "  <tbody>\n",
       "    <tr>\n",
       "      <th>['foundation: foundation_food', 'foundation: sub_sample_food']</th>\n",
       "      <td>933</td>\n",
       "      <td>933</td>\n",
       "      <td>933</td>\n",
       "    </tr>\n",
       "    <tr>\n",
       "      <th>['foundation: foundation_food', 'sr legacy: sr_legacy_food', 'survey: survey_fndds_food']</th>\n",
       "      <td>131</td>\n",
       "      <td>131</td>\n",
       "      <td>131</td>\n",
       "    </tr>\n",
       "    <tr>\n",
       "      <th>['foundation: foundation_food', 'sr legacy: sr_legacy_food']</th>\n",
       "      <td>2231</td>\n",
       "      <td>2231</td>\n",
       "      <td>2231</td>\n",
       "    </tr>\n",
       "    <tr>\n",
       "      <th>['foundation: foundation_food', 'survey: survey_fndds_food']</th>\n",
       "      <td>2</td>\n",
       "      <td>2</td>\n",
       "      <td>2</td>\n",
       "    </tr>\n",
       "    <tr>\n",
       "      <th>['foundation: sub_sample_food', 'survey: survey_fndds_food']</th>\n",
       "      <td>96</td>\n",
       "      <td>96</td>\n",
       "      <td>96</td>\n",
       "    </tr>\n",
       "    <tr>\n",
       "      <th>['sr legacy: sr_legacy_food', 'survey: survey_fndds_food']</th>\n",
       "      <td>779</td>\n",
       "      <td>779</td>\n",
       "      <td>779</td>\n",
       "    </tr>\n",
       "  </tbody>\n",
       "</table>\n",
       "</div>"
      ],
      "text/plain": [
       "                                                    description  name  \\\n",
       "dupli_s                                                                 \n",
       "['foundation: foundation_food', 'foundation: su...          933   933   \n",
       "['foundation: foundation_food', 'sr legacy: sr_...          131   131   \n",
       "['foundation: foundation_food', 'sr legacy: sr_...         2231  2231   \n",
       "['foundation: foundation_food', 'survey: survey...            2     2   \n",
       "['foundation: sub_sample_food', 'survey: survey...           96    96   \n",
       "['sr legacy: sr_legacy_food', 'survey: survey_f...          779   779   \n",
       "\n",
       "                                                    source_type  \n",
       "dupli_s                                                          \n",
       "['foundation: foundation_food', 'foundation: su...          933  \n",
       "['foundation: foundation_food', 'sr legacy: sr_...          131  \n",
       "['foundation: foundation_food', 'sr legacy: sr_...         2231  \n",
       "['foundation: foundation_food', 'survey: survey...            2  \n",
       "['foundation: sub_sample_food', 'survey: survey...           96  \n",
       "['sr legacy: sr_legacy_food', 'survey: survey_f...          779  "
      ]
     },
     "execution_count": 17,
     "metadata": {},
     "output_type": "execute_result"
    }
   ],
   "source": [
    "# Repetition\n",
    "check_duplicate = food_nurtrition.groupby([\"description\", \"name\"])['median'].agg([\"max\", \"min\"]).reset_index()\n",
    "check_duplicate = check_duplicate[check_duplicate['max']>check_duplicate['min']]\n",
    "print(f'直接拼接上述去重数据源，会导致相同食物相同营养物质存在多个营养物质含量，重复项{len(check_duplicate)}个')\n",
    "\n",
    "dupli_sources = check_duplicate.merge(food_nurtrition[['description', 'name', 'source_type']], on = ['description', 'name'], how='left')\n",
    "dupli_sources = dupli_sources.groupby([\"description\", \"name\"])['source_type'].agg('unique').reset_index()\n",
    "dupli_sources['dupli_s'] = dupli_sources['source_type'].apply(lambda x: str(sorted(x)))\n",
    "dupli_sources.groupby('dupli_s').agg('count')"
   ]
  },
  {
   "cell_type": "code",
   "execution_count": 22,
   "metadata": {
    "id": "522600B38E1745CD81D6437083DFC126",
    "jupyter": {},
    "notebookId": "6402e649ef4a4bdccd89db2f",
    "scrolled": false,
    "slideshow": {
     "slide_type": "slide"
    },
    "tags": []
   },
   "outputs": [
    {
     "data": {
      "text/html": [
       "<div>\n",
       "<style scoped>\n",
       "    .dataframe tbody tr th:only-of-type {\n",
       "        vertical-align: middle;\n",
       "    }\n",
       "\n",
       "    .dataframe tbody tr th {\n",
       "        vertical-align: top;\n",
       "    }\n",
       "\n",
       "    .dataframe thead th {\n",
       "        text-align: right;\n",
       "    }\n",
       "</style>\n",
       "<table border=\"1\" class=\"dataframe\">\n",
       "  <thead>\n",
       "    <tr style=\"text-align: right;\">\n",
       "      <th></th>\n",
       "      <th>source</th>\n",
       "      <th>data_type</th>\n",
       "      <th>comment</th>\n",
       "      <th>priority</th>\n",
       "      <th>source_type</th>\n",
       "    </tr>\n",
       "  </thead>\n",
       "  <tbody>\n",
       "    <tr>\n",
       "      <th>0</th>\n",
       "      <td>foundation</td>\n",
       "      <td>foundation_food</td>\n",
       "      <td>集合多个样本</td>\n",
       "      <td>1</td>\n",
       "      <td>foundation: foundation_food</td>\n",
       "    </tr>\n",
       "    <tr>\n",
       "      <th>1</th>\n",
       "      <td>foundation</td>\n",
       "      <td>sub_sample_food</td>\n",
       "      <td>NaN</td>\n",
       "      <td>5</td>\n",
       "      <td>foundation: sub_sample_food</td>\n",
       "    </tr>\n",
       "    <tr>\n",
       "      <th>2</th>\n",
       "      <td>foundation</td>\n",
       "      <td>market_acquisition</td>\n",
       "      <td>为了化学实验采集来的</td>\n",
       "      <td>3</td>\n",
       "      <td>foundation: market_acquisition</td>\n",
       "    </tr>\n",
       "    <tr>\n",
       "      <th>3</th>\n",
       "      <td>foundation</td>\n",
       "      <td>agricultural_acquisition</td>\n",
       "      <td>直接从原产地采集来的</td>\n",
       "      <td>3</td>\n",
       "      <td>foundation: agricultural_acquisition</td>\n",
       "    </tr>\n",
       "    <tr>\n",
       "      <th>4</th>\n",
       "      <td>foundation</td>\n",
       "      <td>sample_food</td>\n",
       "      <td>NaN</td>\n",
       "      <td>4</td>\n",
       "      <td>foundation: sample_food</td>\n",
       "    </tr>\n",
       "    <tr>\n",
       "      <th>5</th>\n",
       "      <td>sr legacy</td>\n",
       "      <td>sr_legacy_food</td>\n",
       "      <td>USDA National Nutrient Database(背书)</td>\n",
       "      <td>2</td>\n",
       "      <td>sr legacy: sr_legacy_food</td>\n",
       "    </tr>\n",
       "    <tr>\n",
       "      <th>6</th>\n",
       "      <td>survey</td>\n",
       "      <td>survey_fndds_food</td>\n",
       "      <td>食物营养摄入量（NHANES），有经过计算融合了brading和sr leagacy data</td>\n",
       "      <td>6</td>\n",
       "      <td>survey: survey_fndds_food</td>\n",
       "    </tr>\n",
       "  </tbody>\n",
       "</table>\n",
       "</div>"
      ],
      "text/plain": [
       "       source                 data_type  \\\n",
       "0  foundation           foundation_food   \n",
       "1  foundation           sub_sample_food   \n",
       "2  foundation        market_acquisition   \n",
       "3  foundation  agricultural_acquisition   \n",
       "4  foundation               sample_food   \n",
       "5   sr legacy            sr_legacy_food   \n",
       "6      survey         survey_fndds_food   \n",
       "\n",
       "                                           comment  priority  \\\n",
       "0                                           集合多个样本         1   \n",
       "1                                              NaN         5   \n",
       "2                                       为了化学实验采集来的         3   \n",
       "3                                       直接从原产地采集来的         3   \n",
       "4                                              NaN         4   \n",
       "5              USDA National Nutrient Database(背书)         2   \n",
       "6  食物营养摄入量（NHANES），有经过计算融合了brading和sr leagacy data         6   \n",
       "\n",
       "                            source_type  \n",
       "0           foundation: foundation_food  \n",
       "1           foundation: sub_sample_food  \n",
       "2        foundation: market_acquisition  \n",
       "3  foundation: agricultural_acquisition  \n",
       "4               foundation: sample_food  \n",
       "5             sr legacy: sr_legacy_food  \n",
       "6             survey: survey_fndds_food  "
      ]
     },
     "execution_count": 22,
     "metadata": {},
     "output_type": "execute_result"
    }
   ],
   "source": [
    "# Priority\n",
    "priority = pd.read_csv('../data/来源可信度_score.csv')\n",
    "priority['source_type'] = priority['source']+': ' + priority['data_type']\n",
    "priority"
   ]
  },
  {
   "cell_type": "code",
   "execution_count": 23,
   "metadata": {
    "id": "C043712348904BF5A60182E11DC7DBA2",
    "jupyter": {},
    "notebookId": "6402e649ef4a4bdccd89db2f",
    "scrolled": true,
    "slideshow": {
     "slide_type": "slide"
    },
    "tags": []
   },
   "outputs": [
    {
     "name": "stdout",
     "output_type": "stream",
     "text": [
      "最终去重后的数据 shape： (1151062, 12)\n",
      "涉及食物种类： 21675\n"
     ]
    }
   ],
   "source": [
    "# De-weighting according to priority\n",
    "unique_food_nurtrition = food_nurtrition.merge(priority[['source_type', 'priority']], on='source_type', how='left')\n",
    "unique_food_nurtrition['keep_prio'] = unique_food_nurtrition.groupby(['description', 'name']).pipe(lambda x: x.priority.transform('min'))\n",
    "unique_food_nurtrition = unique_food_nurtrition[unique_food_nurtrition['keep_prio']==unique_food_nurtrition['priority']]\n",
    "print('最终去重后的数据 shape：', unique_food_nurtrition.shape)\n",
    "print('涉及食物种类：', len(set(unique_food_nurtrition['description'])))"
   ]
  },
  {
   "cell_type": "code",
   "execution_count": 24,
   "metadata": {
    "id": "7987617514334B118AF7C959D12318CD",
    "jupyter": {},
    "notebookId": "6402e649ef4a4bdccd89db2f",
    "scrolled": false,
    "slideshow": {
     "slide_type": "slide"
    },
    "tags": []
   },
   "outputs": [
    {
     "name": "stdout",
     "output_type": "stream",
     "text": [
      "查看原始的中间表信息-------------------------------------\n",
      "食物 x 营养物质（用于构建特征）：(21675, 245)\n"
     ]
    },
    {
     "data": {
      "text/html": [
       "<div>\n",
       "<style scoped>\n",
       "    .dataframe tbody tr th:only-of-type {\n",
       "        vertical-align: middle;\n",
       "    }\n",
       "\n",
       "    .dataframe tbody tr th {\n",
       "        vertical-align: top;\n",
       "    }\n",
       "\n",
       "    .dataframe thead th {\n",
       "        text-align: right;\n",
       "    }\n",
       "</style>\n",
       "<table border=\"1\" class=\"dataframe\">\n",
       "  <thead>\n",
       "    <tr style=\"text-align: right;\">\n",
       "      <th>name</th>\n",
       "      <th>description</th>\n",
       "      <th>ergosta-5,7-dienol</th>\n",
       "      <th>ergosta-7,22-dienol</th>\n",
       "      <th>10-formyl folic acid (10hcofa)</th>\n",
       "      <th>25-hydroxycholecalciferol</th>\n",
       "      <th>5-formyltetrahydrofolic acid (5-hcoh4</th>\n",
       "      <th>5-methyl tetrahydrofolate (5-mthf)</th>\n",
       "      <th>alanine</th>\n",
       "      <th>alcohol, ethyl</th>\n",
       "      <th>arginine</th>\n",
       "      <th>...</th>\n",
       "      <th>vitamin d3 (cholecalciferol)</th>\n",
       "      <th>vitamin d4</th>\n",
       "      <th>vitamin e (alpha-tocopherol)</th>\n",
       "      <th>vitamin e, added</th>\n",
       "      <th>vitamin k (dihydrophylloquinone)</th>\n",
       "      <th>vitamin k (menaquinone-4)</th>\n",
       "      <th>vitamin k (phylloquinone)</th>\n",
       "      <th>water</th>\n",
       "      <th>zeaxanthin</th>\n",
       "      <th>zinc, zn</th>\n",
       "    </tr>\n",
       "  </thead>\n",
       "  <tbody>\n",
       "    <tr>\n",
       "      <th>0</th>\n",
       "      <td>egg whites</td>\n",
       "      <td>NaN</td>\n",
       "      <td>NaN</td>\n",
       "      <td>NaN</td>\n",
       "      <td>NaN</td>\n",
       "      <td>NaN</td>\n",
       "      <td>NaN</td>\n",
       "      <td>NaN</td>\n",
       "      <td>NaN</td>\n",
       "      <td>NaN</td>\n",
       "      <td>...</td>\n",
       "      <td>NaN</td>\n",
       "      <td>NaN</td>\n",
       "      <td>NaN</td>\n",
       "      <td>NaN</td>\n",
       "      <td>NaN</td>\n",
       "      <td>NaN</td>\n",
       "      <td>NaN</td>\n",
       "      <td>NaN</td>\n",
       "      <td>NaN</td>\n",
       "      <td>0.00</td>\n",
       "    </tr>\n",
       "    <tr>\n",
       "      <th>1</th>\n",
       "      <td>egg whites, dried</td>\n",
       "      <td>NaN</td>\n",
       "      <td>NaN</td>\n",
       "      <td>NaN</td>\n",
       "      <td>NaN</td>\n",
       "      <td>NaN</td>\n",
       "      <td>NaN</td>\n",
       "      <td>NaN</td>\n",
       "      <td>NaN</td>\n",
       "      <td>NaN</td>\n",
       "      <td>...</td>\n",
       "      <td>NaN</td>\n",
       "      <td>NaN</td>\n",
       "      <td>NaN</td>\n",
       "      <td>NaN</td>\n",
       "      <td>NaN</td>\n",
       "      <td>NaN</td>\n",
       "      <td>NaN</td>\n",
       "      <td>NaN</td>\n",
       "      <td>NaN</td>\n",
       "      <td>0.49</td>\n",
       "    </tr>\n",
       "    <tr>\n",
       "      <th>2</th>\n",
       "      <td>egg yolk</td>\n",
       "      <td>NaN</td>\n",
       "      <td>NaN</td>\n",
       "      <td>NaN</td>\n",
       "      <td>NaN</td>\n",
       "      <td>NaN</td>\n",
       "      <td>NaN</td>\n",
       "      <td>NaN</td>\n",
       "      <td>NaN</td>\n",
       "      <td>NaN</td>\n",
       "      <td>...</td>\n",
       "      <td>NaN</td>\n",
       "      <td>NaN</td>\n",
       "      <td>NaN</td>\n",
       "      <td>NaN</td>\n",
       "      <td>NaN</td>\n",
       "      <td>NaN</td>\n",
       "      <td>NaN</td>\n",
       "      <td>NaN</td>\n",
       "      <td>NaN</td>\n",
       "      <td>2.96</td>\n",
       "    </tr>\n",
       "    <tr>\n",
       "      <th>3</th>\n",
       "      <td>egg yolks, dried</td>\n",
       "      <td>NaN</td>\n",
       "      <td>NaN</td>\n",
       "      <td>NaN</td>\n",
       "      <td>NaN</td>\n",
       "      <td>NaN</td>\n",
       "      <td>NaN</td>\n",
       "      <td>NaN</td>\n",
       "      <td>NaN</td>\n",
       "      <td>NaN</td>\n",
       "      <td>...</td>\n",
       "      <td>NaN</td>\n",
       "      <td>NaN</td>\n",
       "      <td>NaN</td>\n",
       "      <td>NaN</td>\n",
       "      <td>NaN</td>\n",
       "      <td>NaN</td>\n",
       "      <td>NaN</td>\n",
       "      <td>NaN</td>\n",
       "      <td>NaN</td>\n",
       "      <td>7.26</td>\n",
       "    </tr>\n",
       "    <tr>\n",
       "      <th>4</th>\n",
       "      <td>whole eggs</td>\n",
       "      <td>NaN</td>\n",
       "      <td>NaN</td>\n",
       "      <td>NaN</td>\n",
       "      <td>NaN</td>\n",
       "      <td>NaN</td>\n",
       "      <td>NaN</td>\n",
       "      <td>NaN</td>\n",
       "      <td>NaN</td>\n",
       "      <td>NaN</td>\n",
       "      <td>...</td>\n",
       "      <td>NaN</td>\n",
       "      <td>NaN</td>\n",
       "      <td>NaN</td>\n",
       "      <td>NaN</td>\n",
       "      <td>NaN</td>\n",
       "      <td>NaN</td>\n",
       "      <td>NaN</td>\n",
       "      <td>NaN</td>\n",
       "      <td>NaN</td>\n",
       "      <td>1.21</td>\n",
       "    </tr>\n",
       "  </tbody>\n",
       "</table>\n",
       "<p>5 rows × 245 columns</p>\n",
       "</div>"
      ],
      "text/plain": [
       "name         description   ergosta-5,7-dienol   ergosta-7,22-dienol  \\\n",
       "0             egg whites                  NaN                   NaN   \n",
       "1      egg whites, dried                  NaN                   NaN   \n",
       "2               egg yolk                  NaN                   NaN   \n",
       "3       egg yolks, dried                  NaN                   NaN   \n",
       "4             whole eggs                  NaN                   NaN   \n",
       "\n",
       "name  10-formyl folic acid (10hcofa)  25-hydroxycholecalciferol  \\\n",
       "0                                NaN                        NaN   \n",
       "1                                NaN                        NaN   \n",
       "2                                NaN                        NaN   \n",
       "3                                NaN                        NaN   \n",
       "4                                NaN                        NaN   \n",
       "\n",
       "name  5-formyltetrahydrofolic acid (5-hcoh4  \\\n",
       "0                                       NaN   \n",
       "1                                       NaN   \n",
       "2                                       NaN   \n",
       "3                                       NaN   \n",
       "4                                       NaN   \n",
       "\n",
       "name  5-methyl tetrahydrofolate (5-mthf)  alanine  alcohol, ethyl  arginine  \\\n",
       "0                                    NaN      NaN             NaN       NaN   \n",
       "1                                    NaN      NaN             NaN       NaN   \n",
       "2                                    NaN      NaN             NaN       NaN   \n",
       "3                                    NaN      NaN             NaN       NaN   \n",
       "4                                    NaN      NaN             NaN       NaN   \n",
       "\n",
       "name  ...  vitamin d3 (cholecalciferol)  vitamin d4  \\\n",
       "0     ...                           NaN         NaN   \n",
       "1     ...                           NaN         NaN   \n",
       "2     ...                           NaN         NaN   \n",
       "3     ...                           NaN         NaN   \n",
       "4     ...                           NaN         NaN   \n",
       "\n",
       "name  vitamin e (alpha-tocopherol)  vitamin e, added  \\\n",
       "0                              NaN               NaN   \n",
       "1                              NaN               NaN   \n",
       "2                              NaN               NaN   \n",
       "3                              NaN               NaN   \n",
       "4                              NaN               NaN   \n",
       "\n",
       "name  vitamin k (dihydrophylloquinone)  vitamin k (menaquinone-4)  \\\n",
       "0                                  NaN                        NaN   \n",
       "1                                  NaN                        NaN   \n",
       "2                                  NaN                        NaN   \n",
       "3                                  NaN                        NaN   \n",
       "4                                  NaN                        NaN   \n",
       "\n",
       "name  vitamin k (phylloquinone)  water  zeaxanthin  zinc, zn  \n",
       "0                           NaN    NaN         NaN      0.00  \n",
       "1                           NaN    NaN         NaN      0.49  \n",
       "2                           NaN    NaN         NaN      2.96  \n",
       "3                           NaN    NaN         NaN      7.26  \n",
       "4                           NaN    NaN         NaN      1.21  \n",
       "\n",
       "[5 rows x 245 columns]"
      ]
     },
     "execution_count": 24,
     "metadata": {},
     "output_type": "execute_result"
    }
   ],
   "source": [
    "food_features = unique_food_nurtrition.pivot(index = 'description', columns = 'name', values = 'median').reset_index()\n",
    "print('查看原始的中间表信息-------------------------------------')\n",
    "print(f\"食物 x 营养物质（用于构建特征）：{food_features.shape}\")\n",
    "food_features.head()"
   ]
  },
  {
   "cell_type": "markdown",
   "metadata": {
    "id": "C4C057D8144149449719E47C99F7D525",
    "jupyter": {},
    "notebookId": "6402e649ef4a4bdccd89db2f",
    "runtime": {
     "execution_status": null,
     "status": "default"
    },
    "scrolled": false,
    "slideshow": {
     "slide_type": "slide"
    },
    "tags": []
   },
   "source": [
    "## food-compounds            \n",
    "            \n",
    "Mounted knowledge base data source: **source Food & Nutrients**, see notebook **\"Data Source Validation \"** for details            \n",
    "            \n",
    "            \n",
    "- Simple pre-processing of crawled data            \n",
    "- Food compound content, scaled to between 0.01 and 1 in compounds (if a food f has the highest compound a and b content of all foods, then fa=1 & fb=1)            \n",
    "            \n",
    "            \n",
    "### Read the data source"
   ]
  },
  {
   "cell_type": "code",
   "execution_count": 14,
   "metadata": {
    "id": "7EA7D8CC018949A48DED831FCC18B67A",
    "jupyter": {},
    "notebookId": "6402e649ef4a4bdccd89db2f",
    "scrolled": false,
    "slideshow": {
     "slide_type": "slide"
    },
    "tags": []
   },
   "outputs": [],
   "source": [
    "web_food = pd.read_excel('/home/mw/input/sr_food_nur5672/FoodDB爬取数据.xlsx')#('/home/mw/input/web_food3967/初始完整版.xlsx')\n",
    "display(web_food.head())"
   ]
  },
  {
   "cell_type": "markdown",
   "metadata": {
    "id": "7A53D47248FC4F97AEEC810D1A8FDD1D",
    "jupyter": {},
    "notebookId": "6402e649ef4a4bdccd89db2f",
    "runtime": {
     "execution_status": null,
     "status": "default"
    },
    "scrolled": false,
    "slideshow": {
     "slide_type": "slide"
    },
    "tags": []
   },
   "source": [
    "### Pre-processing"
   ]
  },
  {
   "cell_type": "code",
   "execution_count": 15,
   "metadata": {
    "id": "0EEAAA12B3B24C419A94393F722AB0FC",
    "jupyter": {},
    "notebookId": "6402e649ef4a4bdccd89db2f",
    "scrolled": false,
    "slideshow": {
     "slide_type": "slide"
    },
    "tags": []
   },
   "outputs": [],
   "source": [
    "web_food = web_food.drop('id', axis=1)\n",
    "pattern = r\"[a-z A-Z]\"\n",
    "cond_a = web_food['平均值'].astype(str).str.contains(pattern, regex=True)\n",
    "cond_b = web_food['最小值'].astype(str).str.contains(pattern, regex=True)\n",
    "cond_c = web_food['最大值'].astype(str).str.contains(pattern, regex=True)\n",
    "cond = zip(cond_a.to_list(), cond_b.to_list(), cond_c.to_list())\n",
    "cond = map(lambda x: x[0] or x[1] or x[2], cond)\n",
    "cond = pd.Series(list(cond))\n",
    "web_food = web_food[~cond]\n",
    "# Find a list of unique compounds\n",
    "comlist_web = web_food['化合物名称'].tolist()\n",
    "comlist_web = set(comlist_web)"
   ]
  },
  {
   "cell_type": "code",
   "execution_count": 16,
   "metadata": {
    "id": "B275E6BA6C1F41C9876619F093AEFF7F",
    "jupyter": {},
    "notebookId": "6402e649ef4a4bdccd89db2f",
    "scrolled": false,
    "slideshow": {
     "slide_type": "slide"
    },
    "tags": []
   },
   "outputs": [],
   "source": [
    "#Formatting & Converting names to lower case\n",
    "food_compound = web_food[[\"食物名称\",\"化合物名称\", \"平均值\", \"计量单位\"]]\n",
    "food_compound.columns = [\"food_name\", \"compound_name\", \"standard_content\", \"orig_unit\"]\n",
    "food_compound = food_compound.reset_index()\n",
    "\n",
    "food_compound['food_lower'] = food_compound['food_name'].apply(lambda x: x.lower())\n",
    "food_compound['cmp_lower'] = food_compound['compound_name'].apply(lambda x: x.lower())\n",
    "\n",
    "# Data scaling\n",
    "scaler1=preprocessing.MinMaxScaler()\n",
    "food_compound = food_compound.join(food_compound.groupby(['cmp_lower'])[['standard_content']].apply(lambda x: pd.DataFrame(scaler1.fit_transform(x), index=x.index, columns=['scaler'])))\n",
    "food_compound['scaler'] = 0.01 + food_compound['scaler']*0.99\n",
    "\n",
    "unique_food_compound = list(set(food_compound['cmp_lower']))\n",
    "unique_food = list(set(food_compound['food_lower']))\n",
    "\n",
    "display(food_compound.head())\n",
    "print(f'食物{len(unique_food)}：共涉及化合物{len(unique_food_compound)}种')"
   ]
  },
  {
   "cell_type": "markdown",
   "metadata": {
    "id": "CD75AD6BBFB8421BA53F4B2EC70BFB6F",
    "jupyter": {},
    "notebookId": "6402e649ef4a4bdccd89db2f",
    "runtime": {
     "execution_status": null,
     "status": "default"
    },
    "scrolled": false,
    "slideshow": {
     "slide_type": "slide"
    },
    "tags": []
   },
   "source": [
    "## Nutrients - Food - Compounds            \n",
    "            \n",
    "Nutrient-related food names do not match compound-related food names. To establish the correspondence, the relationship tables food_matchindisease_nutrition.csv, food_rela2.csv are constructed manually + in code            \n",
    "            \n",
    "### Read the relationship table            \n",
    "            \n",
    "food_disease: from food compounds            \n",
    "long: from food nutrient"
   ]
  },
  {
   "cell_type": "code",
   "execution_count": 98,
   "metadata": {
    "id": "30F45844D5F1413E8AD9414ED2CB9E0A",
    "jupyter": {},
    "notebookId": "6402e649ef4a4bdccd89db2f",
    "scrolled": false,
    "slideshow": {
     "slide_type": "slide"
    },
    "tags": []
   },
   "outputs": [],
   "source": [
    "food_name_match_manul = pd.read_csv('../data/food_matchindisease_nutrition.csv').drop_duplicates()\n",
    "food_name_match_manul = food_name_match_manul[\n",
    "    food_name_match_manul['food_disease'].isin(food_compound['food_lower']) &\n",
    "    food_name_match_manul['long'].isin(food_features['description']) ]\n",
    "food_name_match_manul = food_name_match_manul[~food_name_match_manul['food_disease'].isin(['dill', 'water'])]\n",
    "\n",
    "food_name_2 = pd.read_csv('../data/food_rela2.csv')\n",
    "food_name_match = pd.concat([food_name_match_manul, food_name_2])\n",
    "print(f\"将 营养物质_食物 {len(set(food_name_match['long']))} 与 化合物_食物 {len(set(food_name_match['food_disease']))} 建立关联\")\n",
    "food_name_match.head()"
   ]
  },
  {
   "cell_type": "code",
   "execution_count": 69,
   "metadata": {
    "id": "122107EF5D044B2D9F0616C4B35BE56E",
    "jupyter": {},
    "notebookId": "6402e649ef4a4bdccd89db2f",
    "scrolled": false,
    "slideshow": {
     "slide_type": "slide"
    },
    "tags": []
   },
   "outputs": [
    {
     "data": {
      "text/html": [
       "<div>\n",
       "<style scoped>\n",
       "    .dataframe tbody tr th:only-of-type {\n",
       "        vertical-align: middle;\n",
       "    }\n",
       "\n",
       "    .dataframe tbody tr th {\n",
       "        vertical-align: top;\n",
       "    }\n",
       "\n",
       "    .dataframe thead th {\n",
       "        text-align: right;\n",
       "    }\n",
       "</style>\n",
       "<table border=\"1\" class=\"dataframe\">\n",
       "  <thead>\n",
       "    <tr style=\"text-align: right;\">\n",
       "      <th></th>\n",
       "      <th>food_disease</th>\n",
       "      <th>long</th>\n",
       "    </tr>\n",
       "  </thead>\n",
       "  <tbody>\n",
       "    <tr>\n",
       "      <th>0</th>\n",
       "      <td>alfalfa</td>\n",
       "      <td>alfalfa sprouts, raw</td>\n",
       "    </tr>\n",
       "    <tr>\n",
       "      <th>1</th>\n",
       "      <td>almond</td>\n",
       "      <td>almonds, nfs</td>\n",
       "    </tr>\n",
       "    <tr>\n",
       "      <th>2</th>\n",
       "      <td>apple</td>\n",
       "      <td>apples, granny smith, with skin, raw</td>\n",
       "    </tr>\n",
       "    <tr>\n",
       "      <th>3</th>\n",
       "      <td>apple</td>\n",
       "      <td>apples, honeycrisp, with skin, raw</td>\n",
       "    </tr>\n",
       "    <tr>\n",
       "      <th>4</th>\n",
       "      <td>apple</td>\n",
       "      <td>apples, raw, gala, with skin (includes foods f...</td>\n",
       "    </tr>\n",
       "  </tbody>\n",
       "</table>\n",
       "</div>"
      ],
      "text/plain": [
       "  food_disease                                               long\n",
       "0      alfalfa                               alfalfa sprouts, raw\n",
       "1       almond                                       almonds, nfs\n",
       "2        apple               apples, granny smith, with skin, raw\n",
       "3        apple                 apples, honeycrisp, with skin, raw\n",
       "4        apple  apples, raw, gala, with skin (includes foods f..."
      ]
     },
     "execution_count": 69,
     "metadata": {},
     "output_type": "execute_result"
    }
   ],
   "source": [
    "# 运行下述注释代码，可生成 food_name_2 补充关联表的源\n",
    "# enhence_match = pd.DataFrame()\n",
    "# left_long = set(food_features['description'])-set(food_name_match_manul['long'])\n",
    "# left_nur = set(food_compound['food_lower'])-set(food_name_match_manul['food_disease'])\n",
    "# for nur in left_nur:\n",
    "#     sub_df = pd.DataFrame({'food_disease': nur, 'long': list(left_long)})\n",
    "#     sub_df['score'] = sub_df['long'].apply(lambda x: name_similar(x, nur))\n",
    "#     sub_df = sub_df.sort_values('score', ascending=False).reset_index(drop=True)[0:10]\n",
    "#     enhence_match = pd.concat([enhence_match, sub_df[sub_df['score']>0.6]])\n",
    "# enhence_match.to_csv('/home/mw/temp/temp_match.csv', index=False)"
   ]
  },
  {
   "cell_type": "markdown",
   "metadata": {
    "id": "EDF517225CF84F15889D45BB3FD84766",
    "jupyter": {},
    "notebookId": "6402e649ef4a4bdccd89db2f",
    "runtime": {
     "execution_status": null,
     "status": "default"
    },
    "scrolled": false,
    "slideshow": {
     "slide_type": "slide"
    },
    "tags": []
   },
   "source": [
    "### Name matching de-duplication            \n",
    "            \n",
    "Allowing many-to-one cases (different food features that can correspond to the same compound, i.e. the same disease relationship), provided that the duplicate term is less than or equal to 5 and those exceeding it are taken to 5;            \n",
    "not allowing one-to-many cases (same food features corresponding to different disease relationships), with one-to-many treated as one-to-one correspondence            \n",
    "Cases where many-to-many is not allowed, food compounds are first de-duplicated and then processed as many-to-one.            \n",
    "            \n",
    "De-duplication gives priority to retaining those with higher similarity to the target string!"
   ]
  },
  {
   "cell_type": "code",
   "execution_count": 99,
   "metadata": {
    "id": "E04D2E0A46214D3A91E5CAE67EF9AB61",
    "jupyter": {},
    "notebookId": "6402e649ef4a4bdccd89db2f",
    "scrolled": false,
    "slideshow": {
     "slide_type": "slide"
    },
    "tags": []
   },
   "outputs": [],
   "source": [
    "dupli_long = food_name_match.groupby('food_disease')['long'].agg(['count', 'unique']).reset_index()\n",
    "dupli_fd = food_name_match.groupby('long')['food_disease'].agg(['count', 'unique']).reset_index()"
   ]
  },
  {
   "cell_type": "code",
   "execution_count": 100,
   "metadata": {
    "id": "7DDA6090F46E44F5AC066ACC174B7D2E",
    "jupyter": {},
    "notebookId": "6402e649ef4a4bdccd89db2f",
    "scrolled": false,
    "slideshow": {
     "slide_type": "slide"
    },
    "tags": []
   },
   "outputs": [
    {
     "name": "stdout",
     "output_type": "stream",
     "text": [
      "一一对应： 367 vs 367\n"
     ]
    }
   ],
   "source": [
    "# step 1:One by one correspondence\n",
    "unique_twoside = food_name_match[\n",
    "    (food_name_match['long'].isin(dupli_fd.query('count==1')['long'])) &\n",
    "    (food_name_match['food_disease'].isin(dupli_long.query('count==1')['food_disease']))]\n",
    "print(\"一一对应：\", len(set(unique_twoside['food_disease'])), 'vs', len(set(unique_twoside['long'])))"
   ]
  },
  {
   "cell_type": "code",
   "execution_count": 101,
   "metadata": {
    "id": "5284ADE224784F01854144A9130EA00E",
    "jupyter": {},
    "notebookId": "6402e649ef4a4bdccd89db2f",
    "scrolled": false,
    "slideshow": {
     "slide_type": "slide"
    },
    "tags": []
   },
   "outputs": [
    {
     "name": "stdout",
     "output_type": "stream",
     "text": [
      "待处理 营养物质食物： 692 化合物食物： 157\n",
      "剩余 营养物质食物： 468 化合物食物： 37\n",
      "关系表新增 营养物质食物： 224 化合物食物： 120\n"
     ]
    }
   ],
   "source": [
    "# step 2: Handling duplicates\n",
    "food_long = set(food_name_match['long'])-set(unique_twoside['long'])\n",
    "food_cmp = set(food_name_match['food_disease'])-set(unique_twoside['food_disease'])\n",
    "long_prepare, cmp_prepare = [], []\n",
    "\n",
    "print(\"待处理 营养物质食物：\", len(food_long), \"化合物食物：\", len(food_cmp))\n",
    "for l in food_long:\n",
    "    sub_df = food_name_match[(food_name_match['long'].isin(food_long)) & (food_name_match['food_disease'].isin(food_cmp))]\n",
    "    all_fd = sub_df[sub_df['long']==l].reset_index(drop=True)\n",
    "    if (len(all_fd)==0) or (l not in food_long):\n",
    "        # The best match has been removed at step1 and cannot be paired\n",
    "        continue\n",
    "    elif len(all_fd)==1:\n",
    "        # Multiple nutrient foods for one compound food, only top 5 nutrient foods are retained\n",
    "        f_cmp = all_fd['food_disease'][0]\n",
    "        all_nur = sub_df[sub_df['food_disease']==f_cmp].reset_index(drop=True)\n",
    "        all_nur['score'] = all_nur['long'].apply(lambda x: name_similar(x, f_cmp))\n",
    "        all_nur = all_nur.sort_values('score', ascending=False).reset_index(drop=True)\n",
    "        sub_long = all_nur['long'][0:3]\n",
    "        sub_nur = all_nur['food_disease'][0:3]\n",
    "    else:\n",
    "        # One nutrient food corresponds to multiple compound foods, keeping only one compound food (including many-to-many)\n",
    "        all_fd['score'] = all_fd['food_disease'].apply(lambda x: name_similar(x, l))\n",
    "        all_fd = all_fd.sort_values('score', ascending=False).reset_index(drop=True)\n",
    "        sub_long = [all_fd['long'][0]]\n",
    "        sub_nur = [all_fd['food_disease'][0]]\n",
    "        \n",
    "    cmp_prepare.extend(sub_nur)\n",
    "    long_prepare.extend(sub_long)\n",
    "    assert len(cmp_prepare)==len(long_prepare), l\n",
    "    food_long = food_long - set(sub_long)\n",
    "    food_cmp = food_cmp - set(sub_nur)\n",
    "        \n",
    "print(\"剩余 营养物质食物：\", len(food_long), \"化合物食物：\", len(food_cmp))\n",
    "\n",
    "dupli_deal = pd.DataFrame({'food_disease': cmp_prepare, 'long': long_prepare})\n",
    "print(\"关系表新增 营养物质食物：\", len(set(dupli_deal['long'])), \"化合物食物：\", len(set(dupli_deal['food_disease'])))"
   ]
  },
  {
   "cell_type": "code",
   "execution_count": 102,
   "metadata": {
    "id": "3FF1DE9629DE4EAB81F141BAFD4829D5",
    "jupyter": {},
    "notebookId": "6402e649ef4a4bdccd89db2f",
    "scrolled": true,
    "slideshow": {
     "slide_type": "slide"
    },
    "tags": []
   },
   "outputs": [
    {
     "name": "stdout",
     "output_type": "stream",
     "text": [
      "营养物质食物： 591 化合物食物： 487\n"
     ]
    },
    {
     "data": {
      "text/html": [
       "<div>\n",
       "<style scoped>\n",
       "    .dataframe tbody tr th:only-of-type {\n",
       "        vertical-align: middle;\n",
       "    }\n",
       "\n",
       "    .dataframe tbody tr th {\n",
       "        vertical-align: top;\n",
       "    }\n",
       "\n",
       "    .dataframe thead th {\n",
       "        text-align: right;\n",
       "    }\n",
       "</style>\n",
       "<table border=\"1\" class=\"dataframe\">\n",
       "  <thead>\n",
       "    <tr style=\"text-align: right;\">\n",
       "      <th></th>\n",
       "      <th>food_disease</th>\n",
       "      <th>long</th>\n",
       "      <th>food_id</th>\n",
       "    </tr>\n",
       "  </thead>\n",
       "  <tbody>\n",
       "    <tr>\n",
       "      <th>0</th>\n",
       "      <td>alfalfa</td>\n",
       "      <td>alfalfa sprouts, raw</td>\n",
       "      <td>food_0</td>\n",
       "    </tr>\n",
       "    <tr>\n",
       "      <th>1</th>\n",
       "      <td>almond</td>\n",
       "      <td>almonds, nfs</td>\n",
       "      <td>food_1</td>\n",
       "    </tr>\n",
       "    <tr>\n",
       "      <th>2</th>\n",
       "      <td>chicory roots</td>\n",
       "      <td>chicory roots, raw</td>\n",
       "      <td>food_2</td>\n",
       "    </tr>\n",
       "    <tr>\n",
       "      <th>3</th>\n",
       "      <td>jalapeno pepper</td>\n",
       "      <td>pepper, raw, nfs</td>\n",
       "      <td>food_3</td>\n",
       "    </tr>\n",
       "    <tr>\n",
       "      <th>4</th>\n",
       "      <td>black raisin</td>\n",
       "      <td>raisins</td>\n",
       "      <td>food_4</td>\n",
       "    </tr>\n",
       "  </tbody>\n",
       "</table>\n",
       "</div>"
      ],
      "text/plain": [
       "      food_disease                  long food_id\n",
       "0          alfalfa  alfalfa sprouts, raw  food_0\n",
       "1           almond          almonds, nfs  food_1\n",
       "2    chicory roots    chicory roots, raw  food_2\n",
       "3  jalapeno pepper      pepper, raw, nfs  food_3\n",
       "4     black raisin               raisins  food_4"
      ]
     },
     "execution_count": 102,
     "metadata": {},
     "output_type": "execute_result"
    }
   ],
   "source": [
    "# step 3: Splicing the new relationship table\n",
    "new_match = pd.concat([unique_twoside, dupli_deal]).reset_index(drop=True)\n",
    "print(\"营养物质食物：\", len(set(new_match['long'])), \"化合物食物：\", len(set(new_match['food_disease'])))\n",
    "new_match['food_id'] = list(map(lambda x: 'food_'+str(x), list(range(len(new_match)))))\n",
    "new_match.head()"
   ]
  },
  {
   "cell_type": "markdown",
   "metadata": {
    "id": "46F2AA2034644BB7A88734D67DFF4866",
    "jupyter": {},
    "notebookId": "6402e649ef4a4bdccd89db2f",
    "runtime": {
     "execution_status": null,
     "status": "default"
    },
    "scrolled": false,
    "slideshow": {
     "slide_type": "slide"
    },
    "tags": []
   },
   "source": [
    "### Associated nutrients, compounds"
   ]
  },
  {
   "cell_type": "code",
   "execution_count": 103,
   "metadata": {
    "id": "90A10A3EDE6A4CAB9E72E8B592D06A98",
    "jupyter": {},
    "notebookId": "6402e649ef4a4bdccd89db2f",
    "scrolled": false,
    "slideshow": {
     "slide_type": "slide"
    },
    "tags": []
   },
   "outputs": [
    {
     "data": {
      "text/html": [
       "<div>\n",
       "<style scoped>\n",
       "    .dataframe tbody tr th:only-of-type {\n",
       "        vertical-align: middle;\n",
       "    }\n",
       "\n",
       "    .dataframe tbody tr th {\n",
       "        vertical-align: top;\n",
       "    }\n",
       "\n",
       "    .dataframe thead th {\n",
       "        text-align: right;\n",
       "    }\n",
       "</style>\n",
       "<table border=\"1\" class=\"dataframe\">\n",
       "  <thead>\n",
       "    <tr style=\"text-align: right;\">\n",
       "      <th></th>\n",
       "      <th>food_id</th>\n",
       "      <th>ergosta-5,7-dienol</th>\n",
       "      <th>ergosta-7,22-dienol</th>\n",
       "      <th>25-hydroxycholecalciferol</th>\n",
       "      <th>alanine</th>\n",
       "      <th>alcohol, ethyl</th>\n",
       "      <th>arginine</th>\n",
       "      <th>ash</th>\n",
       "      <th>aspartic acid</th>\n",
       "      <th>beta-sitostanol</th>\n",
       "      <th>...</th>\n",
       "      <th>vitamin d3 (cholecalciferol)</th>\n",
       "      <th>vitamin d4</th>\n",
       "      <th>vitamin e (alpha-tocopherol)</th>\n",
       "      <th>vitamin e, added</th>\n",
       "      <th>vitamin k (dihydrophylloquinone)</th>\n",
       "      <th>vitamin k (menaquinone-4)</th>\n",
       "      <th>vitamin k (phylloquinone)</th>\n",
       "      <th>water</th>\n",
       "      <th>zeaxanthin</th>\n",
       "      <th>zinc, zn</th>\n",
       "    </tr>\n",
       "  </thead>\n",
       "  <tbody>\n",
       "    <tr>\n",
       "      <th>0</th>\n",
       "      <td>food_0</td>\n",
       "      <td>NaN</td>\n",
       "      <td>NaN</td>\n",
       "      <td>NaN</td>\n",
       "      <td>NaN</td>\n",
       "      <td>0.0</td>\n",
       "      <td>NaN</td>\n",
       "      <td>NaN</td>\n",
       "      <td>NaN</td>\n",
       "      <td>NaN</td>\n",
       "      <td>...</td>\n",
       "      <td>NaN</td>\n",
       "      <td>NaN</td>\n",
       "      <td>0.02</td>\n",
       "      <td>0.0</td>\n",
       "      <td>NaN</td>\n",
       "      <td>NaN</td>\n",
       "      <td>30.5</td>\n",
       "      <td>92.82</td>\n",
       "      <td>NaN</td>\n",
       "      <td>0.92</td>\n",
       "    </tr>\n",
       "    <tr>\n",
       "      <th>1</th>\n",
       "      <td>food_1</td>\n",
       "      <td>NaN</td>\n",
       "      <td>NaN</td>\n",
       "      <td>NaN</td>\n",
       "      <td>NaN</td>\n",
       "      <td>0.0</td>\n",
       "      <td>NaN</td>\n",
       "      <td>NaN</td>\n",
       "      <td>NaN</td>\n",
       "      <td>NaN</td>\n",
       "      <td>...</td>\n",
       "      <td>NaN</td>\n",
       "      <td>NaN</td>\n",
       "      <td>23.90</td>\n",
       "      <td>0.0</td>\n",
       "      <td>NaN</td>\n",
       "      <td>NaN</td>\n",
       "      <td>0.0</td>\n",
       "      <td>2.41</td>\n",
       "      <td>NaN</td>\n",
       "      <td>3.31</td>\n",
       "    </tr>\n",
       "    <tr>\n",
       "      <th>2</th>\n",
       "      <td>food_2</td>\n",
       "      <td>NaN</td>\n",
       "      <td>NaN</td>\n",
       "      <td>NaN</td>\n",
       "      <td>NaN</td>\n",
       "      <td>NaN</td>\n",
       "      <td>NaN</td>\n",
       "      <td>0.89</td>\n",
       "      <td>NaN</td>\n",
       "      <td>NaN</td>\n",
       "      <td>...</td>\n",
       "      <td>NaN</td>\n",
       "      <td>NaN</td>\n",
       "      <td>NaN</td>\n",
       "      <td>NaN</td>\n",
       "      <td>NaN</td>\n",
       "      <td>NaN</td>\n",
       "      <td>NaN</td>\n",
       "      <td>80.00</td>\n",
       "      <td>NaN</td>\n",
       "      <td>0.33</td>\n",
       "    </tr>\n",
       "    <tr>\n",
       "      <th>3</th>\n",
       "      <td>food_3</td>\n",
       "      <td>NaN</td>\n",
       "      <td>NaN</td>\n",
       "      <td>NaN</td>\n",
       "      <td>NaN</td>\n",
       "      <td>0.0</td>\n",
       "      <td>NaN</td>\n",
       "      <td>NaN</td>\n",
       "      <td>NaN</td>\n",
       "      <td>NaN</td>\n",
       "      <td>...</td>\n",
       "      <td>NaN</td>\n",
       "      <td>NaN</td>\n",
       "      <td>0.79</td>\n",
       "      <td>0.0</td>\n",
       "      <td>NaN</td>\n",
       "      <td>NaN</td>\n",
       "      <td>6.5</td>\n",
       "      <td>93.30</td>\n",
       "      <td>NaN</td>\n",
       "      <td>0.17</td>\n",
       "    </tr>\n",
       "    <tr>\n",
       "      <th>4</th>\n",
       "      <td>food_4</td>\n",
       "      <td>NaN</td>\n",
       "      <td>NaN</td>\n",
       "      <td>NaN</td>\n",
       "      <td>NaN</td>\n",
       "      <td>0.0</td>\n",
       "      <td>NaN</td>\n",
       "      <td>NaN</td>\n",
       "      <td>NaN</td>\n",
       "      <td>NaN</td>\n",
       "      <td>...</td>\n",
       "      <td>NaN</td>\n",
       "      <td>NaN</td>\n",
       "      <td>0.12</td>\n",
       "      <td>0.0</td>\n",
       "      <td>NaN</td>\n",
       "      <td>NaN</td>\n",
       "      <td>3.5</td>\n",
       "      <td>15.46</td>\n",
       "      <td>NaN</td>\n",
       "      <td>0.36</td>\n",
       "    </tr>\n",
       "  </tbody>\n",
       "</table>\n",
       "<p>5 rows × 213 columns</p>\n",
       "</div>"
      ],
      "text/plain": [
       "  food_id   ergosta-5,7-dienol   ergosta-7,22-dienol  \\\n",
       "0  food_0                  NaN                   NaN   \n",
       "1  food_1                  NaN                   NaN   \n",
       "2  food_2                  NaN                   NaN   \n",
       "3  food_3                  NaN                   NaN   \n",
       "4  food_4                  NaN                   NaN   \n",
       "\n",
       "   25-hydroxycholecalciferol  alanine  alcohol, ethyl  arginine   ash  \\\n",
       "0                        NaN      NaN             0.0       NaN   NaN   \n",
       "1                        NaN      NaN             0.0       NaN   NaN   \n",
       "2                        NaN      NaN             NaN       NaN  0.89   \n",
       "3                        NaN      NaN             0.0       NaN   NaN   \n",
       "4                        NaN      NaN             0.0       NaN   NaN   \n",
       "\n",
       "   aspartic acid  beta-sitostanol  ...  vitamin d3 (cholecalciferol)  \\\n",
       "0            NaN              NaN  ...                           NaN   \n",
       "1            NaN              NaN  ...                           NaN   \n",
       "2            NaN              NaN  ...                           NaN   \n",
       "3            NaN              NaN  ...                           NaN   \n",
       "4            NaN              NaN  ...                           NaN   \n",
       "\n",
       "   vitamin d4  vitamin e (alpha-tocopherol)  vitamin e, added  \\\n",
       "0         NaN                          0.02               0.0   \n",
       "1         NaN                         23.90               0.0   \n",
       "2         NaN                           NaN               NaN   \n",
       "3         NaN                          0.79               0.0   \n",
       "4         NaN                          0.12               0.0   \n",
       "\n",
       "   vitamin k (dihydrophylloquinone)  vitamin k (menaquinone-4)  \\\n",
       "0                               NaN                        NaN   \n",
       "1                               NaN                        NaN   \n",
       "2                               NaN                        NaN   \n",
       "3                               NaN                        NaN   \n",
       "4                               NaN                        NaN   \n",
       "\n",
       "   vitamin k (phylloquinone)  water  zeaxanthin  zinc, zn  \n",
       "0                       30.5  92.82         NaN      0.92  \n",
       "1                        0.0   2.41         NaN      3.31  \n",
       "2                        NaN  80.00         NaN      0.33  \n",
       "3                        6.5  93.30         NaN      0.17  \n",
       "4                        3.5  15.46         NaN      0.36  \n",
       "\n",
       "[5 rows x 213 columns]"
      ]
     },
     "execution_count": 103,
     "metadata": {},
     "output_type": "execute_result"
    }
   ],
   "source": [
    "food_feature_matched = new_match.merge(food_features, left_on='long', right_on= 'description').drop(columns=['food_disease', 'long', 'description'])\n",
    "for col in food_feature_matched.columns[1:]:\n",
    "    tt = food_feature_matched[col]\n",
    "    if sum(np.isnan(tt)) == len(food_feature_matched):\n",
    "        food_feature_matched = food_feature_matched.drop(columns=[col])\n",
    "food_feature_matched.head()"
   ]
  },
  {
   "cell_type": "code",
   "execution_count": 104,
   "metadata": {
    "id": "7A36F4F316D240A882C35F0127E79993",
    "jupyter": {},
    "notebookId": "6402e649ef4a4bdccd89db2f",
    "scrolled": false,
    "slideshow": {
     "slide_type": "slide"
    },
    "tags": []
   },
   "outputs": [
    {
     "data": {
      "text/html": [
       "<div>\n",
       "<style scoped>\n",
       "    .dataframe tbody tr th:only-of-type {\n",
       "        vertical-align: middle;\n",
       "    }\n",
       "\n",
       "    .dataframe tbody tr th {\n",
       "        vertical-align: top;\n",
       "    }\n",
       "\n",
       "    .dataframe thead th {\n",
       "        text-align: right;\n",
       "    }\n",
       "</style>\n",
       "<table border=\"1\" class=\"dataframe\">\n",
       "  <thead>\n",
       "    <tr style=\"text-align: right;\">\n",
       "      <th></th>\n",
       "      <th>food_id</th>\n",
       "      <th>cmp_lower</th>\n",
       "      <th>standard_content</th>\n",
       "      <th>scaler</th>\n",
       "    </tr>\n",
       "  </thead>\n",
       "  <tbody>\n",
       "    <tr>\n",
       "      <th>0</th>\n",
       "      <td>food_0</td>\n",
       "      <td>ash</td>\n",
       "      <td>1166.8</td>\n",
       "      <td>0.025652</td>\n",
       "    </tr>\n",
       "    <tr>\n",
       "      <th>1</th>\n",
       "      <td>food_0</td>\n",
       "      <td>carbohydrate</td>\n",
       "      <td>19500</td>\n",
       "      <td>0.202252</td>\n",
       "    </tr>\n",
       "    <tr>\n",
       "      <th>2</th>\n",
       "      <td>food_0</td>\n",
       "      <td>fat</td>\n",
       "      <td>6650</td>\n",
       "      <td>0.075373</td>\n",
       "    </tr>\n",
       "    <tr>\n",
       "      <th>3</th>\n",
       "      <td>food_0</td>\n",
       "      <td>fatty acids</td>\n",
       "      <td>100</td>\n",
       "      <td>0.010825</td>\n",
       "    </tr>\n",
       "    <tr>\n",
       "      <th>4</th>\n",
       "      <td>food_0</td>\n",
       "      <td>fiber (dietary)</td>\n",
       "      <td>2450</td>\n",
       "      <td>0.101210</td>\n",
       "    </tr>\n",
       "  </tbody>\n",
       "</table>\n",
       "</div>"
      ],
      "text/plain": [
       "  food_id        cmp_lower standard_content    scaler\n",
       "0  food_0              ash           1166.8  0.025652\n",
       "1  food_0     carbohydrate            19500  0.202252\n",
       "2  food_0              fat             6650  0.075373\n",
       "3  food_0      fatty acids              100  0.010825\n",
       "4  food_0  fiber (dietary)             2450  0.101210"
      ]
     },
     "execution_count": 104,
     "metadata": {},
     "output_type": "execute_result"
    }
   ],
   "source": [
    "food_compound_matched= new_match.merge(food_compound, left_on='food_disease', right_on= 'food_lower')\n",
    "food_compound_matched = food_compound_matched[['food_id', 'cmp_lower', 'standard_content', 'scaler']]\n",
    "food_compound_matched.head()"
   ]
  },
  {
   "cell_type": "markdown",
   "metadata": {
    "id": "B8DD6A5CD5FF481083691D71BBD165D3",
    "jupyter": {},
    "notebookId": "6402e649ef4a4bdccd89db2f",
    "runtime": {
     "execution_status": null,
     "status": "default"
    },
    "scrolled": false,
    "slideshow": {
     "slide_type": "slide"
    },
    "tags": []
   },
   "source": [
    "## Save results"
   ]
  },
  {
   "cell_type": "code",
   "execution_count": 105,
   "metadata": {
    "id": "E6B91F5B820B4C8D91C455DC161C865B",
    "jupyter": {},
    "notebookId": "6402e649ef4a4bdccd89db2f",
    "scrolled": false,
    "slideshow": {
     "slide_type": "slide"
    },
    "tags": []
   },
   "outputs": [
    {
     "name": "stdout",
     "output_type": "stream",
     "text": [
      "营养物质 x 食物（用于构建特征）：213 x 591\n",
      "食物 x 化合物（用于构建标签）：591 x 1654\n"
     ]
    }
   ],
   "source": [
    "print(f\"营养物质 x 食物（用于构建特征）：{food_feature_matched.T.shape[0]} x {food_feature_matched.T.shape[1]}\")\n",
    "print(f\"食物 x 化合物（用于构建标签）：{len(set(food_compound_matched['food_id']))} x {len(set(food_compound_matched['cmp_lower']))}\")"
   ]
  },
  {
   "cell_type": "code",
   "execution_count": 1,
   "metadata": {
    "id": "26B710A3401A46ACBE4AAAFF53363697",
    "jupyter": {},
    "notebookId": "6402e649ef4a4bdccd89db2f",
    "scrolled": false,
    "slideshow": {
     "slide_type": "slide"
    },
    "tags": []
   },
   "outputs": [],
   "source": [
    "# food_feature_matched.to_csv('/home/mw/project/data/中间表/food_feature_matched.csv', index=False)\n",
    "# new_match.to_csv('/home/mw/project/data/中间表/foodname_match_relation.csv', index=False)\n",
    "# food_compound_matched.to_csv('/home/mw/project/data/中间表/food_compound_matched.csv', index=False)"
   ]
  },
  {
   "cell_type": "markdown",
   "metadata": {
    "id": "0D3206E124DC4DC38AC5F89F7773E15E",
    "jupyter": {},
    "notebookId": "6402e649ef4a4bdccd89db2f",
    "runtime": {
     "execution_status": null,
     "status": "default"
    },
    "scrolled": false,
    "slideshow": {
     "slide_type": "slide"
    },
    "tags": []
   },
   "source": [
    "### Competition data set slice and dice"
   ]
  },
  {
   "cell_type": "code",
   "execution_count": 52,
   "metadata": {
    "id": "F591BE7FBA4E42669CB128407C522F64",
    "jupyter": {},
    "notebookId": "6402e649ef4a4bdccd89db2f",
    "scrolled": true,
    "slideshow": {
     "slide_type": "slide"
    },
    "tags": []
   },
   "outputs": [
    {
     "name": "stdout",
     "output_type": "stream",
     "text": [
      "有63组食物，疾病关系相同\n"
     ]
    },
    {
     "data": {
      "text/html": [
       "<div>\n",
       "<style scoped>\n",
       "    .dataframe tbody tr th:only-of-type {\n",
       "        vertical-align: middle;\n",
       "    }\n",
       "\n",
       "    .dataframe tbody tr th {\n",
       "        vertical-align: top;\n",
       "    }\n",
       "\n",
       "    .dataframe thead th {\n",
       "        text-align: right;\n",
       "    }\n",
       "</style>\n",
       "<table border=\"1\" class=\"dataframe\">\n",
       "  <thead>\n",
       "    <tr style=\"text-align: right;\">\n",
       "      <th></th>\n",
       "      <th>food_disease</th>\n",
       "      <th>count</th>\n",
       "      <th>min</th>\n",
       "      <th>max</th>\n",
       "      <th>mean</th>\n",
       "      <th>test_a</th>\n",
       "      <th>test_b</th>\n",
       "      <th>train</th>\n",
       "    </tr>\n",
       "  </thead>\n",
       "  <tbody>\n",
       "    <tr>\n",
       "      <th>9</th>\n",
       "      <td>alaska wild rhubarb</td>\n",
       "      <td>2</td>\n",
       "      <td>549</td>\n",
       "      <td>550</td>\n",
       "      <td>549.5</td>\n",
       "      <td>food_549</td>\n",
       "      <td>food_550</td>\n",
       "      <td>NaN</td>\n",
       "    </tr>\n",
       "    <tr>\n",
       "      <th>18</th>\n",
       "      <td>apple</td>\n",
       "      <td>3</td>\n",
       "      <td>559</td>\n",
       "      <td>561</td>\n",
       "      <td>560.0</td>\n",
       "      <td>food_559</td>\n",
       "      <td>food_561</td>\n",
       "      <td>food_560</td>\n",
       "    </tr>\n",
       "    <tr>\n",
       "      <th>32</th>\n",
       "      <td>avocado</td>\n",
       "      <td>3</td>\n",
       "      <td>496</td>\n",
       "      <td>498</td>\n",
       "      <td>497.0</td>\n",
       "      <td>food_496</td>\n",
       "      <td>food_498</td>\n",
       "      <td>food_497</td>\n",
       "    </tr>\n",
       "    <tr>\n",
       "      <th>38</th>\n",
       "      <td>bean</td>\n",
       "      <td>3</td>\n",
       "      <td>393</td>\n",
       "      <td>395</td>\n",
       "      <td>394.0</td>\n",
       "      <td>food_393</td>\n",
       "      <td>food_395</td>\n",
       "      <td>food_394</td>\n",
       "    </tr>\n",
       "    <tr>\n",
       "      <th>46</th>\n",
       "      <td>black radish</td>\n",
       "      <td>3</td>\n",
       "      <td>472</td>\n",
       "      <td>474</td>\n",
       "      <td>473.0</td>\n",
       "      <td>food_472</td>\n",
       "      <td>food_474</td>\n",
       "      <td>food_473</td>\n",
       "    </tr>\n",
       "  </tbody>\n",
       "</table>\n",
       "</div>"
      ],
      "text/plain": [
       "           food_disease  count  min  max   mean    test_a    test_b     train\n",
       "9   alaska wild rhubarb      2  549  550  549.5  food_549  food_550       NaN\n",
       "18                apple      3  559  561  560.0  food_559  food_561  food_560\n",
       "32              avocado      3  496  498  497.0  food_496  food_498  food_497\n",
       "38                 bean      3  393  395  394.0  food_393  food_395  food_394\n",
       "46         black radish      3  472  474  473.0  food_472  food_474  food_473"
      ]
     },
     "execution_count": 52,
     "metadata": {},
     "output_type": "execute_result"
    }
   ],
   "source": [
    "# new_match = pd.read_csv('/home/mw/project/data/中间表/foodname_match_relation.csv')\n",
    "potential = new_match.copy()\n",
    "potential['id_num'] = potential['food_id'].apply(lambda x: int(str(x).split('_')[1]))\n",
    "check_multi = potential.groupby('food_disease')['id_num'].agg({'count', max, min, 'mean'}).reset_index()\n",
    "check_multi = check_multi[check_multi['count']>1]\n",
    "check_multi['test_a'] = check_multi['min'].apply(lambda x: 'food_'+str(x))\n",
    "check_multi['test_b'] = check_multi['max'].apply(lambda x: 'food_'+str(x))\n",
    "check_multi['train'] = check_multi['mean'].apply(lambda x: 'food_'+str(int(x)))\n",
    "check_multi['train'] = np.where(check_multi['count']==2, np.nan, check_multi['train'])\n",
    "print(f\"有{len(check_multi)}组食物，疾病关系相同\")"
   ]
  },
  {
   "cell_type": "code",
   "execution_count": 55,
   "metadata": {
    "id": "5CC6942C86F447B48CA5EE15DF57F365",
    "jupyter": {},
    "notebookId": "6402e649ef4a4bdccd89db2f",
    "scrolled": false,
    "slideshow": {
     "slide_type": "slide"
    },
    "tags": []
   },
   "outputs": [
    {
     "name": "stdout",
     "output_type": "stream",
     "text": [
      "有424组食物，疾病关系相异\n"
     ]
    }
   ],
   "source": [
    "unique_ids = new_match[~new_match['food_disease'].isin(check_multi['food_disease'])].reset_index(drop=True)['food_id']\n",
    "unique_len=len(unique_ids)\n",
    "print(f\"有{unique_len}组食物，疾病关系相异\")"
   ]
  },
  {
   "cell_type": "code",
   "execution_count": 67,
   "metadata": {
    "id": "84E97FD310A948C9AE7E5F6D8DEF33F1",
    "jupyter": {},
    "notebookId": "6402e649ef4a4bdccd89db2f",
    "scrolled": false,
    "slideshow": {
     "slide_type": "slide"
    },
    "tags": []
   },
   "outputs": [
    {
     "name": "stdout",
     "output_type": "stream",
     "text": [
      "训练集： 355 \n",
      "A榜测试集： 118 \n",
      "B榜测试集 118\n"
     ]
    }
   ],
   "source": [
    "test_a = list(check_multi['test_a'])\n",
    "test_b = list(check_multi['test_b'])\n",
    "train = list(check_multi['train'].dropna())\n",
    "\n",
    "rand = random.sample(range(0,unique_len), unique_len)\n",
    "test_a.extend(unique_ids[rand[0:55]])\n",
    "test_b.extend(unique_ids[rand[55:110]])\n",
    "train.extend(unique_ids[rand[110:]])\n",
    "\n",
    "split_resilt = [train, test_a, test_b]\n",
    "print(\"训练集：\", len(train),\"\\nA榜测试集：\", len(test_a), \"\\nB榜测试集\", len(test_b))"
   ]
  },
  {
   "cell_type": "code",
   "execution_count": 69,
   "metadata": {
    "id": "C7E9B5BF5958450AB63A77540DD69B94",
    "jupyter": {},
    "notebookId": "6402e649ef4a4bdccd89db2f",
    "scrolled": false,
    "slideshow": {
     "slide_type": "slide"
    },
    "tags": []
   },
   "outputs": [],
   "source": [
    "# with open('/home/mw/project/data/中间表/split_result.pkl','wb') as fw:\n",
    "#     pkl.dump(split_resilt,fw)"
   ]
  }
 ],
 "metadata": {
  "kernelspec": {
   "display_name": "Python 3 (ipykernel)",
   "language": "python",
   "name": "python3"
  },
  "language_info": {
   "codemirror_mode": {
    "name": "ipython",
    "version": 3
   },
   "file_extension": ".py",
   "mimetype": "text/x-python",
   "name": "python",
   "nbconvert_exporter": "python",
   "pygments_lexer": "ipython3",
   "version": "3.9.16"
  }
 },
 "nbformat": 4,
 "nbformat_minor": 1
}
