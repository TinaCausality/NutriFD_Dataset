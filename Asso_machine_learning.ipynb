{
 "cells": [
  {
   "cell_type": "markdown",
   "metadata": {
    "id": "E84225304E234556911C887C1876F4E9",
    "jupyter": {},
    "notebookId": "640f074cb4f61ef39aae8e50",
    "runtime": {
     "execution_status": null,
     "status": "default"
    },
    "scrolled": false,
    "slideshow": {
     "slide_type": "slide"
    },
    "tags": []
   },
   "source": [
    "# Machine learning models for association inference scores"
   ]
  },
  {
   "cell_type": "code",
   "execution_count": 1,
   "metadata": {
    "id": "9758B9FB48D74332B33386FBD8997260",
    "jupyter": {},
    "notebookId": "640f074cb4f61ef39aae8e50",
    "scrolled": false,
    "slideshow": {
     "slide_type": "slide"
    },
    "tags": []
   },
   "outputs": [],
   "source": [
    "import numpy as np\n",
    "import pandas as pd\n",
    "from tqdm import tqdm\n",
    "import json\n",
    "import multiprocessing as mp\n",
    "\n",
    "import seaborn as sns\n",
    "import matplotlib.pyplot as plt\n",
    "from sklearn import preprocessing\n",
    "from sklearn.model_selection import train_test_split\n",
    "\n",
    "import re\n",
    "import operator"
   ]
  },
  {
   "cell_type": "code",
   "execution_count": 2,
   "metadata": {
    "id": "205E935CF2D545829405E9C5E231554C",
    "jupyter": {},
    "notebookId": "640f074cb4f61ef39aae8e50",
    "scrolled": false,
    "slideshow": {
     "slide_type": "slide"
    },
    "tags": []
   },
   "outputs": [],
   "source": [
    "def trans_float32(data, index_col):\n",
    "    df = data.set_index(index_col)\n",
    "    df = df.astype('float32').reset_index()\n",
    "    return df"
   ]
  },
  {
   "cell_type": "markdown",
   "metadata": {
    "id": "16ED3AF462F24591ABD10C97038C3E09",
    "jupyter": {},
    "notebookId": "640f074cb4f61ef39aae8e50",
    "runtime": {
     "execution_status": null,
     "status": "default"
    },
    "scrolled": false,
    "slideshow": {
     "slide_type": "slide"
    },
    "tags": []
   },
   "source": [
    "# Read all intermediate tables"
   ]
  },
  {
   "cell_type": "code",
   "execution_count": 3,
   "metadata": {
    "id": "22C885CD36C54794B0F33825E3FD781C",
    "jupyter": {},
    "notebookId": "640f074cb4f61ef39aae8e50",
    "scrolled": false,
    "slideshow": {
     "slide_type": "slide"
    },
    "tags": []
   },
   "outputs": [],
   "source": [
    "# Food related\n",
    "food_feature_matched = pd.read_csv('../data/food_feature_matched.csv')\n",
    "# food_disease_matched = pd.read_csv('/home/mw/project/特征中间表/food_disease_matched.csv', index_col=0)\n",
    "match_relation = pd.read_csv('/home/mw/project/data/中间表/foodname_match_relation.csv')\n",
    "\n",
    "# Disease related\n",
    "disease_mirna_total = pd.read_csv('../data/disease_mirna_sim.csv')\n",
    "disease_gene_total = pd.read_csv('../data/disease_simiparity_gene_direct.csv')\n",
    "disease_name_total = pd.read_csv('../data/disease_go_sim.csv')\n",
    "# Label Related\n",
    "disease_food_infer = pd.read_csv('../data//disease_food_infer_4.csv')"
   ]
  },
  {
   "cell_type": "code",
   "execution_count": 4,
   "metadata": {
    "id": "D1DB56A57EEA488D9CC573264E233376",
    "jupyter": {},
    "notebookId": "640f074cb4f61ef39aae8e50",
    "scrolled": false,
    "slideshow": {
     "slide_type": "slide"
    },
    "tags": []
   },
   "outputs": [],
   "source": [
    "# disease_mirna_total\n",
    "# disease_gene_total\n",
    "# disease_name_total\n",
    "# disease_food_infer"
   ]
  },
  {
   "cell_type": "code",
   "execution_count": 5,
   "metadata": {
    "id": "C9D2638ABBFE49BF8FFBE04BB6F99FF2",
    "jupyter": {},
    "notebookId": "640f074cb4f61ef39aae8e50",
    "scrolled": false,
    "slideshow": {
     "slide_type": "slide"
    },
    "tags": []
   },
   "outputs": [],
   "source": [
    "# disease_food_infer = pd.read_csv('/home/mw/input/combine_disease9321/disease_food_infer_direevi.csv')\n",
    "disease_food_infer = disease_food_infer[disease_food_infer['food_lower'].isin(list(match_relation['food_disease']))]\n",
    "disease_food_infer.index = disease_food_infer['food_lower']\n",
    "# disease_food_infer.T[list(food_feature_matched.columns)]"
   ]
  },
  {
   "cell_type": "code",
   "execution_count": 6,
   "metadata": {
    "id": "B1462D20902941E590AE6D1AD9AEB093",
    "jupyter": {},
    "notebookId": "640f074cb4f61ef39aae8e50",
    "scrolled": false,
    "slideshow": {
     "slide_type": "slide"
    },
    "tags": []
   },
   "outputs": [],
   "source": [
    "q1 = pd.DataFrame(list(disease_food_infer['food_lower'].values),columns=['food_disease'])\n",
    "match_relation = pd.merge(q1,match_relation,on='food_disease',how='inner')"
   ]
  },
  {
   "cell_type": "code",
   "execution_count": 7,
   "metadata": {
    "id": "6E5ADE73096144C3AC168BD761D47214",
    "jupyter": {},
    "notebookId": "640f074cb4f61ef39aae8e50",
    "scrolled": false,
    "slideshow": {
     "slide_type": "slide"
    },
    "tags": []
   },
   "outputs": [
    {
     "name": "stdout",
     "output_type": "stream",
     "text": [
      "(579, 215)\n",
      "(579, 198)\n"
     ]
    }
   ],
   "source": [
    "food_feature_matched = pd.merge(match_relation,food_feature_matched,on='food_id',how='inner')\n",
    "# food_feature_matched = pd.merge(match_relation,food_feature_matched,on='food_id',how='inner').drop(['food_disease','food_id'],axis=1)\n",
    "print(food_feature_matched.shape)\n",
    "food_feature_matched = food_feature_matched.drop(list(food_feature_matched.sum()[food_feature_matched.sum() == 0].index),axis=1)\n",
    "print(food_feature_matched.shape)\n",
    "food_feature_matched = food_feature_matched.fillna(0)"
   ]
  },
  {
   "cell_type": "markdown",
   "metadata": {
    "id": "AB1DF731FACB49DE9626A1F83841E332",
    "jupyter": {},
    "notebookId": "640f074cb4f61ef39aae8e50",
    "runtime": {
     "execution_status": null,
     "status": "default"
    },
    "scrolled": false,
    "slideshow": {
     "slide_type": "slide"
    },
    "tags": []
   },
   "source": [
    "## Processing food name"
   ]
  },
  {
   "cell_type": "code",
   "execution_count": 8,
   "metadata": {
    "id": "9D90651F117C47B18EF65AD9E173B14B",
    "jupyter": {},
    "notebookId": "640f074cb4f61ef39aae8e50",
    "scrolled": false,
    "slideshow": {
     "slide_type": "slide"
    },
    "tags": []
   },
   "outputs": [],
   "source": [
    "disease_food_infer = disease_food_infer.T[list(food_feature_matched['food_disease'].values)].T\n",
    "food_feature_matched = food_feature_matched.drop(['long','food_id'],axis=1)\n",
    "disease_food_infer = disease_food_infer.drop(['food_lower'],axis=1)\n",
    "food_feature_matched.index = food_feature_matched['food_disease']\n",
    "food_feature_matched = food_feature_matched.drop(['food_disease'],axis=1)"
   ]
  },
  {
   "cell_type": "markdown",
   "metadata": {
    "id": "3BE6889E5AED45A18F00E2A4CDB546F8",
    "jupyter": {},
    "notebookId": "640f074cb4f61ef39aae8e50",
    "runtime": {
     "execution_status": null,
     "status": "default"
    },
    "scrolled": false,
    "slideshow": {
     "slide_type": "slide"
    },
    "tags": []
   },
   "source": [
    "## Processing disease name"
   ]
  },
  {
   "cell_type": "code",
   "execution_count": 9,
   "metadata": {
    "id": "BF1356978F5746DFB4B1F5193F57AD53",
    "jupyter": {},
    "notebookId": "640f074cb4f61ef39aae8e50",
    "scrolled": false,
    "slideshow": {
     "slide_type": "slide"
    },
    "tags": []
   },
   "outputs": [],
   "source": [
    "\n",
    "def disease_matched(disease_mirna,disease_food):\n",
    "    disease_mirna.index = disease_mirna.columns[1:]\n",
    "    item1 = disease_mirna.columns[1:]\n",
    "    item2 = disease_food.columns\n",
    "    item3 = list(set(item1)&set(item2))\n",
    "    item4 = disease_mirna[item3]\n",
    "    print(item4.shape)\n",
    "    item5 = item4.T[item3]\n",
    "\n",
    "    disease_food[item3]\n",
    "\n",
    "\n",
    "\n",
    "    return item5,disease_food[item3]\n",
    "            "
   ]
  },
  {
   "cell_type": "code",
   "execution_count": 10,
   "metadata": {
    "id": "266D4007D9914137A4B0C304F36994A8",
    "jupyter": {},
    "notebookId": "640f074cb4f61ef39aae8e50",
    "scrolled": false,
    "slideshow": {
     "slide_type": "slide"
    },
    "tags": []
   },
   "outputs": [
    {
     "name": "stdout",
     "output_type": "stream",
     "text": [
      "(997, 320)\n",
      "(3404, 670)\n",
      "(2109, 2109)\n"
     ]
    }
   ],
   "source": [
    "disease_food = disease_food_infer \n",
    "disease_mirna, disease_food_mirna = disease_matched(disease_mirna_total,disease_food)\n",
    "disease_gene, disease_food_gene = disease_matched(disease_gene_total,disease_food)\n",
    "disease_name, disease_food_name = disease_matched(disease_name_total,disease_food)"
   ]
  },
  {
   "cell_type": "code",
   "execution_count": 11,
   "metadata": {
    "id": "4908745D347C44F6BED9203E58CE5EA7",
    "jupyter": {},
    "notebookId": "640f074cb4f61ef39aae8e50",
    "scrolled": false,
    "slideshow": {
     "slide_type": "slide"
    },
    "tags": []
   },
   "outputs": [
    {
     "data": {
      "text/plain": [
       "(2109, 2109)"
      ]
     },
     "execution_count": 11,
     "metadata": {},
     "output_type": "execute_result"
    }
   ],
   "source": [
    "disease_name.shape"
   ]
  },
  {
   "cell_type": "code",
   "execution_count": 12,
   "metadata": {
    "id": "3B4CBA9127584C39A694A90B24CECF20",
    "jupyter": {},
    "notebookId": "640f074cb4f61ef39aae8e50",
    "scrolled": false,
    "slideshow": {
     "slide_type": "slide"
    },
    "tags": []
   },
   "outputs": [],
   "source": [
    "# trea_disease_food.head()"
   ]
  },
  {
   "cell_type": "code",
   "execution_count": 13,
   "metadata": {
    "id": "1E8B1D579A2B400F99830DA8AEC7FE76",
    "jupyter": {},
    "notebookId": "640f074cb4f61ef39aae8e50",
    "scrolled": false,
    "slideshow": {
     "slide_type": "slide"
    },
    "tags": []
   },
   "outputs": [],
   "source": [
    "# disease_food \n",
    "# disease_food_mirna\n",
    "# disease_food_gene\n",
    "# disease_food_name\n",
    "# disease_mirna_total \n",
    "# disease_gene_total\n",
    "# disease_name_total"
   ]
  },
  {
   "cell_type": "markdown",
   "metadata": {
    "id": "8BE33332DD2847E39B93A7E94E2F1232",
    "jupyter": {},
    "notebookId": "640f074cb4f61ef39aae8e50",
    "runtime": {
     "execution_status": null,
     "status": "default"
    },
    "scrolled": false,
    "slideshow": {
     "slide_type": "slide"
    },
    "tags": []
   },
   "source": [
    "disease_mirna_total                            \n",
    "disease_gene_total                            \n",
    "disease_name_total                            \n",
    "disease_food_infer"
   ]
  },
  {
   "cell_type": "markdown",
   "metadata": {
    "id": "8B1AC53663D44F4884BB9E34A4F9D4FF",
    "jupyter": {},
    "notebookId": "640f074cb4f61ef39aae8e50",
    "runtime": {
     "execution_status": null,
     "status": "default"
    },
    "scrolled": false,
    "slideshow": {
     "slide_type": "slide"
    },
    "tags": []
   },
   "source": [
    "## Create X Y"
   ]
  },
  {
   "cell_type": "code",
   "execution_count": 14,
   "metadata": {
    "id": "AEB4A60217EB49E6942108A282901A9C",
    "jupyter": {},
    "notebookId": "640f074cb4f61ef39aae8e50",
    "scrolled": false,
    "slideshow": {
     "slide_type": "slide"
    },
    "tags": []
   },
   "outputs": [],
   "source": [
    "\n",
    "\n",
    "def generate_X_Y(disease_gene,food_feature_matched,disease_food_gene):\n",
    "    try:\n",
    "        columns = list(food_feature_matched.drop(['food_lower'],axis=1).columns)\n",
    "    except:\n",
    "        columns = list(food_feature_matched.columns)\n",
    "    try:\n",
    "        columns.extend(list(disease_gene.drop(['disease'],axis=1).columns))\n",
    "    except:\n",
    "        columns.extend(list(disease_gene.columns))\n",
    "\n",
    "    # print(k1)\n",
    "    # columns.extend(list(disease_gene.columns))\n",
    "    \n",
    "    # try:\n",
    "    #     columns.remove(['food_lower'])\n",
    "    # except:\n",
    "    #     pass\n",
    "    print(len(columns),len(disease_gene.columns),len(food_feature_matched.columns))\n",
    "    disease_food_gene['food_lower'] = disease_food_gene.index\n",
    "    Y_before = disease_food_gene.melt(id_vars=['food_lower'], var_name='disease', value_name='inference score')\n",
    "    X = Y_before\n",
    "    \n",
    "    \n",
    "    food_feature_matched['food_lower'] = food_feature_matched.index\n",
    "    print(X['food_lower'].head())\n",
    "    print(\"-----\")\n",
    "    print(food_feature_matched['food_lower'].head())\n",
    "    X = pd.merge(X,food_feature_matched,on='food_lower',how='inner')\n",
    "    disease_gene['disease'] = disease_gene.index\n",
    "    X = pd.merge(X,disease_gene,on='disease',how='inner')\n",
    "    x = X[columns]\n",
    "    x = x.reset_index(drop=True)\n",
    "    y = X[['inference score']]\n",
    "    y = y.reset_index(drop=True)\n",
    "    return x,y\n"
   ]
  },
  {
   "cell_type": "code",
   "execution_count": 15,
   "metadata": {
    "id": "73757E645CE64396901F2D182345D9CC",
    "jupyter": {},
    "notebookId": "640f074cb4f61ef39aae8e50",
    "scrolled": false,
    "slideshow": {
     "slide_type": "slide"
    },
    "tags": []
   },
   "outputs": [],
   "source": [
    "# x,y = generate_X_Y(disease_gene,food_feature_matched,disease_food_gene)"
   ]
  },
  {
   "cell_type": "markdown",
   "metadata": {
    "id": "8E2DF351835F42C7B795F19BF33BA692",
    "jupyter": {},
    "notebookId": "640f074cb4f61ef39aae8e50",
    "runtime": {
     "execution_status": null,
     "status": "default"
    },
    "scrolled": false,
    "slideshow": {
     "slide_type": "slide"
    },
    "tags": []
   },
   "source": [
    "## function"
   ]
  },
  {
   "cell_type": "code",
   "execution_count": 16,
   "metadata": {
    "id": "0F081EDCFBF74CC5A4847ECE4D7ED88B",
    "jupyter": {},
    "notebookId": "640f074cb4f61ef39aae8e50",
    "scrolled": false,
    "slideshow": {
     "slide_type": "slide"
    },
    "tags": []
   },
   "outputs": [],
   "source": [
    "from sklearn import model_selection\n",
    "from sklearn.tree import DecisionTreeClassifier, export_graphviz\n",
    "from sklearn.model_selection import KFold\n",
    "from sklearn import metrics\n",
    "from sklearn.preprocessing import label_binarize\n",
    "from sklearn.ensemble import RandomForestClassifier\n",
    "from sklearn.pipeline import Pipeline\n",
    "from sklearn.model_selection import GridSearchCV\n",
    "from sklearn.preprocessing import StandardScaler\n",
    "from sklearn.calibration import CalibratedClassifierCV\n",
    "from sklearn.metrics import roc_curve, auc\n",
    "\n",
    "from sklearn import metrics\n"
   ]
  },
  {
   "cell_type": "code",
   "execution_count": 17,
   "metadata": {
    "id": "BC2B4A110B1946ED851CCDA79ADEA1D0",
    "jupyter": {},
    "notebookId": "640f074cb4f61ef39aae8e50",
    "scrolled": false,
    "slideshow": {
     "slide_type": "slide"
    },
    "tags": []
   },
   "outputs": [],
   "source": [
    "def machine_learning_model(model,disease_gene,food_feature_matched,disease_food_gene,multi_label):\n",
    "    x,y = generate_X_Y(disease_gene,food_feature_matched,disease_food_gene)\n",
    "    ## Splitting boxes\n",
    "    k=multi_label\n",
    "    Y_multiple = y[y['inference score']>0][['inference score']]\n",
    "    equal_frequency_cut = pd.qcut(Y_multiple['inference score'], q=k-1, duplicates=\"drop\", labels = range(1, k))\n",
    "    Y_multiple['inference score2'] = equal_frequency_cut.values\n",
    "    Y_multiple = pd.concat([Y_multiple,y],axis=1)\n",
    "    Y_multiple['inference score'] = Y_multiple['inference score2'].cat.add_categories(0).fillna(0)\n",
    "    Y_multiple = Y_multiple.iloc[:,:1]\n",
    "    kf = KFold(n_splits=5,shuffle=False)\n",
    "    del y\n",
    "\n",
    "    gene_auc_total = []\n",
    "    gene_f1_total = []\n",
    "    for train_index , test_index in kf.split(x):\n",
    "        X_train, y_train = x.iloc[train_index], Y_multiple.iloc[train_index][['inference score']]\n",
    "        X_test, y_test = x.iloc[test_index], Y_multiple.iloc[test_index][['inference score']]\n",
    "    # X_train, X_test, y_train, y_test = model_selection.train_test_split(x_,Y_multiple_[['inference score']], test_size = 0.2, random_state = 1234)\n",
    "        tree = model\n",
    "        tree = tree.fit(X_train, y_train)\n",
    "        tree_pred = tree.predict(X_test) \n",
    "        f1 = metrics.f1_score(y_test, tree_pred,average='micro')\n",
    "        class_names = np.unique(y_train)\n",
    "        y_binarize = label_binarize(y_test, classes=class_names)\n",
    "        y_fit=label_binarize(tree_pred, classes = class_names)\n",
    "        fpr, tpr, _= metrics.roc_curve(y_binarize.ravel(),y_fit.ravel())\n",
    "        auc = metrics.auc(fpr, tpr)\n",
    "        gene_auc_total.append(auc)\n",
    "        gene_f1_total.append(f1)\n",
    "    return np.mean(gene_auc_total),np.mean(gene_f1_total)\n"
   ]
  },
  {
   "cell_type": "code",
   "execution_count": 18,
   "metadata": {
    "id": "4F11C91B8DA74C32B299F025ED36B108",
    "jupyter": {},
    "notebookId": "640f074cb4f61ef39aae8e50",
    "scrolled": false,
    "slideshow": {
     "slide_type": "slide"
    },
    "tags": []
   },
   "outputs": [],
   "source": [
    "# def machine_learning_model(model,disease_gene,food_feature_matched,disease_food_gene,multi_label):\n",
    "#     x,y = generate_X_Y(disease_gene,food_feature_matched,disease_food_gene)\n",
    "#     ## 分箱\n",
    "#     k=multi_label\n",
    "#     print(y[y['inference score']>0][['inference score']].shape,y[y['inference score']==0][['inference score']].shape)\n",
    "#     Y_multiple = y[y['inference score']>0][['inference score']]\n",
    "#     # y[y['inference score']>0][['inference score']] = 0\n",
    "#     # equal_frequency_cut = pd.qcut(Y_multiple['inference score'], q=k-1, duplicates=\"drop\", labels = range(1, k))\n",
    "#     Y_multiple['inference score2'] = 1\n",
    "#     Y_multiple = pd.concat([Y_multiple,y],axis=1)\n",
    "#     Y_multiple['inference score'] = Y_multiple['inference score2'].fillna(0)\n",
    "#     Y_multiple = Y_multiple.iloc[:,:1]\n",
    "#     kf = KFold(n_splits=5,shuffle=False)\n",
    "    \n",
    "\n",
    "#     gene_auc_total = []\n",
    "#     gene_f1_total = []\n",
    "#     for train_index , test_index in kf.split(x):\n",
    "#         X_train, y_train = x.iloc[train_index], Y_multiple.iloc[train_index][['inference score']]\n",
    "#         X_test, y_test = x.iloc[test_index], Y_multiple.iloc[test_index][['inference score']]\n",
    "#     # X_train, X_test, y_train, y_test = model_selection.train_test_split(x_,Y_multiple_[['inference score']], test_size = 0.2, random_state = 1234)\n",
    "#         tree = model\n",
    "#         tree = tree.fit(X_train, y_train)\n",
    "#         tree_pred = tree.predict(X_test) \n",
    "#         # f1 = metrics.f1_score(y_test, tree_pred,average='micro')\n",
    "#         # class_names = np.unique(y_train)\n",
    "#         # y_binarize = label_binarize(y_test, classes=class_names)\n",
    "#         # y_fit=label_binarize(tree_pred, classes = class_names)\n",
    "#         # fpr, tpr, _= metrics.roc_curve(y_binarize.ravel(),y_fit.ravel())\n",
    "#         # auc = metrics.auc(fpr, tpr)\n",
    "#         gene_auc_total.append(metrics.roc_auc_score(tree_pred,y_test))\n",
    "#         gene_f1_total.append(metrics.f1_score(tree_pred,y_test))\n",
    "        \n",
    "#         # gene_f1_total.append(metrics.f1_score(tree_pred，y_test))\n",
    "#     return np.mean(gene_auc_total),np.mean(gene_f1_total)\n"
   ]
  },
  {
   "cell_type": "code",
   "execution_count": 19,
   "metadata": {
    "id": "CC2FE8CA8435414DA3EBE2DE0A411AB3",
    "jupyter": {},
    "notebookId": "640f074cb4f61ef39aae8e50",
    "scrolled": false,
    "slideshow": {
     "slide_type": "slide"
    },
    "tags": []
   },
   "outputs": [],
   "source": [
    "def machine_learning_model_parameter(disease_gene,food_feature_matched,disease_food_gene,multi_label):\n",
    "    x,y = generate_X_Y(disease_gene,food_feature_matched,disease_food_gene)\n",
    "    ## Splitting boxes\n",
    "    k=multi_label\n",
    "    Y_multiple = y[y['inference score']>0][['inference score']]\n",
    "    # equal_frequency_cut = pd.qcut(Y_multiple['inference score'], q=k-1, duplicates=\"drop\", labels = range(1, k))\n",
    "    Y_multiple['inference score2'] = 1\n",
    "    Y_multiple = pd.concat([Y_multiple,y],axis=1)\n",
    "    Y_multiple['inference score'] = Y_multiple['inference score2'].fillna(0)\n",
    "    Y_multiple = Y_multiple.iloc[:,:1]\n",
    "    dec_tree = RandomForestClassifier()\n",
    "    # kf = KFold(n_splits=5,shuffle=False)\n",
    "    pipe = Pipeline(steps=[('dec_tree', dec_tree)])\n",
    "    criterion = ['gini', 'entropy']\n",
    "    max_depth = [2,4,6,8,10,12]\n",
    "    parameters = dict(dec_tree__criterion=criterion,\n",
    "                      dec_tree__max_depth=max_depth)\n",
    "    clf_GS = GridSearchCV(pipe, parameters)\n",
    "    clf_GS.fit(x, Y_multiple[['inference score']])\n",
    "    # calibrated_forest = CalibratedClassifierCV(estimator=RandomForestClassifier(n_estimators=10))\n",
    "    # param_grid = {'estimator__max_depth': [2, 4, 6, 8]}\n",
    "    # search = GridSearchCV(calibrated_forest, param_grid, cv=5)\n",
    "    # search.fit(x, Y_multiple[['inference score']])\n",
    "    print('Best Criterion:', clf_GS.best_estimator_.get_params()['dec_tree__criterion'])\n",
    "    print('Best max_depth:', clf_GS.best_estimator_.get_params()['dec_tree__max_depth'])\n"
   ]
  },
  {
   "cell_type": "markdown",
   "metadata": {
    "id": "F70E056889B542B1B35FC3151803ECE2",
    "jupyter": {},
    "notebookId": "640f074cb4f61ef39aae8e50",
    "runtime": {
     "execution_status": null,
     "status": "default"
    },
    "scrolled": false,
    "slideshow": {
     "slide_type": "slide"
    },
    "tags": []
   },
   "source": [
    "## Gene"
   ]
  },
  {
   "cell_type": "code",
   "execution_count": 22,
   "metadata": {
    "id": "D47613D0B1484CBB90B49A46C252AAF7",
    "jupyter": {},
    "notebookId": "640f074cb4f61ef39aae8e50",
    "scrolled": false,
    "slideshow": {
     "slide_type": "slide"
    },
    "tags": []
   },
   "outputs": [],
   "source": [
    "# machine_learning_model(forest_model,disease_gene,food_feature_matched,disease_food_gene,12)"
   ]
  },
  {
   "cell_type": "code",
   "execution_count": 30,
   "metadata": {
    "id": "998F791D93DB4A6F9F8BE11FBC1AB069",
    "jupyter": {},
    "notebookId": "640f074cb4f61ef39aae8e50",
    "scrolled": false,
    "slideshow": {
     "slide_type": "slide"
    },
    "tags": []
   },
   "outputs": [
    {
     "name": "stdout",
     "output_type": "stream",
     "text": [
      "864 670 196\n",
      "0        abiyuch\n",
      "1        acerola\n",
      "2          acorn\n",
      "3    adzuki bean\n",
      "4           agar\n",
      "Name: food_lower, dtype: object\n",
      "-----\n",
      "food_disease\n",
      "abiyuch            abiyuch\n",
      "acerola            acerola\n",
      "acorn                acorn\n",
      "adzuki bean    adzuki bean\n",
      "agar                  agar\n",
      "Name: food_lower, dtype: object\n"
     ]
    },
    {
     "name": "stderr",
     "output_type": "stream",
     "text": [
      "/opt/conda/lib/python3.6/site-packages/ipykernel_launcher.py:19: SettingWithCopyWarning: \n",
      "A value is trying to be set on a copy of a slice from a DataFrame.\n",
      "Try using .loc[row_indexer,col_indexer] = value instead\n",
      "\n",
      "See the caveats in the documentation: http://pandas.pydata.org/pandas-docs/stable/indexing.html#indexing-view-versus-copy\n"
     ]
    },
    {
     "data": {
      "text/plain": [
       "(0.7094871662449, 0.6126495549932001)"
      ]
     },
     "execution_count": 30,
     "metadata": {},
     "output_type": "execute_result"
    }
   ],
   "source": [
    "# dec_tree = RandomForestClassifier(max_depth=4,criterion='gini')\n",
    "dec_tree = DecisionTreeClassifier(random_state=1, criterion=\"entropy\", max_depth=2)\n",
    "# dec_tree = RandomForestClassifier()\n",
    "# tree_model = DecisionTreeClassifier(random_state=1, criterion=\"gini\", max_depth=20,splitter='random',min_samples_split=20)\n",
    "machine_learning_model(dec_tree,disease_gene,food_feature_matched,disease_food_gene,3)"
   ]
  },
  {
   "cell_type": "code",
   "execution_count": 21,
   "metadata": {
    "id": "4A9DFEE2BC9C48F8A9485BCAB59850C1",
    "jupyter": {},
    "notebookId": "640f074cb4f61ef39aae8e50",
    "scrolled": false,
    "slideshow": {
     "slide_type": "slide"
    },
    "tags": []
   },
   "outputs": [
    {
     "name": "stdout",
     "output_type": "stream",
     "text": [
      "864 670 196\n",
      "0        abiyuch\n",
      "1        acerola\n",
      "2          acorn\n",
      "3    adzuki bean\n",
      "4           agar\n",
      "Name: food_lower, dtype: object\n",
      "-----\n",
      "food_disease\n",
      "abiyuch            abiyuch\n",
      "acerola            acerola\n",
      "acorn                acorn\n",
      "adzuki bean    adzuki bean\n",
      "agar                  agar\n",
      "Name: food_lower, dtype: object\n"
     ]
    },
    {
     "name": "stderr",
     "output_type": "stream",
     "text": [
      "/opt/conda/lib/python3.6/site-packages/ipykernel_launcher.py:19: SettingWithCopyWarning: \n",
      "A value is trying to be set on a copy of a slice from a DataFrame.\n",
      "Try using .loc[row_indexer,col_indexer] = value instead\n",
      "\n",
      "See the caveats in the documentation: http://pandas.pydata.org/pandas-docs/stable/indexing.html#indexing-view-versus-copy\n",
      "/opt/conda/lib/python3.6/site-packages/sklearn/ensemble/forest.py:245: FutureWarning: The default value of n_estimators will change from 10 in version 0.20 to 100 in 0.22.\n",
      "  \"10 in version 0.20 to 100 in 0.22.\", FutureWarning)\n",
      "/opt/conda/lib/python3.6/site-packages/ipykernel_launcher.py:21: DataConversionWarning: A column-vector y was passed when a 1d array was expected. Please change the shape of y to (n_samples,), for example using ravel().\n",
      "/opt/conda/lib/python3.6/site-packages/ipykernel_launcher.py:21: DataConversionWarning: A column-vector y was passed when a 1d array was expected. Please change the shape of y to (n_samples,), for example using ravel().\n",
      "/opt/conda/lib/python3.6/site-packages/ipykernel_launcher.py:21: DataConversionWarning: A column-vector y was passed when a 1d array was expected. Please change the shape of y to (n_samples,), for example using ravel().\n",
      "/opt/conda/lib/python3.6/site-packages/ipykernel_launcher.py:21: DataConversionWarning: A column-vector y was passed when a 1d array was expected. Please change the shape of y to (n_samples,), for example using ravel().\n",
      "/opt/conda/lib/python3.6/site-packages/ipykernel_launcher.py:21: DataConversionWarning: A column-vector y was passed when a 1d array was expected. Please change the shape of y to (n_samples,), for example using ravel().\n"
     ]
    },
    {
     "data": {
      "text/plain": [
       "(0.7177813355368486, 0.6237084473824648)"
      ]
     },
     "execution_count": 21,
     "metadata": {},
     "output_type": "execute_result"
    }
   ],
   "source": [
    "dec_tree = RandomForestClassifier(max_depth=4,criterion='gini')\n",
    "# dec_tree = RandomForestClassifier()\n",
    "# tree_model = DecisionTreeClassifier(random_state=1, criterion=\"gini\", max_depth=20,splitter='random',min_samples_split=20)\n",
    "machine_learning_model(dec_tree,disease_gene,food_feature_matched,disease_food_gene,3)"
   ]
  },
  {
   "cell_type": "markdown",
   "metadata": {
    "id": "9C8C6B78C9B7413DAF53AC88012FFE14",
    "jupyter": {},
    "notebookId": "640f074cb4f61ef39aae8e50",
    "runtime": {
     "execution_status": null,
     "status": "default"
    },
    "scrolled": false,
    "slideshow": {
     "slide_type": "slide"
    },
    "tags": []
   },
   "source": [
    "## mirna"
   ]
  },
  {
   "cell_type": "code",
   "execution_count": 31,
   "metadata": {
    "id": "F1A42F429539438D966E5EA9F461F3F9",
    "jupyter": {},
    "notebookId": "640f074cb4f61ef39aae8e50",
    "scrolled": false,
    "slideshow": {
     "slide_type": "slide"
    },
    "tags": []
   },
   "outputs": [
    {
     "name": "stdout",
     "output_type": "stream",
     "text": [
      "515 320 196\n",
      "0        abiyuch\n",
      "1        acerola\n",
      "2          acorn\n",
      "3    adzuki bean\n",
      "4           agar\n",
      "Name: food_lower, dtype: object\n",
      "-----\n",
      "food_disease\n",
      "abiyuch            abiyuch\n",
      "acerola            acerola\n",
      "acorn                acorn\n",
      "adzuki bean    adzuki bean\n",
      "agar                  agar\n",
      "Name: food_lower, dtype: object\n"
     ]
    },
    {
     "name": "stderr",
     "output_type": "stream",
     "text": [
      "/opt/conda/lib/python3.6/site-packages/ipykernel_launcher.py:19: SettingWithCopyWarning: \n",
      "A value is trying to be set on a copy of a slice from a DataFrame.\n",
      "Try using .loc[row_indexer,col_indexer] = value instead\n",
      "\n",
      "See the caveats in the documentation: http://pandas.pydata.org/pandas-docs/stable/indexing.html#indexing-view-versus-copy\n"
     ]
    },
    {
     "data": {
      "text/plain": [
       "(0.6918009299307959, 0.5890679065743946)"
      ]
     },
     "execution_count": 31,
     "metadata": {},
     "output_type": "execute_result"
    }
   ],
   "source": [
    "dec_tree = RandomForestClassifier(max_depth=4,criterion='gini')\n",
    "dec_tree = DecisionTreeClassifier(random_state=1, criterion=\"entropy\", max_depth=2)\n",
    "machine_learning_model(dec_tree,disease_mirna,food_feature_matched,disease_food_mirna,3)"
   ]
  },
  {
   "cell_type": "markdown",
   "metadata": {
    "id": "48861FD29E55414DBB10B41C8A671A99",
    "jupyter": {},
    "notebookId": "640f074cb4f61ef39aae8e50",
    "runtime": {
     "execution_status": null,
     "status": "default"
    },
    "scrolled": false,
    "slideshow": {
     "slide_type": "slide"
    },
    "tags": []
   },
   "source": [
    "## name"
   ]
  },
  {
   "cell_type": "code",
   "execution_count": 34,
   "metadata": {
    "id": "801BEF8B5AA945A6A2C61E760EC2F961",
    "jupyter": {},
    "notebookId": "640f074cb4f61ef39aae8e50",
    "scrolled": false,
    "slideshow": {
     "slide_type": "slide"
    },
    "tags": []
   },
   "outputs": [
    {
     "name": "stdout",
     "output_type": "stream",
     "text": [
      "(2109, 2109) (579, 195) (579, 2109)\n"
     ]
    }
   ],
   "source": [
    "print(disease_name.shape, food_feature_matched.shape,disease_food_name.shape)"
   ]
  },
  {
   "cell_type": "code",
   "execution_count": 35,
   "metadata": {
    "id": "0570A0B92AA145C982226BDFE293C66E",
    "jupyter": {},
    "notebookId": "640f074cb4f61ef39aae8e50",
    "scrolled": false,
    "slideshow": {
     "slide_type": "slide"
    },
    "tags": []
   },
   "outputs": [
    {
     "name": "stdout",
     "output_type": "stream",
     "text": [
      "2303 2109 196\n",
      "0         sunflower\n",
      "1       sweet basil\n",
      "2      sweet cherry\n",
      "3    sweet marjoram\n",
      "4      sweet orange\n",
      "Name: food_lower, dtype: object\n",
      "-----\n",
      "food_disease\n",
      "sunflower              sunflower\n",
      "sweet basil          sweet basil\n",
      "sweet cherry        sweet cherry\n",
      "sweet marjoram    sweet marjoram\n",
      "sweet orange        sweet orange\n",
      "Name: food_lower, dtype: object\n"
     ]
    },
    {
     "name": "stderr",
     "output_type": "stream",
     "text": [
      "/opt/conda/lib/python3.6/site-packages/ipykernel_launcher.py:19: SettingWithCopyWarning: \n",
      "A value is trying to be set on a copy of a slice from a DataFrame.\n",
      "Try using .loc[row_indexer,col_indexer] = value instead\n",
      "\n",
      "See the caveats in the documentation: http://pandas.pydata.org/pandas-docs/stable/indexing.html#indexing-view-versus-copy\n",
      "/opt/conda/lib/python3.6/site-packages/ipykernel_launcher.py:24: SettingWithCopyWarning: \n",
      "A value is trying to be set on a copy of a slice from a DataFrame.\n",
      "Try using .loc[row_indexer,col_indexer] = value instead\n",
      "\n",
      "See the caveats in the documentation: http://pandas.pydata.org/pandas-docs/stable/indexing.html#indexing-view-versus-copy\n"
     ]
    },
    {
     "data": {
      "text/plain": [
       "(0.662152332767181, 0.5495364436895745)"
      ]
     },
     "execution_count": 35,
     "metadata": {},
     "output_type": "execute_result"
    }
   ],
   "source": [
    "machine_learning_model(dec_tree,disease_name,food_feature_matched.iloc[500:,:],disease_food_name.iloc[500:,:],3)"
   ]
  },
  {
   "cell_type": "code",
   "execution_count": 32,
   "metadata": {
    "id": "1FBA4182A78C45EC83E056068A17F082",
    "jupyter": {},
    "notebookId": "640f074cb4f61ef39aae8e50",
    "scrolled": false,
    "slideshow": {
     "slide_type": "slide"
    },
    "tags": []
   },
   "outputs": [
    {
     "name": "stdout",
     "output_type": "stream",
     "text": [
      "0 50\n",
      "(50, 196) (50, 2109)\n",
      "2303 2109 196\n",
      "0        abiyuch\n",
      "1        acerola\n",
      "2          acorn\n",
      "3    adzuki bean\n",
      "4           agar\n",
      "Name: food_lower, dtype: object\n",
      "-----\n",
      "food_disease\n",
      "abiyuch            abiyuch\n",
      "acerola            acerola\n",
      "acorn                acorn\n",
      "adzuki bean    adzuki bean\n",
      "agar                  agar\n",
      "Name: food_lower, dtype: object\n"
     ]
    },
    {
     "name": "stderr",
     "output_type": "stream",
     "text": [
      "/opt/conda/lib/python3.6/site-packages/ipykernel_launcher.py:19: SettingWithCopyWarning: \n",
      "A value is trying to be set on a copy of a slice from a DataFrame.\n",
      "Try using .loc[row_indexer,col_indexer] = value instead\n",
      "\n",
      "See the caveats in the documentation: http://pandas.pydata.org/pandas-docs/stable/indexing.html#indexing-view-versus-copy\n",
      "/opt/conda/lib/python3.6/site-packages/ipykernel_launcher.py:24: SettingWithCopyWarning: \n",
      "A value is trying to be set on a copy of a slice from a DataFrame.\n",
      "Try using .loc[row_indexer,col_indexer] = value instead\n",
      "\n",
      "See the caveats in the documentation: http://pandas.pydata.org/pandas-docs/stable/indexing.html#indexing-view-versus-copy\n"
     ]
    },
    {
     "name": "stdout",
     "output_type": "stream",
     "text": [
      "2303 2109 196\n",
      "0        abiyuch\n",
      "1        acerola\n",
      "2          acorn\n",
      "3    adzuki bean\n",
      "4           agar\n",
      "Name: food_lower, dtype: object\n",
      "-----\n",
      "food_disease\n",
      "abiyuch            abiyuch\n",
      "acerola            acerola\n",
      "acorn                acorn\n",
      "adzuki bean    adzuki bean\n",
      "agar                  agar\n",
      "Name: food_lower, dtype: object\n"
     ]
    },
    {
     "name": "stderr",
     "output_type": "stream",
     "text": [
      "/opt/conda/lib/python3.6/site-packages/ipykernel_launcher.py:19: SettingWithCopyWarning: \n",
      "A value is trying to be set on a copy of a slice from a DataFrame.\n",
      "Try using .loc[row_indexer,col_indexer] = value instead\n",
      "\n",
      "See the caveats in the documentation: http://pandas.pydata.org/pandas-docs/stable/indexing.html#indexing-view-versus-copy\n",
      "/opt/conda/lib/python3.6/site-packages/ipykernel_launcher.py:24: SettingWithCopyWarning: \n",
      "A value is trying to be set on a copy of a slice from a DataFrame.\n",
      "Try using .loc[row_indexer,col_indexer] = value instead\n",
      "\n",
      "See the caveats in the documentation: http://pandas.pydata.org/pandas-docs/stable/indexing.html#indexing-view-versus-copy\n"
     ]
    },
    {
     "name": "stdout",
     "output_type": "stream",
     "text": [
      "50 100\n",
      "(50, 196) (50, 2109)\n",
      "2303 2109 196\n",
      "0       black radish\n",
      "1       black radish\n",
      "2       black radish\n",
      "3       black raisin\n",
      "4    black raspberry\n",
      "Name: food_lower, dtype: object\n",
      "-----\n",
      "food_disease\n",
      "black radish          black radish\n",
      "black radish          black radish\n",
      "black radish          black radish\n",
      "black raisin          black raisin\n",
      "black raspberry    black raspberry\n",
      "Name: food_lower, dtype: object\n"
     ]
    },
    {
     "name": "stderr",
     "output_type": "stream",
     "text": [
      "/opt/conda/lib/python3.6/site-packages/ipykernel_launcher.py:19: SettingWithCopyWarning: \n",
      "A value is trying to be set on a copy of a slice from a DataFrame.\n",
      "Try using .loc[row_indexer,col_indexer] = value instead\n",
      "\n",
      "See the caveats in the documentation: http://pandas.pydata.org/pandas-docs/stable/indexing.html#indexing-view-versus-copy\n",
      "/opt/conda/lib/python3.6/site-packages/ipykernel_launcher.py:24: SettingWithCopyWarning: \n",
      "A value is trying to be set on a copy of a slice from a DataFrame.\n",
      "Try using .loc[row_indexer,col_indexer] = value instead\n",
      "\n",
      "See the caveats in the documentation: http://pandas.pydata.org/pandas-docs/stable/indexing.html#indexing-view-versus-copy\n"
     ]
    },
    {
     "name": "stdout",
     "output_type": "stream",
     "text": [
      "2303 2109 196\n",
      "0       black radish\n",
      "1       black radish\n",
      "2       black radish\n",
      "3       black raisin\n",
      "4    black raspberry\n",
      "Name: food_lower, dtype: object\n",
      "-----\n",
      "food_disease\n",
      "black radish          black radish\n",
      "black radish          black radish\n",
      "black radish          black radish\n",
      "black raisin          black raisin\n",
      "black raspberry    black raspberry\n",
      "Name: food_lower, dtype: object\n"
     ]
    },
    {
     "name": "stderr",
     "output_type": "stream",
     "text": [
      "/opt/conda/lib/python3.6/site-packages/ipykernel_launcher.py:19: SettingWithCopyWarning: \n",
      "A value is trying to be set on a copy of a slice from a DataFrame.\n",
      "Try using .loc[row_indexer,col_indexer] = value instead\n",
      "\n",
      "See the caveats in the documentation: http://pandas.pydata.org/pandas-docs/stable/indexing.html#indexing-view-versus-copy\n",
      "/opt/conda/lib/python3.6/site-packages/ipykernel_launcher.py:24: SettingWithCopyWarning: \n",
      "A value is trying to be set on a copy of a slice from a DataFrame.\n",
      "Try using .loc[row_indexer,col_indexer] = value instead\n",
      "\n",
      "See the caveats in the documentation: http://pandas.pydata.org/pandas-docs/stable/indexing.html#indexing-view-versus-copy\n"
     ]
    },
    {
     "name": "stdout",
     "output_type": "stream",
     "text": [
      "100 150\n",
      "(50, 196) (50, 2109)\n",
      "2303 2109 196\n",
      "0        carrot\n",
      "1        carrot\n",
      "2    cashew nut\n",
      "3       cassava\n",
      "4       catfish\n",
      "Name: food_lower, dtype: object\n",
      "-----\n",
      "food_disease\n",
      "carrot            carrot\n",
      "carrot            carrot\n",
      "cashew nut    cashew nut\n",
      "cassava          cassava\n",
      "catfish          catfish\n",
      "Name: food_lower, dtype: object\n"
     ]
    },
    {
     "name": "stderr",
     "output_type": "stream",
     "text": [
      "/opt/conda/lib/python3.6/site-packages/ipykernel_launcher.py:19: SettingWithCopyWarning: \n",
      "A value is trying to be set on a copy of a slice from a DataFrame.\n",
      "Try using .loc[row_indexer,col_indexer] = value instead\n",
      "\n",
      "See the caveats in the documentation: http://pandas.pydata.org/pandas-docs/stable/indexing.html#indexing-view-versus-copy\n",
      "/opt/conda/lib/python3.6/site-packages/ipykernel_launcher.py:24: SettingWithCopyWarning: \n",
      "A value is trying to be set on a copy of a slice from a DataFrame.\n",
      "Try using .loc[row_indexer,col_indexer] = value instead\n",
      "\n",
      "See the caveats in the documentation: http://pandas.pydata.org/pandas-docs/stable/indexing.html#indexing-view-versus-copy\n"
     ]
    },
    {
     "name": "stdout",
     "output_type": "stream",
     "text": [
      "2303 2109 196\n",
      "0        carrot\n",
      "1        carrot\n",
      "2    cashew nut\n",
      "3       cassava\n",
      "4       catfish\n",
      "Name: food_lower, dtype: object\n",
      "-----\n",
      "food_disease\n",
      "carrot            carrot\n",
      "carrot            carrot\n",
      "cashew nut    cashew nut\n",
      "cassava          cassava\n",
      "catfish          catfish\n",
      "Name: food_lower, dtype: object\n"
     ]
    },
    {
     "name": "stderr",
     "output_type": "stream",
     "text": [
      "/opt/conda/lib/python3.6/site-packages/ipykernel_launcher.py:19: SettingWithCopyWarning: \n",
      "A value is trying to be set on a copy of a slice from a DataFrame.\n",
      "Try using .loc[row_indexer,col_indexer] = value instead\n",
      "\n",
      "See the caveats in the documentation: http://pandas.pydata.org/pandas-docs/stable/indexing.html#indexing-view-versus-copy\n",
      "/opt/conda/lib/python3.6/site-packages/ipykernel_launcher.py:24: SettingWithCopyWarning: \n",
      "A value is trying to be set on a copy of a slice from a DataFrame.\n",
      "Try using .loc[row_indexer,col_indexer] = value instead\n",
      "\n",
      "See the caveats in the documentation: http://pandas.pydata.org/pandas-docs/stable/indexing.html#indexing-view-versus-copy\n"
     ]
    },
    {
     "name": "stdout",
     "output_type": "stream",
     "text": [
      "150 200\n",
      "(50, 196) (50, 2109)\n",
      "2303 2109 196\n",
      "0     coriander\n",
      "1          corn\n",
      "2          corn\n",
      "3     cornbread\n",
      "4    cottonseed\n",
      "Name: food_lower, dtype: object\n",
      "-----\n",
      "food_disease\n",
      "coriander      coriander\n",
      "corn                corn\n",
      "corn                corn\n",
      "cornbread      cornbread\n",
      "cottonseed    cottonseed\n",
      "Name: food_lower, dtype: object\n"
     ]
    },
    {
     "name": "stderr",
     "output_type": "stream",
     "text": [
      "/opt/conda/lib/python3.6/site-packages/ipykernel_launcher.py:19: SettingWithCopyWarning: \n",
      "A value is trying to be set on a copy of a slice from a DataFrame.\n",
      "Try using .loc[row_indexer,col_indexer] = value instead\n",
      "\n",
      "See the caveats in the documentation: http://pandas.pydata.org/pandas-docs/stable/indexing.html#indexing-view-versus-copy\n",
      "/opt/conda/lib/python3.6/site-packages/ipykernel_launcher.py:24: SettingWithCopyWarning: \n",
      "A value is trying to be set on a copy of a slice from a DataFrame.\n",
      "Try using .loc[row_indexer,col_indexer] = value instead\n",
      "\n",
      "See the caveats in the documentation: http://pandas.pydata.org/pandas-docs/stable/indexing.html#indexing-view-versus-copy\n"
     ]
    },
    {
     "name": "stdout",
     "output_type": "stream",
     "text": [
      "2303 2109 196\n",
      "0     coriander\n",
      "1          corn\n",
      "2          corn\n",
      "3     cornbread\n",
      "4    cottonseed\n",
      "Name: food_lower, dtype: object\n",
      "-----\n",
      "food_disease\n",
      "coriander      coriander\n",
      "corn                corn\n",
      "corn                corn\n",
      "cornbread      cornbread\n",
      "cottonseed    cottonseed\n",
      "Name: food_lower, dtype: object\n"
     ]
    },
    {
     "name": "stderr",
     "output_type": "stream",
     "text": [
      "/opt/conda/lib/python3.6/site-packages/ipykernel_launcher.py:19: SettingWithCopyWarning: \n",
      "A value is trying to be set on a copy of a slice from a DataFrame.\n",
      "Try using .loc[row_indexer,col_indexer] = value instead\n",
      "\n",
      "See the caveats in the documentation: http://pandas.pydata.org/pandas-docs/stable/indexing.html#indexing-view-versus-copy\n",
      "/opt/conda/lib/python3.6/site-packages/ipykernel_launcher.py:24: SettingWithCopyWarning: \n",
      "A value is trying to be set on a copy of a slice from a DataFrame.\n",
      "Try using .loc[row_indexer,col_indexer] = value instead\n",
      "\n",
      "See the caveats in the documentation: http://pandas.pydata.org/pandas-docs/stable/indexing.html#indexing-view-versus-copy\n"
     ]
    },
    {
     "name": "stdout",
     "output_type": "stream",
     "text": [
      "200 250\n",
      "(50, 196) (50, 2109)\n",
      "2303 2109 196\n",
      "0           fireweed\n",
      "1           flatfish\n",
      "2           flaxseed\n",
      "3    florida pompano\n",
      "4    french plantain\n",
      "Name: food_lower, dtype: object\n",
      "-----\n",
      "food_disease\n",
      "fireweed                  fireweed\n",
      "flatfish                  flatfish\n",
      "flaxseed                  flaxseed\n",
      "florida pompano    florida pompano\n",
      "french plantain    french plantain\n",
      "Name: food_lower, dtype: object\n"
     ]
    },
    {
     "name": "stderr",
     "output_type": "stream",
     "text": [
      "/opt/conda/lib/python3.6/site-packages/ipykernel_launcher.py:19: SettingWithCopyWarning: \n",
      "A value is trying to be set on a copy of a slice from a DataFrame.\n",
      "Try using .loc[row_indexer,col_indexer] = value instead\n",
      "\n",
      "See the caveats in the documentation: http://pandas.pydata.org/pandas-docs/stable/indexing.html#indexing-view-versus-copy\n",
      "/opt/conda/lib/python3.6/site-packages/ipykernel_launcher.py:24: SettingWithCopyWarning: \n",
      "A value is trying to be set on a copy of a slice from a DataFrame.\n",
      "Try using .loc[row_indexer,col_indexer] = value instead\n",
      "\n",
      "See the caveats in the documentation: http://pandas.pydata.org/pandas-docs/stable/indexing.html#indexing-view-versus-copy\n"
     ]
    },
    {
     "name": "stdout",
     "output_type": "stream",
     "text": [
      "2303 2109 196\n",
      "0           fireweed\n",
      "1           flatfish\n",
      "2           flaxseed\n",
      "3    florida pompano\n",
      "4    french plantain\n",
      "Name: food_lower, dtype: object\n",
      "-----\n",
      "food_disease\n",
      "fireweed                  fireweed\n",
      "flatfish                  flatfish\n",
      "flaxseed                  flaxseed\n",
      "florida pompano    florida pompano\n",
      "french plantain    french plantain\n",
      "Name: food_lower, dtype: object\n"
     ]
    },
    {
     "name": "stderr",
     "output_type": "stream",
     "text": [
      "/opt/conda/lib/python3.6/site-packages/ipykernel_launcher.py:19: SettingWithCopyWarning: \n",
      "A value is trying to be set on a copy of a slice from a DataFrame.\n",
      "Try using .loc[row_indexer,col_indexer] = value instead\n",
      "\n",
      "See the caveats in the documentation: http://pandas.pydata.org/pandas-docs/stable/indexing.html#indexing-view-versus-copy\n",
      "/opt/conda/lib/python3.6/site-packages/ipykernel_launcher.py:24: SettingWithCopyWarning: \n",
      "A value is trying to be set on a copy of a slice from a DataFrame.\n",
      "Try using .loc[row_indexer,col_indexer] = value instead\n",
      "\n",
      "See the caveats in the documentation: http://pandas.pydata.org/pandas-docs/stable/indexing.html#indexing-view-versus-copy\n"
     ]
    },
    {
     "name": "stdout",
     "output_type": "stream",
     "text": [
      "250 300\n",
      "(50, 196) (50, 2109)\n",
      "2303 2109 196\n",
      "0            honey\n",
      "1     horned melon\n",
      "2      horseradish\n",
      "3    hot chocolate\n",
      "4    hyacinth bean\n",
      "Name: food_lower, dtype: object\n",
      "-----\n",
      "food_disease\n",
      "honey                    honey\n",
      "horned melon      horned melon\n",
      "horseradish        horseradish\n",
      "hot chocolate    hot chocolate\n",
      "hyacinth bean    hyacinth bean\n",
      "Name: food_lower, dtype: object\n"
     ]
    },
    {
     "name": "stderr",
     "output_type": "stream",
     "text": [
      "/opt/conda/lib/python3.6/site-packages/ipykernel_launcher.py:19: SettingWithCopyWarning: \n",
      "A value is trying to be set on a copy of a slice from a DataFrame.\n",
      "Try using .loc[row_indexer,col_indexer] = value instead\n",
      "\n",
      "See the caveats in the documentation: http://pandas.pydata.org/pandas-docs/stable/indexing.html#indexing-view-versus-copy\n",
      "/opt/conda/lib/python3.6/site-packages/ipykernel_launcher.py:24: SettingWithCopyWarning: \n",
      "A value is trying to be set on a copy of a slice from a DataFrame.\n",
      "Try using .loc[row_indexer,col_indexer] = value instead\n",
      "\n",
      "See the caveats in the documentation: http://pandas.pydata.org/pandas-docs/stable/indexing.html#indexing-view-versus-copy\n"
     ]
    },
    {
     "name": "stdout",
     "output_type": "stream",
     "text": [
      "2303 2109 196\n",
      "0            honey\n",
      "1     horned melon\n",
      "2      horseradish\n",
      "3    hot chocolate\n",
      "4    hyacinth bean\n",
      "Name: food_lower, dtype: object\n",
      "-----\n",
      "food_disease\n",
      "honey                    honey\n",
      "horned melon      horned melon\n",
      "horseradish        horseradish\n",
      "hot chocolate    hot chocolate\n",
      "hyacinth bean    hyacinth bean\n",
      "Name: food_lower, dtype: object\n"
     ]
    },
    {
     "name": "stderr",
     "output_type": "stream",
     "text": [
      "/opt/conda/lib/python3.6/site-packages/ipykernel_launcher.py:19: SettingWithCopyWarning: \n",
      "A value is trying to be set on a copy of a slice from a DataFrame.\n",
      "Try using .loc[row_indexer,col_indexer] = value instead\n",
      "\n",
      "See the caveats in the documentation: http://pandas.pydata.org/pandas-docs/stable/indexing.html#indexing-view-versus-copy\n",
      "/opt/conda/lib/python3.6/site-packages/ipykernel_launcher.py:24: SettingWithCopyWarning: \n",
      "A value is trying to be set on a copy of a slice from a DataFrame.\n",
      "Try using .loc[row_indexer,col_indexer] = value instead\n",
      "\n",
      "See the caveats in the documentation: http://pandas.pydata.org/pandas-docs/stable/indexing.html#indexing-view-versus-copy\n"
     ]
    },
    {
     "name": "stdout",
     "output_type": "stream",
     "text": [
      "300 350\n",
      "(50, 196) (50, 2109)\n",
      "2303 2109 196\n",
      "0       malabar plum\n",
      "1    malabar spinach\n",
      "2       mamey sapote\n",
      "3       mammee apple\n",
      "4              mango\n",
      "Name: food_lower, dtype: object\n",
      "-----\n",
      "food_disease\n",
      "malabar plum          malabar plum\n",
      "malabar spinach    malabar spinach\n",
      "mamey sapote          mamey sapote\n",
      "mammee apple          mammee apple\n",
      "mango                        mango\n",
      "Name: food_lower, dtype: object\n"
     ]
    },
    {
     "name": "stderr",
     "output_type": "stream",
     "text": [
      "/opt/conda/lib/python3.6/site-packages/ipykernel_launcher.py:19: SettingWithCopyWarning: \n",
      "A value is trying to be set on a copy of a slice from a DataFrame.\n",
      "Try using .loc[row_indexer,col_indexer] = value instead\n",
      "\n",
      "See the caveats in the documentation: http://pandas.pydata.org/pandas-docs/stable/indexing.html#indexing-view-versus-copy\n",
      "/opt/conda/lib/python3.6/site-packages/ipykernel_launcher.py:24: SettingWithCopyWarning: \n",
      "A value is trying to be set on a copy of a slice from a DataFrame.\n",
      "Try using .loc[row_indexer,col_indexer] = value instead\n",
      "\n",
      "See the caveats in the documentation: http://pandas.pydata.org/pandas-docs/stable/indexing.html#indexing-view-versus-copy\n"
     ]
    },
    {
     "name": "stdout",
     "output_type": "stream",
     "text": [
      "2303 2109 196\n",
      "0       malabar plum\n",
      "1    malabar spinach\n",
      "2       mamey sapote\n",
      "3       mammee apple\n",
      "4              mango\n",
      "Name: food_lower, dtype: object\n",
      "-----\n",
      "food_disease\n",
      "malabar plum          malabar plum\n",
      "malabar spinach    malabar spinach\n",
      "mamey sapote          mamey sapote\n",
      "mammee apple          mammee apple\n",
      "mango                        mango\n",
      "Name: food_lower, dtype: object\n"
     ]
    },
    {
     "name": "stderr",
     "output_type": "stream",
     "text": [
      "/opt/conda/lib/python3.6/site-packages/ipykernel_launcher.py:19: SettingWithCopyWarning: \n",
      "A value is trying to be set on a copy of a slice from a DataFrame.\n",
      "Try using .loc[row_indexer,col_indexer] = value instead\n",
      "\n",
      "See the caveats in the documentation: http://pandas.pydata.org/pandas-docs/stable/indexing.html#indexing-view-versus-copy\n",
      "/opt/conda/lib/python3.6/site-packages/ipykernel_launcher.py:24: SettingWithCopyWarning: \n",
      "A value is trying to be set on a copy of a slice from a DataFrame.\n",
      "Try using .loc[row_indexer,col_indexer] = value instead\n",
      "\n",
      "See the caveats in the documentation: http://pandas.pydata.org/pandas-docs/stable/indexing.html#indexing-view-versus-copy\n"
     ]
    },
    {
     "name": "stdout",
     "output_type": "stream",
     "text": [
      "350 400\n",
      "(50, 196) (50, 2109)\n",
      "2303 2109 196\n",
      "0     oyster mushroom\n",
      "1         pacific cod\n",
      "2     pacific herring\n",
      "3    pacific rockfish\n",
      "4              papaya\n",
      "Name: food_lower, dtype: object\n",
      "-----\n",
      "food_disease\n",
      "oyster mushroom      oyster mushroom\n",
      "pacific cod              pacific cod\n",
      "pacific herring      pacific herring\n",
      "pacific rockfish    pacific rockfish\n",
      "papaya                        papaya\n",
      "Name: food_lower, dtype: object\n"
     ]
    },
    {
     "name": "stderr",
     "output_type": "stream",
     "text": [
      "/opt/conda/lib/python3.6/site-packages/ipykernel_launcher.py:19: SettingWithCopyWarning: \n",
      "A value is trying to be set on a copy of a slice from a DataFrame.\n",
      "Try using .loc[row_indexer,col_indexer] = value instead\n",
      "\n",
      "See the caveats in the documentation: http://pandas.pydata.org/pandas-docs/stable/indexing.html#indexing-view-versus-copy\n",
      "/opt/conda/lib/python3.6/site-packages/ipykernel_launcher.py:24: SettingWithCopyWarning: \n",
      "A value is trying to be set on a copy of a slice from a DataFrame.\n",
      "Try using .loc[row_indexer,col_indexer] = value instead\n",
      "\n",
      "See the caveats in the documentation: http://pandas.pydata.org/pandas-docs/stable/indexing.html#indexing-view-versus-copy\n"
     ]
    },
    {
     "name": "stdout",
     "output_type": "stream",
     "text": [
      "2303 2109 196\n",
      "0     oyster mushroom\n",
      "1         pacific cod\n",
      "2     pacific herring\n",
      "3    pacific rockfish\n",
      "4              papaya\n",
      "Name: food_lower, dtype: object\n",
      "-----\n",
      "food_disease\n",
      "oyster mushroom      oyster mushroom\n",
      "pacific cod              pacific cod\n",
      "pacific herring      pacific herring\n",
      "pacific rockfish    pacific rockfish\n",
      "papaya                        papaya\n",
      "Name: food_lower, dtype: object\n"
     ]
    },
    {
     "name": "stderr",
     "output_type": "stream",
     "text": [
      "/opt/conda/lib/python3.6/site-packages/ipykernel_launcher.py:19: SettingWithCopyWarning: \n",
      "A value is trying to be set on a copy of a slice from a DataFrame.\n",
      "Try using .loc[row_indexer,col_indexer] = value instead\n",
      "\n",
      "See the caveats in the documentation: http://pandas.pydata.org/pandas-docs/stable/indexing.html#indexing-view-versus-copy\n",
      "/opt/conda/lib/python3.6/site-packages/ipykernel_launcher.py:24: SettingWithCopyWarning: \n",
      "A value is trying to be set on a copy of a slice from a DataFrame.\n",
      "Try using .loc[row_indexer,col_indexer] = value instead\n",
      "\n",
      "See the caveats in the documentation: http://pandas.pydata.org/pandas-docs/stable/indexing.html#indexing-view-versus-copy\n"
     ]
    },
    {
     "name": "stdout",
     "output_type": "stream",
     "text": [
      "400 450\n",
      "(50, 196) (50, 2109)\n",
      "2303 2109 196\n",
      "0      potato bread\n",
      "1    prairie turnip\n",
      "2      prickly pear\n",
      "3      prickly pear\n",
      "4           pummelo\n",
      "Name: food_lower, dtype: object\n",
      "-----\n",
      "food_disease\n",
      "potato bread        potato bread\n",
      "prairie turnip    prairie turnip\n",
      "prickly pear        prickly pear\n",
      "prickly pear        prickly pear\n",
      "pummelo                  pummelo\n",
      "Name: food_lower, dtype: object\n"
     ]
    },
    {
     "name": "stderr",
     "output_type": "stream",
     "text": [
      "/opt/conda/lib/python3.6/site-packages/ipykernel_launcher.py:19: SettingWithCopyWarning: \n",
      "A value is trying to be set on a copy of a slice from a DataFrame.\n",
      "Try using .loc[row_indexer,col_indexer] = value instead\n",
      "\n",
      "See the caveats in the documentation: http://pandas.pydata.org/pandas-docs/stable/indexing.html#indexing-view-versus-copy\n",
      "/opt/conda/lib/python3.6/site-packages/ipykernel_launcher.py:24: SettingWithCopyWarning: \n",
      "A value is trying to be set on a copy of a slice from a DataFrame.\n",
      "Try using .loc[row_indexer,col_indexer] = value instead\n",
      "\n",
      "See the caveats in the documentation: http://pandas.pydata.org/pandas-docs/stable/indexing.html#indexing-view-versus-copy\n"
     ]
    },
    {
     "name": "stdout",
     "output_type": "stream",
     "text": [
      "2303 2109 196\n",
      "0      potato bread\n",
      "1    prairie turnip\n",
      "2      prickly pear\n",
      "3      prickly pear\n",
      "4           pummelo\n",
      "Name: food_lower, dtype: object\n",
      "-----\n",
      "food_disease\n",
      "potato bread        potato bread\n",
      "prairie turnip    prairie turnip\n",
      "prickly pear        prickly pear\n",
      "prickly pear        prickly pear\n",
      "pummelo                  pummelo\n",
      "Name: food_lower, dtype: object\n"
     ]
    },
    {
     "name": "stderr",
     "output_type": "stream",
     "text": [
      "/opt/conda/lib/python3.6/site-packages/ipykernel_launcher.py:19: SettingWithCopyWarning: \n",
      "A value is trying to be set on a copy of a slice from a DataFrame.\n",
      "Try using .loc[row_indexer,col_indexer] = value instead\n",
      "\n",
      "See the caveats in the documentation: http://pandas.pydata.org/pandas-docs/stable/indexing.html#indexing-view-versus-copy\n",
      "/opt/conda/lib/python3.6/site-packages/ipykernel_launcher.py:24: SettingWithCopyWarning: \n",
      "A value is trying to be set on a copy of a slice from a DataFrame.\n",
      "Try using .loc[row_indexer,col_indexer] = value instead\n",
      "\n",
      "See the caveats in the documentation: http://pandas.pydata.org/pandas-docs/stable/indexing.html#indexing-view-versus-copy\n"
     ]
    },
    {
     "name": "stdout",
     "output_type": "stream",
     "text": [
      "450 500\n",
      "(50, 196) (50, 2109)\n",
      "2303 2109 196\n",
      "0       sea cucumber\n",
      "1          sea trout\n",
      "2           semolina\n",
      "3             sesame\n",
      "4    sesbania flower\n",
      "Name: food_lower, dtype: object\n",
      "-----\n",
      "food_disease\n",
      "sea cucumber          sea cucumber\n",
      "sea trout                sea trout\n",
      "semolina                  semolina\n",
      "sesame                      sesame\n",
      "sesbania flower    sesbania flower\n",
      "Name: food_lower, dtype: object\n"
     ]
    },
    {
     "name": "stderr",
     "output_type": "stream",
     "text": [
      "/opt/conda/lib/python3.6/site-packages/ipykernel_launcher.py:19: SettingWithCopyWarning: \n",
      "A value is trying to be set on a copy of a slice from a DataFrame.\n",
      "Try using .loc[row_indexer,col_indexer] = value instead\n",
      "\n",
      "See the caveats in the documentation: http://pandas.pydata.org/pandas-docs/stable/indexing.html#indexing-view-versus-copy\n",
      "/opt/conda/lib/python3.6/site-packages/ipykernel_launcher.py:24: SettingWithCopyWarning: \n",
      "A value is trying to be set on a copy of a slice from a DataFrame.\n",
      "Try using .loc[row_indexer,col_indexer] = value instead\n",
      "\n",
      "See the caveats in the documentation: http://pandas.pydata.org/pandas-docs/stable/indexing.html#indexing-view-versus-copy\n"
     ]
    },
    {
     "name": "stdout",
     "output_type": "stream",
     "text": [
      "2303 2109 196\n",
      "0       sea cucumber\n",
      "1          sea trout\n",
      "2           semolina\n",
      "3             sesame\n",
      "4    sesbania flower\n",
      "Name: food_lower, dtype: object\n",
      "-----\n",
      "food_disease\n",
      "sea cucumber          sea cucumber\n",
      "sea trout                sea trout\n",
      "semolina                  semolina\n",
      "sesame                      sesame\n",
      "sesbania flower    sesbania flower\n",
      "Name: food_lower, dtype: object\n"
     ]
    },
    {
     "name": "stderr",
     "output_type": "stream",
     "text": [
      "/opt/conda/lib/python3.6/site-packages/ipykernel_launcher.py:19: SettingWithCopyWarning: \n",
      "A value is trying to be set on a copy of a slice from a DataFrame.\n",
      "Try using .loc[row_indexer,col_indexer] = value instead\n",
      "\n",
      "See the caveats in the documentation: http://pandas.pydata.org/pandas-docs/stable/indexing.html#indexing-view-versus-copy\n",
      "/opt/conda/lib/python3.6/site-packages/ipykernel_launcher.py:24: SettingWithCopyWarning: \n",
      "A value is trying to be set on a copy of a slice from a DataFrame.\n",
      "Try using .loc[row_indexer,col_indexer] = value instead\n",
      "\n",
      "See the caveats in the documentation: http://pandas.pydata.org/pandas-docs/stable/indexing.html#indexing-view-versus-copy\n"
     ]
    }
   ],
   "source": [
    "name_auc = []\n",
    "name_f1 = []\n",
    "for item in range(0,10):\n",
    "    item1 = item*50\n",
    "    item2 = (item+1)*50\n",
    "    print(item1,item2)\n",
    "    print(food_feature_matched.iloc[item1:item2,:].shape,disease_food_name.iloc[item1:item2,:].shape)\n",
    "    # dec_tree = RandomForestClassifier(max_depth=4,criterion='gini')\n",
    "    dec_tree = DecisionTreeClassifier(random_state=1, criterion=\"entropy\", max_depth=2)\n",
    "    machine_learning_model(dec_tree,disease_name,food_feature_matched.iloc[item1:item2,:],disease_food_name.iloc[item1:item2,:],3)\n",
    "    item3,item4 = machine_learning_model(dec_tree,disease_name,food_feature_matched.iloc[item1:item2,:],disease_food_name.iloc[item1:item2,:],3)\n",
    "    name_auc.append(item3)\n",
    "    name_f1.append(item4)"
   ]
  },
  {
   "cell_type": "code",
   "execution_count": 1,
   "metadata": {
    "id": "D6A7014F08854DBDA27552963AE47AED",
    "jupyter": {},
    "notebookId": "640f074cb4f61ef39aae8e50",
    "scrolled": false,
    "slideshow": {
     "slide_type": "slide"
    },
    "tags": []
   },
   "outputs": [
    {
     "name": "stdout",
     "output_type": "stream",
     "text": [
      "2303 2109 195\n",
      "0        abiyuch\n",
      "1        acerola\n",
      "2          acorn\n",
      "3    adzuki bean\n",
      "4           agar\n",
      "Name: food_lower, dtype: object\n",
      "-----\n",
      "food_disease\n",
      "abiyuch            abiyuch\n",
      "acerola            acerola\n",
      "acorn                acorn\n",
      "adzuki bean    adzuki bean\n",
      "agar                  agar\n",
      "Name: food_lower, dtype: object\n"
     ]
    },
    {
     "name": "stderr",
     "output_type": "stream",
     "text": [
      "/opt/conda/lib/python3.6/site-packages/ipykernel_launcher.py:19: SettingWithCopyWarning: \n",
      "A value is trying to be set on a copy of a slice from a DataFrame.\n",
      "Try using .loc[row_indexer,col_indexer] = value instead\n",
      "\n",
      "See the caveats in the documentation: http://pandas.pydata.org/pandas-docs/stable/indexing.html#indexing-view-versus-copy\n"
     ]
    }
   ],
   "source": [
    "# dec_tree = RandomForestClassifier(max_depth=2,criterion='gini')\n",
    "# machine_learning_model(dec_tree,disease_name,food_feature_matched,disease_food_name,3)\n",
    "# x,y = generate_X_Y(disease_name,food_feature_matched,disease_food_name)\n",
    "name_f1.append(0.549)\n",
    "name_auc.append(0.662)\n",
    "print(np.mean(name_auc),np.mean(name_f1))"
   ]
  },
  {
   "cell_type": "code",
   "execution_count": 22,
   "metadata": {
    "id": "E79EF4FE351D458FB9688645CA677893",
    "jupyter": {},
    "notebookId": "640f074cb4f61ef39aae8e50",
    "scrolled": false,
    "slideshow": {
     "slide_type": "slide"
    },
    "tags": []
   },
   "outputs": [],
   "source": [
    "# disease_name,food_feature_matched,disease_food_name\n",
    "# machine_learning_model_parameter(disease_mirna,food_feature_matched,disease_food_mirna,12)"
   ]
  },
  {
   "cell_type": "code",
   "execution_count": null,
   "metadata": {
    "id": "82BD2D5D60234AE28F643D6DD07AA795",
    "jupyter": {},
    "notebookId": "640f074cb4f61ef39aae8e50",
    "scrolled": false,
    "slideshow": {
     "slide_type": "slide"
    },
    "tags": []
   },
   "outputs": [],
   "source": []
  }
 ],
 "metadata": {
  "kernelspec": {
   "display_name": "Python 3 (ipykernel)",
   "language": "python",
   "name": "python3"
  },
  "language_info": {
   "codemirror_mode": {
    "name": "ipython",
    "version": 3
   },
   "file_extension": ".py",
   "mimetype": "text/x-python",
   "name": "python",
   "nbconvert_exporter": "python",
   "pygments_lexer": "ipython3",
   "version": "3.9.16"
  }
 },
 "nbformat": 4,
 "nbformat_minor": 1
}
