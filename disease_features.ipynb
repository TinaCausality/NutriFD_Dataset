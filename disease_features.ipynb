{
 "cells": [
  {
   "cell_type": "markdown",
   "metadata": {
    "id": "D89B0EAB542642F98900CCC4D4E49360",
    "jupyter": {},
    "notebookId": "6402e5cb2bed561a3ac23790",
    "runtime": {
     "execution_status": null,
     "status": "default"
    },
    "scrolled": false,
    "slideshow": {
     "slide_type": "slide"
    },
    "tags": []
   },
   "source": [
    "# Building 3 types of disease feature  \n"
   ]
  },
  {
   "cell_type": "code",
   "execution_count": 33,
   "metadata": {
    "id": "810CF482643D4985AFA558B9F60AF78D",
    "jupyter": {},
    "notebookId": "6402e5cb2bed561a3ac23790",
    "scrolled": false,
    "slideshow": {
     "slide_type": "slide"
    },
    "tags": []
   },
   "outputs": [],
   "source": [
    "import numpy as np\n",
    "import pandas as pd\n",
    "import re\n",
    "import torch\n",
    "import math\n",
    "from tqdm import tqdm\n",
    "from sklearn import preprocessing\n",
    "import multiprocessing as mp"
   ]
  },
  {
   "cell_type": "code",
   "execution_count": 18,
   "metadata": {
    "id": "1CAA183A6A904B1E835F1B130854B60C",
    "jupyter": {},
    "notebookId": "6402e5cb2bed561a3ac23790",
    "scrolled": false,
    "slideshow": {
     "slide_type": "slide"
    },
    "tags": []
   },
   "outputs": [],
   "source": [
    "# Calculate Gaussian similarity\n",
    "def kernel_(data):\n",
    "    A = torch.Tensor(list(data.values))\n",
    "    nd2, nd = A.shape\n",
    "    KD = np.zeros([nd,nd])\n",
    "    ym = 0\n",
    "    # calculate r_m, where r_m' is set to 1\n",
    "    for j in range(0,nd):\n",
    "        A1 = A[:,j].view([nd2,-1])\n",
    "        pj = torch.mm(A1.t(),A1)\n",
    "        ym = ym+pj\n",
    "    ym = 1/(ym/nd)\n",
    "\n",
    "    for i in tqdm(range(0,nd)):\n",
    "        p1 = A[:,i].view([nd2,-1])\n",
    "        p3 = p1-A\n",
    "        p4 = torch.mm(p3.t(),p3).diag()\n",
    "        KD[i][:] = torch.exp(-ym*p4)\n",
    "    result = pd.DataFrame(KD, index=data.columns, columns=data.columns)\n",
    "    return(result)\n",
    "# delete all unuseful words in disease name\n",
    "def dele_common(dele, disease):\n",
    "    for i in dele:\n",
    "        disease = re.sub(i, '', disease)\n",
    "    return disease\n",
    "\n",
    "delete_word = [' diseases', ' disease', ' to', ' syndrome', ' disorders', ' disorder', ' and', ' of', ' or', ' with']"
   ]
  },
  {
   "cell_type": "markdown",
   "metadata": {
    "id": "6620D8FCF877436E8352412D89D43858",
    "jupyter": {},
    "notebookId": "6402e5cb2bed561a3ac23790",
    "runtime": {
     "execution_status": null,
     "status": "default"
    },
    "scrolled": false,
    "slideshow": {
     "slide_type": "slide"
    },
    "tags": []
   },
   "source": [
    "## disease feature based on disease-gene"
   ]
  },
  {
   "cell_type": "code",
   "execution_count": 7,
   "metadata": {
    "id": "4FC61B519BE24DD590C9913A15FBDA95",
    "jupyter": {},
    "notebookId": "6402e5cb2bed561a3ac23790",
    "scrolled": false,
    "slideshow": {
     "slide_type": "slide"
    },
    "tags": []
   },
   "outputs": [],
   "source": [
    "# SNAP and DisGeNET\n",
    "disease_gene2 = pd.read_csv('../data/disease_gene_final_final.csv')\n",
    "disease_gene2 = disease_gene2[['disease_similarity','geneSymbol']]\n",
    "disease_gene2.columns = ['disease_name','Symbol']"
   ]
  },
  {
   "cell_type": "code",
   "execution_count": 24,
   "metadata": {
    "id": "16BEDEF83DF24B65ABB0E52615CECDCB",
    "jupyter": {},
    "notebookId": "6402e5cb2bed561a3ac23790",
    "scrolled": false,
    "slideshow": {
     "slide_type": "slide"
    },
    "tags": []
   },
   "outputs": [],
   "source": [
    "# paper\n",
    "disease_gene3 = pd.read_csv('../data/DOIO_gene.csv')\n",
    "disease_DOID = pd.read_csv('../data/disease_DOID.csv')\n",
    "disease_gene3 = pd.merge(disease_DOID,disease_gene3,left_on='DOIO',right_on='DOID',how='inner')[['disease_name','Entrez_Gene_ID']]\n",
    "gene_3_match = pd.read_csv('../data/gene_match_on_paper.csv')\n",
    "disease_gene3_1 = pd.merge(gene_3_match, disease_gene3, left_on='GeneID',right_on='Entrez_Gene_ID',how='inner')\n",
    "disease_gene3_1 = disease_gene3_1[['disease_name','Symbol']]"
   ]
  },
  {
   "cell_type": "code",
   "execution_count": 44,
   "metadata": {
    "id": "D672A6DA22044421924584DCEFE45A4F",
    "jupyter": {},
    "notebookId": "6402e5cb2bed561a3ac23790",
    "scrolled": false,
    "slideshow": {
     "slide_type": "slide"
    },
    "tags": []
   },
   "outputs": [],
   "source": [
    "# all disease feature\n",
    "disease_gene = pd.concat([disease_gene3_1,disease_gene2],axis=0).drop_duplicates()\n",
    "disease_gene.columns = ['disease_name','gene']\n",
    "disease_gene.to_csv('../data/disease_gene_final_end.csv')\n",
    "\n",
    "# Remove the [' diseases', ' disease', ' to', ' syndrome', ' disorders', ' disorder', ' and', ' of', ' or', ' with']\n",
    "# disease_gene['clean_name'] = disease_gene['disease_name'].apply(lambda x: dele_common(delete_word, str(x).lower()))\n",
    "# disease_gene[['disease_name', 'clean_name']].drop_duplicates().to_csv(\"diseasename_match_in_gene.csv\")\n",
    "disease_gene['value'] = 1\n",
    "disease_gene = disease_gene[['gene','disease_name','value']].drop_duplicates()\n",
    "disease_gene_matrix = disease_gene.pivot(index = 'gene', columns = 'disease_name', values = 'value')\n",
    "disease_gene_matrix[disease_gene_matrix.isnull()] = 0\n",
    "\n",
    "## Gaussian similarity\n",
    "# disease_simiparity_gene_direct = kernel_(disease_gene_matrix)\n",
    "# print(disease_simiparity_gene_direct.shape)\n",
    "# disease_simiparity_gene_direct.head()\n",
    "# disease_simiparity_gene_direct.to_csv(\"disease_gene_sim.csv\")"
   ]
  },
  {
   "cell_type": "markdown",
   "metadata": {
    "id": "2F851FCAD3E04916A88E102E904DE21A",
    "jupyter": {},
    "notebookId": "6402e5cb2bed561a3ac23790",
    "runtime": {
     "execution_status": null,
     "status": "default"
    },
    "scrolled": false,
    "slideshow": {
     "slide_type": "slide"
    },
    "tags": []
   },
   "source": [
    "## disease feature based on disease-mirna"
   ]
  },
  {
   "cell_type": "code",
   "execution_count": 45,
   "metadata": {
    "id": "F1DCF3860732456885FA8A3D933A50A2",
    "jupyter": {},
    "notebookId": "6402e5cb2bed561a3ac23790",
    "scrolled": false,
    "slideshow": {
     "slide_type": "slide"
    },
    "tags": []
   },
   "outputs": [],
   "source": [
    "# HMDD v3.2 and miRNA-cancer\n",
    "disease_mirna = pd.read_csv('../data/mirna_disease.csv')\n",
    "disease_mirna.columns = ['mir','disease_name']\n",
    "\n",
    "#  Remove the [' diseases', ' disease', ' to', ' syndrome', ' disorders', ' disorder', ' and', ' of', ' or', ' with']\n",
    "# disease_mirna['clean_name'] = disease_mirna['disease_name'].apply(lambda x: dele_common(delete_word, str(x).lower()))\n",
    "\n",
    "## Remove hsa-prefix (HSA removed or not?)\n",
    "disease_mirna['mir'] = disease_mirna['mir'].apply(lambda x: x.replace('hsa-', ''))\n",
    "# disease_mirna[['disease_name', 'clean_name']].drop_duplicates().to_csv(\"/home/mw/project/match_part/diseasename_match_in_mirna.csv\")\n",
    "## De-duplication converts long tables into wide tables, with missing ones filled with zeros\n",
    "disease_mirna = disease_mirna[['mir', 'disease_name']].drop_duplicates()\n",
    "disease_mirna['value'] = 1\n",
    "disease_mirna_matrix = disease_mirna.pivot(index = 'mir', columns = 'disease_name', values = 'value')\n",
    "disease_mirna_matrix[disease_mirna_matrix.isnull()] = 0\n",
    "\n",
    "\n",
    "# disease_simiparity_mirna_direct = kernel_(disease_mirna_matrix)\n",
    "# print(disease_simiparity_mirna_direct.shape)\n",
    "# disease_simiparity_mirna_direct.to_csv(\"disease_mirna_sim.csv\")"
   ]
  },
  {
   "cell_type": "markdown",
   "metadata": {
    "id": "8348E4740C204206AF5EE0D91ACA9105",
    "jupyter": {},
    "notebookId": "6402e5cb2bed561a3ac23790",
    "runtime": {
     "execution_status": null,
     "status": "default"
    },
    "scrolled": false,
    "slideshow": {
     "slide_type": "slide"
    },
    "tags": []
   },
   "source": [
    "## disease feature based on disease-GO"
   ]
  },
  {
   "cell_type": "code",
   "execution_count": 41,
   "metadata": {
    "id": "CD11C1730DBA46E79141D31489610789",
    "jupyter": {},
    "notebookId": "6402e5cb2bed561a3ac23790",
    "scrolled": false,
    "slideshow": {
     "slide_type": "slide"
    },
    "tags": []
   },
   "outputs": [],
   "source": [
    "mesh = pd.read_csv('../data/all_mesh.CSV')\n",
    "# disease_in_food = pd.read_csv('/home/mw/input/combine_disease9321/disease_food_infer_4.csv')\n",
    "k = mesh\n",
    "k['d05'] = k['d03'].apply(lambda x: x[0])\n",
    "\n",
    "# filter disease go\n",
    "k = k[k['d05'] == 'C']\n",
    "k['d04'] = k['d03'].apply(lambda x: len(x))\n",
    "k[k['d04'] == k['d04'].max()]['d03']\n",
    "k[k['d04'] == k['d04'].max()]['d03']\n",
    "k['d06'] = k['d03'].apply(lambda x: x[1:].split('.'))\n",
    "\n",
    "# count the len of GO\n",
    "k['d04'] = k['d06'].apply(lambda x: len(x))\n",
    "disease_all_name = list(k['d02'].drop_duplicates())\n",
    "# diseasename_in_food = pd.DataFrame(list(disease_in_food.columns[1:]),columns=['disease2'])\n",
    "# diseasename_in_food['disease2'] = diseasename_in_food['disease2'].apply(lambda x: str(x).lower())\n",
    "k['d02'] = k['d02'].apply(lambda x: str(x).lower())\n",
    "# merge_name = pd.merge(k,diseasename_in_food,left_on='d02',right_on='disease2',how='inner')\n",
    "merge_name = k\n",
    "mesh_merge_final = merge_name[['d02','d06','d04']]\n",
    "\n",
    "# count score about sub_tree\n",
    "score = pd.DataFrame(list(range(1,k['d04'].max()+1)),columns=['number'])\n",
    "import math\n",
    "score2 = []\n",
    "for item in list(score['number']):\n",
    "    score2.append(pow(0.5,item))\n",
    "score3 = []\n",
    "for item in range(0,len(score2)+1):\n",
    "    score3.append(np.array(score2[:item]).sum())\n",
    "score3 = score3[1:]\n",
    "score['score'] = score3\n",
    "mesh_merge_final = pd.merge(mesh_merge_final,score,left_on='d04',right_on='number',how='inner')[['d02','d06','score']]\n",
    "disease_all_name = list(mesh_merge_final['d02'].drop_duplicates())\n",
    "disease_sim = pd.DataFrame(np.zeros((len(disease_all_name),len(disease_all_name))),index = disease_all_name, columns=disease_all_name)\n",
    "def similarity(o1,o2):\n",
    "    o3 = list(set(o1).intersection(set(o2)))\n",
    "    location = []\n",
    "    o1 = pd.DataFrame(o1,columns=['loca'])\n",
    "    \n",
    "    for item in o3:\n",
    "        for item2 in list(o1[o1['loca'] == item].index):\n",
    "            location.append(item2)\n",
    "    location_sorted = sorted(location)\n",
    "    defi_location = -1\n",
    "    for item3 in list(range(0,len(location_sorted))):\n",
    "        item2 = location_sorted[item3]\n",
    "        if item2 == item3:\n",
    "            \n",
    "\n",
    "            defi_location = item2\n",
    "        else:\n",
    "            break\n",
    "    return defi_location\n",
    "\n",
    "score['score'] = score['score'].apply(lambda x: round(x,6))\n",
    "mesh_merge_final['score'] = mesh_merge_final['score'].apply(lambda x: round(x,6))\n",
    "\n",
    "# start building similarity matrix\n",
    "for item in disease_all_name:\n",
    "    for item1 in disease_all_name:\n",
    "        item2 = mesh_merge_final[mesh_merge_final['d02'] == item]\n",
    "        item2 = item2.reset_index()\n",
    "        item3 = mesh_merge_final[mesh_merge_final['d02'] == item1]\n",
    "        item3 = item3.reset_index()\n",
    "        similarity_all = []\n",
    "        for item4 in range(0,item2.shape[0]):\n",
    "            item6 = item2['d06'][item4]\n",
    "            item7 = item2['score'][item4]\n",
    "            for item5 in range(0,item3.shape[0]):\n",
    "                item8 = item3['d06'][item5]\n",
    "                item9 = item3['score'][item5]\n",
    "                if similarity(item6,item8) == -1:\n",
    "                    similarity_all.append(0)\n",
    "                else:\n",
    "                    similarity_all.append((2*score['score'][similarity(item6,item8)])/(item7+item9))\n",
    "\n",
    "        disease_sim[item][item1] = max(similarity_all)\n",
    "disease_similarity_go_direct = disease_sim\n",
    "# disease_similarity_go_direct.to_csv(\"/home/mw/project/final_data/disease_go_sim.csv\")"
   ]
  }
 ],
 "metadata": {
  "kernelspec": {
   "display_name": "Python 3 (ipykernel)",
   "language": "python",
   "name": "python3"
  },
  "language_info": {
   "codemirror_mode": {
    "name": "ipython",
    "version": 3
   },
   "file_extension": ".py",
   "mimetype": "text/x-python",
   "name": "python",
   "nbconvert_exporter": "python",
   "pygments_lexer": "ipython3",
   "version": "3.9.16"
  }
 },
 "nbformat": 4,
 "nbformat_minor": 1
}
