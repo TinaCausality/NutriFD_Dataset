{
 "cells": [
  {
   "cell_type": "markdown",
   "metadata": {
    "id": "D89B0EAB542642F98900CCC4D4E49360",
    "jupyter": {},
    "notebookId": "6402e91bef4a4bdccd8a01ae",
    "runtime": {
     "execution_status": null,
     "status": "default"
    },
    "scrolled": false,
    "slideshow": {
     "slide_type": "slide"
    },
    "tags": []
   },
   "source": [
    "# We show all datasets of the NutriFD database"
   ]
  },
  {
   "cell_type": "code",
   "execution_count": 2,
   "metadata": {
    "id": "810CF482643D4985AFA558B9F60AF78D",
    "jupyter": {},
    "notebookId": "6402e91bef4a4bdccd8a01ae",
    "scrolled": false,
    "slideshow": {
     "slide_type": "slide"
    },
    "tags": []
   },
   "outputs": [],
   "source": [
    "import numpy as np\n",
    "import pandas as pd"
   ]
  },
  {
   "cell_type": "markdown",
   "metadata": {
    "id": "4A01B93BBC68436BAA34667ED51955A0",
    "jupyter": {},
    "notebookId": "6402e91bef4a4bdccd8a01ae",
    "runtime": {
     "execution_status": null,
     "status": "default"
    },
    "scrolled": false,
    "slideshow": {
     "slide_type": "slide"
    },
    "tags": []
   },
   "source": [
    "## food part"
   ]
  },
  {
   "cell_type": "code",
   "execution_count": 22,
   "metadata": {
    "id": "4FC61B519BE24DD590C9913A15FBDA95",
    "jupyter": {},
    "notebookId": "6402e91bef4a4bdccd8a01ae",
    "scrolled": false,
    "slideshow": {
     "slide_type": "slide"
    },
    "tags": []
   },
   "outputs": [],
   "source": [
    "food_com_match = pd.read_csv('../data/food_compound_matched.csv')\n",
    "foodname_match_relation = pd.read_csv('../data/foodname_match_relation.csv')\n",
    "food_feature_match = pd.read_csv('../data/food_feature_matched.csv')"
   ]
  },
  {
   "cell_type": "code",
   "execution_count": 23,
   "metadata": {
    "id": "450542C415484CACA5A15DEC57B1C936",
    "jupyter": {},
    "notebookId": "6402e91bef4a4bdccd8a01ae",
    "scrolled": false,
    "slideshow": {
     "slide_type": "slide"
    },
    "tags": []
   },
   "outputs": [
    {
     "data": {
      "text/html": [
       "<div>\n",
       "<style scoped>\n",
       "    .dataframe tbody tr th:only-of-type {\n",
       "        vertical-align: middle;\n",
       "    }\n",
       "\n",
       "    .dataframe tbody tr th {\n",
       "        vertical-align: top;\n",
       "    }\n",
       "\n",
       "    .dataframe thead th {\n",
       "        text-align: right;\n",
       "    }\n",
       "</style>\n",
       "<table border=\"1\" class=\"dataframe\">\n",
       "  <thead>\n",
       "    <tr style=\"text-align: right;\">\n",
       "      <th></th>\n",
       "      <th>food_disease</th>\n",
       "      <th>long</th>\n",
       "      <th>food_id</th>\n",
       "    </tr>\n",
       "  </thead>\n",
       "  <tbody>\n",
       "    <tr>\n",
       "      <th>134</th>\n",
       "      <td>abiyuch</td>\n",
       "      <td>abiyuch, raw</td>\n",
       "      <td>food_134</td>\n",
       "    </tr>\n",
       "  </tbody>\n",
       "</table>\n",
       "</div>"
      ],
      "text/plain": [
       "    food_disease          long   food_id\n",
       "134      abiyuch  abiyuch, raw  food_134"
      ]
     },
     "execution_count": 23,
     "metadata": {},
     "output_type": "execute_result"
    }
   ],
   "source": [
    "foodname_match_relation[foodname_match_relation['food_disease'] == \"abiyuch\"]"
   ]
  },
  {
   "cell_type": "code",
   "execution_count": 25,
   "metadata": {
    "id": "2637A55501A04C088F3A586F3438FAB4",
    "jupyter": {},
    "notebookId": "6402e91bef4a4bdccd8a01ae",
    "scrolled": false,
    "slideshow": {
     "slide_type": "slide"
    },
    "tags": []
   },
   "outputs": [
    {
     "data": {
      "text/plain": [
       "(591, 213)"
      ]
     },
     "execution_count": 25,
     "metadata": {},
     "output_type": "execute_result"
    }
   ],
   "source": [
    "food_feature_match.shape"
   ]
  },
  {
   "cell_type": "markdown",
   "metadata": {
    "id": "FDE01A6B9B0A439FBEA6F05090ABDAD4",
    "jupyter": {},
    "notebookId": "6402e91bef4a4bdccd8a01ae",
    "runtime": {
     "execution_status": null,
     "status": "default"
    },
    "scrolled": false,
    "slideshow": {
     "slide_type": "slide"
    },
    "tags": []
   },
   "source": [
    "## disease part"
   ]
  },
  {
   "cell_type": "code",
   "execution_count": 3,
   "metadata": {
    "id": "027D0FC4C0C640E283A8F68C4DF675A3",
    "jupyter": {},
    "notebookId": "6402e91bef4a4bdccd8a01ae",
    "scrolled": false,
    "slideshow": {
     "slide_type": "slide"
    },
    "tags": []
   },
   "outputs": [],
   "source": [
    "disease_go_sim = pd.read_csv('../data/disease_go_sim.csv')\n",
    "disease_mirna_sim = pd.read_csv('../data/disease_mirna_sim.csv')\n",
    "disease_gene_sim = pd.read_csv('../data/disease_simiparity_gene_direct.csv')"
   ]
  },
  {
   "cell_type": "code",
   "execution_count": 4,
   "metadata": {
    "id": "E9709AD829DF4FB68EB6E0EF458BBA10",
    "jupyter": {},
    "notebookId": "6402e91bef4a4bdccd8a01ae",
    "scrolled": false,
    "slideshow": {
     "slide_type": "slide"
    },
    "tags": []
   },
   "outputs": [],
   "source": [
    "disease_gene_sim = pd.read_csv('../data/disease_simiparity_gene_direct.csv')"
   ]
  },
  {
   "cell_type": "code",
   "execution_count": 6,
   "metadata": {
    "id": "B02FE7BFDA7E4528886D28AC33F459CA",
    "jupyter": {},
    "notebookId": "6402e91bef4a4bdccd8a01ae",
    "scrolled": false,
    "slideshow": {
     "slide_type": "slide"
    },
    "tags": []
   },
   "outputs": [
    {
     "data": {
      "text/plain": [
       "(3404, 3405)"
      ]
     },
     "execution_count": 6,
     "metadata": {},
     "output_type": "execute_result"
    }
   ],
   "source": [
    "disease_gene_sim.shape"
   ]
  },
  {
   "cell_type": "code",
   "execution_count": 5,
   "metadata": {
    "id": "22F4230E1058419E86A80ED223AEA4C7",
    "jupyter": {},
    "notebookId": "6402e91bef4a4bdccd8a01ae",
    "scrolled": false,
    "slideshow": {
     "slide_type": "slide"
    },
    "tags": []
   },
   "outputs": [],
   "source": [
    "disease_gene_sim.to_csv('../data/disease_gene_sim.csv')"
   ]
  },
  {
   "cell_type": "code",
   "execution_count": 3,
   "metadata": {
    "id": "D0AA0DB8DF924B52993D7CFACCA033F0",
    "jupyter": {},
    "notebookId": "6402e91bef4a4bdccd8a01ae",
    "scrolled": false,
    "slideshow": {
     "slide_type": "slide"
    },
    "tags": []
   },
   "outputs": [
    {
     "data": {
      "text/plain": [
       "(2109, 2110)"
      ]
     },
     "execution_count": 3,
     "metadata": {},
     "output_type": "execute_result"
    }
   ],
   "source": [
    "disease_go_sim.shape"
   ]
  },
  {
   "cell_type": "markdown",
   "metadata": {
    "id": "8B6CAF10A6F444A485505EDED3D7AE7F",
    "jupyter": {},
    "notebookId": "6402e91bef4a4bdccd8a01ae",
    "runtime": {
     "execution_status": null,
     "status": "default"
    },
    "scrolled": false,
    "slideshow": {
     "slide_type": "slide"
    },
    "tags": []
   },
   "source": [
    "## disease-com-food"
   ]
  },
  {
   "cell_type": "code",
   "execution_count": 2,
   "metadata": {
    "id": "7AA1A8A287604A7E825DDA9A51BBEF1E",
    "jupyter": {},
    "notebookId": "6402e91bef4a4bdccd8a01ae",
    "scrolled": false,
    "slideshow": {
     "slide_type": "slide"
    },
    "tags": []
   },
   "outputs": [],
   "source": [
    "## association\n",
    "disease_food_association = pd.read_csv('/home/mw/input/combine_disease9321/disease_food_infer_4.csv')\n",
    "disease_food_treatment = pd.read_csv('/home/mw/input/combine_disease9321/disease_food_infer_direevi.csv')"
   ]
  },
  {
   "cell_type": "code",
   "execution_count": 7,
   "metadata": {
    "id": "B663C1312DC04B87BD246DB6119E79BD",
    "jupyter": {},
    "notebookId": "6402e91bef4a4bdccd8a01ae",
    "scrolled": false,
    "slideshow": {
     "slide_type": "slide"
    },
    "tags": []
   },
   "outputs": [
    {
     "data": {
      "text/plain": [
       "3237639"
      ]
     },
     "execution_count": 7,
     "metadata": {},
     "output_type": "execute_result"
    }
   ],
   "source": [
    "k = disease_food_association\n",
    "k1 = np.array(disease_food_association).reshape((-1,))\n",
    "k2 = list(k1)\n",
    "k3 = pd.DataFrame(k2,columns=['value'])\n",
    "k3[k3['value'] != 0].shape[0]-1"
   ]
  },
  {
   "cell_type": "code",
   "execution_count": 8,
   "metadata": {
    "id": "16A928845B0F400AA0DC578FB5281623",
    "jupyter": {},
    "notebookId": "6402e91bef4a4bdccd8a01ae",
    "scrolled": false,
    "slideshow": {
     "slide_type": "slide"
    },
    "tags": []
   },
   "outputs": [
    {
     "name": "stdout",
     "output_type": "stream",
     "text": [
      "(684, 5841) 3995244\n"
     ]
    }
   ],
   "source": [
    "print(k.shape,k.shape[0]*k.shape[1])"
   ]
  },
  {
   "cell_type": "code",
   "execution_count": 9,
   "metadata": {
    "id": "5637377A42774F818D85F7FC32EDE53A",
    "jupyter": {},
    "notebookId": "6402e91bef4a4bdccd8a01ae",
    "scrolled": false,
    "slideshow": {
     "slide_type": "slide"
    },
    "tags": []
   },
   "outputs": [
    {
     "data": {
      "text/plain": [
       "3237639"
      ]
     },
     "execution_count": 9,
     "metadata": {},
     "output_type": "execute_result"
    }
   ],
   "source": [
    "k = disease_food_treatment\n",
    "k1 = np.array(disease_food_association).reshape((-1,))\n",
    "k2 = list(k1)\n",
    "k3 = pd.DataFrame(k2,columns=['value'])\n",
    "k3[k3['value'] != 0].shape[0]-1"
   ]
  },
  {
   "cell_type": "code",
   "execution_count": 10,
   "metadata": {
    "id": "CD7AC3993B3E4B7897BCD69C2B60F2C6",
    "jupyter": {},
    "notebookId": "6402e91bef4a4bdccd8a01ae",
    "scrolled": false,
    "slideshow": {
     "slide_type": "slide"
    },
    "tags": []
   },
   "outputs": [
    {
     "name": "stdout",
     "output_type": "stream",
     "text": [
      "(683, 692) 472636\n"
     ]
    }
   ],
   "source": [
    "print(k.shape,k.shape[0]*k.shape[1])"
   ]
  },
  {
   "cell_type": "code",
   "execution_count": 11,
   "metadata": {
    "id": "0D3A3CB24A6F4FC185493C8F59897BD9",
    "jupyter": {},
    "notebookId": "6402e91bef4a4bdccd8a01ae",
    "scrolled": false,
    "slideshow": {
     "slide_type": "slide"
    },
    "tags": []
   },
   "outputs": [],
   "source": [
    "asso_disease_combine_all = pd.read_csv('../data/asso_disease_combine_all.csv')\n",
    "trea_disease_combine_all = pd.read_csv('../data/trea_disease_combine_all.csv')"
   ]
  },
  {
   "cell_type": "code",
   "execution_count": 12,
   "metadata": {
    "id": "0BBDF627FBFC4F1C843E48C1FAEB79C9",
    "jupyter": {},
    "notebookId": "6402e91bef4a4bdccd8a01ae",
    "scrolled": false,
    "slideshow": {
     "slide_type": "slide"
    },
    "tags": []
   },
   "outputs": [],
   "source": [
    "k = asso_disease_combine_all\n",
    "k1 = k[k['Food'] != 0]\n",
    "k2 = k1[k1['Gene'] != 0]\n",
    "k3 = k2[k2['Similarity'] != 0]\n",
    "k4 = k3[k3['miRNA'] != 0]"
   ]
  },
  {
   "cell_type": "code",
   "execution_count": 13,
   "metadata": {
    "id": "DFA526689BD1428088A6B5B2F3CD285A",
    "jupyter": {},
    "notebookId": "6402e91bef4a4bdccd8a01ae",
    "scrolled": false,
    "slideshow": {
     "slide_type": "slide"
    },
    "tags": []
   },
   "outputs": [
    {
     "data": {
      "text/plain": [
       "(234, 5)"
      ]
     },
     "execution_count": 13,
     "metadata": {},
     "output_type": "execute_result"
    }
   ],
   "source": [
    "k4.shape"
   ]
  },
  {
   "cell_type": "code",
   "execution_count": 14,
   "metadata": {
    "id": "A4A69EBAF0FF481497CB9ECFBCA8D6D2",
    "jupyter": {},
    "notebookId": "6402e91bef4a4bdccd8a01ae",
    "scrolled": false,
    "slideshow": {
     "slide_type": "slide"
    },
    "tags": []
   },
   "outputs": [],
   "source": [
    "# disease_food_association[list(k4['Unnamed: 0'].values)]\n",
    "asso_disease_food = pd.read_csv('../data/asso_disease_food')\n",
    "trea_disease_food = pd.read_csv('../data/trea_disease_food')"
   ]
  },
  {
   "cell_type": "code",
   "execution_count": 15,
   "metadata": {
    "id": "95B78A2BCFB54B3388AB455542A526FF",
    "jupyter": {},
    "notebookId": "6402e91bef4a4bdccd8a01ae",
    "scrolled": false,
    "slideshow": {
     "slide_type": "slide"
    },
    "tags": []
   },
   "outputs": [],
   "source": [
    "network_asso = disease_food_association[list(pd.merge(k4[['Unnamed: 0']],asso_disease_food,left_on='Unnamed: 0',right_on='clean_name',how='inner')['disease_food'].values)].iloc[:1,:]"
   ]
  },
  {
   "cell_type": "code",
   "execution_count": 16,
   "metadata": {
    "id": "39D48DB78DDF448980111DB97ECA37B6",
    "jupyter": {},
    "notebookId": "6402e91bef4a4bdccd8a01ae",
    "scrolled": false,
    "slideshow": {
     "slide_type": "slide"
    },
    "tags": []
   },
   "outputs": [
    {
     "data": {
      "text/html": [
       "<div>\n",
       "<style scoped>\n",
       "    .dataframe tbody tr th:only-of-type {\n",
       "        vertical-align: middle;\n",
       "    }\n",
       "\n",
       "    .dataframe tbody tr th {\n",
       "        vertical-align: top;\n",
       "    }\n",
       "\n",
       "    .dataframe thead th {\n",
       "        text-align: right;\n",
       "    }\n",
       "</style>\n",
       "<table border=\"1\" class=\"dataframe\">\n",
       "  <thead>\n",
       "    <tr style=\"text-align: right;\">\n",
       "      <th></th>\n",
       "      <th>alopecia</th>\n",
       "      <th>amyloidosis</th>\n",
       "      <th>amyotrophic lateral sclerosis</th>\n",
       "      <th>anemia</th>\n",
       "      <th>aneurysm</th>\n",
       "      <th>aniridia</th>\n",
       "      <th>aortic aneurysm</th>\n",
       "      <th>arthritis</th>\n",
       "      <th>asthenozoospermia</th>\n",
       "      <th>asthma</th>\n",
       "      <th>...</th>\n",
       "      <th>thrombocytosis</th>\n",
       "      <th>thrombosis</th>\n",
       "      <th>thymoma</th>\n",
       "      <th>tuberculosis</th>\n",
       "      <th>uveitis</th>\n",
       "      <th>vasculitis</th>\n",
       "      <th>venous thromboembolism</th>\n",
       "      <th>vitiligo</th>\n",
       "      <th>waldenstrom macroglobulinemia</th>\n",
       "      <th>wilms tumor</th>\n",
       "    </tr>\n",
       "  </thead>\n",
       "  <tbody>\n",
       "    <tr>\n",
       "      <th>0</th>\n",
       "      <td>0.535324</td>\n",
       "      <td>1.279311</td>\n",
       "      <td>2.86248</td>\n",
       "      <td>1.302637</td>\n",
       "      <td>0.34141</td>\n",
       "      <td>0.277221</td>\n",
       "      <td>0.733766</td>\n",
       "      <td>0.415465</td>\n",
       "      <td>0.293197</td>\n",
       "      <td>6.064686</td>\n",
       "      <td>...</td>\n",
       "      <td>0.427148</td>\n",
       "      <td>1.562158</td>\n",
       "      <td>0.880143</td>\n",
       "      <td>0.347941</td>\n",
       "      <td>1.229751</td>\n",
       "      <td>0.440092</td>\n",
       "      <td>0.818</td>\n",
       "      <td>1.588876</td>\n",
       "      <td>0.033205</td>\n",
       "      <td>1.031203</td>\n",
       "    </tr>\n",
       "  </tbody>\n",
       "</table>\n",
       "<p>1 rows × 177 columns</p>\n",
       "</div>"
      ],
      "text/plain": [
       "   alopecia  amyloidosis  amyotrophic lateral sclerosis    anemia  aneurysm  \\\n",
       "0  0.535324     1.279311                        2.86248  1.302637   0.34141   \n",
       "\n",
       "   aniridia  aortic aneurysm  arthritis  asthenozoospermia    asthma  ...  \\\n",
       "0  0.277221         0.733766   0.415465           0.293197  6.064686  ...   \n",
       "\n",
       "   thrombocytosis  thrombosis   thymoma  tuberculosis   uveitis  vasculitis  \\\n",
       "0        0.427148    1.562158  0.880143      0.347941  1.229751    0.440092   \n",
       "\n",
       "   venous thromboembolism  vitiligo  waldenstrom macroglobulinemia  \\\n",
       "0                   0.818  1.588876                       0.033205   \n",
       "\n",
       "   wilms tumor  \n",
       "0     1.031203  \n",
       "\n",
       "[1 rows x 177 columns]"
      ]
     },
     "execution_count": 16,
     "metadata": {},
     "output_type": "execute_result"
    }
   ],
   "source": [
    "network_asso"
   ]
  },
  {
   "cell_type": "code",
   "execution_count": 17,
   "metadata": {
    "id": "0B026D0D0F844C35B9AAF55A18B2FEE6",
    "jupyter": {},
    "notebookId": "6402e91bef4a4bdccd8a01ae",
    "scrolled": false,
    "slideshow": {
     "slide_type": "slide"
    },
    "tags": []
   },
   "outputs": [],
   "source": [
    "k = trea_disease_combine_all\n",
    "k1 = k[k['Food'] != 0]\n",
    "k2 = k1[k1['Gene'] != 0]\n",
    "k3 = k2[k2['Similarity'] != 0]\n",
    "k4 = k3[k3['miRNA'] != 0]\n",
    "network_trea = disease_food_treatment[list(pd.merge(k4[['Unnamed: 0']],trea_disease_food,left_on='Unnamed: 0',right_on='clean_name',how='inner')['disease_food'].values)].iloc[:1,:]"
   ]
  },
  {
   "cell_type": "code",
   "execution_count": 18,
   "metadata": {
    "id": "E9A4F663B2AA462C86767F42D582F091",
    "jupyter": {},
    "notebookId": "6402e91bef4a4bdccd8a01ae",
    "scrolled": false,
    "slideshow": {
     "slide_type": "slide"
    },
    "tags": []
   },
   "outputs": [],
   "source": [
    "network_trea = pd.read_csv('../data/network_trea.csv')\n",
    "network_asso = pd.read_csv('../data/network_asso.csv')"
   ]
  },
  {
   "cell_type": "code",
   "execution_count": 19,
   "metadata": {
    "id": "034542E8D42C45EC929B107D5B7747FC",
    "jupyter": {},
    "notebookId": "6402e91bef4a4bdccd8a01ae",
    "scrolled": false,
    "slideshow": {
     "slide_type": "slide"
    },
    "tags": []
   },
   "outputs": [
    {
     "data": {
      "text/html": [
       "<div>\n",
       "<style scoped>\n",
       "    .dataframe tbody tr th:only-of-type {\n",
       "        vertical-align: middle;\n",
       "    }\n",
       "\n",
       "    .dataframe tbody tr th {\n",
       "        vertical-align: top;\n",
       "    }\n",
       "\n",
       "    .dataframe thead th {\n",
       "        text-align: right;\n",
       "    }\n",
       "</style>\n",
       "<table border=\"1\" class=\"dataframe\">\n",
       "  <thead>\n",
       "    <tr style=\"text-align: right;\">\n",
       "      <th></th>\n",
       "      <th>Unnamed: 0</th>\n",
       "      <th>disease</th>\n",
       "      <th>food</th>\n",
       "      <th>value</th>\n",
       "    </tr>\n",
       "  </thead>\n",
       "  <tbody>\n",
       "    <tr>\n",
       "      <th>0</th>\n",
       "      <td>0</td>\n",
       "      <td>alopecia</td>\n",
       "      <td>abiyuch</td>\n",
       "      <td>0.000000</td>\n",
       "    </tr>\n",
       "    <tr>\n",
       "      <th>1</th>\n",
       "      <td>1</td>\n",
       "      <td>amyloidosis</td>\n",
       "      <td>abiyuch</td>\n",
       "      <td>0.000000</td>\n",
       "    </tr>\n",
       "    <tr>\n",
       "      <th>2</th>\n",
       "      <td>2</td>\n",
       "      <td>amyotrophic lateral sclerosis</td>\n",
       "      <td>abiyuch</td>\n",
       "      <td>0.000000</td>\n",
       "    </tr>\n",
       "    <tr>\n",
       "      <th>3</th>\n",
       "      <td>3</td>\n",
       "      <td>anemia</td>\n",
       "      <td>abiyuch</td>\n",
       "      <td>0.095863</td>\n",
       "    </tr>\n",
       "    <tr>\n",
       "      <th>4</th>\n",
       "      <td>4</td>\n",
       "      <td>aneurysm</td>\n",
       "      <td>abiyuch</td>\n",
       "      <td>0.000000</td>\n",
       "    </tr>\n",
       "    <tr>\n",
       "      <th>5</th>\n",
       "      <td>5</td>\n",
       "      <td>aortic aneurysm, abdominal</td>\n",
       "      <td>abiyuch</td>\n",
       "      <td>0.000000</td>\n",
       "    </tr>\n",
       "    <tr>\n",
       "      <th>6</th>\n",
       "      <td>6</td>\n",
       "      <td>asthenozoospermia</td>\n",
       "      <td>abiyuch</td>\n",
       "      <td>0.000000</td>\n",
       "    </tr>\n",
       "    <tr>\n",
       "      <th>7</th>\n",
       "      <td>7</td>\n",
       "      <td>asthma</td>\n",
       "      <td>abiyuch</td>\n",
       "      <td>0.000000</td>\n",
       "    </tr>\n",
       "    <tr>\n",
       "      <th>8</th>\n",
       "      <td>8</td>\n",
       "      <td>astrocytoma</td>\n",
       "      <td>abiyuch</td>\n",
       "      <td>0.000000</td>\n",
       "    </tr>\n",
       "    <tr>\n",
       "      <th>9</th>\n",
       "      <td>9</td>\n",
       "      <td>atherosclerosis</td>\n",
       "      <td>abiyuch</td>\n",
       "      <td>0.627084</td>\n",
       "    </tr>\n",
       "    <tr>\n",
       "      <th>10</th>\n",
       "      <td>10</td>\n",
       "      <td>atrial fibrillation</td>\n",
       "      <td>abiyuch</td>\n",
       "      <td>0.000000</td>\n",
       "    </tr>\n",
       "    <tr>\n",
       "      <th>11</th>\n",
       "      <td>11</td>\n",
       "      <td>bronchopulmonary dysplasia</td>\n",
       "      <td>abiyuch</td>\n",
       "      <td>0.033424</td>\n",
       "    </tr>\n",
       "    <tr>\n",
       "      <th>12</th>\n",
       "      <td>12</td>\n",
       "      <td>burkitt lymphoma</td>\n",
       "      <td>abiyuch</td>\n",
       "      <td>0.000000</td>\n",
       "    </tr>\n",
       "    <tr>\n",
       "      <th>13</th>\n",
       "      <td>13</td>\n",
       "      <td>carcinoma, hepatocellular</td>\n",
       "      <td>abiyuch</td>\n",
       "      <td>1.315962</td>\n",
       "    </tr>\n",
       "    <tr>\n",
       "      <th>14</th>\n",
       "      <td>14</td>\n",
       "      <td>carcinoma, pancreatic ductal</td>\n",
       "      <td>abiyuch</td>\n",
       "      <td>0.000000</td>\n",
       "    </tr>\n",
       "    <tr>\n",
       "      <th>15</th>\n",
       "      <td>15</td>\n",
       "      <td>carcinosarcoma</td>\n",
       "      <td>abiyuch</td>\n",
       "      <td>0.000000</td>\n",
       "    </tr>\n",
       "    <tr>\n",
       "      <th>16</th>\n",
       "      <td>16</td>\n",
       "      <td>cardiomegaly</td>\n",
       "      <td>abiyuch</td>\n",
       "      <td>0.000000</td>\n",
       "    </tr>\n",
       "    <tr>\n",
       "      <th>17</th>\n",
       "      <td>17</td>\n",
       "      <td>cardiomyopathy, dilated</td>\n",
       "      <td>abiyuch</td>\n",
       "      <td>0.000000</td>\n",
       "    </tr>\n",
       "    <tr>\n",
       "      <th>18</th>\n",
       "      <td>18</td>\n",
       "      <td>cardiomyopathy, hypertrophic</td>\n",
       "      <td>abiyuch</td>\n",
       "      <td>0.000000</td>\n",
       "    </tr>\n",
       "    <tr>\n",
       "      <th>19</th>\n",
       "      <td>19</td>\n",
       "      <td>cardiotoxicity</td>\n",
       "      <td>abiyuch</td>\n",
       "      <td>0.854243</td>\n",
       "    </tr>\n",
       "    <tr>\n",
       "      <th>20</th>\n",
       "      <td>20</td>\n",
       "      <td>carotid artery diseases</td>\n",
       "      <td>abiyuch</td>\n",
       "      <td>0.000000</td>\n",
       "    </tr>\n",
       "    <tr>\n",
       "      <th>21</th>\n",
       "      <td>21</td>\n",
       "      <td>cataract</td>\n",
       "      <td>abiyuch</td>\n",
       "      <td>0.362552</td>\n",
       "    </tr>\n",
       "    <tr>\n",
       "      <th>22</th>\n",
       "      <td>22</td>\n",
       "      <td>cerebrovascular disorders</td>\n",
       "      <td>abiyuch</td>\n",
       "      <td>0.000000</td>\n",
       "    </tr>\n",
       "    <tr>\n",
       "      <th>23</th>\n",
       "      <td>23</td>\n",
       "      <td>cholangiocarcinoma</td>\n",
       "      <td>abiyuch</td>\n",
       "      <td>0.000000</td>\n",
       "    </tr>\n",
       "    <tr>\n",
       "      <th>24</th>\n",
       "      <td>24</td>\n",
       "      <td>cholestasis</td>\n",
       "      <td>abiyuch</td>\n",
       "      <td>0.462450</td>\n",
       "    </tr>\n",
       "    <tr>\n",
       "      <th>25</th>\n",
       "      <td>25</td>\n",
       "      <td>choroidal neovascularization</td>\n",
       "      <td>abiyuch</td>\n",
       "      <td>0.000000</td>\n",
       "    </tr>\n",
       "    <tr>\n",
       "      <th>26</th>\n",
       "      <td>26</td>\n",
       "      <td>colitis</td>\n",
       "      <td>abiyuch</td>\n",
       "      <td>0.171857</td>\n",
       "    </tr>\n",
       "    <tr>\n",
       "      <th>27</th>\n",
       "      <td>27</td>\n",
       "      <td>colitis, ulcerative</td>\n",
       "      <td>abiyuch</td>\n",
       "      <td>0.000000</td>\n",
       "    </tr>\n",
       "    <tr>\n",
       "      <th>28</th>\n",
       "      <td>28</td>\n",
       "      <td>coloboma</td>\n",
       "      <td>abiyuch</td>\n",
       "      <td>0.000000</td>\n",
       "    </tr>\n",
       "    <tr>\n",
       "      <th>29</th>\n",
       "      <td>29</td>\n",
       "      <td>corneal neovascularization</td>\n",
       "      <td>abiyuch</td>\n",
       "      <td>0.000000</td>\n",
       "    </tr>\n",
       "    <tr>\n",
       "      <th>...</th>\n",
       "      <td>...</td>\n",
       "      <td>...</td>\n",
       "      <td>...</td>\n",
       "      <td>...</td>\n",
       "    </tr>\n",
       "    <tr>\n",
       "      <th>103</th>\n",
       "      <td>103</td>\n",
       "      <td>obesity</td>\n",
       "      <td>abiyuch</td>\n",
       "      <td>3.671123</td>\n",
       "    </tr>\n",
       "    <tr>\n",
       "      <th>104</th>\n",
       "      <td>104</td>\n",
       "      <td>osteoarthritis</td>\n",
       "      <td>abiyuch</td>\n",
       "      <td>0.000000</td>\n",
       "    </tr>\n",
       "    <tr>\n",
       "      <th>105</th>\n",
       "      <td>105</td>\n",
       "      <td>osteoporosis</td>\n",
       "      <td>abiyuch</td>\n",
       "      <td>0.247703</td>\n",
       "    </tr>\n",
       "    <tr>\n",
       "      <th>106</th>\n",
       "      <td>106</td>\n",
       "      <td>osteoporosis, postmenopausal</td>\n",
       "      <td>abiyuch</td>\n",
       "      <td>0.165510</td>\n",
       "    </tr>\n",
       "    <tr>\n",
       "      <th>107</th>\n",
       "      <td>107</td>\n",
       "      <td>osteosarcoma</td>\n",
       "      <td>abiyuch</td>\n",
       "      <td>0.000000</td>\n",
       "    </tr>\n",
       "    <tr>\n",
       "      <th>108</th>\n",
       "      <td>108</td>\n",
       "      <td>ovarian diseases</td>\n",
       "      <td>abiyuch</td>\n",
       "      <td>0.000000</td>\n",
       "    </tr>\n",
       "    <tr>\n",
       "      <th>109</th>\n",
       "      <td>109</td>\n",
       "      <td>pain</td>\n",
       "      <td>abiyuch</td>\n",
       "      <td>0.000000</td>\n",
       "    </tr>\n",
       "    <tr>\n",
       "      <th>110</th>\n",
       "      <td>110</td>\n",
       "      <td>pancreatic diseases</td>\n",
       "      <td>abiyuch</td>\n",
       "      <td>0.000000</td>\n",
       "    </tr>\n",
       "    <tr>\n",
       "      <th>111</th>\n",
       "      <td>111</td>\n",
       "      <td>periodontitis</td>\n",
       "      <td>abiyuch</td>\n",
       "      <td>0.034904</td>\n",
       "    </tr>\n",
       "    <tr>\n",
       "      <th>112</th>\n",
       "      <td>112</td>\n",
       "      <td>peripheral nervous system diseases</td>\n",
       "      <td>abiyuch</td>\n",
       "      <td>1.132427</td>\n",
       "    </tr>\n",
       "    <tr>\n",
       "      <th>113</th>\n",
       "      <td>113</td>\n",
       "      <td>peripheral vascular diseases</td>\n",
       "      <td>abiyuch</td>\n",
       "      <td>0.099356</td>\n",
       "    </tr>\n",
       "    <tr>\n",
       "      <th>114</th>\n",
       "      <td>114</td>\n",
       "      <td>pneumonia</td>\n",
       "      <td>abiyuch</td>\n",
       "      <td>0.000000</td>\n",
       "    </tr>\n",
       "    <tr>\n",
       "      <th>115</th>\n",
       "      <td>115</td>\n",
       "      <td>prion diseases</td>\n",
       "      <td>abiyuch</td>\n",
       "      <td>0.000000</td>\n",
       "    </tr>\n",
       "    <tr>\n",
       "      <th>116</th>\n",
       "      <td>116</td>\n",
       "      <td>prolactinoma</td>\n",
       "      <td>abiyuch</td>\n",
       "      <td>0.000000</td>\n",
       "    </tr>\n",
       "    <tr>\n",
       "      <th>117</th>\n",
       "      <td>117</td>\n",
       "      <td>psoriasis</td>\n",
       "      <td>abiyuch</td>\n",
       "      <td>0.245259</td>\n",
       "    </tr>\n",
       "    <tr>\n",
       "      <th>118</th>\n",
       "      <td>118</td>\n",
       "      <td>pulmonary embolism</td>\n",
       "      <td>abiyuch</td>\n",
       "      <td>0.000000</td>\n",
       "    </tr>\n",
       "    <tr>\n",
       "      <th>119</th>\n",
       "      <td>119</td>\n",
       "      <td>retinal neovascularization</td>\n",
       "      <td>abiyuch</td>\n",
       "      <td>0.000000</td>\n",
       "    </tr>\n",
       "    <tr>\n",
       "      <th>120</th>\n",
       "      <td>120</td>\n",
       "      <td>retinitis pigmentosa</td>\n",
       "      <td>abiyuch</td>\n",
       "      <td>0.000000</td>\n",
       "    </tr>\n",
       "    <tr>\n",
       "      <th>121</th>\n",
       "      <td>121</td>\n",
       "      <td>retinoblastoma</td>\n",
       "      <td>abiyuch</td>\n",
       "      <td>0.000000</td>\n",
       "    </tr>\n",
       "    <tr>\n",
       "      <th>122</th>\n",
       "      <td>122</td>\n",
       "      <td>rhabdomyosarcoma</td>\n",
       "      <td>abiyuch</td>\n",
       "      <td>0.000000</td>\n",
       "    </tr>\n",
       "    <tr>\n",
       "      <th>123</th>\n",
       "      <td>123</td>\n",
       "      <td>seizures</td>\n",
       "      <td>abiyuch</td>\n",
       "      <td>0.637955</td>\n",
       "    </tr>\n",
       "    <tr>\n",
       "      <th>124</th>\n",
       "      <td>124</td>\n",
       "      <td>sepsis</td>\n",
       "      <td>abiyuch</td>\n",
       "      <td>0.000000</td>\n",
       "    </tr>\n",
       "    <tr>\n",
       "      <th>125</th>\n",
       "      <td>125</td>\n",
       "      <td>shock, hemorrhagic</td>\n",
       "      <td>abiyuch</td>\n",
       "      <td>0.000000</td>\n",
       "    </tr>\n",
       "    <tr>\n",
       "      <th>126</th>\n",
       "      <td>126</td>\n",
       "      <td>status epilepticus</td>\n",
       "      <td>abiyuch</td>\n",
       "      <td>1.150344</td>\n",
       "    </tr>\n",
       "    <tr>\n",
       "      <th>127</th>\n",
       "      <td>127</td>\n",
       "      <td>stroke</td>\n",
       "      <td>abiyuch</td>\n",
       "      <td>0.711419</td>\n",
       "    </tr>\n",
       "    <tr>\n",
       "      <th>128</th>\n",
       "      <td>128</td>\n",
       "      <td>thrombocytopenia</td>\n",
       "      <td>abiyuch</td>\n",
       "      <td>0.000000</td>\n",
       "    </tr>\n",
       "    <tr>\n",
       "      <th>129</th>\n",
       "      <td>129</td>\n",
       "      <td>thrombosis</td>\n",
       "      <td>abiyuch</td>\n",
       "      <td>0.000000</td>\n",
       "    </tr>\n",
       "    <tr>\n",
       "      <th>130</th>\n",
       "      <td>130</td>\n",
       "      <td>uveitis</td>\n",
       "      <td>abiyuch</td>\n",
       "      <td>0.000000</td>\n",
       "    </tr>\n",
       "    <tr>\n",
       "      <th>131</th>\n",
       "      <td>131</td>\n",
       "      <td>vitiligo</td>\n",
       "      <td>abiyuch</td>\n",
       "      <td>0.000000</td>\n",
       "    </tr>\n",
       "    <tr>\n",
       "      <th>132</th>\n",
       "      <td>132</td>\n",
       "      <td>waldenstrom macroglobulinemia</td>\n",
       "      <td>abiyuch</td>\n",
       "      <td>0.000000</td>\n",
       "    </tr>\n",
       "  </tbody>\n",
       "</table>\n",
       "<p>133 rows × 4 columns</p>\n",
       "</div>"
      ],
      "text/plain": [
       "     Unnamed: 0                             disease     food     value\n",
       "0             0                            alopecia  abiyuch  0.000000\n",
       "1             1                         amyloidosis  abiyuch  0.000000\n",
       "2             2       amyotrophic lateral sclerosis  abiyuch  0.000000\n",
       "3             3                              anemia  abiyuch  0.095863\n",
       "4             4                            aneurysm  abiyuch  0.000000\n",
       "5             5          aortic aneurysm, abdominal  abiyuch  0.000000\n",
       "6             6                   asthenozoospermia  abiyuch  0.000000\n",
       "7             7                              asthma  abiyuch  0.000000\n",
       "8             8                         astrocytoma  abiyuch  0.000000\n",
       "9             9                     atherosclerosis  abiyuch  0.627084\n",
       "10           10                 atrial fibrillation  abiyuch  0.000000\n",
       "11           11          bronchopulmonary dysplasia  abiyuch  0.033424\n",
       "12           12                    burkitt lymphoma  abiyuch  0.000000\n",
       "13           13           carcinoma, hepatocellular  abiyuch  1.315962\n",
       "14           14        carcinoma, pancreatic ductal  abiyuch  0.000000\n",
       "15           15                      carcinosarcoma  abiyuch  0.000000\n",
       "16           16                        cardiomegaly  abiyuch  0.000000\n",
       "17           17             cardiomyopathy, dilated  abiyuch  0.000000\n",
       "18           18        cardiomyopathy, hypertrophic  abiyuch  0.000000\n",
       "19           19                      cardiotoxicity  abiyuch  0.854243\n",
       "20           20             carotid artery diseases  abiyuch  0.000000\n",
       "21           21                            cataract  abiyuch  0.362552\n",
       "22           22           cerebrovascular disorders  abiyuch  0.000000\n",
       "23           23                  cholangiocarcinoma  abiyuch  0.000000\n",
       "24           24                         cholestasis  abiyuch  0.462450\n",
       "25           25        choroidal neovascularization  abiyuch  0.000000\n",
       "26           26                             colitis  abiyuch  0.171857\n",
       "27           27                 colitis, ulcerative  abiyuch  0.000000\n",
       "28           28                            coloboma  abiyuch  0.000000\n",
       "29           29          corneal neovascularization  abiyuch  0.000000\n",
       "..          ...                                 ...      ...       ...\n",
       "103         103                             obesity  abiyuch  3.671123\n",
       "104         104                      osteoarthritis  abiyuch  0.000000\n",
       "105         105                        osteoporosis  abiyuch  0.247703\n",
       "106         106        osteoporosis, postmenopausal  abiyuch  0.165510\n",
       "107         107                        osteosarcoma  abiyuch  0.000000\n",
       "108         108                    ovarian diseases  abiyuch  0.000000\n",
       "109         109                                pain  abiyuch  0.000000\n",
       "110         110                 pancreatic diseases  abiyuch  0.000000\n",
       "111         111                       periodontitis  abiyuch  0.034904\n",
       "112         112  peripheral nervous system diseases  abiyuch  1.132427\n",
       "113         113        peripheral vascular diseases  abiyuch  0.099356\n",
       "114         114                           pneumonia  abiyuch  0.000000\n",
       "115         115                      prion diseases  abiyuch  0.000000\n",
       "116         116                        prolactinoma  abiyuch  0.000000\n",
       "117         117                           psoriasis  abiyuch  0.245259\n",
       "118         118                  pulmonary embolism  abiyuch  0.000000\n",
       "119         119          retinal neovascularization  abiyuch  0.000000\n",
       "120         120                retinitis pigmentosa  abiyuch  0.000000\n",
       "121         121                      retinoblastoma  abiyuch  0.000000\n",
       "122         122                    rhabdomyosarcoma  abiyuch  0.000000\n",
       "123         123                            seizures  abiyuch  0.637955\n",
       "124         124                              sepsis  abiyuch  0.000000\n",
       "125         125                  shock, hemorrhagic  abiyuch  0.000000\n",
       "126         126                  status epilepticus  abiyuch  1.150344\n",
       "127         127                              stroke  abiyuch  0.711419\n",
       "128         128                    thrombocytopenia  abiyuch  0.000000\n",
       "129         129                          thrombosis  abiyuch  0.000000\n",
       "130         130                             uveitis  abiyuch  0.000000\n",
       "131         131                            vitiligo  abiyuch  0.000000\n",
       "132         132       waldenstrom macroglobulinemia  abiyuch  0.000000\n",
       "\n",
       "[133 rows x 4 columns]"
      ]
     },
     "execution_count": 19,
     "metadata": {},
     "output_type": "execute_result"
    }
   ],
   "source": [
    "network_trea"
   ]
  },
  {
   "cell_type": "code",
   "execution_count": 20,
   "metadata": {
    "id": "2B1D011CD7514E828331553EB38924F7",
    "jupyter": {},
    "notebookId": "6402e91bef4a4bdccd8a01ae",
    "scrolled": false,
    "slideshow": {
     "slide_type": "slide"
    },
    "tags": []
   },
   "outputs": [],
   "source": [
    "def network(network_trea):\n",
    "    value = pd.DataFrame(np.array(network_trea).reshape((-1,)),columns=['value'])\n",
    "    food_name=pd.DataFrame(np.zeros((network_trea.shape[1], 1)), columns=['food'])\n",
    "    food_name['food']=\"abiyuch\"\n",
    "    disease_name = pd.DataFrame(list(network_trea.columns), columns=['disease'])\n",
    "    return pd.concat([disease_name,food_name,value],axis=1)\n"
   ]
  },
  {
   "cell_type": "code",
   "execution_count": 21,
   "metadata": {
    "id": "C453E145491C4E71A620CCDFDFA15BE7",
    "jupyter": {},
    "notebookId": "6402e91bef4a4bdccd8a01ae",
    "scrolled": false,
    "slideshow": {
     "slide_type": "slide"
    },
    "tags": []
   },
   "outputs": [],
   "source": [
    "# network(network_trea).to_csv('/home/mw/project/Figure/network_trea.csv')\n",
    "# network(network_asso).to_csv('/home/mw/project/Figure/network_asso.csv')"
   ]
  },
  {
   "cell_type": "code",
   "execution_count": 58,
   "metadata": {
    "id": "5D47B599C1014C68A6FF35AABBD7F402",
    "jupyter": {},
    "notebookId": "6402e91bef4a4bdccd8a01ae",
    "scrolled": false,
    "slideshow": {
     "slide_type": "slide"
    },
    "tags": []
   },
   "outputs": [],
   "source": [
    "network_asso_point = list(set(list(network(network_trea)['food'].values) + list(network(network_trea)['disease'].values)))\n"
   ]
  },
  {
   "cell_type": "code",
   "execution_count": 59,
   "metadata": {
    "id": "7CEE9CE22F52424684E503F500115726",
    "jupyter": {},
    "notebookId": "6402e91bef4a4bdccd8a01ae",
    "scrolled": false,
    "slideshow": {
     "slide_type": "slide"
    },
    "tags": []
   },
   "outputs": [],
   "source": [
    "network_asso_point=pd.DataFrame(network_asso_point,columns=['point'])\n",
    "network_asso_point['size'] = 0.2"
   ]
  },
  {
   "cell_type": "code",
   "execution_count": 60,
   "metadata": {
    "id": "466079D18C94473E8C7E8307549B313F",
    "jupyter": {},
    "notebookId": "6402e91bef4a4bdccd8a01ae",
    "scrolled": false,
    "slideshow": {
     "slide_type": "slide"
    },
    "tags": []
   },
   "outputs": [],
   "source": [
    "# network_asso_point.to_csv('/home/mw/project/Figure/network_asso_point.csv')"
   ]
  },
  {
   "cell_type": "code",
   "execution_count": null,
   "metadata": {
    "id": "2A942A41328B48F78ECF8036EC1FF44C",
    "jupyter": {},
    "notebookId": "6402e91bef4a4bdccd8a01ae",
    "scrolled": false,
    "slideshow": {
     "slide_type": "slide"
    },
    "tags": []
   },
   "outputs": [],
   "source": []
  }
 ],
 "metadata": {
  "kernelspec": {
   "display_name": "Python 3 (ipykernel)",
   "language": "python",
   "name": "python3"
  },
  "language_info": {
   "codemirror_mode": {
    "name": "ipython",
    "version": 3
   },
   "file_extension": ".py",
   "mimetype": "text/x-python",
   "name": "python",
   "nbconvert_exporter": "python",
   "pygments_lexer": "ipython3",
   "version": "3.9.16"
  }
 },
 "nbformat": 4,
 "nbformat_minor": 1
}
